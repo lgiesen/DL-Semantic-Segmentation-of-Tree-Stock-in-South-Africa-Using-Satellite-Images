{
 "cells": [
  {
   "cell_type": "code",
   "execution_count": 1,
   "metadata": {},
   "outputs": [],
   "source": [
    "# Load config\n",
    "from config import UNetTraining\n",
    "config = UNetTraining.Configuration()"
   ]
  },
  {
   "cell_type": "code",
   "execution_count": 2,
   "metadata": {},
   "outputs": [],
   "source": [
    "import tensorflow as tf\n",
    "import numpy as np\n",
    "\n",
    "import os\n",
    "import time\n",
    "import rasterio.warp # Reproject raster samples\n",
    "from functools import reduce\n",
    "from tensorflow.keras.models import load_model\n",
    "\n",
    "from core.losses import tversky, accuracy, dice_coef, dice_loss, specificity, sensitivity\n",
    "from core.optimizers import adaDelta #, adagrad, adam, nadam\n",
    "\n",
    "import json\n",
    "from sklearn.model_selection import train_test_split\n",
    "\n",
    "%matplotlib inline\n",
    "import matplotlib.pyplot as plt\n",
    "import matplotlib.patches as patches\n",
    "from matplotlib.patches import Polygon\n",
    "\n",
    "import warnings # ignore annoying warnings\n",
    "warnings.filterwarnings(\"ignore\")\n",
    "import logging\n",
    "logger = logging.getLogger()\n",
    "logger.setLevel(logging.CRITICAL)\n",
    "\n",
    "%reload_ext autoreload\n",
    "%autoreload 2\n",
    "from IPython.core.interactiveshell import InteractiveShell\n",
    "InteractiveShell.ast_node_interactivity = \"all\""
   ]
  },
  {
   "cell_type": "code",
   "execution_count": 5,
   "metadata": {
    "collapsed": true,
    "jupyter": {
     "outputs_hidden": true
    },
    "tags": []
   },
   "outputs": [
    {
     "name": "stdout",
     "output_type": "stream",
     "text": [
      "Model: \"model\"\n",
      "__________________________________________________________________________________________________\n",
      " Layer (type)                   Output Shape         Param #     Connected to                     \n",
      "==================================================================================================\n",
      " Input (InputLayer)             [(None, 256, 256, 3  0           []                               \n",
      "                                )]                                                                \n",
      "                                                                                                  \n",
      " conv2d (Conv2D)                (None, 256, 256, 64  1792        ['Input[0][0]']                  \n",
      "                                )                                                                 \n",
      "                                                                                                  \n",
      " conv2d_1 (Conv2D)              (None, 256, 256, 64  36928       ['conv2d[0][0]']                 \n",
      "                                )                                                                 \n",
      "                                                                                                  \n",
      " batch_normalization (BatchNorm  (None, 256, 256, 64  256        ['conv2d_1[0][0]']               \n",
      " alization)                     )                                                                 \n",
      "                                                                                                  \n",
      " max_pooling2d (MaxPooling2D)   (None, 128, 128, 64  0           ['batch_normalization[0][0]']    \n",
      "                                )                                                                 \n",
      "                                                                                                  \n",
      " conv2d_2 (Conv2D)              (None, 128, 128, 12  73856       ['max_pooling2d[0][0]']          \n",
      "                                8)                                                                \n",
      "                                                                                                  \n",
      " conv2d_3 (Conv2D)              (None, 128, 128, 12  147584      ['conv2d_2[0][0]']               \n",
      "                                8)                                                                \n",
      "                                                                                                  \n",
      " batch_normalization_1 (BatchNo  (None, 128, 128, 12  512        ['conv2d_3[0][0]']               \n",
      " rmalization)                   8)                                                                \n",
      "                                                                                                  \n",
      " max_pooling2d_1 (MaxPooling2D)  (None, 64, 64, 128)  0          ['batch_normalization_1[0][0]']  \n",
      "                                                                                                  \n",
      " conv2d_4 (Conv2D)              (None, 64, 64, 256)  295168      ['max_pooling2d_1[0][0]']        \n",
      "                                                                                                  \n",
      " conv2d_5 (Conv2D)              (None, 64, 64, 256)  590080      ['conv2d_4[0][0]']               \n",
      "                                                                                                  \n",
      " batch_normalization_2 (BatchNo  (None, 64, 64, 256)  1024       ['conv2d_5[0][0]']               \n",
      " rmalization)                                                                                     \n",
      "                                                                                                  \n",
      " max_pooling2d_2 (MaxPooling2D)  (None, 32, 32, 256)  0          ['batch_normalization_2[0][0]']  \n",
      "                                                                                                  \n",
      " conv2d_6 (Conv2D)              (None, 32, 32, 512)  1180160     ['max_pooling2d_2[0][0]']        \n",
      "                                                                                                  \n",
      " conv2d_7 (Conv2D)              (None, 32, 32, 512)  2359808     ['conv2d_6[0][0]']               \n",
      "                                                                                                  \n",
      " batch_normalization_3 (BatchNo  (None, 32, 32, 512)  2048       ['conv2d_7[0][0]']               \n",
      " rmalization)                                                                                     \n",
      "                                                                                                  \n",
      " max_pooling2d_3 (MaxPooling2D)  (None, 16, 16, 512)  0          ['batch_normalization_3[0][0]']  \n",
      "                                                                                                  \n",
      " conv2d_8 (Conv2D)              (None, 16, 16, 1024  4719616     ['max_pooling2d_3[0][0]']        \n",
      "                                )                                                                 \n",
      "                                                                                                  \n",
      " conv2d_9 (Conv2D)              (None, 16, 16, 1024  9438208     ['conv2d_8[0][0]']               \n",
      "                                )                                                                 \n",
      "                                                                                                  \n",
      " up_sampling2d (UpSampling2D)   (None, 32, 32, 1024  0           ['conv2d_9[0][0]']               \n",
      "                                )                                                                 \n",
      "                                                                                                  \n",
      " batch_normalization_4 (BatchNo  (None, 32, 32, 1024  4096       ['up_sampling2d[0][0]']          \n",
      " rmalization)                   )                                                                 \n",
      "                                                                                                  \n",
      " concatenate (Concatenate)      (None, 32, 32, 1536  0           ['batch_normalization_4[0][0]',  \n",
      "                                )                                 'batch_normalization_3[0][0]']  \n",
      "                                                                                                  \n",
      " conv2d_10 (Conv2D)             (None, 32, 32, 512)  7078400     ['concatenate[0][0]']            \n",
      "                                                                                                  \n",
      " conv2d_11 (Conv2D)             (None, 32, 32, 512)  2359808     ['conv2d_10[0][0]']              \n",
      "                                                                                                  \n",
      " up_sampling2d_1 (UpSampling2D)  (None, 64, 64, 512)  0          ['conv2d_11[0][0]']              \n",
      "                                                                                                  \n",
      " batch_normalization_5 (BatchNo  (None, 64, 64, 512)  2048       ['up_sampling2d_1[0][0]']        \n",
      " rmalization)                                                                                     \n",
      "                                                                                                  \n",
      " concatenate_1 (Concatenate)    (None, 64, 64, 768)  0           ['batch_normalization_5[0][0]',  \n",
      "                                                                  'batch_normalization_2[0][0]']  \n",
      "                                                                                                  \n",
      " conv2d_12 (Conv2D)             (None, 64, 64, 256)  1769728     ['concatenate_1[0][0]']          \n",
      "                                                                                                  \n",
      " conv2d_13 (Conv2D)             (None, 64, 64, 256)  590080      ['conv2d_12[0][0]']              \n",
      "                                                                                                  \n",
      " up_sampling2d_2 (UpSampling2D)  (None, 128, 128, 25  0          ['conv2d_13[0][0]']              \n",
      "                                6)                                                                \n",
      "                                                                                                  \n",
      " batch_normalization_6 (BatchNo  (None, 128, 128, 25  1024       ['up_sampling2d_2[0][0]']        \n",
      " rmalization)                   6)                                                                \n",
      "                                                                                                  \n",
      " concatenate_2 (Concatenate)    (None, 128, 128, 38  0           ['batch_normalization_6[0][0]',  \n",
      "                                4)                                'batch_normalization_1[0][0]']  \n",
      "                                                                                                  \n",
      " conv2d_14 (Conv2D)             (None, 128, 128, 12  442496      ['concatenate_2[0][0]']          \n",
      "                                8)                                                                \n",
      "                                                                                                  \n",
      " conv2d_15 (Conv2D)             (None, 128, 128, 12  147584      ['conv2d_14[0][0]']              \n",
      "                                8)                                                                \n",
      "                                                                                                  \n",
      " up_sampling2d_3 (UpSampling2D)  (None, 256, 256, 12  0          ['conv2d_15[0][0]']              \n",
      "                                8)                                                                \n",
      "                                                                                                  \n",
      " batch_normalization_7 (BatchNo  (None, 256, 256, 12  512        ['up_sampling2d_3[0][0]']        \n",
      " rmalization)                   8)                                                                \n",
      "                                                                                                  \n",
      " concatenate_3 (Concatenate)    (None, 256, 256, 19  0           ['batch_normalization_7[0][0]',  \n",
      "                                2)                                'batch_normalization[0][0]']    \n",
      "                                                                                                  \n",
      " conv2d_16 (Conv2D)             (None, 256, 256, 64  110656      ['concatenate_3[0][0]']          \n",
      "                                )                                                                 \n",
      "                                                                                                  \n",
      " conv2d_17 (Conv2D)             (None, 256, 256, 64  36928       ['conv2d_16[0][0]']              \n",
      "                                )                                                                 \n",
      "                                                                                                  \n",
      " conv2d_18 (Conv2D)             (None, 256, 256, 1)  65          ['conv2d_17[0][0]']              \n",
      "                                                                                                  \n",
      "==================================================================================================\n",
      "Total params: 31,390,465\n",
      "Trainable params: 31,384,705\n",
      "Non-trainable params: 5,760\n",
      "__________________________________________________________________________________________________\n"
     ]
    }
   ],
   "source": [
    "%run \"2_model.ipynb\""
   ]
  },
  {
   "cell_type": "markdown",
   "metadata": {},
   "source": [
    "#### Conversion to Tensor"
   ]
  },
  {
   "cell_type": "code",
   "execution_count": 6,
   "metadata": {},
   "outputs": [
    {
     "data": {
      "text/plain": [
       "'X_train_torch = torch.FloatTensor(X_train_reshaped)\\ny_train_torch = torch.FloatTensor(y_train)\\n\\nX_test_torch = torch.FloatTensor(X_test_reshaped)\\ny_test_torch = torch.FloatTensor(y_test)\\n\\nX_val_torch = torch.FloatTensor(X_val)\\ny_val_torch = torch.FloatTensor(y_val)\\n\\ntorch_var = [X_train_torch, y_train_torch, X_test_torch, y_test_torch, X_val_torch, y_val_torch]\\ntype(X_train_torch), X_train_torch.shape'"
      ]
     },
     "execution_count": 6,
     "metadata": {},
     "output_type": "execute_result"
    }
   ],
   "source": [
    "\"\"\"X_train_torch = torch.FloatTensor(X_train_reshaped)\n",
    "y_train_torch = torch.FloatTensor(y_train)\n",
    "\n",
    "X_test_torch = torch.FloatTensor(X_test_reshaped)\n",
    "y_test_torch = torch.FloatTensor(y_test)\n",
    "\n",
    "X_val_torch = torch.FloatTensor(X_val)\n",
    "y_val_torch = torch.FloatTensor(y_val)\n",
    "\n",
    "torch_var = [X_train_torch, y_train_torch, X_test_torch, y_test_torch, X_val_torch, y_val_torch]\n",
    "type(X_train_torch), X_train_torch.shape\"\"\""
   ]
  },
  {
   "cell_type": "code",
   "execution_count": 7,
   "metadata": {},
   "outputs": [],
   "source": [
    "def getType(variables: list):\n",
    "    for elem in variables:\n",
    "        print(type(elem), elem.dtype)\n",
    "        print(elem.shape, elem.shape)"
   ]
  },
  {
   "cell_type": "code",
   "execution_count": 8,
   "metadata": {},
   "outputs": [],
   "source": [
    "# getType([X_train_reshaped, y_train, shape_input])\n",
    "# getType([y_train_tensor])\n",
    "# getType([X_train_torch, y_train_torch, shape_input])\n",
    "# getType([X_train_tensor, y_train_tensor])"
   ]
  },
  {
   "cell_type": "markdown",
   "metadata": {},
   "source": [
    "#### Move to GPU"
   ]
  },
  {
   "cell_type": "code",
   "execution_count": 9,
   "metadata": {},
   "outputs": [],
   "source": [
    "# move model to gpu\n",
    "# model.device\n",
    "# model.to(device)\n",
    "# model.is_cuda\n",
    "# model_on_gpu = model.cuda()"
   ]
  },
  {
   "cell_type": "code",
   "execution_count": 10,
   "metadata": {},
   "outputs": [],
   "source": [
    "# Inspect GPU\n",
    "# torch.cuda.current_device(), torch.cuda.device_count(), torch.cuda.get_device_name(0)\n",
    "# tf.test.is_gpu_available(), tf.test.gpu_device_name(), tf.config.list_physical_devices('GPU')"
   ]
  },
  {
   "cell_type": "markdown",
   "metadata": {},
   "source": [
    "#### Train & Save Model"
   ]
  },
  {
   "cell_type": "markdown",
   "metadata": {},
   "source": [
    "##### Notebook"
   ]
  },
  {
   "cell_type": "code",
   "execution_count": 11,
   "metadata": {},
   "outputs": [
    {
     "data": {
      "text/plain": [
       "'train_ds = tf.data.Dataset.from_tensor_slices((X_train_reshaped, y_train))\\nval_ds = tf.data.Dataset.from_tensor_slices((X_val, y_val))\\ntest_ds = tf.data.Dataset.from_tensor_slices((X_test_reshaped, y_test))\\n\\nprint(tf.data.experimental.cardinality(train_ds))\\nprint(tf.data.experimental.cardinality(val_ds))\\nprint(tf.data.experimental.cardinality(test_ds))'"
      ]
     },
     "execution_count": 11,
     "metadata": {},
     "output_type": "execute_result"
    }
   ],
   "source": [
    "\"\"\"train_ds = tf.data.Dataset.from_tensor_slices((X_train_reshaped, y_train))\n",
    "val_ds = tf.data.Dataset.from_tensor_slices((X_val, y_val))\n",
    "test_ds = tf.data.Dataset.from_tensor_slices((X_test_reshaped, y_test))\n",
    "\n",
    "print(tf.data.experimental.cardinality(train_ds))\n",
    "print(tf.data.experimental.cardinality(val_ds))\n",
    "print(tf.data.experimental.cardinality(test_ds))\"\"\""
   ]
  },
  {
   "cell_type": "code",
   "execution_count": 12,
   "metadata": {},
   "outputs": [],
   "source": [
    "# Define callbacks for the early stopping of training, LearningRateScheduler and model checkpointing\n",
    "from tensorflow.keras.callbacks import ModelCheckpoint, LearningRateScheduler, EarlyStopping, ReduceLROnPlateau, TensorBoard\n",
    "\n",
    "\n",
    "checkpoint = ModelCheckpoint(config.model_path, monitor='val_loss', verbose=1, \n",
    "                             save_best_only=True, mode='min', save_weights_only = False)\n",
    "\n",
    "#reduceonplatea; It can be useful when using adam as optimizer\n",
    "#Reduce learning rate when a metric has stopped improving (after some patience,reduce by a factor of 0.33, new_lr = lr * factor).\n",
    "#cooldown: number of epochs to wait before resuming normal operation after lr has been reduced.\n",
    "reduceLROnPlat = ReduceLROnPlateau(monitor='val_loss', factor=0.33,\n",
    "                                   patience=4, verbose=1, mode='min',\n",
    "                                   min_delta=0.0001, cooldown=4, min_lr=1e-16)\n",
    "\n",
    "#early = EarlyStopping(monitor=\"val_loss\", mode=\"min\", verbose=2, patience=15)\n",
    "\n",
    "log_dir = os.path.join('./logs','UNet_{}_{}_{}_{}_{}'.format(timestr,OPTIMIZER_NAME,LOSS_NAME,chs, config.input_shape[0]))\n",
    "tensorboard = TensorBoard(log_dir=log_dir, histogram_freq=0, write_graph=True, write_grads=False, write_images=False, embeddings_freq=0, embeddings_layer_names=None, embeddings_metadata=None, embeddings_data=None, update_freq='epoch')\n",
    "\n",
    "callbacks_list = [checkpoint, tensorboard] #reduceLROnPlat is not required with adaDelta"
   ]
  },
  {
   "cell_type": "code",
   "execution_count": 13,
   "metadata": {
    "tags": []
   },
   "outputs": [
    {
     "data": {
      "text/plain": [
       "'SHUFFLE_BUFFER_SIZE = 100\\n\\ntrain_dataset = train_ds.shuffle(SHUFFLE_BUFFER_SIZE).batch(config.BATCH_SIZE)\\ntest_dataset = test_ds.batch(config.BATCH_SIZE)\\nvalidation_dataset = val_ds.batch(config.BATCH_SIZE)'"
      ]
     },
     "execution_count": 13,
     "metadata": {},
     "output_type": "execute_result"
    }
   ],
   "source": [
    "\"\"\"SHUFFLE_BUFFER_SIZE = 100\n",
    "\n",
    "train_dataset = train_ds.shuffle(SHUFFLE_BUFFER_SIZE).batch(config.BATCH_SIZE)\n",
    "test_dataset = test_ds.batch(config.BATCH_SIZE)\n",
    "validation_dataset = val_ds.batch(config.BATCH_SIZE)\"\"\""
   ]
  },
  {
   "cell_type": "code",
   "execution_count": 14,
   "metadata": {},
   "outputs": [],
   "source": [
    "# train_ds_reshaped = tf.expand_dims(, axis=0)"
   ]
  },
  {
   "cell_type": "code",
   "execution_count": 15,
   "metadata": {},
   "outputs": [],
   "source": [
    "# X_train_expanded = np.expand_dims(X_train_reshaped, axis=0)\n",
    "# y_train_expanded = np.expand_dims(y_train)"
   ]
  },
  {
   "cell_type": "code",
   "execution_count": 16,
   "metadata": {},
   "outputs": [],
   "source": [
    "# X = tf.convert_to_tensor(X_train_reshaped)\n",
    "# y = tf.convert_to_tensor(y_train)"
   ]
  },
  {
   "cell_type": "code",
   "execution_count": 17,
   "metadata": {},
   "outputs": [
    {
     "data": {
      "text/plain": [
       "(664, 3, 256, 256)"
      ]
     },
     "execution_count": 17,
     "metadata": {},
     "output_type": "execute_result"
    },
    {
     "data": {
      "text/plain": [
       "(664, 256, 256, 3)"
      ]
     },
     "execution_count": 17,
     "metadata": {},
     "output_type": "execute_result"
    }
   ],
   "source": [
    "# reshape data to fit model\n",
    "X_train_mini_np = np.array(X_train_mini)\n",
    "X_train_mini_np.shape\n",
    "shape = X_train_mini_np.shape\n",
    "X_train_mini_np = np.reshape(X_train_mini_np, (shape[0], shape[2], shape[3], shape[1]))\n",
    "X_train_mini_np.shape"
   ]
  },
  {
   "cell_type": "code",
   "execution_count": 18,
   "metadata": {},
   "outputs": [
    {
     "data": {
      "text/plain": [
       "(208, 3, 256, 256)"
      ]
     },
     "execution_count": 18,
     "metadata": {},
     "output_type": "execute_result"
    },
    {
     "data": {
      "text/plain": [
       "(208, 256, 256, 3)"
      ]
     },
     "execution_count": 18,
     "metadata": {},
     "output_type": "execute_result"
    }
   ],
   "source": [
    "# reshape data to fit model\n",
    "X_test_np = np.array(X_test)\n",
    "X_test_np.shape\n",
    "shape = X_test_np.shape\n",
    "X_test_np = np.reshape(X_test_np, (shape[0], shape[2], shape[3], shape[1]))\n",
    "X_test_np.shape"
   ]
  },
  {
   "cell_type": "code",
   "execution_count": 19,
   "metadata": {},
   "outputs": [
    {
     "data": {
      "text/plain": [
       "(166, 3, 256, 256)"
      ]
     },
     "execution_count": 19,
     "metadata": {},
     "output_type": "execute_result"
    },
    {
     "data": {
      "text/plain": [
       "(166, 256, 256, 3)"
      ]
     },
     "execution_count": 19,
     "metadata": {},
     "output_type": "execute_result"
    }
   ],
   "source": [
    "# reshape data to fit model\n",
    "X_val_np = np.array(X_val)\n",
    "X_val_np.shape\n",
    "shape = X_val_np.shape\n",
    "X_val_np = np.reshape(X_val_np, (shape[0], shape[2], shape[3], shape[1]))\n",
    "X_val_np.shape"
   ]
  },
  {
   "cell_type": "code",
   "execution_count": 20,
   "metadata": {},
   "outputs": [
    {
     "data": {
      "text/plain": [
       "((664, 256, 256, 3), (664, 256, 256), (208, 256, 256, 3))"
      ]
     },
     "execution_count": 20,
     "metadata": {},
     "output_type": "execute_result"
    }
   ],
   "source": [
    "X_train_mini_np.shape, np.array(y_train_mini).shape, X_test_np.shape"
   ]
  },
  {
   "cell_type": "code",
   "execution_count": 21,
   "metadata": {
    "collapsed": true,
    "jupyter": {
     "outputs_hidden": true
    },
    "tags": []
   },
   "outputs": [
    {
     "name": "stdout",
     "output_type": "stream",
     "text": [
      "Epoch 1/30\n",
      "22/22 [==============================] - ETA: 0s - loss: 0.2764 - dice_coef: 0.0438 - dice_loss: 0.9562 - specificity: 0.1249 - sensitivity: nan - accuracy: 0.1438\n",
      "Epoch 1: val_loss improved from inf to 0.42768, saving model to /home/jovyan/work/saved_data/south_africa_tree_stock/saved_models/\n"
     ]
    },
    {
     "name": "stderr",
     "output_type": "stream",
     "text": [
      "WARNING:absl:Function `_wrapped_model` contains input name(s) Input with unsupported characters which will be renamed to input in the SavedModel.\n"
     ]
    },
    {
     "name": "stdout",
     "output_type": "stream",
     "text": [
      "INFO:tensorflow:Assets written to: /home/jovyan/work/saved_data/south_africa_tree_stock/saved_models/assets\n"
     ]
    },
    {
     "name": "stderr",
     "output_type": "stream",
     "text": [
      "INFO:tensorflow:Assets written to: /home/jovyan/work/saved_data/south_africa_tree_stock/saved_models/assets\n"
     ]
    },
    {
     "name": "stdout",
     "output_type": "stream",
     "text": [
      "22/22 [==============================] - 240s 11s/step - loss: 0.2764 - dice_coef: 0.0438 - dice_loss: 0.9562 - specificity: 0.1249 - sensitivity: nan - accuracy: 0.1438 - val_loss: 0.4277 - val_dice_coef: 0.0287 - val_dice_loss: 0.9713 - val_specificity: 0.0000e+00 - val_sensitivity: nan - val_accuracy: 0.0145\n",
      "Epoch 2/30\n",
      "22/22 [==============================] - ETA: 0s - loss: 0.3920 - dice_coef: 0.0297 - dice_loss: 0.9703 - specificity: 0.0000e+00 - sensitivity: nan - accuracy: 0.0149\n",
      "Epoch 2: val_loss improved from 0.42768 to 0.39674, saving model to /home/jovyan/work/saved_data/south_africa_tree_stock/saved_models/\n"
     ]
    },
    {
     "name": "stderr",
     "output_type": "stream",
     "text": [
      "WARNING:absl:Function `_wrapped_model` contains input name(s) Input with unsupported characters which will be renamed to input in the SavedModel.\n"
     ]
    },
    {
     "name": "stdout",
     "output_type": "stream",
     "text": [
      "INFO:tensorflow:Assets written to: /home/jovyan/work/saved_data/south_africa_tree_stock/saved_models/assets\n"
     ]
    },
    {
     "name": "stderr",
     "output_type": "stream",
     "text": [
      "INFO:tensorflow:Assets written to: /home/jovyan/work/saved_data/south_africa_tree_stock/saved_models/assets\n"
     ]
    },
    {
     "name": "stdout",
     "output_type": "stream",
     "text": [
      "22/22 [==============================] - 233s 11s/step - loss: 0.3920 - dice_coef: 0.0297 - dice_loss: 0.9703 - specificity: 0.0000e+00 - sensitivity: nan - accuracy: 0.0149 - val_loss: 0.3967 - val_dice_coef: 0.0288 - val_dice_loss: 0.9712 - val_specificity: 0.0000e+00 - val_sensitivity: nan - val_accuracy: 0.0145\n",
      "Epoch 3/30\n",
      "22/22 [==============================] - ETA: 0s - loss: 0.2612 - dice_coef: 0.0298 - dice_loss: 0.9702 - specificity: 0.0000e+00 - sensitivity: nan - accuracy: 0.0150\n",
      "Epoch 3: val_loss improved from 0.39674 to 0.37860, saving model to /home/jovyan/work/saved_data/south_africa_tree_stock/saved_models/\n"
     ]
    },
    {
     "name": "stderr",
     "output_type": "stream",
     "text": [
      "WARNING:absl:Function `_wrapped_model` contains input name(s) Input with unsupported characters which will be renamed to input in the SavedModel.\n"
     ]
    },
    {
     "name": "stdout",
     "output_type": "stream",
     "text": [
      "INFO:tensorflow:Assets written to: /home/jovyan/work/saved_data/south_africa_tree_stock/saved_models/assets\n"
     ]
    },
    {
     "name": "stderr",
     "output_type": "stream",
     "text": [
      "INFO:tensorflow:Assets written to: /home/jovyan/work/saved_data/south_africa_tree_stock/saved_models/assets\n"
     ]
    },
    {
     "name": "stdout",
     "output_type": "stream",
     "text": [
      "22/22 [==============================] - 237s 11s/step - loss: 0.2612 - dice_coef: 0.0298 - dice_loss: 0.9702 - specificity: 0.0000e+00 - sensitivity: nan - accuracy: 0.0150 - val_loss: 0.3786 - val_dice_coef: 0.0288 - val_dice_loss: 0.9712 - val_specificity: 0.0000e+00 - val_sensitivity: nan - val_accuracy: 0.0145\n",
      "Epoch 4/30\n",
      "22/22 [==============================] - ETA: 0s - loss: 0.3934 - dice_coef: 0.0375 - dice_loss: 0.9625 - specificity: 0.0000e+00 - sensitivity: nan - accuracy: 0.0188\n",
      "Epoch 4: val_loss improved from 0.37860 to 0.36639, saving model to /home/jovyan/work/saved_data/south_africa_tree_stock/saved_models/\n"
     ]
    },
    {
     "name": "stderr",
     "output_type": "stream",
     "text": [
      "WARNING:absl:Function `_wrapped_model` contains input name(s) Input with unsupported characters which will be renamed to input in the SavedModel.\n"
     ]
    },
    {
     "name": "stdout",
     "output_type": "stream",
     "text": [
      "INFO:tensorflow:Assets written to: /home/jovyan/work/saved_data/south_africa_tree_stock/saved_models/assets\n"
     ]
    },
    {
     "name": "stderr",
     "output_type": "stream",
     "text": [
      "INFO:tensorflow:Assets written to: /home/jovyan/work/saved_data/south_africa_tree_stock/saved_models/assets\n"
     ]
    },
    {
     "name": "stdout",
     "output_type": "stream",
     "text": [
      "22/22 [==============================] - 232s 11s/step - loss: 0.3934 - dice_coef: 0.0375 - dice_loss: 0.9625 - specificity: 0.0000e+00 - sensitivity: nan - accuracy: 0.0188 - val_loss: 0.3664 - val_dice_coef: 0.0288 - val_dice_loss: 0.9712 - val_specificity: 0.0000e+00 - val_sensitivity: nan - val_accuracy: 0.0145\n",
      "Epoch 5/30\n",
      "22/22 [==============================] - ETA: 0s - loss: 0.2979 - dice_coef: 0.0312 - dice_loss: 0.9688 - specificity: 0.0000e+00 - sensitivity: nan - accuracy: 0.0156\n",
      "Epoch 5: val_loss improved from 0.36639 to 0.36088, saving model to /home/jovyan/work/saved_data/south_africa_tree_stock/saved_models/\n"
     ]
    },
    {
     "name": "stderr",
     "output_type": "stream",
     "text": [
      "WARNING:absl:Function `_wrapped_model` contains input name(s) Input with unsupported characters which will be renamed to input in the SavedModel.\n"
     ]
    },
    {
     "name": "stdout",
     "output_type": "stream",
     "text": [
      "INFO:tensorflow:Assets written to: /home/jovyan/work/saved_data/south_africa_tree_stock/saved_models/assets\n"
     ]
    },
    {
     "name": "stderr",
     "output_type": "stream",
     "text": [
      "INFO:tensorflow:Assets written to: /home/jovyan/work/saved_data/south_africa_tree_stock/saved_models/assets\n"
     ]
    },
    {
     "name": "stdout",
     "output_type": "stream",
     "text": [
      "22/22 [==============================] - 238s 11s/step - loss: 0.2979 - dice_coef: 0.0312 - dice_loss: 0.9688 - specificity: 0.0000e+00 - sensitivity: nan - accuracy: 0.0156 - val_loss: 0.3609 - val_dice_coef: 0.0288 - val_dice_loss: 0.9712 - val_specificity: 0.0000e+00 - val_sensitivity: nan - val_accuracy: 0.0145\n",
      "Epoch 6/30\n",
      "22/22 [==============================] - ETA: 0s - loss: 0.3622 - dice_coef: 0.0348 - dice_loss: 0.9652 - specificity: 0.0000e+00 - sensitivity: nan - accuracy: 0.0175\n",
      "Epoch 6: val_loss improved from 0.36088 to 0.35619, saving model to /home/jovyan/work/saved_data/south_africa_tree_stock/saved_models/\n"
     ]
    },
    {
     "name": "stderr",
     "output_type": "stream",
     "text": [
      "WARNING:absl:Function `_wrapped_model` contains input name(s) Input with unsupported characters which will be renamed to input in the SavedModel.\n"
     ]
    },
    {
     "name": "stdout",
     "output_type": "stream",
     "text": [
      "INFO:tensorflow:Assets written to: /home/jovyan/work/saved_data/south_africa_tree_stock/saved_models/assets\n"
     ]
    },
    {
     "name": "stderr",
     "output_type": "stream",
     "text": [
      "INFO:tensorflow:Assets written to: /home/jovyan/work/saved_data/south_africa_tree_stock/saved_models/assets\n"
     ]
    },
    {
     "name": "stdout",
     "output_type": "stream",
     "text": [
      "22/22 [==============================] - 233s 11s/step - loss: 0.3622 - dice_coef: 0.0348 - dice_loss: 0.9652 - specificity: 0.0000e+00 - sensitivity: nan - accuracy: 0.0175 - val_loss: 0.3562 - val_dice_coef: 0.0288 - val_dice_loss: 0.9712 - val_specificity: 0.0000e+00 - val_sensitivity: nan - val_accuracy: 0.0145\n",
      "Epoch 7/30\n",
      "22/22 [==============================] - ETA: 0s - loss: 0.2937 - dice_coef: 0.0410 - dice_loss: 0.9590 - specificity: 0.0000e+00 - sensitivity: nan - accuracy: 0.0206\n",
      "Epoch 7: val_loss improved from 0.35619 to 0.35049, saving model to /home/jovyan/work/saved_data/south_africa_tree_stock/saved_models/\n"
     ]
    },
    {
     "name": "stderr",
     "output_type": "stream",
     "text": [
      "WARNING:absl:Function `_wrapped_model` contains input name(s) Input with unsupported characters which will be renamed to input in the SavedModel.\n"
     ]
    },
    {
     "name": "stdout",
     "output_type": "stream",
     "text": [
      "INFO:tensorflow:Assets written to: /home/jovyan/work/saved_data/south_africa_tree_stock/saved_models/assets\n"
     ]
    },
    {
     "name": "stderr",
     "output_type": "stream",
     "text": [
      "INFO:tensorflow:Assets written to: /home/jovyan/work/saved_data/south_africa_tree_stock/saved_models/assets\n"
     ]
    },
    {
     "name": "stdout",
     "output_type": "stream",
     "text": [
      "22/22 [==============================] - 237s 11s/step - loss: 0.2937 - dice_coef: 0.0410 - dice_loss: 0.9590 - specificity: 0.0000e+00 - sensitivity: nan - accuracy: 0.0206 - val_loss: 0.3505 - val_dice_coef: 0.0288 - val_dice_loss: 0.9712 - val_specificity: 0.0000e+00 - val_sensitivity: nan - val_accuracy: 0.0145\n",
      "Epoch 8/30\n",
      "22/22 [==============================] - ETA: 0s - loss: 0.4471 - dice_coef: 0.0285 - dice_loss: 0.9715 - specificity: 0.0000e+00 - sensitivity: nan - accuracy: 0.0143\n",
      "Epoch 8: val_loss improved from 0.35049 to 0.34541, saving model to /home/jovyan/work/saved_data/south_africa_tree_stock/saved_models/\n"
     ]
    },
    {
     "name": "stderr",
     "output_type": "stream",
     "text": [
      "WARNING:absl:Function `_wrapped_model` contains input name(s) Input with unsupported characters which will be renamed to input in the SavedModel.\n"
     ]
    },
    {
     "name": "stdout",
     "output_type": "stream",
     "text": [
      "INFO:tensorflow:Assets written to: /home/jovyan/work/saved_data/south_africa_tree_stock/saved_models/assets\n"
     ]
    },
    {
     "name": "stderr",
     "output_type": "stream",
     "text": [
      "INFO:tensorflow:Assets written to: /home/jovyan/work/saved_data/south_africa_tree_stock/saved_models/assets\n"
     ]
    },
    {
     "name": "stdout",
     "output_type": "stream",
     "text": [
      "22/22 [==============================] - 233s 11s/step - loss: 0.4471 - dice_coef: 0.0285 - dice_loss: 0.9715 - specificity: 0.0000e+00 - sensitivity: nan - accuracy: 0.0143 - val_loss: 0.3454 - val_dice_coef: 0.0288 - val_dice_loss: 0.9712 - val_specificity: 0.0000e+00 - val_sensitivity: nan - val_accuracy: 0.0145\n",
      "Epoch 9/30\n",
      "22/22 [==============================] - ETA: 0s - loss: 0.2458 - dice_coef: 0.0464 - dice_loss: 0.9536 - specificity: 0.0000e+00 - sensitivity: nan - accuracy: 0.0233\n",
      "Epoch 9: val_loss improved from 0.34541 to 0.34056, saving model to /home/jovyan/work/saved_data/south_africa_tree_stock/saved_models/\n"
     ]
    },
    {
     "name": "stderr",
     "output_type": "stream",
     "text": [
      "WARNING:absl:Function `_wrapped_model` contains input name(s) Input with unsupported characters which will be renamed to input in the SavedModel.\n"
     ]
    },
    {
     "name": "stdout",
     "output_type": "stream",
     "text": [
      "INFO:tensorflow:Assets written to: /home/jovyan/work/saved_data/south_africa_tree_stock/saved_models/assets\n"
     ]
    },
    {
     "name": "stderr",
     "output_type": "stream",
     "text": [
      "INFO:tensorflow:Assets written to: /home/jovyan/work/saved_data/south_africa_tree_stock/saved_models/assets\n"
     ]
    },
    {
     "name": "stdout",
     "output_type": "stream",
     "text": [
      "22/22 [==============================] - 237s 11s/step - loss: 0.2458 - dice_coef: 0.0464 - dice_loss: 0.9536 - specificity: 0.0000e+00 - sensitivity: nan - accuracy: 0.0233 - val_loss: 0.3406 - val_dice_coef: 0.0288 - val_dice_loss: 0.9712 - val_specificity: 0.0000e+00 - val_sensitivity: nan - val_accuracy: 0.0145\n",
      "Epoch 10/30\n",
      "22/22 [==============================] - ETA: 0s - loss: 0.4166 - dice_coef: 0.0235 - dice_loss: 0.9765 - specificity: 0.0000e+00 - sensitivity: nan - accuracy: 0.0118\n",
      "Epoch 10: val_loss improved from 0.34056 to 0.33420, saving model to /home/jovyan/work/saved_data/south_africa_tree_stock/saved_models/\n"
     ]
    },
    {
     "name": "stderr",
     "output_type": "stream",
     "text": [
      "WARNING:absl:Function `_wrapped_model` contains input name(s) Input with unsupported characters which will be renamed to input in the SavedModel.\n"
     ]
    },
    {
     "name": "stdout",
     "output_type": "stream",
     "text": [
      "INFO:tensorflow:Assets written to: /home/jovyan/work/saved_data/south_africa_tree_stock/saved_models/assets\n"
     ]
    },
    {
     "name": "stderr",
     "output_type": "stream",
     "text": [
      "INFO:tensorflow:Assets written to: /home/jovyan/work/saved_data/south_africa_tree_stock/saved_models/assets\n"
     ]
    },
    {
     "name": "stdout",
     "output_type": "stream",
     "text": [
      "22/22 [==============================] - 232s 11s/step - loss: 0.4166 - dice_coef: 0.0235 - dice_loss: 0.9765 - specificity: 0.0000e+00 - sensitivity: nan - accuracy: 0.0118 - val_loss: 0.3342 - val_dice_coef: 0.0288 - val_dice_loss: 0.9712 - val_specificity: 0.0000e+00 - val_sensitivity: nan - val_accuracy: 0.0145\n",
      "Epoch 11/30\n",
      "22/22 [==============================] - ETA: 0s - loss: 0.3013 - dice_coef: 0.0428 - dice_loss: 0.9572 - specificity: 0.0000e+00 - sensitivity: nan - accuracy: 0.0215\n",
      "Epoch 11: val_loss improved from 0.33420 to 0.32976, saving model to /home/jovyan/work/saved_data/south_africa_tree_stock/saved_models/\n"
     ]
    },
    {
     "name": "stderr",
     "output_type": "stream",
     "text": [
      "WARNING:absl:Function `_wrapped_model` contains input name(s) Input with unsupported characters which will be renamed to input in the SavedModel.\n"
     ]
    },
    {
     "name": "stdout",
     "output_type": "stream",
     "text": [
      "INFO:tensorflow:Assets written to: /home/jovyan/work/saved_data/south_africa_tree_stock/saved_models/assets\n"
     ]
    },
    {
     "name": "stderr",
     "output_type": "stream",
     "text": [
      "INFO:tensorflow:Assets written to: /home/jovyan/work/saved_data/south_africa_tree_stock/saved_models/assets\n"
     ]
    },
    {
     "name": "stdout",
     "output_type": "stream",
     "text": [
      "22/22 [==============================] - 238s 11s/step - loss: 0.3013 - dice_coef: 0.0428 - dice_loss: 0.9572 - specificity: 0.0000e+00 - sensitivity: nan - accuracy: 0.0215 - val_loss: 0.3298 - val_dice_coef: 0.0288 - val_dice_loss: 0.9712 - val_specificity: 0.0000e+00 - val_sensitivity: nan - val_accuracy: 0.0145\n",
      "Epoch 12/30\n",
      "22/22 [==============================] - ETA: 0s - loss: 0.2536 - dice_coef: 0.0500 - dice_loss: 0.9500 - specificity: 0.0000e+00 - sensitivity: nan - accuracy: 0.0251\n",
      "Epoch 12: val_loss improved from 0.32976 to 0.32254, saving model to /home/jovyan/work/saved_data/south_africa_tree_stock/saved_models/\n"
     ]
    },
    {
     "name": "stderr",
     "output_type": "stream",
     "text": [
      "WARNING:absl:Function `_wrapped_model` contains input name(s) Input with unsupported characters which will be renamed to input in the SavedModel.\n"
     ]
    },
    {
     "name": "stdout",
     "output_type": "stream",
     "text": [
      "INFO:tensorflow:Assets written to: /home/jovyan/work/saved_data/south_africa_tree_stock/saved_models/assets\n"
     ]
    },
    {
     "name": "stderr",
     "output_type": "stream",
     "text": [
      "INFO:tensorflow:Assets written to: /home/jovyan/work/saved_data/south_africa_tree_stock/saved_models/assets\n"
     ]
    },
    {
     "name": "stdout",
     "output_type": "stream",
     "text": [
      "22/22 [==============================] - 233s 11s/step - loss: 0.2536 - dice_coef: 0.0500 - dice_loss: 0.9500 - specificity: 0.0000e+00 - sensitivity: nan - accuracy: 0.0251 - val_loss: 0.3225 - val_dice_coef: 0.0288 - val_dice_loss: 0.9712 - val_specificity: 0.0000e+00 - val_sensitivity: nan - val_accuracy: 0.0145\n",
      "Epoch 13/30\n",
      "22/22 [==============================] - ETA: 0s - loss: 0.3786 - dice_coef: 0.0269 - dice_loss: 0.9731 - specificity: 0.0000e+00 - sensitivity: nan - accuracy: 0.0135\n",
      "Epoch 13: val_loss improved from 0.32254 to 0.31166, saving model to /home/jovyan/work/saved_data/south_africa_tree_stock/saved_models/\n"
     ]
    },
    {
     "name": "stderr",
     "output_type": "stream",
     "text": [
      "WARNING:absl:Function `_wrapped_model` contains input name(s) Input with unsupported characters which will be renamed to input in the SavedModel.\n"
     ]
    },
    {
     "name": "stdout",
     "output_type": "stream",
     "text": [
      "INFO:tensorflow:Assets written to: /home/jovyan/work/saved_data/south_africa_tree_stock/saved_models/assets\n"
     ]
    },
    {
     "name": "stderr",
     "output_type": "stream",
     "text": [
      "INFO:tensorflow:Assets written to: /home/jovyan/work/saved_data/south_africa_tree_stock/saved_models/assets\n"
     ]
    },
    {
     "name": "stdout",
     "output_type": "stream",
     "text": [
      "22/22 [==============================] - 237s 11s/step - loss: 0.3786 - dice_coef: 0.0269 - dice_loss: 0.9731 - specificity: 0.0000e+00 - sensitivity: nan - accuracy: 0.0135 - val_loss: 0.3117 - val_dice_coef: 0.0288 - val_dice_loss: 0.9712 - val_specificity: 0.0000e+00 - val_sensitivity: nan - val_accuracy: 0.0145\n",
      "Epoch 14/30\n",
      "22/22 [==============================] - ETA: 0s - loss: 0.2964 - dice_coef: 0.0361 - dice_loss: 0.9639 - specificity: 0.0000e+00 - sensitivity: nan - accuracy: 0.0181\n",
      "Epoch 14: val_loss improved from 0.31166 to 0.30117, saving model to /home/jovyan/work/saved_data/south_africa_tree_stock/saved_models/\n"
     ]
    },
    {
     "name": "stderr",
     "output_type": "stream",
     "text": [
      "WARNING:absl:Function `_wrapped_model` contains input name(s) Input with unsupported characters which will be renamed to input in the SavedModel.\n"
     ]
    },
    {
     "name": "stdout",
     "output_type": "stream",
     "text": [
      "INFO:tensorflow:Assets written to: /home/jovyan/work/saved_data/south_africa_tree_stock/saved_models/assets\n"
     ]
    },
    {
     "name": "stderr",
     "output_type": "stream",
     "text": [
      "INFO:tensorflow:Assets written to: /home/jovyan/work/saved_data/south_africa_tree_stock/saved_models/assets\n"
     ]
    },
    {
     "name": "stdout",
     "output_type": "stream",
     "text": [
      "22/22 [==============================] - 233s 11s/step - loss: 0.2964 - dice_coef: 0.0361 - dice_loss: 0.9639 - specificity: 0.0000e+00 - sensitivity: nan - accuracy: 0.0181 - val_loss: 0.3012 - val_dice_coef: 0.0288 - val_dice_loss: 0.9712 - val_specificity: 0.0000e+00 - val_sensitivity: nan - val_accuracy: 0.0145\n",
      "Epoch 15/30\n",
      "22/22 [==============================] - ETA: 0s - loss: 0.3533 - dice_coef: 0.0285 - dice_loss: 0.9715 - specificity: 0.0000e+00 - sensitivity: nan - accuracy: 0.0143\n",
      "Epoch 15: val_loss improved from 0.30117 to 0.29219, saving model to /home/jovyan/work/saved_data/south_africa_tree_stock/saved_models/\n"
     ]
    },
    {
     "name": "stderr",
     "output_type": "stream",
     "text": [
      "WARNING:absl:Function `_wrapped_model` contains input name(s) Input with unsupported characters which will be renamed to input in the SavedModel.\n"
     ]
    },
    {
     "name": "stdout",
     "output_type": "stream",
     "text": [
      "INFO:tensorflow:Assets written to: /home/jovyan/work/saved_data/south_africa_tree_stock/saved_models/assets\n"
     ]
    },
    {
     "name": "stderr",
     "output_type": "stream",
     "text": [
      "INFO:tensorflow:Assets written to: /home/jovyan/work/saved_data/south_africa_tree_stock/saved_models/assets\n"
     ]
    },
    {
     "name": "stdout",
     "output_type": "stream",
     "text": [
      "22/22 [==============================] - 237s 11s/step - loss: 0.3533 - dice_coef: 0.0285 - dice_loss: 0.9715 - specificity: 0.0000e+00 - sensitivity: nan - accuracy: 0.0143 - val_loss: 0.2922 - val_dice_coef: 0.0288 - val_dice_loss: 0.9712 - val_specificity: 0.0000e+00 - val_sensitivity: nan - val_accuracy: 0.0145\n",
      "Epoch 16/30\n",
      "22/22 [==============================] - ETA: 0s - loss: 0.3591 - dice_coef: 0.0396 - dice_loss: 0.9604 - specificity: 0.0000e+00 - sensitivity: nan - accuracy: 0.0199\n",
      "Epoch 16: val_loss improved from 0.29219 to 0.28609, saving model to /home/jovyan/work/saved_data/south_africa_tree_stock/saved_models/\n"
     ]
    },
    {
     "name": "stderr",
     "output_type": "stream",
     "text": [
      "WARNING:absl:Function `_wrapped_model` contains input name(s) Input with unsupported characters which will be renamed to input in the SavedModel.\n"
     ]
    },
    {
     "name": "stdout",
     "output_type": "stream",
     "text": [
      "INFO:tensorflow:Assets written to: /home/jovyan/work/saved_data/south_africa_tree_stock/saved_models/assets\n"
     ]
    },
    {
     "name": "stderr",
     "output_type": "stream",
     "text": [
      "INFO:tensorflow:Assets written to: /home/jovyan/work/saved_data/south_africa_tree_stock/saved_models/assets\n"
     ]
    },
    {
     "name": "stdout",
     "output_type": "stream",
     "text": [
      "22/22 [==============================] - 233s 11s/step - loss: 0.3591 - dice_coef: 0.0396 - dice_loss: 0.9604 - specificity: 0.0000e+00 - sensitivity: nan - accuracy: 0.0199 - val_loss: 0.2861 - val_dice_coef: 0.0288 - val_dice_loss: 0.9712 - val_specificity: 0.0000e+00 - val_sensitivity: nan - val_accuracy: 0.0145\n",
      "Epoch 17/30\n",
      "22/22 [==============================] - ETA: 0s - loss: 0.2970 - dice_coef: 0.0333 - dice_loss: 0.9667 - specificity: 0.0000e+00 - sensitivity: nan - accuracy: 0.0167\n",
      "Epoch 17: val_loss improved from 0.28609 to 0.28294, saving model to /home/jovyan/work/saved_data/south_africa_tree_stock/saved_models/\n"
     ]
    },
    {
     "name": "stderr",
     "output_type": "stream",
     "text": [
      "WARNING:absl:Function `_wrapped_model` contains input name(s) Input with unsupported characters which will be renamed to input in the SavedModel.\n"
     ]
    },
    {
     "name": "stdout",
     "output_type": "stream",
     "text": [
      "INFO:tensorflow:Assets written to: /home/jovyan/work/saved_data/south_africa_tree_stock/saved_models/assets\n"
     ]
    },
    {
     "name": "stderr",
     "output_type": "stream",
     "text": [
      "INFO:tensorflow:Assets written to: /home/jovyan/work/saved_data/south_africa_tree_stock/saved_models/assets\n"
     ]
    },
    {
     "name": "stdout",
     "output_type": "stream",
     "text": [
      "22/22 [==============================] - 237s 11s/step - loss: 0.2970 - dice_coef: 0.0333 - dice_loss: 0.9667 - specificity: 0.0000e+00 - sensitivity: nan - accuracy: 0.0167 - val_loss: 0.2829 - val_dice_coef: 0.0288 - val_dice_loss: 0.9712 - val_specificity: 0.0000e+00 - val_sensitivity: nan - val_accuracy: 0.0145\n",
      "Epoch 18/30\n",
      "22/22 [==============================] - ETA: 0s - loss: 0.2156 - dice_coef: 0.0345 - dice_loss: 0.9655 - specificity: 0.0000e+00 - sensitivity: nan - accuracy: 0.0173\n",
      "Epoch 18: val_loss improved from 0.28294 to 0.28175, saving model to /home/jovyan/work/saved_data/south_africa_tree_stock/saved_models/\n"
     ]
    },
    {
     "name": "stderr",
     "output_type": "stream",
     "text": [
      "WARNING:absl:Function `_wrapped_model` contains input name(s) Input with unsupported characters which will be renamed to input in the SavedModel.\n"
     ]
    },
    {
     "name": "stdout",
     "output_type": "stream",
     "text": [
      "INFO:tensorflow:Assets written to: /home/jovyan/work/saved_data/south_africa_tree_stock/saved_models/assets\n"
     ]
    },
    {
     "name": "stderr",
     "output_type": "stream",
     "text": [
      "INFO:tensorflow:Assets written to: /home/jovyan/work/saved_data/south_africa_tree_stock/saved_models/assets\n"
     ]
    },
    {
     "name": "stdout",
     "output_type": "stream",
     "text": [
      "22/22 [==============================] - 233s 11s/step - loss: 0.2156 - dice_coef: 0.0345 - dice_loss: 0.9655 - specificity: 0.0000e+00 - sensitivity: nan - accuracy: 0.0173 - val_loss: 0.2817 - val_dice_coef: 0.0288 - val_dice_loss: 0.9712 - val_specificity: 0.0000e+00 - val_sensitivity: nan - val_accuracy: 0.0145\n",
      "Epoch 19/30\n",
      "22/22 [==============================] - ETA: 0s - loss: 0.3009 - dice_coef: 0.0362 - dice_loss: 0.9638 - specificity: 0.0000e+00 - sensitivity: nan - accuracy: 0.0182\n",
      "Epoch 19: val_loss improved from 0.28175 to 0.28123, saving model to /home/jovyan/work/saved_data/south_africa_tree_stock/saved_models/\n"
     ]
    },
    {
     "name": "stderr",
     "output_type": "stream",
     "text": [
      "WARNING:absl:Function `_wrapped_model` contains input name(s) Input with unsupported characters which will be renamed to input in the SavedModel.\n"
     ]
    },
    {
     "name": "stdout",
     "output_type": "stream",
     "text": [
      "INFO:tensorflow:Assets written to: /home/jovyan/work/saved_data/south_africa_tree_stock/saved_models/assets\n"
     ]
    },
    {
     "name": "stderr",
     "output_type": "stream",
     "text": [
      "INFO:tensorflow:Assets written to: /home/jovyan/work/saved_data/south_africa_tree_stock/saved_models/assets\n"
     ]
    },
    {
     "name": "stdout",
     "output_type": "stream",
     "text": [
      "22/22 [==============================] - 238s 11s/step - loss: 0.3009 - dice_coef: 0.0362 - dice_loss: 0.9638 - specificity: 0.0000e+00 - sensitivity: nan - accuracy: 0.0182 - val_loss: 0.2812 - val_dice_coef: 0.0288 - val_dice_loss: 0.9712 - val_specificity: 0.0000e+00 - val_sensitivity: nan - val_accuracy: 0.0145\n",
      "Epoch 20/30\n",
      "22/22 [==============================] - ETA: 0s - loss: 0.4087 - dice_coef: 0.0372 - dice_loss: 0.9628 - specificity: 0.0000e+00 - sensitivity: nan - accuracy: 0.0187\n",
      "Epoch 20: val_loss did not improve from 0.28123\n",
      "22/22 [==============================] - 230s 10s/step - loss: 0.4087 - dice_coef: 0.0372 - dice_loss: 0.9628 - specificity: 0.0000e+00 - sensitivity: nan - accuracy: 0.0187 - val_loss: 0.2818 - val_dice_coef: 0.0288 - val_dice_loss: 0.9712 - val_specificity: 0.0000e+00 - val_sensitivity: nan - val_accuracy: 0.0145\n",
      "Epoch 21/30\n",
      "22/22 [==============================] - ETA: 0s - loss: 0.1764 - dice_coef: 0.0362 - dice_loss: 0.9638 - specificity: 0.0000e+00 - sensitivity: nan - accuracy: 0.0182\n",
      "Epoch 21: val_loss did not improve from 0.28123\n",
      "22/22 [==============================] - 229s 10s/step - loss: 0.1764 - dice_coef: 0.0362 - dice_loss: 0.9638 - specificity: 0.0000e+00 - sensitivity: nan - accuracy: 0.0182 - val_loss: 0.2845 - val_dice_coef: 0.0288 - val_dice_loss: 0.9712 - val_specificity: 0.0000e+00 - val_sensitivity: nan - val_accuracy: 0.0145\n",
      "Epoch 22/30\n",
      "22/22 [==============================] - ETA: 0s - loss: 0.2962 - dice_coef: 0.0315 - dice_loss: 0.9685 - specificity: 0.0000e+00 - sensitivity: nan - accuracy: 0.0158\n",
      "Epoch 22: val_loss did not improve from 0.28123\n",
      "22/22 [==============================] - 234s 11s/step - loss: 0.2962 - dice_coef: 0.0315 - dice_loss: 0.9685 - specificity: 0.0000e+00 - sensitivity: nan - accuracy: 0.0158 - val_loss: 0.2880 - val_dice_coef: 0.0288 - val_dice_loss: 0.9712 - val_specificity: 0.0000e+00 - val_sensitivity: nan - val_accuracy: 0.0145\n",
      "Epoch 23/30\n",
      "22/22 [==============================] - ETA: 0s - loss: 0.1560 - dice_coef: 0.0386 - dice_loss: 0.9614 - specificity: 0.0000e+00 - sensitivity: nan - accuracy: 0.0194\n",
      "Epoch 23: val_loss did not improve from 0.28123\n",
      "22/22 [==============================] - 230s 10s/step - loss: 0.1560 - dice_coef: 0.0386 - dice_loss: 0.9614 - specificity: 0.0000e+00 - sensitivity: nan - accuracy: 0.0194 - val_loss: 0.2892 - val_dice_coef: 0.0288 - val_dice_loss: 0.9712 - val_specificity: 0.0000e+00 - val_sensitivity: nan - val_accuracy: 0.0145\n",
      "Epoch 24/30\n",
      "22/22 [==============================] - ETA: 0s - loss: 0.3843 - dice_coef: 0.0381 - dice_loss: 0.9619 - specificity: 0.0000e+00 - sensitivity: nan - accuracy: 0.0191\n",
      "Epoch 24: val_loss did not improve from 0.28123\n",
      "22/22 [==============================] - 234s 11s/step - loss: 0.3843 - dice_coef: 0.0381 - dice_loss: 0.9619 - specificity: 0.0000e+00 - sensitivity: nan - accuracy: 0.0191 - val_loss: 0.2867 - val_dice_coef: 0.0288 - val_dice_loss: 0.9712 - val_specificity: 0.0000e+00 - val_sensitivity: nan - val_accuracy: 0.0145\n",
      "Epoch 25/30\n",
      "22/22 [==============================] - ETA: 0s - loss: 0.2465 - dice_coef: 0.0348 - dice_loss: 0.9652 - specificity: 0.0000e+00 - sensitivity: nan - accuracy: 0.0175\n",
      "Epoch 25: val_loss did not improve from 0.28123\n",
      "22/22 [==============================] - 230s 10s/step - loss: 0.2465 - dice_coef: 0.0348 - dice_loss: 0.9652 - specificity: 0.0000e+00 - sensitivity: nan - accuracy: 0.0175 - val_loss: 0.2839 - val_dice_coef: 0.0288 - val_dice_loss: 0.9712 - val_specificity: 0.0000e+00 - val_sensitivity: nan - val_accuracy: 0.0145\n",
      "Epoch 26/30\n",
      "22/22 [==============================] - ETA: 0s - loss: 0.2530 - dice_coef: 0.0427 - dice_loss: 0.9573 - specificity: 0.0000e+00 - sensitivity: nan - accuracy: 0.0214\n",
      "Epoch 26: val_loss did not improve from 0.28123\n",
      "22/22 [==============================] - 234s 11s/step - loss: 0.2530 - dice_coef: 0.0427 - dice_loss: 0.9573 - specificity: 0.0000e+00 - sensitivity: nan - accuracy: 0.0214 - val_loss: 0.2814 - val_dice_coef: 0.0288 - val_dice_loss: 0.9712 - val_specificity: 0.0000e+00 - val_sensitivity: nan - val_accuracy: 0.0145\n",
      "Epoch 27/30\n",
      "22/22 [==============================] - ETA: 0s - loss: 0.3446 - dice_coef: 0.0288 - dice_loss: 0.9712 - specificity: 0.0000e+00 - sensitivity: nan - accuracy: 0.0145\n",
      "Epoch 27: val_loss improved from 0.28123 to 0.27951, saving model to /home/jovyan/work/saved_data/south_africa_tree_stock/saved_models/\n"
     ]
    },
    {
     "name": "stderr",
     "output_type": "stream",
     "text": [
      "WARNING:absl:Function `_wrapped_model` contains input name(s) Input with unsupported characters which will be renamed to input in the SavedModel.\n"
     ]
    },
    {
     "name": "stdout",
     "output_type": "stream",
     "text": [
      "INFO:tensorflow:Assets written to: /home/jovyan/work/saved_data/south_africa_tree_stock/saved_models/assets\n"
     ]
    },
    {
     "name": "stderr",
     "output_type": "stream",
     "text": [
      "INFO:tensorflow:Assets written to: /home/jovyan/work/saved_data/south_africa_tree_stock/saved_models/assets\n"
     ]
    },
    {
     "name": "stdout",
     "output_type": "stream",
     "text": [
      "22/22 [==============================] - 232s 11s/step - loss: 0.3446 - dice_coef: 0.0288 - dice_loss: 0.9712 - specificity: 0.0000e+00 - sensitivity: nan - accuracy: 0.0145 - val_loss: 0.2795 - val_dice_coef: 0.0288 - val_dice_loss: 0.9712 - val_specificity: 0.0000e+00 - val_sensitivity: nan - val_accuracy: 0.0145\n",
      "Epoch 28/30\n",
      "22/22 [==============================] - ETA: 0s - loss: 0.4199 - dice_coef: 0.0321 - dice_loss: 0.9679 - specificity: 0.0000e+00 - sensitivity: nan - accuracy: 0.0161\n",
      "Epoch 28: val_loss improved from 0.27951 to 0.27757, saving model to /home/jovyan/work/saved_data/south_africa_tree_stock/saved_models/\n"
     ]
    },
    {
     "name": "stderr",
     "output_type": "stream",
     "text": [
      "WARNING:absl:Function `_wrapped_model` contains input name(s) Input with unsupported characters which will be renamed to input in the SavedModel.\n"
     ]
    },
    {
     "name": "stdout",
     "output_type": "stream",
     "text": [
      "INFO:tensorflow:Assets written to: /home/jovyan/work/saved_data/south_africa_tree_stock/saved_models/assets\n"
     ]
    },
    {
     "name": "stderr",
     "output_type": "stream",
     "text": [
      "INFO:tensorflow:Assets written to: /home/jovyan/work/saved_data/south_africa_tree_stock/saved_models/assets\n"
     ]
    },
    {
     "name": "stdout",
     "output_type": "stream",
     "text": [
      "22/22 [==============================] - 237s 11s/step - loss: 0.4199 - dice_coef: 0.0321 - dice_loss: 0.9679 - specificity: 0.0000e+00 - sensitivity: nan - accuracy: 0.0161 - val_loss: 0.2776 - val_dice_coef: 0.0288 - val_dice_loss: 0.9712 - val_specificity: 0.0000e+00 - val_sensitivity: nan - val_accuracy: 0.0145\n",
      "Epoch 29/30\n",
      "22/22 [==============================] - ETA: 0s - loss: 0.1427 - dice_coef: 0.0334 - dice_loss: 0.9666 - specificity: 0.0000e+00 - sensitivity: nan - accuracy: 0.0167\n",
      "Epoch 29: val_loss improved from 0.27757 to 0.27631, saving model to /home/jovyan/work/saved_data/south_africa_tree_stock/saved_models/\n"
     ]
    },
    {
     "name": "stderr",
     "output_type": "stream",
     "text": [
      "WARNING:absl:Function `_wrapped_model` contains input name(s) Input with unsupported characters which will be renamed to input in the SavedModel.\n"
     ]
    },
    {
     "name": "stdout",
     "output_type": "stream",
     "text": [
      "INFO:tensorflow:Assets written to: /home/jovyan/work/saved_data/south_africa_tree_stock/saved_models/assets\n"
     ]
    },
    {
     "name": "stderr",
     "output_type": "stream",
     "text": [
      "INFO:tensorflow:Assets written to: /home/jovyan/work/saved_data/south_africa_tree_stock/saved_models/assets\n"
     ]
    },
    {
     "name": "stdout",
     "output_type": "stream",
     "text": [
      "22/22 [==============================] - 232s 11s/step - loss: 0.1427 - dice_coef: 0.0334 - dice_loss: 0.9666 - specificity: 0.0000e+00 - sensitivity: nan - accuracy: 0.0167 - val_loss: 0.2763 - val_dice_coef: 0.0288 - val_dice_loss: 0.9712 - val_specificity: 0.0000e+00 - val_sensitivity: nan - val_accuracy: 0.0145\n",
      "Epoch 30/30\n",
      "22/22 [==============================] - ETA: 0s - loss: 0.1628 - dice_coef: 0.0474 - dice_loss: 0.9526 - specificity: 0.0000e+00 - sensitivity: nan - accuracy: 0.0238\n",
      "Epoch 30: val_loss improved from 0.27631 to 0.26947, saving model to /home/jovyan/work/saved_data/south_africa_tree_stock/saved_models/\n"
     ]
    },
    {
     "name": "stderr",
     "output_type": "stream",
     "text": [
      "WARNING:absl:Function `_wrapped_model` contains input name(s) Input with unsupported characters which will be renamed to input in the SavedModel.\n"
     ]
    },
    {
     "name": "stdout",
     "output_type": "stream",
     "text": [
      "INFO:tensorflow:Assets written to: /home/jovyan/work/saved_data/south_africa_tree_stock/saved_models/assets\n"
     ]
    },
    {
     "name": "stderr",
     "output_type": "stream",
     "text": [
      "INFO:tensorflow:Assets written to: /home/jovyan/work/saved_data/south_africa_tree_stock/saved_models/assets\n"
     ]
    },
    {
     "name": "stdout",
     "output_type": "stream",
     "text": [
      "22/22 [==============================] - 237s 11s/step - loss: 0.1628 - dice_coef: 0.0474 - dice_loss: 0.9526 - specificity: 0.0000e+00 - sensitivity: nan - accuracy: 0.0238 - val_loss: 0.2695 - val_dice_coef: 0.0288 - val_dice_loss: 0.9712 - val_specificity: 0.0000e+00 - val_sensitivity: nan - val_accuracy: 0.0145\n",
      "Training completed.\n",
      "CPU times: user 2d 3h 20min 30s, sys: 5h 21min 9s, total: 2d 8h 41min 40s\n",
      "Wall time: 1h 57min 11s\n"
     ]
    }
   ],
   "source": [
    "%%time\n",
    "if 1:\n",
    "    loss_history = model.fit(x=X_train_mini_np, y=np.array(y_train_mini), #train_ds, # train_dataset,\n",
    "                            epochs=30, # config.NB_EPOCHS, \n",
    "                            validation_data=(X_val_np, np.array(y_val)), # validation_dataset,\n",
    "                            steps_per_epoch=22,#config.MAX_TRAIN_STEPS, # steps_per_epoch * epochs <= # data instances = 94\n",
    "                            # validation_steps=config.VALID_IMG_COUNT,\n",
    "                            batch_size=config.BATCH_SIZE,\n",
    "                            callbacks=callbacks_list\n",
    "                            # workers=1,\n",
    "                            # use_multiprocessing=True # the generator is not very thread safe\n",
    "                    )\n",
    "\"\"\"else:\n",
    "    loss_history = [model.fit(x=X, y=y,\n",
    "                            epochs=1, # config.NB_EPOCHS, \n",
    "                            validation_data=val_ds,\n",
    "                            steps_per_epoch=100,#config.MAX_TRAIN_STEPS,\n",
    "                            # validation_steps=config.VALID_IMG_COUNT,\n",
    "                            batch_size=config.BATCH_SIZE,\n",
    "                            callbacks=callbacks_list\n",
    "                            # workers=1,\n",
    "                            # use_multiprocessing=True # the generator is not very thread safe\n",
    "                    )]\n",
    "\"\"\"\n",
    "print(\"Training completed.\")"
   ]
  },
  {
   "cell_type": "code",
   "execution_count": 30,
   "metadata": {},
   "outputs": [
    {
     "data": {
      "text/plain": [
       "'/home/jovyan/work/saved_data/south_africa_tree_stock/saved_models/UNet_20220305-1434_AdaDelta_weightmap_tversky_256.h5'"
      ]
     },
     "execution_count": 30,
     "metadata": {},
     "output_type": "execute_result"
    }
   ],
   "source": [
    "if not os.path.exists(config.model_path):\n",
    "    os.makedirs(config.model_path)\n",
    "timestr = time.strftime(\"%Y%m%d-%H%M\")\n",
    "model_path = os.path.join(config.model_path,'UNet_{}_{}_{}_{}.h5'.format(timestr,OPTIMIZER_NAME,LOSS_NAME,config.input_shape[0]))\n",
    "model.save(model_path)"
   ]
  },
  {
   "cell_type": "code",
   "execution_count": 23,
   "metadata": {},
   "outputs": [
    {
     "name": "stdout",
     "output_type": "stream",
     "text": [
      "13/13 [==============================] - 22s 2s/step - loss: 0.4065 - dice_coef: 0.0318 - dice_loss: 0.9682 - specificity: 0.0000e+00 - sensitivity: nan - accuracy: 0.0160\n"
     ]
    },
    {
     "data": {
      "text/plain": [
       "[0.4064891040325165,\n",
       " 0.03180185332894325,\n",
       " 0.9681981801986694,\n",
       " 0.0,\n",
       " nan,\n",
       " 0.01596304029226303]"
      ]
     },
     "execution_count": 23,
     "metadata": {},
     "output_type": "execute_result"
    }
   ],
   "source": [
    "model.evaluate(x=X_test_np, y=np.array(y_test), batch_size=config.BATCH_SIZE)"
   ]
  },
  {
   "cell_type": "code",
   "execution_count": 25,
   "metadata": {},
   "outputs": [
    {
     "data": {
      "image/png": "[encoded data removed]",
      "text/plain": [
       "<Figure size 432x288 with 1 Axes>"
      ]
     },
     "metadata": {
      "needs_background": "light"
     },
     "output_type": "display_data"
    }
   ],
   "source": [
    "# Get training and test loss histories\n",
    "training_loss = loss_history.history['loss']\n",
    "test_loss = loss_history.history['val_loss']\n",
    "dice_loss = loss_history.history['dice_loss']\n",
    "\n",
    "# Create count of the number of epochs\n",
    "epoch_count = range(1, len(training_loss) + 1)\n",
    "\n",
    "# Visualize loss history\n",
    "plt.plot(epoch_count, training_loss, 'r--')\n",
    "plt.plot(epoch_count, test_loss, 'b-')\n",
    "plt.legend(['Training Loss', 'Test Loss'])\n",
    "plt.xlabel('Epoch')\n",
    "plt.ylabel('Loss')\n",
    "plt.show();"
   ]
  },
  {
   "cell_type": "code",
   "execution_count": null,
   "metadata": {},
   "outputs": [],
   "source": []
  }
 ],
 "metadata": {
  "interpreter": {
   "hash": "aee8b7b246df8f9039afb4144a1f6fd8d2ca17a180786b69acc140d282b71a49"
  },
  "kernelspec": {
   "display_name": "Python 3",
   "language": "python",
   "name": "python3"
  },
  "language_info": {
   "codemirror_mode": {
    "name": "ipython",
    "version": 3
   },
   "file_extension": ".py",
   "mimetype": "text/x-python",
   "name": "python",
   "nbconvert_exporter": "python",
   "pygments_lexer": "ipython3",
   "version": "3.9.1"
  }
 },
 "nbformat": 4,
 "nbformat_minor": 4
}
