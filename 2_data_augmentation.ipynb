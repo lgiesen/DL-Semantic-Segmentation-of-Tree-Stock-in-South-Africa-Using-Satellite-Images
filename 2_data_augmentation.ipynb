{
 "cells": [
  {
   "cell_type": "markdown",
   "metadata": {},
   "source": [
    "# Data Augmentation (still to do)"
   ]
  },
  {
   "cell_type": "code",
   "execution_count": null,
   "metadata": {},
   "outputs": [],
   "source": [
    "import tensorflow as tf\n",
    "if 0: \n",
    "  data_augmentation = tf.keras.Sequential([\n",
    "    tf.keras.layers.experimental.preprocessing.RandomFlip('horizontal_and_vertical')\n",
    "    # tf.keras.layers.experimental.preprocessing.RandomZoom(\n",
    "    #   height_factor=(-0.05, -0.15),\n",
    "    #   width_factor=(-0.05, -0.15)\n",
    "    # ),\n",
    "    # tf.keras.layers.experimental.preprocessing.RandomRotation(0.9) # optional rotation\n",
    "  ])"
   ]
  },
  {
   "cell_type": "code",
   "execution_count": null,
   "metadata": {},
   "outputs": [],
   "source": [
    "# Add the image to a batch\n",
    "# satellite_area_reshaped = tf.cast(tf.expand_dims(satellite_area_reshaped, 0), tf.uint8) # satellite_area_reshaped.dtype => dtype('uint8')"
   ]
  },
  {
   "cell_type": "code",
   "execution_count": null,
   "metadata": {},
   "outputs": [],
   "source": [
    "if 0:\n",
    "\t# Incorporation into tf.data pipeline:\n",
    "\ttrainDS = tf.data.Dataset.from_tensor_slices((X_train_reshaped, y_train))\n",
    "\ttrainDS = (\n",
    "\t\ttrainDS\n",
    "\t\t.shuffle(config.BATCH_SIZE * 100)\n",
    "\t\t.batch(config.BATCH_SIZE)\n",
    "\t\t.map(lambda x, y: (data_augmentation(x), y),\n",
    "\t\t\tnum_parallel_calls=tf.data.AUTOTUNE)\n",
    "\t\t.prefetch(tf.data.AUTOTUNE)\n",
    "\t)"
   ]
  }
 ],
 "metadata": {
  "language_info": {
   "name": "python"
  },
  "orig_nbformat": 4
 },
 "nbformat": 4,
 "nbformat_minor": 2
}
