{
 "cells": [
  {
   "cell_type": "code",
   "execution_count": 38,
   "metadata": {},
   "outputs": [],
   "source": [
    "from config import config\n",
    "config = config.Configuration()\n",
    "run_prev_notebooks = False"
   ]
  },
  {
   "cell_type": "code",
   "execution_count": 7,
   "metadata": {},
   "outputs": [],
   "source": [
    "import tensorflow as tf\n",
    "\n",
    "import numpy as np\n",
    "import rasterio\n",
    "# from rasterio.windows import Window\n",
    "\n",
    "import os\n",
    "import time\n",
    "import rasterio.warp # Reproject raster samples\n",
    "from functools import reduce\n",
    "from tensorflow.keras.models import load_model\n",
    "\n",
    "from core.losses import tversky, accuracy, dice_coef, dice_loss, specificity, sensitivity\n",
    "from core.optimizers import adaDelta #, adagrad, adam, nadam\n",
    "\n",
    "import json\n",
    "from sklearn.model_selection import train_test_split\n",
    "\n",
    "%matplotlib inline\n",
    "import matplotlib.pyplot as plt\n",
    "import matplotlib.patches as patches\n",
    "from matplotlib.patches import Polygon\n",
    "\n",
    "import warnings # ignore annoying warnings\n",
    "warnings.filterwarnings(\"ignore\")\n",
    "import logging\n",
    "logger = logging.getLogger()\n",
    "logger.setLevel(logging.CRITICAL)\n",
    "\n",
    "%reload_ext autoreload\n",
    "%autoreload 2\n",
    "from IPython.core.interactiveshell import InteractiveShell\n",
    "InteractiveShell.ast_node_interactivity = \"all\""
   ]
  },
  {
   "cell_type": "markdown",
   "metadata": {},
   "source": [
    "# Pipeline"
   ]
  },
  {
   "cell_type": "code",
   "execution_count": 16,
   "metadata": {},
   "outputs": [],
   "source": [
    "def data_preparation():\n",
    "    print(\"1: Data_preparation\") \n",
    "    %run \"1_data_preparation.ipynb\"\n",
    "def define_model():\n",
    "    print(\"2: Model\")\n",
    "    %run \"2_model.ipynb\"\n",
    "def training():\n",
    "    print(\"3: Training\")\n",
    "    %run \"3_training.ipynb\"\n",
    "def evaluation():\n",
    "    print(\"4: Evaluation\")\n",
    "    %run \"4_evaluation.ipynb\"\n",
    "def prediction():\n",
    "    print(\"5: Prediction\")\n",
    "    %run \"5_prediction.ipynb\"\n",
    "def data_cleanup():\n",
    "    print(\"6: Data Cleanup\")\n",
    "    %run \"6_data_cleanup.ipynb\""
   ]
  },
  {
   "cell_type": "code",
   "execution_count": null,
   "metadata": {},
   "outputs": [],
   "source": [
    "from sklearn.pipeline import Pipeline\n",
    "\n",
    "pipeline = Pipeline([\n",
    "    (\"data_preparation\", data_preparation()),\n",
    "    (\"model\", define_model()),\n",
    "    (\"training\", training()),\n",
    "    (\"evaluation\", evaluation()),\n",
    "    # (\"prediction\", prediction()),\n",
    "    # (\"data_cleanup\", data_cleanup())\n",
    "])"
   ]
  },
  {
   "cell_type": "markdown",
   "metadata": {},
   "source": [
    "- Putting Everything Together (cf. p. 553 & davor)\n",
    "    - Chaining Transformations\n",
    "    - shuffle data etc.\n",
    "- Präsi: Loading Preprocessing Data with TensorFlow"
   ]
  }
 ],
 "metadata": {
  "interpreter": {
   "hash": "aee8b7b246df8f9039afb4144a1f6fd8d2ca17a180786b69acc140d282b71a49"
  },
  "kernelspec": {
   "display_name": "Python 3",
   "language": "python",
   "name": "python3"
  },
  "language_info": {
   "codemirror_mode": {
    "name": "ipython",
    "version": 3
   },
   "file_extension": ".py",
   "mimetype": "text/x-python",
   "name": "python",
   "nbconvert_exporter": "python",
   "pygments_lexer": "ipython3",
   "version": "3.9.1"
  }
 },
 "nbformat": 4,
 "nbformat_minor": 4
}
