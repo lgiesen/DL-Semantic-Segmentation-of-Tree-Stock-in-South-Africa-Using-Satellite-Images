{
 "cells": [
  {
   "cell_type": "code",
   "execution_count": 1,
   "metadata": {},
   "outputs": [],
   "source": [
    "from config import config\n",
    "config = config.Configuration()"
   ]
  },
  {
   "cell_type": "code",
   "execution_count": 2,
   "metadata": {},
   "outputs": [
    {
     "name": "stdout",
     "output_type": "stream",
     "text": [
      "Model: \"model\"\n",
      "__________________________________________________________________________________________________\n",
      " Layer (type)                   Output Shape         Param #     Connected to                     \n",
      "==================================================================================================\n",
      " Input (InputLayer)             [(None, 256, 256, 3  0           []                               \n",
      "                                )]                                                                \n",
      "                                                                                                  \n",
      " conv2d (Conv2D)                (None, 256, 256, 64  1792        ['Input[0][0]']                  \n",
      "                                )                                                                 \n",
      "                                                                                                  \n",
      " conv2d_1 (Conv2D)              (None, 256, 256, 64  36928       ['conv2d[0][0]']                 \n",
      "                                )                                                                 \n",
      "                                                                                                  \n",
      " batch_normalization (BatchNorm  (None, 256, 256, 64  256        ['conv2d_1[0][0]']               \n",
      " alization)                     )                                                                 \n",
      "                                                                                                  \n",
      " max_pooling2d (MaxPooling2D)   (None, 128, 128, 64  0           ['batch_normalization[0][0]']    \n",
      "                                )                                                                 \n",
      "                                                                                                  \n",
      " conv2d_2 (Conv2D)              (None, 128, 128, 12  73856       ['max_pooling2d[0][0]']          \n",
      "                                8)                                                                \n",
      "                                                                                                  \n",
      " conv2d_3 (Conv2D)              (None, 128, 128, 12  147584      ['conv2d_2[0][0]']               \n",
      "                                8)                                                                \n",
      "                                                                                                  \n",
      " batch_normalization_1 (BatchNo  (None, 128, 128, 12  512        ['conv2d_3[0][0]']               \n",
      " rmalization)                   8)                                                                \n",
      "                                                                                                  \n",
      " max_pooling2d_1 (MaxPooling2D)  (None, 64, 64, 128)  0          ['batch_normalization_1[0][0]']  \n",
      "                                                                                                  \n",
      " conv2d_4 (Conv2D)              (None, 64, 64, 256)  295168      ['max_pooling2d_1[0][0]']        \n",
      "                                                                                                  \n",
      " conv2d_5 (Conv2D)              (None, 64, 64, 256)  590080      ['conv2d_4[0][0]']               \n",
      "                                                                                                  \n",
      " batch_normalization_2 (BatchNo  (None, 64, 64, 256)  1024       ['conv2d_5[0][0]']               \n",
      " rmalization)                                                                                     \n",
      "                                                                                                  \n",
      " max_pooling2d_2 (MaxPooling2D)  (None, 32, 32, 256)  0          ['batch_normalization_2[0][0]']  \n",
      "                                                                                                  \n",
      " conv2d_6 (Conv2D)              (None, 32, 32, 512)  1180160     ['max_pooling2d_2[0][0]']        \n",
      "                                                                                                  \n",
      " conv2d_7 (Conv2D)              (None, 32, 32, 512)  2359808     ['conv2d_6[0][0]']               \n",
      "                                                                                                  \n",
      " batch_normalization_3 (BatchNo  (None, 32, 32, 512)  2048       ['conv2d_7[0][0]']               \n",
      " rmalization)                                                                                     \n",
      "                                                                                                  \n",
      " max_pooling2d_3 (MaxPooling2D)  (None, 16, 16, 512)  0          ['batch_normalization_3[0][0]']  \n",
      "                                                                                                  \n",
      " conv2d_8 (Conv2D)              (None, 16, 16, 1024  4719616     ['max_pooling2d_3[0][0]']        \n",
      "                                )                                                                 \n",
      "                                                                                                  \n",
      " conv2d_9 (Conv2D)              (None, 16, 16, 1024  9438208     ['conv2d_8[0][0]']               \n",
      "                                )                                                                 \n",
      "                                                                                                  \n",
      " up_sampling2d (UpSampling2D)   (None, 32, 32, 1024  0           ['conv2d_9[0][0]']               \n",
      "                                )                                                                 \n",
      "                                                                                                  \n",
      " batch_normalization_4 (BatchNo  (None, 32, 32, 1024  4096       ['up_sampling2d[0][0]']          \n",
      " rmalization)                   )                                                                 \n",
      "                                                                                                  \n",
      " concatenate (Concatenate)      (None, 32, 32, 1536  0           ['batch_normalization_4[0][0]',  \n",
      "                                )                                 'batch_normalization_3[0][0]']  \n",
      "                                                                                                  \n",
      " conv2d_10 (Conv2D)             (None, 32, 32, 512)  7078400     ['concatenate[0][0]']            \n",
      "                                                                                                  \n",
      " conv2d_11 (Conv2D)             (None, 32, 32, 512)  2359808     ['conv2d_10[0][0]']              \n",
      "                                                                                                  \n",
      " up_sampling2d_1 (UpSampling2D)  (None, 64, 64, 512)  0          ['conv2d_11[0][0]']              \n",
      "                                                                                                  \n",
      " batch_normalization_5 (BatchNo  (None, 64, 64, 512)  2048       ['up_sampling2d_1[0][0]']        \n",
      " rmalization)                                                                                     \n",
      "                                                                                                  \n",
      " concatenate_1 (Concatenate)    (None, 64, 64, 768)  0           ['batch_normalization_5[0][0]',  \n",
      "                                                                  'batch_normalization_2[0][0]']  \n",
      "                                                                                                  \n",
      " conv2d_12 (Conv2D)             (None, 64, 64, 256)  1769728     ['concatenate_1[0][0]']          \n",
      "                                                                                                  \n",
      " conv2d_13 (Conv2D)             (None, 64, 64, 256)  590080      ['conv2d_12[0][0]']              \n",
      "                                                                                                  \n",
      " up_sampling2d_2 (UpSampling2D)  (None, 128, 128, 25  0          ['conv2d_13[0][0]']              \n",
      "                                6)                                                                \n",
      "                                                                                                  \n",
      " batch_normalization_6 (BatchNo  (None, 128, 128, 25  1024       ['up_sampling2d_2[0][0]']        \n",
      " rmalization)                   6)                                                                \n",
      "                                                                                                  \n",
      " concatenate_2 (Concatenate)    (None, 128, 128, 38  0           ['batch_normalization_6[0][0]',  \n",
      "                                4)                                'batch_normalization_1[0][0]']  \n",
      "                                                                                                  \n",
      " conv2d_14 (Conv2D)             (None, 128, 128, 12  442496      ['concatenate_2[0][0]']          \n",
      "                                8)                                                                \n",
      "                                                                                                  \n",
      " conv2d_15 (Conv2D)             (None, 128, 128, 12  147584      ['conv2d_14[0][0]']              \n",
      "                                8)                                                                \n",
      "                                                                                                  \n",
      " up_sampling2d_3 (UpSampling2D)  (None, 256, 256, 12  0          ['conv2d_15[0][0]']              \n",
      "                                8)                                                                \n",
      "                                                                                                  \n",
      " batch_normalization_7 (BatchNo  (None, 256, 256, 12  512        ['up_sampling2d_3[0][0]']        \n",
      " rmalization)                   8)                                                                \n",
      "                                                                                                  \n",
      " concatenate_3 (Concatenate)    (None, 256, 256, 19  0           ['batch_normalization_7[0][0]',  \n",
      "                                2)                                'batch_normalization[0][0]']    \n",
      "                                                                                                  \n",
      " conv2d_16 (Conv2D)             (None, 256, 256, 64  110656      ['concatenate_3[0][0]']          \n",
      "                                )                                                                 \n",
      "                                                                                                  \n",
      " conv2d_17 (Conv2D)             (None, 256, 256, 64  36928       ['conv2d_16[0][0]']              \n",
      "                                )                                                                 \n",
      "                                                                                                  \n",
      " conv2d_18 (Conv2D)             (None, 256, 256, 1)  65          ['conv2d_17[0][0]']              \n",
      "                                                                                                  \n",
      "==================================================================================================\n",
      "Total params: 31,390,465\n",
      "Trainable params: 31,384,705\n",
      "Non-trainable params: 5,760\n",
      "__________________________________________________________________________________________________\n"
     ]
    }
   ],
   "source": [
    "# run previous notebooks if necessary\n",
    "if not \"run_prev_notebooks\" in locals(): # use case: this notebook\n",
    "    run_prev_notebooks = False\n",
    "    %run \"1_data_preparation.ipynb\"\n",
    "    %run \"2_model.ipynb\""
   ]
  },
  {
   "cell_type": "code",
   "execution_count": 3,
   "metadata": {},
   "outputs": [],
   "source": [
    "import os\n",
    "import time\n",
    "from tensorflow.keras.callbacks import ModelCheckpoint, LearningRateScheduler, EarlyStopping, ReduceLROnPlateau, TensorBoard\n",
    "timestr = time.strftime(\"%Y%m%d-%H%M\")\n",
    "\n",
    "# Define callbacks for the early stopping of training, LearningRateScheduler and model checkpointing\n",
    "checkpoint = ModelCheckpoint(config.model_path, monitor='val_loss', verbose=1, \n",
    "                             save_best_only=True, mode='min', save_weights_only = False)\n",
    "\n",
    "#reduceonplatea; It can be useful when using adam as optimizer\n",
    "#Reduce learning rate when a metric has stopped improving (after some patience,reduce by a factor of 0.33, new_lr = lr * factor).\n",
    "#cooldown: number of epochs to wait before resuming normal operation after lr has been reduced.\n",
    "reduceLROnPlat = ReduceLROnPlateau(monitor='val_loss', factor=0.33,\n",
    "                                   patience=4, verbose=1, mode='min',\n",
    "                                   min_delta=0.0001, cooldown=4, min_lr=1e-16)\n",
    "\n",
    "#early = EarlyStopping(monitor=\"val_loss\", mode=\"min\", verbose=2, patience=15)\n",
    "\n",
    "log_dir = os.path.join(f'./logs/UNet_{timestr}_{OPTIMIZER_NAME}_{LOSS_NAME}_{config.input_shape[0]}')\n",
    "tensorboard = TensorBoard(log_dir=log_dir, histogram_freq=0, write_graph=True, write_grads=False, write_images=False, embeddings_freq=0, embeddings_layer_names=None, embeddings_metadata=None, embeddings_data=None, update_freq='epoch')\n",
    "\n",
    "callbacks_list = [checkpoint, tensorboard] #reduceLROnPlat is not required with adaDelta"
   ]
  },
  {
   "cell_type": "code",
   "execution_count": null,
   "metadata": {
    "tags": []
   },
   "outputs": [
    {
     "name": "stdout",
     "output_type": "stream",
     "text": [
      "Epoch 1/100\n",
      "73/73 [==============================] - ETA: 0s - loss: -0.1225 - dice_coef: 0.0622 - dice_loss: 0.9378 - specificity: 2.4659e-06 - sensitivity: nan - accuracy: 0.0024 \n",
      "Epoch 1: val_loss improved from inf to -0.17365, saving model to /home/jovyan/work/saved_data/south_africa_tree_stock/saved_models/\n"
     ]
    },
    {
     "name": "stderr",
     "output_type": "stream",
     "text": [
      "WARNING:absl:Function `_wrapped_model` contains input name(s) Input with unsupported characters which will be renamed to input in the SavedModel.\n"
     ]
    },
    {
     "name": "stdout",
     "output_type": "stream",
     "text": [
      "INFO:tensorflow:Assets written to: /home/jovyan/work/saved_data/south_africa_tree_stock/saved_models/assets\n"
     ]
    },
    {
     "name": "stderr",
     "output_type": "stream",
     "text": [
      "INFO:tensorflow:Assets written to: /home/jovyan/work/saved_data/south_africa_tree_stock/saved_models/assets\n"
     ]
    },
    {
     "name": "stdout",
     "output_type": "stream",
     "text": [
      "73/73 [==============================] - 1941s 27s/step - loss: -0.1225 - dice_coef: 0.0622 - dice_loss: 0.9378 - specificity: 2.4659e-06 - sensitivity: nan - accuracy: 0.0024 - val_loss: -0.1736 - val_dice_coef: 0.0426 - val_dice_loss: 0.9574 - val_specificity: -5.6656e-07 - val_sensitivity: nan - val_accuracy: 0.0021\n",
      "Epoch 2/100\n",
      "73/73 [==============================] - ETA: 0s - loss: -0.0361 - dice_coef: 0.0622 - dice_loss: 0.9378 - specificity: 0.0000e+00 - sensitivity: nan - accuracy: 0.0024 \n",
      "Epoch 2: val_loss improved from -0.17365 to -0.18128, saving model to /home/jovyan/work/saved_data/south_africa_tree_stock/saved_models/\n"
     ]
    },
    {
     "name": "stderr",
     "output_type": "stream",
     "text": [
      "WARNING:absl:Function `_wrapped_model` contains input name(s) Input with unsupported characters which will be renamed to input in the SavedModel.\n"
     ]
    },
    {
     "name": "stdout",
     "output_type": "stream",
     "text": [
      "INFO:tensorflow:Assets written to: /home/jovyan/work/saved_data/south_africa_tree_stock/saved_models/assets\n"
     ]
    },
    {
     "name": "stderr",
     "output_type": "stream",
     "text": [
      "INFO:tensorflow:Assets written to: /home/jovyan/work/saved_data/south_africa_tree_stock/saved_models/assets\n"
     ]
    },
    {
     "name": "stdout",
     "output_type": "stream",
     "text": [
      "73/73 [==============================] - 1918s 26s/step - loss: -0.0361 - dice_coef: 0.0622 - dice_loss: 0.9378 - specificity: 0.0000e+00 - sensitivity: nan - accuracy: 0.0024 - val_loss: -0.1813 - val_dice_coef: 0.0427 - val_dice_loss: 0.9573 - val_specificity: 0.0000e+00 - val_sensitivity: nan - val_accuracy: 0.0021\n",
      "Epoch 3/100\n",
      "73/73 [==============================] - ETA: 0s - loss: -0.0987 - dice_coef: 0.0629 - dice_loss: 0.9371 - specificity: 0.0000e+00 - sensitivity: nan - accuracy: 0.0024 \n",
      "Epoch 3: val_loss did not improve from -0.18128\n",
      "73/73 [==============================] - 1915s 26s/step - loss: -0.0987 - dice_coef: 0.0629 - dice_loss: 0.9371 - specificity: 0.0000e+00 - sensitivity: nan - accuracy: 0.0024 - val_loss: -0.1789 - val_dice_coef: 0.0427 - val_dice_loss: 0.9573 - val_specificity: 0.0000e+00 - val_sensitivity: nan - val_accuracy: 0.0021\n",
      "Epoch 4/100\n",
      "73/73 [==============================] - ETA: 0s - loss: -0.0799 - dice_coef: 0.0609 - dice_loss: 0.9391 - specificity: 0.0000e+00 - sensitivity: nan - accuracy: 0.0024 \n",
      "Epoch 4: val_loss improved from -0.18128 to -0.18194, saving model to /home/jovyan/work/saved_data/south_africa_tree_stock/saved_models/\n"
     ]
    },
    {
     "name": "stderr",
     "output_type": "stream",
     "text": [
      "WARNING:absl:Function `_wrapped_model` contains input name(s) Input with unsupported characters which will be renamed to input in the SavedModel.\n"
     ]
    },
    {
     "name": "stdout",
     "output_type": "stream",
     "text": [
      "INFO:tensorflow:Assets written to: /home/jovyan/work/saved_data/south_africa_tree_stock/saved_models/assets\n"
     ]
    },
    {
     "name": "stderr",
     "output_type": "stream",
     "text": [
      "INFO:tensorflow:Assets written to: /home/jovyan/work/saved_data/south_africa_tree_stock/saved_models/assets\n"
     ]
    },
    {
     "name": "stdout",
     "output_type": "stream",
     "text": [
      "73/73 [==============================] - 1905s 26s/step - loss: -0.0799 - dice_coef: 0.0609 - dice_loss: 0.9391 - specificity: 0.0000e+00 - sensitivity: nan - accuracy: 0.0024 - val_loss: -0.1819 - val_dice_coef: 0.0427 - val_dice_loss: 0.9573 - val_specificity: 0.0000e+00 - val_sensitivity: nan - val_accuracy: 0.0021\n",
      "Epoch 5/100\n",
      "73/73 [==============================] - ETA: 0s - loss: 0.0159 - dice_coef: 0.0604 - dice_loss: 0.9396 - specificity: 0.0000e+00 - sensitivity: nan - accuracy: 0.0022 \n",
      "Epoch 5: val_loss improved from -0.18194 to -0.20335, saving model to /home/jovyan/work/saved_data/south_africa_tree_stock/saved_models/\n"
     ]
    },
    {
     "name": "stderr",
     "output_type": "stream",
     "text": [
      "WARNING:absl:Function `_wrapped_model` contains input name(s) Input with unsupported characters which will be renamed to input in the SavedModel.\n"
     ]
    },
    {
     "name": "stdout",
     "output_type": "stream",
     "text": [
      "INFO:tensorflow:Assets written to: /home/jovyan/work/saved_data/south_africa_tree_stock/saved_models/assets\n"
     ]
    },
    {
     "name": "stderr",
     "output_type": "stream",
     "text": [
      "INFO:tensorflow:Assets written to: /home/jovyan/work/saved_data/south_africa_tree_stock/saved_models/assets\n"
     ]
    },
    {
     "name": "stdout",
     "output_type": "stream",
     "text": [
      "73/73 [==============================] - 1906s 26s/step - loss: 0.0159 - dice_coef: 0.0604 - dice_loss: 0.9396 - specificity: 0.0000e+00 - sensitivity: nan - accuracy: 0.0022 - val_loss: -0.2034 - val_dice_coef: 0.0427 - val_dice_loss: 0.9573 - val_specificity: 0.0000e+00 - val_sensitivity: nan - val_accuracy: 0.0021\n",
      "Epoch 6/100\n",
      "73/73 [==============================] - ETA: 0s - loss: -0.0522 - dice_coef: 0.0607 - dice_loss: 0.9393 - specificity: 0.0000e+00 - sensitivity: nan - accuracy: 0.0023 \n",
      "Epoch 6: val_loss improved from -0.20335 to -0.20448, saving model to /home/jovyan/work/saved_data/south_africa_tree_stock/saved_models/\n"
     ]
    },
    {
     "name": "stderr",
     "output_type": "stream",
     "text": [
      "WARNING:absl:Function `_wrapped_model` contains input name(s) Input with unsupported characters which will be renamed to input in the SavedModel.\n"
     ]
    },
    {
     "name": "stdout",
     "output_type": "stream",
     "text": [
      "INFO:tensorflow:Assets written to: /home/jovyan/work/saved_data/south_africa_tree_stock/saved_models/assets\n"
     ]
    },
    {
     "name": "stderr",
     "output_type": "stream",
     "text": [
      "INFO:tensorflow:Assets written to: /home/jovyan/work/saved_data/south_africa_tree_stock/saved_models/assets\n"
     ]
    },
    {
     "name": "stdout",
     "output_type": "stream",
     "text": [
      "73/73 [==============================] - 1903s 26s/step - loss: -0.0522 - dice_coef: 0.0607 - dice_loss: 0.9393 - specificity: 0.0000e+00 - sensitivity: nan - accuracy: 0.0023 - val_loss: -0.2045 - val_dice_coef: 0.0427 - val_dice_loss: 0.9573 - val_specificity: 0.0000e+00 - val_sensitivity: nan - val_accuracy: 0.0021\n",
      "Epoch 7/100\n",
      "73/73 [==============================] - ETA: 0s - loss: -0.1069 - dice_coef: 0.0664 - dice_loss: 0.9336 - specificity: 0.0000e+00 - sensitivity: nan - accuracy: 0.0024 \n",
      "Epoch 7: val_loss improved from -0.20448 to -0.20460, saving model to /home/jovyan/work/saved_data/south_africa_tree_stock/saved_models/\n"
     ]
    },
    {
     "name": "stderr",
     "output_type": "stream",
     "text": [
      "WARNING:absl:Function `_wrapped_model` contains input name(s) Input with unsupported characters which will be renamed to input in the SavedModel.\n"
     ]
    },
    {
     "name": "stdout",
     "output_type": "stream",
     "text": [
      "INFO:tensorflow:Assets written to: /home/jovyan/work/saved_data/south_africa_tree_stock/saved_models/assets\n"
     ]
    },
    {
     "name": "stderr",
     "output_type": "stream",
     "text": [
      "INFO:tensorflow:Assets written to: /home/jovyan/work/saved_data/south_africa_tree_stock/saved_models/assets\n"
     ]
    },
    {
     "name": "stdout",
     "output_type": "stream",
     "text": [
      "73/73 [==============================] - 1911s 26s/step - loss: -0.1069 - dice_coef: 0.0664 - dice_loss: 0.9336 - specificity: 0.0000e+00 - sensitivity: nan - accuracy: 0.0024 - val_loss: -0.2046 - val_dice_coef: 0.0427 - val_dice_loss: 0.9573 - val_specificity: 0.0000e+00 - val_sensitivity: nan - val_accuracy: 0.0021\n",
      "Epoch 8/100\n",
      "73/73 [==============================] - ETA: 0s - loss: -0.2090 - dice_coef: 0.0636 - dice_loss: 0.9364 - specificity: 0.0000e+00 - sensitivity: nan - accuracy: 0.0023 \n",
      "Epoch 8: val_loss improved from -0.20460 to -0.20463, saving model to /home/jovyan/work/saved_data/south_africa_tree_stock/saved_models/\n"
     ]
    },
    {
     "name": "stderr",
     "output_type": "stream",
     "text": [
      "WARNING:absl:Function `_wrapped_model` contains input name(s) Input with unsupported characters which will be renamed to input in the SavedModel.\n"
     ]
    },
    {
     "name": "stdout",
     "output_type": "stream",
     "text": [
      "INFO:tensorflow:Assets written to: /home/jovyan/work/saved_data/south_africa_tree_stock/saved_models/assets\n"
     ]
    },
    {
     "name": "stderr",
     "output_type": "stream",
     "text": [
      "INFO:tensorflow:Assets written to: /home/jovyan/work/saved_data/south_africa_tree_stock/saved_models/assets\n"
     ]
    },
    {
     "name": "stdout",
     "output_type": "stream",
     "text": [
      "73/73 [==============================] - 1910s 26s/step - loss: -0.2090 - dice_coef: 0.0636 - dice_loss: 0.9364 - specificity: 0.0000e+00 - sensitivity: nan - accuracy: 0.0023 - val_loss: -0.2046 - val_dice_coef: 0.0427 - val_dice_loss: 0.9573 - val_specificity: 0.0000e+00 - val_sensitivity: nan - val_accuracy: 0.0021\n",
      "Epoch 9/100\n",
      "73/73 [==============================] - ETA: 0s - loss: -0.0649 - dice_coef: 0.0549 - dice_loss: 0.9451 - specificity: 0.0000e+00 - sensitivity: nan - accuracy: 0.0026 \n",
      "Epoch 9: val_loss improved from -0.20463 to -0.20464, saving model to /home/jovyan/work/saved_data/south_africa_tree_stock/saved_models/\n"
     ]
    },
    {
     "name": "stderr",
     "output_type": "stream",
     "text": [
      "WARNING:absl:Function `_wrapped_model` contains input name(s) Input with unsupported characters which will be renamed to input in the SavedModel.\n"
     ]
    },
    {
     "name": "stdout",
     "output_type": "stream",
     "text": [
      "INFO:tensorflow:Assets written to: /home/jovyan/work/saved_data/south_africa_tree_stock/saved_models/assets\n"
     ]
    },
    {
     "name": "stderr",
     "output_type": "stream",
     "text": [
      "INFO:tensorflow:Assets written to: /home/jovyan/work/saved_data/south_africa_tree_stock/saved_models/assets\n"
     ]
    },
    {
     "name": "stdout",
     "output_type": "stream",
     "text": [
      "73/73 [==============================] - 1901s 26s/step - loss: -0.0649 - dice_coef: 0.0549 - dice_loss: 0.9451 - specificity: 0.0000e+00 - sensitivity: nan - accuracy: 0.0026 - val_loss: -0.2046 - val_dice_coef: 0.0427 - val_dice_loss: 0.9573 - val_specificity: 0.0000e+00 - val_sensitivity: nan - val_accuracy: 0.0021\n",
      "Epoch 10/100\n",
      "73/73 [==============================] - ETA: 0s - loss: -0.1183 - dice_coef: 0.0658 - dice_loss: 0.9342 - specificity: 0.0000e+00 - sensitivity: nan - accuracy: 0.0021 \n",
      "Epoch 10: val_loss improved from -0.20464 to -0.20465, saving model to /home/jovyan/work/saved_data/south_africa_tree_stock/saved_models/\n"
     ]
    },
    {
     "name": "stderr",
     "output_type": "stream",
     "text": [
      "WARNING:absl:Function `_wrapped_model` contains input name(s) Input with unsupported characters which will be renamed to input in the SavedModel.\n"
     ]
    },
    {
     "name": "stdout",
     "output_type": "stream",
     "text": [
      "INFO:tensorflow:Assets written to: /home/jovyan/work/saved_data/south_africa_tree_stock/saved_models/assets\n"
     ]
    },
    {
     "name": "stderr",
     "output_type": "stream",
     "text": [
      "INFO:tensorflow:Assets written to: /home/jovyan/work/saved_data/south_africa_tree_stock/saved_models/assets\n"
     ]
    },
    {
     "name": "stdout",
     "output_type": "stream",
     "text": [
      "73/73 [==============================] - 1904s 26s/step - loss: -0.1183 - dice_coef: 0.0658 - dice_loss: 0.9342 - specificity: 0.0000e+00 - sensitivity: nan - accuracy: 0.0021 - val_loss: -0.2047 - val_dice_coef: 0.0427 - val_dice_loss: 0.9573 - val_specificity: 0.0000e+00 - val_sensitivity: nan - val_accuracy: 0.0021\n",
      "Epoch 11/100\n",
      "73/73 [==============================] - ETA: 0s - loss: -0.1119 - dice_coef: 0.0645 - dice_loss: 0.9355 - specificity: 0.0000e+00 - sensitivity: nan - accuracy: 0.0023 \n",
      "Epoch 11: val_loss improved from -0.20465 to -0.20466, saving model to /home/jovyan/work/saved_data/south_africa_tree_stock/saved_models/\n"
     ]
    },
    {
     "name": "stderr",
     "output_type": "stream",
     "text": [
      "WARNING:absl:Function `_wrapped_model` contains input name(s) Input with unsupported characters which will be renamed to input in the SavedModel.\n"
     ]
    },
    {
     "name": "stdout",
     "output_type": "stream",
     "text": [
      "INFO:tensorflow:Assets written to: /home/jovyan/work/saved_data/south_africa_tree_stock/saved_models/assets\n"
     ]
    },
    {
     "name": "stderr",
     "output_type": "stream",
     "text": [
      "INFO:tensorflow:Assets written to: /home/jovyan/work/saved_data/south_africa_tree_stock/saved_models/assets\n"
     ]
    },
    {
     "name": "stdout",
     "output_type": "stream",
     "text": [
      "73/73 [==============================] - 1906s 26s/step - loss: -0.1119 - dice_coef: 0.0645 - dice_loss: 0.9355 - specificity: 0.0000e+00 - sensitivity: nan - accuracy: 0.0023 - val_loss: -0.2047 - val_dice_coef: 0.0427 - val_dice_loss: 0.9573 - val_specificity: 0.0000e+00 - val_sensitivity: nan - val_accuracy: 0.0021\n",
      "Epoch 12/100\n",
      "73/73 [==============================] - ETA: 0s - loss: -0.0048 - dice_coef: 0.0599 - dice_loss: 0.9401 - specificity: 0.0000e+00 - sensitivity: nan - accuracy: 0.0024\n",
      "Epoch 12: val_loss improved from -0.20466 to -0.20466, saving model to /home/jovyan/work/saved_data/south_africa_tree_stock/saved_models/\n"
     ]
    },
    {
     "name": "stderr",
     "output_type": "stream",
     "text": [
      "WARNING:absl:Function `_wrapped_model` contains input name(s) Input with unsupported characters which will be renamed to input in the SavedModel.\n"
     ]
    },
    {
     "name": "stdout",
     "output_type": "stream",
     "text": [
      "INFO:tensorflow:Assets written to: /home/jovyan/work/saved_data/south_africa_tree_stock/saved_models/assets\n"
     ]
    },
    {
     "name": "stderr",
     "output_type": "stream",
     "text": [
      "INFO:tensorflow:Assets written to: /home/jovyan/work/saved_data/south_africa_tree_stock/saved_models/assets\n"
     ]
    },
    {
     "name": "stdout",
     "output_type": "stream",
     "text": [
      "73/73 [==============================] - 1898s 26s/step - loss: -0.0048 - dice_coef: 0.0599 - dice_loss: 0.9401 - specificity: 0.0000e+00 - sensitivity: nan - accuracy: 0.0024 - val_loss: -0.2047 - val_dice_coef: 0.0427 - val_dice_loss: 0.9573 - val_specificity: 0.0000e+00 - val_sensitivity: nan - val_accuracy: 0.0021\n",
      "Epoch 13/100\n",
      "73/73 [==============================] - ETA: 0s - loss: -0.0253 - dice_coef: 0.0618 - dice_loss: 0.9382 - specificity: 0.0000e+00 - sensitivity: nan - accuracy: 0.0024 \n",
      "Epoch 13: val_loss improved from -0.20466 to -0.20467, saving model to /home/jovyan/work/saved_data/south_africa_tree_stock/saved_models/\n"
     ]
    },
    {
     "name": "stderr",
     "output_type": "stream",
     "text": [
      "WARNING:absl:Function `_wrapped_model` contains input name(s) Input with unsupported characters which will be renamed to input in the SavedModel.\n"
     ]
    },
    {
     "name": "stdout",
     "output_type": "stream",
     "text": [
      "INFO:tensorflow:Assets written to: /home/jovyan/work/saved_data/south_africa_tree_stock/saved_models/assets\n"
     ]
    },
    {
     "name": "stderr",
     "output_type": "stream",
     "text": [
      "INFO:tensorflow:Assets written to: /home/jovyan/work/saved_data/south_africa_tree_stock/saved_models/assets\n"
     ]
    },
    {
     "name": "stdout",
     "output_type": "stream",
     "text": [
      "73/73 [==============================] - 1899s 26s/step - loss: -0.0253 - dice_coef: 0.0618 - dice_loss: 0.9382 - specificity: 0.0000e+00 - sensitivity: nan - accuracy: 0.0024 - val_loss: -0.2047 - val_dice_coef: 0.0427 - val_dice_loss: 0.9573 - val_specificity: 0.0000e+00 - val_sensitivity: nan - val_accuracy: 0.0021\n",
      "Epoch 14/100\n",
      "73/73 [==============================] - ETA: 0s - loss: -0.0786 - dice_coef: 0.0604 - dice_loss: 0.9396 - specificity: 0.0000e+00 - sensitivity: nan - accuracy: 0.0023 \n",
      "Epoch 14: val_loss improved from -0.20467 to -0.20467, saving model to /home/jovyan/work/saved_data/south_africa_tree_stock/saved_models/\n"
     ]
    },
    {
     "name": "stderr",
     "output_type": "stream",
     "text": [
      "WARNING:absl:Function `_wrapped_model` contains input name(s) Input with unsupported characters which will be renamed to input in the SavedModel.\n"
     ]
    },
    {
     "name": "stdout",
     "output_type": "stream",
     "text": [
      "INFO:tensorflow:Assets written to: /home/jovyan/work/saved_data/south_africa_tree_stock/saved_models/assets\n"
     ]
    },
    {
     "name": "stderr",
     "output_type": "stream",
     "text": [
      "INFO:tensorflow:Assets written to: /home/jovyan/work/saved_data/south_africa_tree_stock/saved_models/assets\n"
     ]
    },
    {
     "name": "stdout",
     "output_type": "stream",
     "text": [
      "73/73 [==============================] - 1900s 26s/step - loss: -0.0786 - dice_coef: 0.0604 - dice_loss: 0.9396 - specificity: 0.0000e+00 - sensitivity: nan - accuracy: 0.0023 - val_loss: -0.2047 - val_dice_coef: 0.0427 - val_dice_loss: 0.9573 - val_specificity: 0.0000e+00 - val_sensitivity: nan - val_accuracy: 0.0021\n",
      "Epoch 15/100\n",
      "73/73 [==============================] - ETA: 0s - loss: -0.1238 - dice_coef: 0.0630 - dice_loss: 0.9370 - specificity: 0.0000e+00 - sensitivity: nan - accuracy: 0.0025 \n",
      "Epoch 15: val_loss improved from -0.20467 to -0.20468, saving model to /home/jovyan/work/saved_data/south_africa_tree_stock/saved_models/\n"
     ]
    },
    {
     "name": "stderr",
     "output_type": "stream",
     "text": [
      "WARNING:absl:Function `_wrapped_model` contains input name(s) Input with unsupported characters which will be renamed to input in the SavedModel.\n"
     ]
    },
    {
     "name": "stdout",
     "output_type": "stream",
     "text": [
      "INFO:tensorflow:Assets written to: /home/jovyan/work/saved_data/south_africa_tree_stock/saved_models/assets\n"
     ]
    },
    {
     "name": "stderr",
     "output_type": "stream",
     "text": [
      "INFO:tensorflow:Assets written to: /home/jovyan/work/saved_data/south_africa_tree_stock/saved_models/assets\n"
     ]
    },
    {
     "name": "stdout",
     "output_type": "stream",
     "text": [
      "73/73 [==============================] - 1901s 26s/step - loss: -0.1238 - dice_coef: 0.0630 - dice_loss: 0.9370 - specificity: 0.0000e+00 - sensitivity: nan - accuracy: 0.0025 - val_loss: -0.2047 - val_dice_coef: 0.0427 - val_dice_loss: 0.9573 - val_specificity: 0.0000e+00 - val_sensitivity: nan - val_accuracy: 0.0021\n",
      "Epoch 16/100\n",
      "73/73 [==============================] - ETA: 0s - loss: -0.1017 - dice_coef: 0.0611 - dice_loss: 0.9389 - specificity: 0.0000e+00 - sensitivity: nan - accuracy: 0.0021 \n",
      "Epoch 16: val_loss improved from -0.20468 to -0.20468, saving model to /home/jovyan/work/saved_data/south_africa_tree_stock/saved_models/\n"
     ]
    },
    {
     "name": "stderr",
     "output_type": "stream",
     "text": [
      "WARNING:absl:Function `_wrapped_model` contains input name(s) Input with unsupported characters which will be renamed to input in the SavedModel.\n"
     ]
    },
    {
     "name": "stdout",
     "output_type": "stream",
     "text": [
      "INFO:tensorflow:Assets written to: /home/jovyan/work/saved_data/south_africa_tree_stock/saved_models/assets\n"
     ]
    },
    {
     "name": "stderr",
     "output_type": "stream",
     "text": [
      "INFO:tensorflow:Assets written to: /home/jovyan/work/saved_data/south_africa_tree_stock/saved_models/assets\n"
     ]
    },
    {
     "name": "stdout",
     "output_type": "stream",
     "text": [
      "73/73 [==============================] - 1896s 26s/step - loss: -0.1017 - dice_coef: 0.0611 - dice_loss: 0.9389 - specificity: 0.0000e+00 - sensitivity: nan - accuracy: 0.0021 - val_loss: -0.2047 - val_dice_coef: 0.0427 - val_dice_loss: 0.9573 - val_specificity: 0.0000e+00 - val_sensitivity: nan - val_accuracy: 0.0021\n",
      "Epoch 17/100\n",
      "73/73 [==============================] - ETA: 0s - loss: -0.0813 - dice_coef: 0.0578 - dice_loss: 0.9422 - specificity: 0.0000e+00 - sensitivity: nan - accuracy: 0.0025 \n",
      "Epoch 17: val_loss improved from -0.20468 to -0.20469, saving model to /home/jovyan/work/saved_data/south_africa_tree_stock/saved_models/\n"
     ]
    },
    {
     "name": "stderr",
     "output_type": "stream",
     "text": [
      "WARNING:absl:Function `_wrapped_model` contains input name(s) Input with unsupported characters which will be renamed to input in the SavedModel.\n"
     ]
    },
    {
     "name": "stdout",
     "output_type": "stream",
     "text": [
      "INFO:tensorflow:Assets written to: /home/jovyan/work/saved_data/south_africa_tree_stock/saved_models/assets\n"
     ]
    },
    {
     "name": "stderr",
     "output_type": "stream",
     "text": [
      "INFO:tensorflow:Assets written to: /home/jovyan/work/saved_data/south_africa_tree_stock/saved_models/assets\n"
     ]
    },
    {
     "name": "stdout",
     "output_type": "stream",
     "text": [
      "73/73 [==============================] - 1897s 26s/step - loss: -0.0813 - dice_coef: 0.0578 - dice_loss: 0.9422 - specificity: 0.0000e+00 - sensitivity: nan - accuracy: 0.0025 - val_loss: -0.2047 - val_dice_coef: 0.0427 - val_dice_loss: 0.9573 - val_specificity: 0.0000e+00 - val_sensitivity: nan - val_accuracy: 0.0021\n",
      "Epoch 18/100\n",
      "73/73 [==============================] - ETA: 0s - loss: -0.0675 - dice_coef: 0.0636 - dice_loss: 0.9364 - specificity: 0.0000e+00 - sensitivity: nan - accuracy: 0.0021 \n",
      "Epoch 18: val_loss improved from -0.20469 to -0.20469, saving model to /home/jovyan/work/saved_data/south_africa_tree_stock/saved_models/\n"
     ]
    },
    {
     "name": "stderr",
     "output_type": "stream",
     "text": [
      "WARNING:absl:Function `_wrapped_model` contains input name(s) Input with unsupported characters which will be renamed to input in the SavedModel.\n"
     ]
    },
    {
     "name": "stdout",
     "output_type": "stream",
     "text": [
      "INFO:tensorflow:Assets written to: /home/jovyan/work/saved_data/south_africa_tree_stock/saved_models/assets\n"
     ]
    },
    {
     "name": "stderr",
     "output_type": "stream",
     "text": [
      "INFO:tensorflow:Assets written to: /home/jovyan/work/saved_data/south_africa_tree_stock/saved_models/assets\n"
     ]
    },
    {
     "name": "stdout",
     "output_type": "stream",
     "text": [
      "73/73 [==============================] - 1896s 26s/step - loss: -0.0675 - dice_coef: 0.0636 - dice_loss: 0.9364 - specificity: 0.0000e+00 - sensitivity: nan - accuracy: 0.0021 - val_loss: -0.2047 - val_dice_coef: 0.0427 - val_dice_loss: 0.9573 - val_specificity: 0.0000e+00 - val_sensitivity: nan - val_accuracy: 0.0021\n",
      "Epoch 19/100\n",
      "73/73 [==============================] - ETA: 0s - loss: -0.0804 - dice_coef: 0.0575 - dice_loss: 0.9425 - specificity: 0.0000e+00 - sensitivity: nan - accuracy: 0.0027 \n",
      "Epoch 19: val_loss improved from -0.20469 to -0.20469, saving model to /home/jovyan/work/saved_data/south_africa_tree_stock/saved_models/\n"
     ]
    },
    {
     "name": "stderr",
     "output_type": "stream",
     "text": [
      "WARNING:absl:Function `_wrapped_model` contains input name(s) Input with unsupported characters which will be renamed to input in the SavedModel.\n"
     ]
    },
    {
     "name": "stdout",
     "output_type": "stream",
     "text": [
      "INFO:tensorflow:Assets written to: /home/jovyan/work/saved_data/south_africa_tree_stock/saved_models/assets\n"
     ]
    },
    {
     "name": "stderr",
     "output_type": "stream",
     "text": [
      "INFO:tensorflow:Assets written to: /home/jovyan/work/saved_data/south_africa_tree_stock/saved_models/assets\n"
     ]
    },
    {
     "name": "stdout",
     "output_type": "stream",
     "text": [
      "73/73 [==============================] - 1888s 26s/step - loss: -0.0804 - dice_coef: 0.0575 - dice_loss: 0.9425 - specificity: 0.0000e+00 - sensitivity: nan - accuracy: 0.0027 - val_loss: -0.2047 - val_dice_coef: 0.0427 - val_dice_loss: 0.9573 - val_specificity: 0.0000e+00 - val_sensitivity: nan - val_accuracy: 0.0021\n",
      "Epoch 20/100\n",
      "73/73 [==============================] - ETA: 0s - loss: -0.0935 - dice_coef: 0.0684 - dice_loss: 0.9316 - specificity: 0.0000e+00 - sensitivity: nan - accuracy: 0.0022 \n",
      "Epoch 20: val_loss improved from -0.20469 to -0.20470, saving model to /home/jovyan/work/saved_data/south_africa_tree_stock/saved_models/\n"
     ]
    },
    {
     "name": "stderr",
     "output_type": "stream",
     "text": [
      "WARNING:absl:Function `_wrapped_model` contains input name(s) Input with unsupported characters which will be renamed to input in the SavedModel.\n"
     ]
    },
    {
     "name": "stdout",
     "output_type": "stream",
     "text": [
      "INFO:tensorflow:Assets written to: /home/jovyan/work/saved_data/south_africa_tree_stock/saved_models/assets\n"
     ]
    },
    {
     "name": "stderr",
     "output_type": "stream",
     "text": [
      "INFO:tensorflow:Assets written to: /home/jovyan/work/saved_data/south_africa_tree_stock/saved_models/assets\n"
     ]
    },
    {
     "name": "stdout",
     "output_type": "stream",
     "text": [
      "73/73 [==============================] - 1890s 26s/step - loss: -0.0935 - dice_coef: 0.0684 - dice_loss: 0.9316 - specificity: 0.0000e+00 - sensitivity: nan - accuracy: 0.0022 - val_loss: -0.2047 - val_dice_coef: 0.0427 - val_dice_loss: 0.9573 - val_specificity: 0.0000e+00 - val_sensitivity: nan - val_accuracy: 0.0021\n",
      "Epoch 21/100\n",
      "73/73 [==============================] - ETA: 0s - loss: -0.0636 - dice_coef: 0.0571 - dice_loss: 0.9429 - specificity: 0.0000e+00 - sensitivity: nan - accuracy: 0.0024 \n",
      "Epoch 21: val_loss improved from -0.20470 to -0.20470, saving model to /home/jovyan/work/saved_data/south_africa_tree_stock/saved_models/\n"
     ]
    },
    {
     "name": "stderr",
     "output_type": "stream",
     "text": [
      "WARNING:absl:Function `_wrapped_model` contains input name(s) Input with unsupported characters which will be renamed to input in the SavedModel.\n"
     ]
    },
    {
     "name": "stdout",
     "output_type": "stream",
     "text": [
      "INFO:tensorflow:Assets written to: /home/jovyan/work/saved_data/south_africa_tree_stock/saved_models/assets\n"
     ]
    },
    {
     "name": "stderr",
     "output_type": "stream",
     "text": [
      "INFO:tensorflow:Assets written to: /home/jovyan/work/saved_data/south_africa_tree_stock/saved_models/assets\n"
     ]
    },
    {
     "name": "stdout",
     "output_type": "stream",
     "text": [
      "73/73 [==============================] - 1894s 26s/step - loss: -0.0636 - dice_coef: 0.0571 - dice_loss: 0.9429 - specificity: 0.0000e+00 - sensitivity: nan - accuracy: 0.0024 - val_loss: -0.2047 - val_dice_coef: 0.0427 - val_dice_loss: 0.9573 - val_specificity: 0.0000e+00 - val_sensitivity: nan - val_accuracy: 0.0021\n",
      "Epoch 22/100\n",
      "73/73 [==============================] - ETA: 0s - loss: -0.2089 - dice_coef: 0.0639 - dice_loss: 0.9361 - specificity: 0.0000e+00 - sensitivity: nan - accuracy: 0.0022 \n",
      "Epoch 22: val_loss improved from -0.20470 to -0.20470, saving model to /home/jovyan/work/saved_data/south_africa_tree_stock/saved_models/\n"
     ]
    },
    {
     "name": "stderr",
     "output_type": "stream",
     "text": [
      "WARNING:absl:Function `_wrapped_model` contains input name(s) Input with unsupported characters which will be renamed to input in the SavedModel.\n"
     ]
    },
    {
     "name": "stdout",
     "output_type": "stream",
     "text": [
      "INFO:tensorflow:Assets written to: /home/jovyan/work/saved_data/south_africa_tree_stock/saved_models/assets\n"
     ]
    },
    {
     "name": "stderr",
     "output_type": "stream",
     "text": [
      "INFO:tensorflow:Assets written to: /home/jovyan/work/saved_data/south_africa_tree_stock/saved_models/assets\n"
     ]
    },
    {
     "name": "stdout",
     "output_type": "stream",
     "text": [
      "73/73 [==============================] - 1917s 26s/step - loss: -0.2089 - dice_coef: 0.0639 - dice_loss: 0.9361 - specificity: 0.0000e+00 - sensitivity: nan - accuracy: 0.0022 - val_loss: -0.2047 - val_dice_coef: 0.0427 - val_dice_loss: 0.9573 - val_specificity: 0.0000e+00 - val_sensitivity: nan - val_accuracy: 0.0021\n",
      "Epoch 23/100\n",
      "73/73 [==============================] - ETA: 0s - loss: -0.1340 - dice_coef: 0.0700 - dice_loss: 0.9300 - specificity: 0.0000e+00 - sensitivity: nan - accuracy: 0.0023 \n",
      "Epoch 23: val_loss improved from -0.20470 to -0.20471, saving model to /home/jovyan/work/saved_data/south_africa_tree_stock/saved_models/\n"
     ]
    },
    {
     "name": "stderr",
     "output_type": "stream",
     "text": [
      "WARNING:absl:Function `_wrapped_model` contains input name(s) Input with unsupported characters which will be renamed to input in the SavedModel.\n"
     ]
    },
    {
     "name": "stdout",
     "output_type": "stream",
     "text": [
      "INFO:tensorflow:Assets written to: /home/jovyan/work/saved_data/south_africa_tree_stock/saved_models/assets\n"
     ]
    },
    {
     "name": "stderr",
     "output_type": "stream",
     "text": [
      "INFO:tensorflow:Assets written to: /home/jovyan/work/saved_data/south_africa_tree_stock/saved_models/assets\n"
     ]
    },
    {
     "name": "stdout",
     "output_type": "stream",
     "text": [
      "73/73 [==============================] - 1888s 26s/step - loss: -0.1340 - dice_coef: 0.0700 - dice_loss: 0.9300 - specificity: 0.0000e+00 - sensitivity: nan - accuracy: 0.0023 - val_loss: -0.2047 - val_dice_coef: 0.0427 - val_dice_loss: 0.9573 - val_specificity: 0.0000e+00 - val_sensitivity: nan - val_accuracy: 0.0021\n",
      "Epoch 24/100\n",
      "73/73 [==============================] - ETA: 0s - loss: 0.0100 - dice_coef: 0.0591 - dice_loss: 0.9409 - specificity: 0.0000e+00 - sensitivity: nan - accuracy: 0.0022 \n",
      "Epoch 24: val_loss improved from -0.20471 to -0.20471, saving model to /home/jovyan/work/saved_data/south_africa_tree_stock/saved_models/\n"
     ]
    },
    {
     "name": "stderr",
     "output_type": "stream",
     "text": [
      "WARNING:absl:Function `_wrapped_model` contains input name(s) Input with unsupported characters which will be renamed to input in the SavedModel.\n"
     ]
    },
    {
     "name": "stdout",
     "output_type": "stream",
     "text": [
      "INFO:tensorflow:Assets written to: /home/jovyan/work/saved_data/south_africa_tree_stock/saved_models/assets\n"
     ]
    },
    {
     "name": "stderr",
     "output_type": "stream",
     "text": [
      "INFO:tensorflow:Assets written to: /home/jovyan/work/saved_data/south_africa_tree_stock/saved_models/assets\n"
     ]
    },
    {
     "name": "stdout",
     "output_type": "stream",
     "text": [
      "73/73 [==============================] - 1888s 26s/step - loss: 0.0100 - dice_coef: 0.0591 - dice_loss: 0.9409 - specificity: 0.0000e+00 - sensitivity: nan - accuracy: 0.0022 - val_loss: -0.2047 - val_dice_coef: 0.0427 - val_dice_loss: 0.9573 - val_specificity: 0.0000e+00 - val_sensitivity: nan - val_accuracy: 0.0021\n",
      "Epoch 25/100\n",
      "73/73 [==============================] - ETA: 0s - loss: -0.0721 - dice_coef: 0.0639 - dice_loss: 0.9361 - specificity: 0.0000e+00 - sensitivity: nan - accuracy: 0.0023 \n",
      "Epoch 25: val_loss improved from -0.20471 to -0.20471, saving model to /home/jovyan/work/saved_data/south_africa_tree_stock/saved_models/\n"
     ]
    },
    {
     "name": "stderr",
     "output_type": "stream",
     "text": [
      "WARNING:absl:Function `_wrapped_model` contains input name(s) Input with unsupported characters which will be renamed to input in the SavedModel.\n"
     ]
    },
    {
     "name": "stdout",
     "output_type": "stream",
     "text": [
      "INFO:tensorflow:Assets written to: /home/jovyan/work/saved_data/south_africa_tree_stock/saved_models/assets\n"
     ]
    },
    {
     "name": "stderr",
     "output_type": "stream",
     "text": [
      "INFO:tensorflow:Assets written to: /home/jovyan/work/saved_data/south_africa_tree_stock/saved_models/assets\n"
     ]
    },
    {
     "name": "stdout",
     "output_type": "stream",
     "text": [
      "73/73 [==============================] - 1889s 26s/step - loss: -0.0721 - dice_coef: 0.0639 - dice_loss: 0.9361 - specificity: 0.0000e+00 - sensitivity: nan - accuracy: 0.0023 - val_loss: -0.2047 - val_dice_coef: 0.0427 - val_dice_loss: 0.9573 - val_specificity: 0.0000e+00 - val_sensitivity: nan - val_accuracy: 0.0021\n",
      "Epoch 26/100\n",
      "73/73 [==============================] - ETA: 0s - loss: -0.1103 - dice_coef: 0.0592 - dice_loss: 0.9408 - specificity: 0.0000e+00 - sensitivity: nan - accuracy: 0.0026 \n",
      "Epoch 26: val_loss improved from -0.20471 to -0.20472, saving model to /home/jovyan/work/saved_data/south_africa_tree_stock/saved_models/\n"
     ]
    },
    {
     "name": "stderr",
     "output_type": "stream",
     "text": [
      "WARNING:absl:Function `_wrapped_model` contains input name(s) Input with unsupported characters which will be renamed to input in the SavedModel.\n"
     ]
    },
    {
     "name": "stdout",
     "output_type": "stream",
     "text": [
      "INFO:tensorflow:Assets written to: /home/jovyan/work/saved_data/south_africa_tree_stock/saved_models/assets\n"
     ]
    },
    {
     "name": "stderr",
     "output_type": "stream",
     "text": [
      "INFO:tensorflow:Assets written to: /home/jovyan/work/saved_data/south_africa_tree_stock/saved_models/assets\n"
     ]
    },
    {
     "name": "stdout",
     "output_type": "stream",
     "text": [
      "73/73 [==============================] - 1892s 26s/step - loss: -0.1103 - dice_coef: 0.0592 - dice_loss: 0.9408 - specificity: 0.0000e+00 - sensitivity: nan - accuracy: 0.0026 - val_loss: -0.2047 - val_dice_coef: 0.0427 - val_dice_loss: 0.9573 - val_specificity: 0.0000e+00 - val_sensitivity: nan - val_accuracy: 0.0021\n",
      "Epoch 27/100\n",
      "73/73 [==============================] - ETA: 0s - loss: -0.0407 - dice_coef: 0.0567 - dice_loss: 0.9433 - specificity: 0.0000e+00 - sensitivity: nan - accuracy: 0.0020 \n",
      "Epoch 27: val_loss improved from -0.20472 to -0.20472, saving model to /home/jovyan/work/saved_data/south_africa_tree_stock/saved_models/\n"
     ]
    },
    {
     "name": "stderr",
     "output_type": "stream",
     "text": [
      "WARNING:absl:Function `_wrapped_model` contains input name(s) Input with unsupported characters which will be renamed to input in the SavedModel.\n"
     ]
    },
    {
     "name": "stdout",
     "output_type": "stream",
     "text": [
      "INFO:tensorflow:Assets written to: /home/jovyan/work/saved_data/south_africa_tree_stock/saved_models/assets\n"
     ]
    },
    {
     "name": "stderr",
     "output_type": "stream",
     "text": [
      "INFO:tensorflow:Assets written to: /home/jovyan/work/saved_data/south_africa_tree_stock/saved_models/assets\n"
     ]
    },
    {
     "name": "stdout",
     "output_type": "stream",
     "text": [
      "73/73 [==============================] - 1895s 26s/step - loss: -0.0407 - dice_coef: 0.0567 - dice_loss: 0.9433 - specificity: 0.0000e+00 - sensitivity: nan - accuracy: 0.0020 - val_loss: -0.2047 - val_dice_coef: 0.0427 - val_dice_loss: 0.9573 - val_specificity: 0.0000e+00 - val_sensitivity: nan - val_accuracy: 0.0021\n",
      "Epoch 28/100\n",
      "73/73 [==============================] - ETA: 0s - loss: -0.1535 - dice_coef: 0.0690 - dice_loss: 0.9310 - specificity: 0.0000e+00 - sensitivity: nan - accuracy: 0.0030 \n",
      "Epoch 28: val_loss improved from -0.20472 to -0.20472, saving model to /home/jovyan/work/saved_data/south_africa_tree_stock/saved_models/\n"
     ]
    },
    {
     "name": "stderr",
     "output_type": "stream",
     "text": [
      "WARNING:absl:Function `_wrapped_model` contains input name(s) Input with unsupported characters which will be renamed to input in the SavedModel.\n"
     ]
    },
    {
     "name": "stdout",
     "output_type": "stream",
     "text": [
      "INFO:tensorflow:Assets written to: /home/jovyan/work/saved_data/south_africa_tree_stock/saved_models/assets\n"
     ]
    },
    {
     "name": "stderr",
     "output_type": "stream",
     "text": [
      "INFO:tensorflow:Assets written to: /home/jovyan/work/saved_data/south_africa_tree_stock/saved_models/assets\n"
     ]
    },
    {
     "name": "stdout",
     "output_type": "stream",
     "text": [
      "73/73 [==============================] - 1899s 26s/step - loss: -0.1535 - dice_coef: 0.0690 - dice_loss: 0.9310 - specificity: 0.0000e+00 - sensitivity: nan - accuracy: 0.0030 - val_loss: -0.2047 - val_dice_coef: 0.0427 - val_dice_loss: 0.9573 - val_specificity: 0.0000e+00 - val_sensitivity: nan - val_accuracy: 0.0021\n",
      "Epoch 29/100\n",
      "73/73 [==============================] - ETA: 0s - loss: -0.0139 - dice_coef: 0.0524 - dice_loss: 0.9476 - specificity: 0.0000e+00 - sensitivity: nan - accuracy: 0.0019 \n",
      "Epoch 29: val_loss improved from -0.20472 to -0.20473, saving model to /home/jovyan/work/saved_data/south_africa_tree_stock/saved_models/\n"
     ]
    },
    {
     "name": "stderr",
     "output_type": "stream",
     "text": [
      "WARNING:absl:Function `_wrapped_model` contains input name(s) Input with unsupported characters which will be renamed to input in the SavedModel.\n"
     ]
    },
    {
     "name": "stdout",
     "output_type": "stream",
     "text": [
      "INFO:tensorflow:Assets written to: /home/jovyan/work/saved_data/south_africa_tree_stock/saved_models/assets\n"
     ]
    },
    {
     "name": "stderr",
     "output_type": "stream",
     "text": [
      "INFO:tensorflow:Assets written to: /home/jovyan/work/saved_data/south_africa_tree_stock/saved_models/assets\n"
     ]
    },
    {
     "name": "stdout",
     "output_type": "stream",
     "text": [
      "73/73 [==============================] - 1899s 26s/step - loss: -0.0139 - dice_coef: 0.0524 - dice_loss: 0.9476 - specificity: 0.0000e+00 - sensitivity: nan - accuracy: 0.0019 - val_loss: -0.2047 - val_dice_coef: 0.0427 - val_dice_loss: 0.9573 - val_specificity: 0.0000e+00 - val_sensitivity: nan - val_accuracy: 0.0021\n",
      "Epoch 30/100\n",
      "73/73 [==============================] - ETA: 0s - loss: -0.1472 - dice_coef: 0.0737 - dice_loss: 0.9263 - specificity: 0.0000e+00 - sensitivity: nan - accuracy: 0.0023 \n",
      "Epoch 30: val_loss improved from -0.20473 to -0.20473, saving model to /home/jovyan/work/saved_data/south_africa_tree_stock/saved_models/\n"
     ]
    },
    {
     "name": "stderr",
     "output_type": "stream",
     "text": [
      "WARNING:absl:Function `_wrapped_model` contains input name(s) Input with unsupported characters which will be renamed to input in the SavedModel.\n"
     ]
    },
    {
     "name": "stdout",
     "output_type": "stream",
     "text": [
      "INFO:tensorflow:Assets written to: /home/jovyan/work/saved_data/south_africa_tree_stock/saved_models/assets\n"
     ]
    },
    {
     "name": "stderr",
     "output_type": "stream",
     "text": [
      "INFO:tensorflow:Assets written to: /home/jovyan/work/saved_data/south_africa_tree_stock/saved_models/assets\n"
     ]
    },
    {
     "name": "stdout",
     "output_type": "stream",
     "text": [
      "73/73 [==============================] - 1898s 26s/step - loss: -0.1472 - dice_coef: 0.0737 - dice_loss: 0.9263 - specificity: 0.0000e+00 - sensitivity: nan - accuracy: 0.0023 - val_loss: -0.2047 - val_dice_coef: 0.0427 - val_dice_loss: 0.9573 - val_specificity: 0.0000e+00 - val_sensitivity: nan - val_accuracy: 0.0021\n",
      "Epoch 31/100\n",
      "73/73 [==============================] - ETA: 0s - loss: 8.7251e-04 - dice_coef: 0.0535 - dice_loss: 0.9465 - specificity: 0.0000e+00 - sensitivity: nan - accuracy: 0.0026\n",
      "Epoch 31: val_loss improved from -0.20473 to -0.20473, saving model to /home/jovyan/work/saved_data/south_africa_tree_stock/saved_models/\n"
     ]
    },
    {
     "name": "stderr",
     "output_type": "stream",
     "text": [
      "WARNING:absl:Function `_wrapped_model` contains input name(s) Input with unsupported characters which will be renamed to input in the SavedModel.\n"
     ]
    },
    {
     "name": "stdout",
     "output_type": "stream",
     "text": [
      "INFO:tensorflow:Assets written to: /home/jovyan/work/saved_data/south_africa_tree_stock/saved_models/assets\n"
     ]
    },
    {
     "name": "stderr",
     "output_type": "stream",
     "text": [
      "INFO:tensorflow:Assets written to: /home/jovyan/work/saved_data/south_africa_tree_stock/saved_models/assets\n"
     ]
    },
    {
     "name": "stdout",
     "output_type": "stream",
     "text": [
      "73/73 [==============================] - 1906s 26s/step - loss: 8.7251e-04 - dice_coef: 0.0535 - dice_loss: 0.9465 - specificity: 0.0000e+00 - sensitivity: nan - accuracy: 0.0026 - val_loss: -0.2047 - val_dice_coef: 0.0427 - val_dice_loss: 0.9573 - val_specificity: 0.0000e+00 - val_sensitivity: nan - val_accuracy: 0.0021\n",
      "Epoch 32/100\n",
      "73/73 [==============================] - ETA: 0s - loss: -0.0526 - dice_coef: 0.0622 - dice_loss: 0.9378 - specificity: 0.0000e+00 - sensitivity: nan - accuracy: 0.0021 \n",
      "Epoch 32: val_loss improved from -0.20473 to -0.20473, saving model to /home/jovyan/work/saved_data/south_africa_tree_stock/saved_models/\n"
     ]
    },
    {
     "name": "stderr",
     "output_type": "stream",
     "text": [
      "WARNING:absl:Function `_wrapped_model` contains input name(s) Input with unsupported characters which will be renamed to input in the SavedModel.\n"
     ]
    },
    {
     "name": "stdout",
     "output_type": "stream",
     "text": [
      "INFO:tensorflow:Assets written to: /home/jovyan/work/saved_data/south_africa_tree_stock/saved_models/assets\n"
     ]
    },
    {
     "name": "stderr",
     "output_type": "stream",
     "text": [
      "INFO:tensorflow:Assets written to: /home/jovyan/work/saved_data/south_africa_tree_stock/saved_models/assets\n"
     ]
    },
    {
     "name": "stdout",
     "output_type": "stream",
     "text": [
      "73/73 [==============================] - 1894s 26s/step - loss: -0.0526 - dice_coef: 0.0622 - dice_loss: 0.9378 - specificity: 0.0000e+00 - sensitivity: nan - accuracy: 0.0021 - val_loss: -0.2047 - val_dice_coef: 0.0427 - val_dice_loss: 0.9573 - val_specificity: 0.0000e+00 - val_sensitivity: nan - val_accuracy: 0.0021\n",
      "Epoch 33/100\n",
      "73/73 [==============================] - ETA: 0s - loss: -0.0491 - dice_coef: 0.0604 - dice_loss: 0.9396 - specificity: 0.0000e+00 - sensitivity: nan - accuracy: 0.0025 \n",
      "Epoch 33: val_loss improved from -0.20473 to -0.20474, saving model to /home/jovyan/work/saved_data/south_africa_tree_stock/saved_models/\n"
     ]
    },
    {
     "name": "stderr",
     "output_type": "stream",
     "text": [
      "WARNING:absl:Function `_wrapped_model` contains input name(s) Input with unsupported characters which will be renamed to input in the SavedModel.\n"
     ]
    },
    {
     "name": "stdout",
     "output_type": "stream",
     "text": [
      "INFO:tensorflow:Assets written to: /home/jovyan/work/saved_data/south_africa_tree_stock/saved_models/assets\n"
     ]
    },
    {
     "name": "stderr",
     "output_type": "stream",
     "text": [
      "INFO:tensorflow:Assets written to: /home/jovyan/work/saved_data/south_africa_tree_stock/saved_models/assets\n"
     ]
    },
    {
     "name": "stdout",
     "output_type": "stream",
     "text": [
      "73/73 [==============================] - 1898s 26s/step - loss: -0.0491 - dice_coef: 0.0604 - dice_loss: 0.9396 - specificity: 0.0000e+00 - sensitivity: nan - accuracy: 0.0025 - val_loss: -0.2047 - val_dice_coef: 0.0427 - val_dice_loss: 0.9573 - val_specificity: 0.0000e+00 - val_sensitivity: nan - val_accuracy: 0.0021\n",
      "Epoch 34/100\n",
      "73/73 [==============================] - ETA: 0s - loss: -0.0788 - dice_coef: 0.0589 - dice_loss: 0.9411 - specificity: 0.0000e+00 - sensitivity: nan - accuracy: 0.0020 \n",
      "Epoch 34: val_loss improved from -0.20474 to -0.20474, saving model to /home/jovyan/work/saved_data/south_africa_tree_stock/saved_models/\n"
     ]
    },
    {
     "name": "stderr",
     "output_type": "stream",
     "text": [
      "WARNING:absl:Function `_wrapped_model` contains input name(s) Input with unsupported characters which will be renamed to input in the SavedModel.\n"
     ]
    },
    {
     "name": "stdout",
     "output_type": "stream",
     "text": [
      "INFO:tensorflow:Assets written to: /home/jovyan/work/saved_data/south_africa_tree_stock/saved_models/assets\n"
     ]
    },
    {
     "name": "stderr",
     "output_type": "stream",
     "text": [
      "INFO:tensorflow:Assets written to: /home/jovyan/work/saved_data/south_africa_tree_stock/saved_models/assets\n"
     ]
    },
    {
     "name": "stdout",
     "output_type": "stream",
     "text": [
      "73/73 [==============================] - 1893s 26s/step - loss: -0.0788 - dice_coef: 0.0589 - dice_loss: 0.9411 - specificity: 0.0000e+00 - sensitivity: nan - accuracy: 0.0020 - val_loss: -0.2047 - val_dice_coef: 0.0427 - val_dice_loss: 0.9573 - val_specificity: 0.0000e+00 - val_sensitivity: nan - val_accuracy: 0.0021\n",
      "Epoch 35/100\n",
      "73/73 [==============================] - ETA: 0s - loss: -0.2158 - dice_coef: 0.0676 - dice_loss: 0.9324 - specificity: 0.0000e+00 - sensitivity: nan - accuracy: 0.0025 \n",
      "Epoch 35: val_loss improved from -0.20474 to -0.20474, saving model to /home/jovyan/work/saved_data/south_africa_tree_stock/saved_models/\n"
     ]
    },
    {
     "name": "stderr",
     "output_type": "stream",
     "text": [
      "WARNING:absl:Function `_wrapped_model` contains input name(s) Input with unsupported characters which will be renamed to input in the SavedModel.\n"
     ]
    },
    {
     "name": "stdout",
     "output_type": "stream",
     "text": [
      "INFO:tensorflow:Assets written to: /home/jovyan/work/saved_data/south_africa_tree_stock/saved_models/assets\n"
     ]
    },
    {
     "name": "stderr",
     "output_type": "stream",
     "text": [
      "INFO:tensorflow:Assets written to: /home/jovyan/work/saved_data/south_africa_tree_stock/saved_models/assets\n"
     ]
    },
    {
     "name": "stdout",
     "output_type": "stream",
     "text": [
      "73/73 [==============================] - 1896s 26s/step - loss: -0.2158 - dice_coef: 0.0676 - dice_loss: 0.9324 - specificity: 0.0000e+00 - sensitivity: nan - accuracy: 0.0025 - val_loss: -0.2047 - val_dice_coef: 0.0427 - val_dice_loss: 0.9573 - val_specificity: 0.0000e+00 - val_sensitivity: nan - val_accuracy: 0.0021\n",
      "Epoch 36/100\n",
      "73/73 [==============================] - ETA: 0s - loss: -0.0342 - dice_coef: 0.0592 - dice_loss: 0.9408 - specificity: 0.0000e+00 - sensitivity: nan - accuracy: 0.0023 \n",
      "Epoch 36: val_loss improved from -0.20474 to -0.20474, saving model to /home/jovyan/work/saved_data/south_africa_tree_stock/saved_models/\n"
     ]
    },
    {
     "name": "stderr",
     "output_type": "stream",
     "text": [
      "WARNING:absl:Function `_wrapped_model` contains input name(s) Input with unsupported characters which will be renamed to input in the SavedModel.\n"
     ]
    },
    {
     "name": "stdout",
     "output_type": "stream",
     "text": [
      "INFO:tensorflow:Assets written to: /home/jovyan/work/saved_data/south_africa_tree_stock/saved_models/assets\n"
     ]
    },
    {
     "name": "stderr",
     "output_type": "stream",
     "text": [
      "INFO:tensorflow:Assets written to: /home/jovyan/work/saved_data/south_africa_tree_stock/saved_models/assets\n"
     ]
    },
    {
     "name": "stdout",
     "output_type": "stream",
     "text": [
      "73/73 [==============================] - 1890s 26s/step - loss: -0.0342 - dice_coef: 0.0592 - dice_loss: 0.9408 - specificity: 0.0000e+00 - sensitivity: nan - accuracy: 0.0023 - val_loss: -0.2047 - val_dice_coef: 0.0427 - val_dice_loss: 0.9573 - val_specificity: 0.0000e+00 - val_sensitivity: nan - val_accuracy: 0.0021\n",
      "Epoch 37/100\n",
      "73/73 [==============================] - ETA: 0s - loss: -0.1278 - dice_coef: 0.0602 - dice_loss: 0.9398 - specificity: 0.0000e+00 - sensitivity: nan - accuracy: 0.0023 \n",
      "Epoch 37: val_loss improved from -0.20474 to -0.20475, saving model to /home/jovyan/work/saved_data/south_africa_tree_stock/saved_models/\n"
     ]
    },
    {
     "name": "stderr",
     "output_type": "stream",
     "text": [
      "WARNING:absl:Function `_wrapped_model` contains input name(s) Input with unsupported characters which will be renamed to input in the SavedModel.\n"
     ]
    },
    {
     "name": "stdout",
     "output_type": "stream",
     "text": [
      "INFO:tensorflow:Assets written to: /home/jovyan/work/saved_data/south_africa_tree_stock/saved_models/assets\n"
     ]
    },
    {
     "name": "stderr",
     "output_type": "stream",
     "text": [
      "INFO:tensorflow:Assets written to: /home/jovyan/work/saved_data/south_africa_tree_stock/saved_models/assets\n"
     ]
    },
    {
     "name": "stdout",
     "output_type": "stream",
     "text": [
      "73/73 [==============================] - 1889s 26s/step - loss: -0.1278 - dice_coef: 0.0602 - dice_loss: 0.9398 - specificity: 0.0000e+00 - sensitivity: nan - accuracy: 0.0023 - val_loss: -0.2047 - val_dice_coef: 0.0427 - val_dice_loss: 0.9573 - val_specificity: 0.0000e+00 - val_sensitivity: nan - val_accuracy: 0.0021\n",
      "Epoch 38/100\n",
      "73/73 [==============================] - ETA: 0s - loss: -0.2077 - dice_coef: 0.0664 - dice_loss: 0.9336 - specificity: 0.0000e+00 - sensitivity: nan - accuracy: 0.0023 \n",
      "Epoch 38: val_loss improved from -0.20475 to -0.20475, saving model to /home/jovyan/work/saved_data/south_africa_tree_stock/saved_models/\n"
     ]
    },
    {
     "name": "stderr",
     "output_type": "stream",
     "text": [
      "WARNING:absl:Function `_wrapped_model` contains input name(s) Input with unsupported characters which will be renamed to input in the SavedModel.\n"
     ]
    },
    {
     "name": "stdout",
     "output_type": "stream",
     "text": [
      "INFO:tensorflow:Assets written to: /home/jovyan/work/saved_data/south_africa_tree_stock/saved_models/assets\n"
     ]
    },
    {
     "name": "stderr",
     "output_type": "stream",
     "text": [
      "INFO:tensorflow:Assets written to: /home/jovyan/work/saved_data/south_africa_tree_stock/saved_models/assets\n"
     ]
    },
    {
     "name": "stdout",
     "output_type": "stream",
     "text": [
      "73/73 [==============================] - 1893s 26s/step - loss: -0.2077 - dice_coef: 0.0664 - dice_loss: 0.9336 - specificity: 0.0000e+00 - sensitivity: nan - accuracy: 0.0023 - val_loss: -0.2047 - val_dice_coef: 0.0427 - val_dice_loss: 0.9573 - val_specificity: 0.0000e+00 - val_sensitivity: nan - val_accuracy: 0.0021\n",
      "Epoch 39/100\n",
      "73/73 [==============================] - ETA: 0s - loss: -0.0806 - dice_coef: 0.0647 - dice_loss: 0.9353 - specificity: 0.0000e+00 - sensitivity: nan - accuracy: 0.0026 \n",
      "Epoch 39: val_loss improved from -0.20475 to -0.20475, saving model to /home/jovyan/work/saved_data/south_africa_tree_stock/saved_models/\n"
     ]
    },
    {
     "name": "stderr",
     "output_type": "stream",
     "text": [
      "WARNING:absl:Function `_wrapped_model` contains input name(s) Input with unsupported characters which will be renamed to input in the SavedModel.\n"
     ]
    },
    {
     "name": "stdout",
     "output_type": "stream",
     "text": [
      "INFO:tensorflow:Assets written to: /home/jovyan/work/saved_data/south_africa_tree_stock/saved_models/assets\n"
     ]
    },
    {
     "name": "stderr",
     "output_type": "stream",
     "text": [
      "INFO:tensorflow:Assets written to: /home/jovyan/work/saved_data/south_africa_tree_stock/saved_models/assets\n"
     ]
    },
    {
     "name": "stdout",
     "output_type": "stream",
     "text": [
      "73/73 [==============================] - 1876s 26s/step - loss: -0.0806 - dice_coef: 0.0647 - dice_loss: 0.9353 - specificity: 0.0000e+00 - sensitivity: nan - accuracy: 0.0026 - val_loss: -0.2048 - val_dice_coef: 0.0427 - val_dice_loss: 0.9573 - val_specificity: 0.0000e+00 - val_sensitivity: nan - val_accuracy: 0.0021\n",
      "Epoch 40/100\n",
      "73/73 [==============================] - ETA: 0s - loss: -0.1818 - dice_coef: 0.0571 - dice_loss: 0.9429 - specificity: 0.0000e+00 - sensitivity: nan - accuracy: 0.0026 \n",
      "Epoch 40: val_loss improved from -0.20475 to -0.20475, saving model to /home/jovyan/work/saved_data/south_africa_tree_stock/saved_models/\n"
     ]
    },
    {
     "name": "stderr",
     "output_type": "stream",
     "text": [
      "WARNING:absl:Function `_wrapped_model` contains input name(s) Input with unsupported characters which will be renamed to input in the SavedModel.\n"
     ]
    },
    {
     "name": "stdout",
     "output_type": "stream",
     "text": [
      "INFO:tensorflow:Assets written to: /home/jovyan/work/saved_data/south_africa_tree_stock/saved_models/assets\n"
     ]
    },
    {
     "name": "stderr",
     "output_type": "stream",
     "text": [
      "INFO:tensorflow:Assets written to: /home/jovyan/work/saved_data/south_africa_tree_stock/saved_models/assets\n"
     ]
    },
    {
     "name": "stdout",
     "output_type": "stream",
     "text": [
      "73/73 [==============================] - 1887s 26s/step - loss: -0.1818 - dice_coef: 0.0571 - dice_loss: 0.9429 - specificity: 0.0000e+00 - sensitivity: nan - accuracy: 0.0026 - val_loss: -0.2048 - val_dice_coef: 0.0427 - val_dice_loss: 0.9573 - val_specificity: 0.0000e+00 - val_sensitivity: nan - val_accuracy: 0.0021\n",
      "Epoch 41/100\n",
      "73/73 [==============================] - ETA: 0s - loss: -0.1000 - dice_coef: 0.0614 - dice_loss: 0.9386 - specificity: 0.0000e+00 - sensitivity: nan - accuracy: 0.0020 \n",
      "Epoch 41: val_loss improved from -0.20475 to -0.20475, saving model to /home/jovyan/work/saved_data/south_africa_tree_stock/saved_models/\n"
     ]
    },
    {
     "name": "stderr",
     "output_type": "stream",
     "text": [
      "WARNING:absl:Function `_wrapped_model` contains input name(s) Input with unsupported characters which will be renamed to input in the SavedModel.\n"
     ]
    },
    {
     "name": "stdout",
     "output_type": "stream",
     "text": [
      "INFO:tensorflow:Assets written to: /home/jovyan/work/saved_data/south_africa_tree_stock/saved_models/assets\n"
     ]
    },
    {
     "name": "stderr",
     "output_type": "stream",
     "text": [
      "INFO:tensorflow:Assets written to: /home/jovyan/work/saved_data/south_africa_tree_stock/saved_models/assets\n"
     ]
    },
    {
     "name": "stdout",
     "output_type": "stream",
     "text": [
      "73/73 [==============================] - 1883s 26s/step - loss: -0.1000 - dice_coef: 0.0614 - dice_loss: 0.9386 - specificity: 0.0000e+00 - sensitivity: nan - accuracy: 0.0020 - val_loss: -0.2048 - val_dice_coef: 0.0427 - val_dice_loss: 0.9573 - val_specificity: 0.0000e+00 - val_sensitivity: nan - val_accuracy: 0.0021\n",
      "Epoch 42/100\n",
      "73/73 [==============================] - ETA: 0s - loss: 0.0636 - dice_coef: 0.0594 - dice_loss: 0.9406 - specificity: 0.0000e+00 - sensitivity: nan - accuracy: 0.0025 \n",
      "Epoch 42: val_loss improved from -0.20475 to -0.20476, saving model to /home/jovyan/work/saved_data/south_africa_tree_stock/saved_models/\n"
     ]
    },
    {
     "name": "stderr",
     "output_type": "stream",
     "text": [
      "WARNING:absl:Function `_wrapped_model` contains input name(s) Input with unsupported characters which will be renamed to input in the SavedModel.\n"
     ]
    },
    {
     "name": "stdout",
     "output_type": "stream",
     "text": [
      "INFO:tensorflow:Assets written to: /home/jovyan/work/saved_data/south_africa_tree_stock/saved_models/assets\n"
     ]
    },
    {
     "name": "stderr",
     "output_type": "stream",
     "text": [
      "INFO:tensorflow:Assets written to: /home/jovyan/work/saved_data/south_africa_tree_stock/saved_models/assets\n"
     ]
    },
    {
     "name": "stdout",
     "output_type": "stream",
     "text": [
      "73/73 [==============================] - 1887s 26s/step - loss: 0.0636 - dice_coef: 0.0594 - dice_loss: 0.9406 - specificity: 0.0000e+00 - sensitivity: nan - accuracy: 0.0025 - val_loss: -0.2048 - val_dice_coef: 0.0427 - val_dice_loss: 0.9573 - val_specificity: 0.0000e+00 - val_sensitivity: nan - val_accuracy: 0.0021\n",
      "Epoch 43/100\n",
      "73/73 [==============================] - ETA: 0s - loss: -0.1588 - dice_coef: 0.0650 - dice_loss: 0.9350 - specificity: 0.0000e+00 - sensitivity: nan - accuracy: 0.0019 \n",
      "Epoch 43: val_loss improved from -0.20476 to -0.20476, saving model to /home/jovyan/work/saved_data/south_africa_tree_stock/saved_models/\n"
     ]
    },
    {
     "name": "stderr",
     "output_type": "stream",
     "text": [
      "WARNING:absl:Function `_wrapped_model` contains input name(s) Input with unsupported characters which will be renamed to input in the SavedModel.\n"
     ]
    },
    {
     "name": "stdout",
     "output_type": "stream",
     "text": [
      "73/73 [==============================] - ETA: 0s - loss: -0.1680 - dice_coef: 0.0665 - dice_loss: 0.9335 - specificity: 0.0000e+00 - sensitivity: nan - accuracy: 0.0023 \n",
      "Epoch 44: val_loss improved from -0.20476 to -0.20476, saving model to /home/jovyan/work/saved_data/south_africa_tree_stock/saved_models/\n"
     ]
    },
    {
     "name": "stderr",
     "output_type": "stream",
     "text": [
      "WARNING:absl:Function `_wrapped_model` contains input name(s) Input with unsupported characters which will be renamed to input in the SavedModel.\n"
     ]
    },
    {
     "name": "stdout",
     "output_type": "stream",
     "text": [
      "INFO:tensorflow:Assets written to: /home/jovyan/work/saved_data/south_africa_tree_stock/saved_models/assets\n"
     ]
    },
    {
     "name": "stderr",
     "output_type": "stream",
     "text": [
      "INFO:tensorflow:Assets written to: /home/jovyan/work/saved_data/south_africa_tree_stock/saved_models/assets\n"
     ]
    },
    {
     "name": "stdout",
     "output_type": "stream",
     "text": [
      "73/73 [==============================] - 1901s 26s/step - loss: -0.1680 - dice_coef: 0.0665 - dice_loss: 0.9335 - specificity: 0.0000e+00 - sensitivity: nan - accuracy: 0.0023 - val_loss: -0.2048 - val_dice_coef: 0.0427 - val_dice_loss: 0.9573 - val_specificity: 0.0000e+00 - val_sensitivity: nan - val_accuracy: 0.0021\n",
      "Epoch 45/100\n",
      "73/73 [==============================] - ETA: 0s - loss: 0.0019 - dice_coef: 0.0574 - dice_loss: 0.9426 - specificity: 0.0000e+00 - sensitivity: nan - accuracy: 0.0029  \n",
      "Epoch 45: val_loss improved from -0.20476 to -0.20476, saving model to /home/jovyan/work/saved_data/south_africa_tree_stock/saved_models/\n"
     ]
    },
    {
     "name": "stderr",
     "output_type": "stream",
     "text": [
      "WARNING:absl:Function `_wrapped_model` contains input name(s) Input with unsupported characters which will be renamed to input in the SavedModel.\n"
     ]
    },
    {
     "name": "stdout",
     "output_type": "stream",
     "text": [
      "INFO:tensorflow:Assets written to: /home/jovyan/work/saved_data/south_africa_tree_stock/saved_models/assets\n"
     ]
    },
    {
     "name": "stderr",
     "output_type": "stream",
     "text": [
      "INFO:tensorflow:Assets written to: /home/jovyan/work/saved_data/south_africa_tree_stock/saved_models/assets\n"
     ]
    },
    {
     "name": "stdout",
     "output_type": "stream",
     "text": [
      "73/73 [==============================] - 1888s 26s/step - loss: 0.0019 - dice_coef: 0.0574 - dice_loss: 0.9426 - specificity: 0.0000e+00 - sensitivity: nan - accuracy: 0.0029 - val_loss: -0.2048 - val_dice_coef: 0.0427 - val_dice_loss: 0.9573 - val_specificity: 0.0000e+00 - val_sensitivity: nan - val_accuracy: 0.0021\n",
      "Epoch 46/100\n",
      "73/73 [==============================] - ETA: 0s - loss: -0.1638 - dice_coef: 0.0645 - dice_loss: 0.9355 - specificity: 0.0000e+00 - sensitivity: nan - accuracy: 0.0017 \n",
      "Epoch 46: val_loss improved from -0.20476 to -0.20476, saving model to /home/jovyan/work/saved_data/south_africa_tree_stock/saved_models/\n"
     ]
    },
    {
     "name": "stderr",
     "output_type": "stream",
     "text": [
      "WARNING:absl:Function `_wrapped_model` contains input name(s) Input with unsupported characters which will be renamed to input in the SavedModel.\n"
     ]
    },
    {
     "name": "stdout",
     "output_type": "stream",
     "text": [
      "INFO:tensorflow:Assets written to: /home/jovyan/work/saved_data/south_africa_tree_stock/saved_models/assets\n"
     ]
    },
    {
     "name": "stderr",
     "output_type": "stream",
     "text": [
      "INFO:tensorflow:Assets written to: /home/jovyan/work/saved_data/south_africa_tree_stock/saved_models/assets\n"
     ]
    },
    {
     "name": "stdout",
     "output_type": "stream",
     "text": [
      "73/73 [==============================] - 1902s 26s/step - loss: -0.1638 - dice_coef: 0.0645 - dice_loss: 0.9355 - specificity: 0.0000e+00 - sensitivity: nan - accuracy: 0.0017 - val_loss: -0.2048 - val_dice_coef: 0.0427 - val_dice_loss: 0.9573 - val_specificity: 0.0000e+00 - val_sensitivity: nan - val_accuracy: 0.0021\n",
      "Epoch 47/100\n",
      "73/73 [==============================] - ETA: 0s - loss: -0.0747 - dice_coef: 0.0622 - dice_loss: 0.9378 - specificity: 0.0000e+00 - sensitivity: nan - accuracy: 0.0030 \n",
      "Epoch 47: val_loss improved from -0.20476 to -0.20477, saving model to /home/jovyan/work/saved_data/south_africa_tree_stock/saved_models/\n"
     ]
    },
    {
     "name": "stderr",
     "output_type": "stream",
     "text": [
      "WARNING:absl:Function `_wrapped_model` contains input name(s) Input with unsupported characters which will be renamed to input in the SavedModel.\n"
     ]
    },
    {
     "name": "stdout",
     "output_type": "stream",
     "text": [
      "INFO:tensorflow:Assets written to: /home/jovyan/work/saved_data/south_africa_tree_stock/saved_models/assets\n"
     ]
    },
    {
     "name": "stderr",
     "output_type": "stream",
     "text": [
      "INFO:tensorflow:Assets written to: /home/jovyan/work/saved_data/south_africa_tree_stock/saved_models/assets\n"
     ]
    },
    {
     "name": "stdout",
     "output_type": "stream",
     "text": [
      "73/73 [==============================] - 1893s 26s/step - loss: -0.0747 - dice_coef: 0.0622 - dice_loss: 0.9378 - specificity: 0.0000e+00 - sensitivity: nan - accuracy: 0.0030 - val_loss: -0.2048 - val_dice_coef: 0.0427 - val_dice_loss: 0.9573 - val_specificity: 0.0000e+00 - val_sensitivity: nan - val_accuracy: 0.0021\n",
      "Epoch 48/100\n",
      "73/73 [==============================] - ETA: 0s - loss: -0.1902 - dice_coef: 0.0615 - dice_loss: 0.9385 - specificity: 0.0000e+00 - sensitivity: nan - accuracy: 0.0020 \n",
      "Epoch 48: val_loss improved from -0.20477 to -0.20477, saving model to /home/jovyan/work/saved_data/south_africa_tree_stock/saved_models/\n"
     ]
    },
    {
     "name": "stderr",
     "output_type": "stream",
     "text": [
      "WARNING:absl:Function `_wrapped_model` contains input name(s) Input with unsupported characters which will be renamed to input in the SavedModel.\n"
     ]
    },
    {
     "name": "stdout",
     "output_type": "stream",
     "text": [
      "INFO:tensorflow:Assets written to: /home/jovyan/work/saved_data/south_africa_tree_stock/saved_models/assets\n"
     ]
    },
    {
     "name": "stderr",
     "output_type": "stream",
     "text": [
      "INFO:tensorflow:Assets written to: /home/jovyan/work/saved_data/south_africa_tree_stock/saved_models/assets\n"
     ]
    },
    {
     "name": "stdout",
     "output_type": "stream",
     "text": [
      "73/73 [==============================] - 1893s 26s/step - loss: -0.1902 - dice_coef: 0.0615 - dice_loss: 0.9385 - specificity: 0.0000e+00 - sensitivity: nan - accuracy: 0.0020 - val_loss: -0.2048 - val_dice_coef: 0.0427 - val_dice_loss: 0.9573 - val_specificity: 0.0000e+00 - val_sensitivity: nan - val_accuracy: 0.0021\n",
      "Epoch 49/100\n",
      "73/73 [==============================] - ETA: 0s - loss: -0.1936 - dice_coef: 0.0617 - dice_loss: 0.9383 - specificity: 0.0000e+00 - sensitivity: nan - accuracy: 0.0023 \n",
      "Epoch 49: val_loss improved from -0.20477 to -0.20477, saving model to /home/jovyan/work/saved_data/south_africa_tree_stock/saved_models/\n"
     ]
    },
    {
     "name": "stderr",
     "output_type": "stream",
     "text": [
      "WARNING:absl:Function `_wrapped_model` contains input name(s) Input with unsupported characters which will be renamed to input in the SavedModel.\n"
     ]
    },
    {
     "name": "stdout",
     "output_type": "stream",
     "text": [
      "INFO:tensorflow:Assets written to: /home/jovyan/work/saved_data/south_africa_tree_stock/saved_models/assets\n"
     ]
    },
    {
     "name": "stderr",
     "output_type": "stream",
     "text": [
      "INFO:tensorflow:Assets written to: /home/jovyan/work/saved_data/south_africa_tree_stock/saved_models/assets\n"
     ]
    },
    {
     "name": "stdout",
     "output_type": "stream",
     "text": [
      "73/73 [==============================] - 1886s 26s/step - loss: -0.1936 - dice_coef: 0.0617 - dice_loss: 0.9383 - specificity: 0.0000e+00 - sensitivity: nan - accuracy: 0.0023 - val_loss: -0.2048 - val_dice_coef: 0.0427 - val_dice_loss: 0.9573 - val_specificity: 0.0000e+00 - val_sensitivity: nan - val_accuracy: 0.0021\n",
      "Epoch 50/100\n",
      "73/73 [==============================] - ETA: 0s - loss: -0.0653 - dice_coef: 0.0591 - dice_loss: 0.9409 - specificity: 0.0000e+00 - sensitivity: nan - accuracy: 0.0026 \n",
      "Epoch 50: val_loss improved from -0.20477 to -0.20477, saving model to /home/jovyan/work/saved_data/south_africa_tree_stock/saved_models/\n"
     ]
    },
    {
     "name": "stderr",
     "output_type": "stream",
     "text": [
      "WARNING:absl:Function `_wrapped_model` contains input name(s) Input with unsupported characters which will be renamed to input in the SavedModel.\n"
     ]
    },
    {
     "name": "stdout",
     "output_type": "stream",
     "text": [
      "INFO:tensorflow:Assets written to: /home/jovyan/work/saved_data/south_africa_tree_stock/saved_models/assets\n"
     ]
    },
    {
     "name": "stderr",
     "output_type": "stream",
     "text": [
      "INFO:tensorflow:Assets written to: /home/jovyan/work/saved_data/south_africa_tree_stock/saved_models/assets\n"
     ]
    },
    {
     "name": "stdout",
     "output_type": "stream",
     "text": [
      "73/73 [==============================] - 1901s 26s/step - loss: -0.0653 - dice_coef: 0.0591 - dice_loss: 0.9409 - specificity: 0.0000e+00 - sensitivity: nan - accuracy: 0.0026 - val_loss: -0.2048 - val_dice_coef: 0.0427 - val_dice_loss: 0.9573 - val_specificity: 0.0000e+00 - val_sensitivity: nan - val_accuracy: 0.0021\n",
      "Epoch 51/100\n",
      "73/73 [==============================] - ETA: 0s - loss: 0.0425 - dice_coef: 0.0616 - dice_loss: 0.9384 - specificity: 0.0000e+00 - sensitivity: nan - accuracy: 0.0024 \n",
      "Epoch 51: val_loss improved from -0.20477 to -0.20477, saving model to /home/jovyan/work/saved_data/south_africa_tree_stock/saved_models/\n"
     ]
    },
    {
     "name": "stderr",
     "output_type": "stream",
     "text": [
      "WARNING:absl:Function `_wrapped_model` contains input name(s) Input with unsupported characters which will be renamed to input in the SavedModel.\n"
     ]
    },
    {
     "name": "stdout",
     "output_type": "stream",
     "text": [
      "INFO:tensorflow:Assets written to: /home/jovyan/work/saved_data/south_africa_tree_stock/saved_models/assets\n"
     ]
    },
    {
     "name": "stderr",
     "output_type": "stream",
     "text": [
      "INFO:tensorflow:Assets written to: /home/jovyan/work/saved_data/south_africa_tree_stock/saved_models/assets\n"
     ]
    },
    {
     "name": "stdout",
     "output_type": "stream",
     "text": [
      "73/73 [==============================] - 1916s 26s/step - loss: 0.0425 - dice_coef: 0.0616 - dice_loss: 0.9384 - specificity: 0.0000e+00 - sensitivity: nan - accuracy: 0.0024 - val_loss: -0.2048 - val_dice_coef: 0.0427 - val_dice_loss: 0.9573 - val_specificity: 0.0000e+00 - val_sensitivity: nan - val_accuracy: 0.0021\n",
      "Epoch 52/100\n",
      "73/73 [==============================] - ETA: 0s - loss: -0.0810 - dice_coef: 0.0668 - dice_loss: 0.9332 - specificity: 0.0000e+00 - sensitivity: nan - accuracy: 0.0022 \n",
      "Epoch 52: val_loss improved from -0.20477 to -0.20477, saving model to /home/jovyan/work/saved_data/south_africa_tree_stock/saved_models/\n"
     ]
    },
    {
     "name": "stderr",
     "output_type": "stream",
     "text": [
      "WARNING:absl:Function `_wrapped_model` contains input name(s) Input with unsupported characters which will be renamed to input in the SavedModel.\n"
     ]
    },
    {
     "name": "stdout",
     "output_type": "stream",
     "text": [
      "INFO:tensorflow:Assets written to: /home/jovyan/work/saved_data/south_africa_tree_stock/saved_models/assets\n"
     ]
    },
    {
     "name": "stderr",
     "output_type": "stream",
     "text": [
      "INFO:tensorflow:Assets written to: /home/jovyan/work/saved_data/south_africa_tree_stock/saved_models/assets\n"
     ]
    },
    {
     "name": "stdout",
     "output_type": "stream",
     "text": [
      "73/73 [==============================] - 1941s 27s/step - loss: -0.0810 - dice_coef: 0.0668 - dice_loss: 0.9332 - specificity: 0.0000e+00 - sensitivity: nan - accuracy: 0.0022 - val_loss: -0.2048 - val_dice_coef: 0.0427 - val_dice_loss: 0.9573 - val_specificity: 0.0000e+00 - val_sensitivity: nan - val_accuracy: 0.0021\n",
      "Epoch 53/100\n",
      "73/73 [==============================] - ETA: 0s - loss: -0.0101 - dice_coef: 0.0565 - dice_loss: 0.9435 - specificity: 0.0000e+00 - sensitivity: nan - accuracy: 0.0021 \n",
      "Epoch 53: val_loss improved from -0.20477 to -0.20477, saving model to /home/jovyan/work/saved_data/south_africa_tree_stock/saved_models/\n"
     ]
    },
    {
     "name": "stderr",
     "output_type": "stream",
     "text": [
      "WARNING:absl:Function `_wrapped_model` contains input name(s) Input with unsupported characters which will be renamed to input in the SavedModel.\n"
     ]
    },
    {
     "name": "stdout",
     "output_type": "stream",
     "text": [
      "INFO:tensorflow:Assets written to: /home/jovyan/work/saved_data/south_africa_tree_stock/saved_models/assets\n"
     ]
    },
    {
     "name": "stderr",
     "output_type": "stream",
     "text": [
      "INFO:tensorflow:Assets written to: /home/jovyan/work/saved_data/south_africa_tree_stock/saved_models/assets\n"
     ]
    },
    {
     "name": "stdout",
     "output_type": "stream",
     "text": [
      "73/73 [==============================] - 1937s 27s/step - loss: -0.0101 - dice_coef: 0.0565 - dice_loss: 0.9435 - specificity: 0.0000e+00 - sensitivity: nan - accuracy: 0.0021 - val_loss: -0.2048 - val_dice_coef: 0.0427 - val_dice_loss: 0.9573 - val_specificity: 0.0000e+00 - val_sensitivity: nan - val_accuracy: 0.0021\n",
      "Epoch 54/100\n",
      "73/73 [==============================] - ETA: 0s - loss: -0.0909 - dice_coef: 0.0574 - dice_loss: 0.9426 - specificity: 0.0000e+00 - sensitivity: nan - accuracy: 0.0022 \n",
      "Epoch 54: val_loss improved from -0.20477 to -0.20478, saving model to /home/jovyan/work/saved_data/south_africa_tree_stock/saved_models/\n"
     ]
    },
    {
     "name": "stderr",
     "output_type": "stream",
     "text": [
      "WARNING:absl:Function `_wrapped_model` contains input name(s) Input with unsupported characters which will be renamed to input in the SavedModel.\n"
     ]
    },
    {
     "name": "stdout",
     "output_type": "stream",
     "text": [
      "INFO:tensorflow:Assets written to: /home/jovyan/work/saved_data/south_africa_tree_stock/saved_models/assets\n"
     ]
    },
    {
     "name": "stderr",
     "output_type": "stream",
     "text": [
      "INFO:tensorflow:Assets written to: /home/jovyan/work/saved_data/south_africa_tree_stock/saved_models/assets\n"
     ]
    },
    {
     "name": "stdout",
     "output_type": "stream",
     "text": [
      "73/73 [==============================] - 1940s 27s/step - loss: -0.0909 - dice_coef: 0.0574 - dice_loss: 0.9426 - specificity: 0.0000e+00 - sensitivity: nan - accuracy: 0.0022 - val_loss: -0.2048 - val_dice_coef: 0.0427 - val_dice_loss: 0.9573 - val_specificity: 0.0000e+00 - val_sensitivity: nan - val_accuracy: 0.0021\n",
      "Epoch 55/100\n",
      "73/73 [==============================] - ETA: 0s - loss: -0.2270 - dice_coef: 0.0720 - dice_loss: 0.9280 - specificity: 0.0000e+00 - sensitivity: nan - accuracy: 0.0027 \n",
      "Epoch 55: val_loss improved from -0.20478 to -0.20478, saving model to /home/jovyan/work/saved_data/south_africa_tree_stock/saved_models/\n"
     ]
    },
    {
     "name": "stderr",
     "output_type": "stream",
     "text": [
      "WARNING:absl:Function `_wrapped_model` contains input name(s) Input with unsupported characters which will be renamed to input in the SavedModel.\n"
     ]
    },
    {
     "name": "stdout",
     "output_type": "stream",
     "text": [
      "INFO:tensorflow:Assets written to: /home/jovyan/work/saved_data/south_africa_tree_stock/saved_models/assets\n"
     ]
    },
    {
     "name": "stderr",
     "output_type": "stream",
     "text": [
      "INFO:tensorflow:Assets written to: /home/jovyan/work/saved_data/south_africa_tree_stock/saved_models/assets\n"
     ]
    },
    {
     "name": "stdout",
     "output_type": "stream",
     "text": [
      "73/73 [==============================] - 1936s 27s/step - loss: -0.2270 - dice_coef: 0.0720 - dice_loss: 0.9280 - specificity: 0.0000e+00 - sensitivity: nan - accuracy: 0.0027 - val_loss: -0.2048 - val_dice_coef: 0.0427 - val_dice_loss: 0.9573 - val_specificity: 0.0000e+00 - val_sensitivity: nan - val_accuracy: 0.0021\n",
      "Epoch 56/100\n",
      "73/73 [==============================] - ETA: 0s - loss: 0.0395 - dice_coef: 0.0571 - dice_loss: 0.9429 - specificity: 0.0000e+00 - sensitivity: nan - accuracy: 0.0024 \n",
      "Epoch 56: val_loss improved from -0.20478 to -0.20478, saving model to /home/jovyan/work/saved_data/south_africa_tree_stock/saved_models/\n"
     ]
    },
    {
     "name": "stderr",
     "output_type": "stream",
     "text": [
      "WARNING:absl:Function `_wrapped_model` contains input name(s) Input with unsupported characters which will be renamed to input in the SavedModel.\n"
     ]
    },
    {
     "name": "stdout",
     "output_type": "stream",
     "text": [
      "INFO:tensorflow:Assets written to: /home/jovyan/work/saved_data/south_africa_tree_stock/saved_models/assets\n"
     ]
    },
    {
     "name": "stderr",
     "output_type": "stream",
     "text": [
      "INFO:tensorflow:Assets written to: /home/jovyan/work/saved_data/south_africa_tree_stock/saved_models/assets\n"
     ]
    },
    {
     "name": "stdout",
     "output_type": "stream",
     "text": [
      "73/73 [==============================] - 1935s 27s/step - loss: 0.0395 - dice_coef: 0.0571 - dice_loss: 0.9429 - specificity: 0.0000e+00 - sensitivity: nan - accuracy: 0.0024 - val_loss: -0.2048 - val_dice_coef: 0.0427 - val_dice_loss: 0.9573 - val_specificity: 0.0000e+00 - val_sensitivity: nan - val_accuracy: 0.0021\n",
      "Epoch 57/100\n",
      "73/73 [==============================] - ETA: 0s - loss: -0.0896 - dice_coef: 0.0588 - dice_loss: 0.9412 - specificity: 0.0000e+00 - sensitivity: nan - accuracy: 0.0019 \n",
      "Epoch 57: val_loss improved from -0.20478 to -0.20478, saving model to /home/jovyan/work/saved_data/south_africa_tree_stock/saved_models/\n"
     ]
    },
    {
     "name": "stderr",
     "output_type": "stream",
     "text": [
      "WARNING:absl:Function `_wrapped_model` contains input name(s) Input with unsupported characters which will be renamed to input in the SavedModel.\n"
     ]
    },
    {
     "name": "stdout",
     "output_type": "stream",
     "text": [
      "INFO:tensorflow:Assets written to: /home/jovyan/work/saved_data/south_africa_tree_stock/saved_models/assets\n"
     ]
    },
    {
     "name": "stderr",
     "output_type": "stream",
     "text": [
      "INFO:tensorflow:Assets written to: /home/jovyan/work/saved_data/south_africa_tree_stock/saved_models/assets\n"
     ]
    },
    {
     "name": "stdout",
     "output_type": "stream",
     "text": [
      "73/73 [==============================] - 1936s 27s/step - loss: -0.0896 - dice_coef: 0.0588 - dice_loss: 0.9412 - specificity: 0.0000e+00 - sensitivity: nan - accuracy: 0.0019 - val_loss: -0.2048 - val_dice_coef: 0.0427 - val_dice_loss: 0.9573 - val_specificity: 0.0000e+00 - val_sensitivity: nan - val_accuracy: 0.0021\n",
      "Epoch 58/100\n",
      "73/73 [==============================] - ETA: 0s - loss: -0.1310 - dice_coef: 0.0666 - dice_loss: 0.9334 - specificity: 0.0000e+00 - sensitivity: nan - accuracy: 0.0031 \n",
      "Epoch 58: val_loss improved from -0.20478 to -0.20478, saving model to /home/jovyan/work/saved_data/south_africa_tree_stock/saved_models/\n"
     ]
    },
    {
     "name": "stderr",
     "output_type": "stream",
     "text": [
      "WARNING:absl:Function `_wrapped_model` contains input name(s) Input with unsupported characters which will be renamed to input in the SavedModel.\n"
     ]
    },
    {
     "name": "stdout",
     "output_type": "stream",
     "text": [
      "INFO:tensorflow:Assets written to: /home/jovyan/work/saved_data/south_africa_tree_stock/saved_models/assets\n"
     ]
    },
    {
     "name": "stderr",
     "output_type": "stream",
     "text": [
      "INFO:tensorflow:Assets written to: /home/jovyan/work/saved_data/south_africa_tree_stock/saved_models/assets\n"
     ]
    },
    {
     "name": "stdout",
     "output_type": "stream",
     "text": [
      "73/73 [==============================] - 1933s 27s/step - loss: -0.1310 - dice_coef: 0.0666 - dice_loss: 0.9334 - specificity: 0.0000e+00 - sensitivity: nan - accuracy: 0.0031 - val_loss: -0.2048 - val_dice_coef: 0.0427 - val_dice_loss: 0.9573 - val_specificity: 0.0000e+00 - val_sensitivity: nan - val_accuracy: 0.0021\n",
      "Epoch 59/100\n",
      "73/73 [==============================] - ETA: 0s - loss: -0.1489 - dice_coef: 0.0610 - dice_loss: 0.9390 - specificity: 0.0000e+00 - sensitivity: nan - accuracy: 0.0019 \n",
      "Epoch 59: val_loss improved from -0.20478 to -0.20478, saving model to /home/jovyan/work/saved_data/south_africa_tree_stock/saved_models/\n"
     ]
    },
    {
     "name": "stderr",
     "output_type": "stream",
     "text": [
      "WARNING:absl:Function `_wrapped_model` contains input name(s) Input with unsupported characters which will be renamed to input in the SavedModel.\n"
     ]
    },
    {
     "name": "stdout",
     "output_type": "stream",
     "text": [
      "INFO:tensorflow:Assets written to: /home/jovyan/work/saved_data/south_africa_tree_stock/saved_models/assets\n"
     ]
    },
    {
     "name": "stderr",
     "output_type": "stream",
     "text": [
      "INFO:tensorflow:Assets written to: /home/jovyan/work/saved_data/south_africa_tree_stock/saved_models/assets\n"
     ]
    },
    {
     "name": "stdout",
     "output_type": "stream",
     "text": [
      "73/73 [==============================] - 1942s 27s/step - loss: -0.1489 - dice_coef: 0.0610 - dice_loss: 0.9390 - specificity: 0.0000e+00 - sensitivity: nan - accuracy: 0.0019 - val_loss: -0.2048 - val_dice_coef: 0.0427 - val_dice_loss: 0.9573 - val_specificity: 0.0000e+00 - val_sensitivity: nan - val_accuracy: 0.0021\n",
      "Epoch 60/100\n",
      "73/73 [==============================] - ETA: 0s - loss: -0.0765 - dice_coef: 0.0641 - dice_loss: 0.9359 - specificity: 0.0000e+00 - sensitivity: nan - accuracy: 0.0024 \n",
      "Epoch 60: val_loss improved from -0.20478 to -0.20478, saving model to /home/jovyan/work/saved_data/south_africa_tree_stock/saved_models/\n"
     ]
    },
    {
     "name": "stderr",
     "output_type": "stream",
     "text": [
      "WARNING:absl:Function `_wrapped_model` contains input name(s) Input with unsupported characters which will be renamed to input in the SavedModel.\n"
     ]
    },
    {
     "name": "stdout",
     "output_type": "stream",
     "text": [
      "INFO:tensorflow:Assets written to: /home/jovyan/work/saved_data/south_africa_tree_stock/saved_models/assets\n"
     ]
    },
    {
     "name": "stderr",
     "output_type": "stream",
     "text": [
      "INFO:tensorflow:Assets written to: /home/jovyan/work/saved_data/south_africa_tree_stock/saved_models/assets\n"
     ]
    },
    {
     "name": "stdout",
     "output_type": "stream",
     "text": [
      "73/73 [==============================] - 1936s 27s/step - loss: -0.0765 - dice_coef: 0.0641 - dice_loss: 0.9359 - specificity: 0.0000e+00 - sensitivity: nan - accuracy: 0.0024 - val_loss: -0.2048 - val_dice_coef: 0.0427 - val_dice_loss: 0.9573 - val_specificity: 0.0000e+00 - val_sensitivity: nan - val_accuracy: 0.0021\n",
      "Epoch 61/100\n",
      "73/73 [==============================] - ETA: 0s - loss: -0.0133 - dice_coef: 0.0644 - dice_loss: 0.9356 - specificity: 0.0000e+00 - sensitivity: nan - accuracy: 0.0026 \n",
      "Epoch 61: val_loss improved from -0.20478 to -0.20478, saving model to /home/jovyan/work/saved_data/south_africa_tree_stock/saved_models/\n"
     ]
    },
    {
     "name": "stderr",
     "output_type": "stream",
     "text": [
      "WARNING:absl:Function `_wrapped_model` contains input name(s) Input with unsupported characters which will be renamed to input in the SavedModel.\n"
     ]
    },
    {
     "name": "stdout",
     "output_type": "stream",
     "text": [
      "INFO:tensorflow:Assets written to: /home/jovyan/work/saved_data/south_africa_tree_stock/saved_models/assets\n"
     ]
    },
    {
     "name": "stderr",
     "output_type": "stream",
     "text": [
      "INFO:tensorflow:Assets written to: /home/jovyan/work/saved_data/south_africa_tree_stock/saved_models/assets\n"
     ]
    },
    {
     "name": "stdout",
     "output_type": "stream",
     "text": [
      "73/73 [==============================] - 1930s 26s/step - loss: -0.0133 - dice_coef: 0.0644 - dice_loss: 0.9356 - specificity: 0.0000e+00 - sensitivity: nan - accuracy: 0.0026 - val_loss: -0.2048 - val_dice_coef: 0.0427 - val_dice_loss: 0.9573 - val_specificity: 0.0000e+00 - val_sensitivity: nan - val_accuracy: 0.0021\n",
      "Epoch 62/100\n",
      "73/73 [==============================] - ETA: 0s - loss: -0.1221 - dice_coef: 0.0674 - dice_loss: 0.9326 - specificity: 0.0000e+00 - sensitivity: nan - accuracy: 0.0021 \n",
      "Epoch 62: val_loss improved from -0.20478 to -0.20479, saving model to /home/jovyan/work/saved_data/south_africa_tree_stock/saved_models/\n"
     ]
    },
    {
     "name": "stderr",
     "output_type": "stream",
     "text": [
      "WARNING:absl:Function `_wrapped_model` contains input name(s) Input with unsupported characters which will be renamed to input in the SavedModel.\n"
     ]
    },
    {
     "name": "stdout",
     "output_type": "stream",
     "text": [
      "INFO:tensorflow:Assets written to: /home/jovyan/work/saved_data/south_africa_tree_stock/saved_models/assets\n"
     ]
    },
    {
     "name": "stderr",
     "output_type": "stream",
     "text": [
      "INFO:tensorflow:Assets written to: /home/jovyan/work/saved_data/south_africa_tree_stock/saved_models/assets\n"
     ]
    },
    {
     "name": "stdout",
     "output_type": "stream",
     "text": [
      "73/73 [==============================] - 1921s 26s/step - loss: -0.1221 - dice_coef: 0.0674 - dice_loss: 0.9326 - specificity: 0.0000e+00 - sensitivity: nan - accuracy: 0.0021 - val_loss: -0.2048 - val_dice_coef: 0.0427 - val_dice_loss: 0.9573 - val_specificity: 0.0000e+00 - val_sensitivity: nan - val_accuracy: 0.0021\n",
      "Epoch 63/100\n",
      "73/73 [==============================] - ETA: 0s - loss: -0.0397 - dice_coef: 0.0493 - dice_loss: 0.9507 - specificity: 0.0000e+00 - sensitivity: nan - accuracy: 0.0021 \n",
      "Epoch 63: val_loss improved from -0.20479 to -0.20479, saving model to /home/jovyan/work/saved_data/south_africa_tree_stock/saved_models/\n"
     ]
    },
    {
     "name": "stderr",
     "output_type": "stream",
     "text": [
      "WARNING:absl:Function `_wrapped_model` contains input name(s) Input with unsupported characters which will be renamed to input in the SavedModel.\n"
     ]
    },
    {
     "name": "stdout",
     "output_type": "stream",
     "text": [
      "INFO:tensorflow:Assets written to: /home/jovyan/work/saved_data/south_africa_tree_stock/saved_models/assets\n"
     ]
    },
    {
     "name": "stderr",
     "output_type": "stream",
     "text": [
      "INFO:tensorflow:Assets written to: /home/jovyan/work/saved_data/south_africa_tree_stock/saved_models/assets\n"
     ]
    },
    {
     "name": "stdout",
     "output_type": "stream",
     "text": [
      "73/73 [==============================] - 1931s 26s/step - loss: -0.0397 - dice_coef: 0.0493 - dice_loss: 0.9507 - specificity: 0.0000e+00 - sensitivity: nan - accuracy: 0.0021 - val_loss: -0.2048 - val_dice_coef: 0.0427 - val_dice_loss: 0.9573 - val_specificity: 0.0000e+00 - val_sensitivity: nan - val_accuracy: 0.0021\n",
      "Epoch 64/100\n",
      "73/73 [==============================] - ETA: 0s - loss: -0.0703 - dice_coef: 0.0659 - dice_loss: 0.9341 - specificity: 0.0000e+00 - sensitivity: nan - accuracy: 0.0023 \n",
      "Epoch 64: val_loss improved from -0.20479 to -0.20479, saving model to /home/jovyan/work/saved_data/south_africa_tree_stock/saved_models/\n"
     ]
    },
    {
     "name": "stderr",
     "output_type": "stream",
     "text": [
      "WARNING:absl:Function `_wrapped_model` contains input name(s) Input with unsupported characters which will be renamed to input in the SavedModel.\n"
     ]
    },
    {
     "name": "stdout",
     "output_type": "stream",
     "text": [
      "INFO:tensorflow:Assets written to: /home/jovyan/work/saved_data/south_africa_tree_stock/saved_models/assets\n"
     ]
    },
    {
     "name": "stderr",
     "output_type": "stream",
     "text": [
      "INFO:tensorflow:Assets written to: /home/jovyan/work/saved_data/south_africa_tree_stock/saved_models/assets\n"
     ]
    },
    {
     "name": "stdout",
     "output_type": "stream",
     "text": [
      "73/73 [==============================] - 1955s 27s/step - loss: -0.0703 - dice_coef: 0.0659 - dice_loss: 0.9341 - specificity: 0.0000e+00 - sensitivity: nan - accuracy: 0.0023 - val_loss: -0.2048 - val_dice_coef: 0.0427 - val_dice_loss: 0.9573 - val_specificity: 0.0000e+00 - val_sensitivity: nan - val_accuracy: 0.0021\n",
      "Epoch 65/100\n",
      "73/73 [==============================] - ETA: 0s - loss: -0.0727 - dice_coef: 0.0624 - dice_loss: 0.9376 - specificity: 0.0000e+00 - sensitivity: nan - accuracy: 0.0025 \n",
      "Epoch 65: val_loss improved from -0.20479 to -0.20479, saving model to /home/jovyan/work/saved_data/south_africa_tree_stock/saved_models/\n"
     ]
    },
    {
     "name": "stderr",
     "output_type": "stream",
     "text": [
      "WARNING:absl:Function `_wrapped_model` contains input name(s) Input with unsupported characters which will be renamed to input in the SavedModel.\n"
     ]
    },
    {
     "name": "stdout",
     "output_type": "stream",
     "text": [
      "INFO:tensorflow:Assets written to: /home/jovyan/work/saved_data/south_africa_tree_stock/saved_models/assets\n"
     ]
    },
    {
     "name": "stderr",
     "output_type": "stream",
     "text": [
      "INFO:tensorflow:Assets written to: /home/jovyan/work/saved_data/south_africa_tree_stock/saved_models/assets\n"
     ]
    },
    {
     "name": "stdout",
     "output_type": "stream",
     "text": [
      "73/73 [==============================] - 1931s 26s/step - loss: -0.0727 - dice_coef: 0.0624 - dice_loss: 0.9376 - specificity: 0.0000e+00 - sensitivity: nan - accuracy: 0.0025 - val_loss: -0.2048 - val_dice_coef: 0.0427 - val_dice_loss: 0.9573 - val_specificity: 0.0000e+00 - val_sensitivity: nan - val_accuracy: 0.0021\n",
      "Epoch 66/100\n",
      "73/73 [==============================] - ETA: 0s - loss: -0.0938 - dice_coef: 0.0618 - dice_loss: 0.9382 - specificity: 0.0000e+00 - sensitivity: nan - accuracy: 0.0026 \n",
      "Epoch 66: val_loss improved from -0.20479 to -0.20479, saving model to /home/jovyan/work/saved_data/south_africa_tree_stock/saved_models/\n"
     ]
    },
    {
     "name": "stderr",
     "output_type": "stream",
     "text": [
      "WARNING:absl:Function `_wrapped_model` contains input name(s) Input with unsupported characters which will be renamed to input in the SavedModel.\n"
     ]
    },
    {
     "name": "stdout",
     "output_type": "stream",
     "text": [
      "INFO:tensorflow:Assets written to: /home/jovyan/work/saved_data/south_africa_tree_stock/saved_models/assets\n"
     ]
    },
    {
     "name": "stderr",
     "output_type": "stream",
     "text": [
      "INFO:tensorflow:Assets written to: /home/jovyan/work/saved_data/south_africa_tree_stock/saved_models/assets\n"
     ]
    },
    {
     "name": "stdout",
     "output_type": "stream",
     "text": [
      "73/73 [==============================] - 1921s 26s/step - loss: -0.0938 - dice_coef: 0.0618 - dice_loss: 0.9382 - specificity: 0.0000e+00 - sensitivity: nan - accuracy: 0.0026 - val_loss: -0.2048 - val_dice_coef: 0.0427 - val_dice_loss: 0.9573 - val_specificity: 0.0000e+00 - val_sensitivity: nan - val_accuracy: 0.0021\n",
      "Epoch 67/100\n",
      "73/73 [==============================] - ETA: 0s - loss: -0.0947 - dice_coef: 0.0574 - dice_loss: 0.9426 - specificity: 0.0000e+00 - sensitivity: nan - accuracy: 0.0020 \n",
      "Epoch 67: val_loss improved from -0.20479 to -0.20479, saving model to /home/jovyan/work/saved_data/south_africa_tree_stock/saved_models/\n"
     ]
    },
    {
     "name": "stderr",
     "output_type": "stream",
     "text": [
      "WARNING:absl:Function `_wrapped_model` contains input name(s) Input with unsupported characters which will be renamed to input in the SavedModel.\n"
     ]
    },
    {
     "name": "stdout",
     "output_type": "stream",
     "text": [
      "INFO:tensorflow:Assets written to: /home/jovyan/work/saved_data/south_africa_tree_stock/saved_models/assets\n"
     ]
    },
    {
     "name": "stderr",
     "output_type": "stream",
     "text": [
      "INFO:tensorflow:Assets written to: /home/jovyan/work/saved_data/south_africa_tree_stock/saved_models/assets\n"
     ]
    },
    {
     "name": "stdout",
     "output_type": "stream",
     "text": [
      "73/73 [==============================] - 1923s 26s/step - loss: -0.0947 - dice_coef: 0.0574 - dice_loss: 0.9426 - specificity: 0.0000e+00 - sensitivity: nan - accuracy: 0.0020 - val_loss: -0.2048 - val_dice_coef: 0.0427 - val_dice_loss: 0.9573 - val_specificity: 0.0000e+00 - val_sensitivity: nan - val_accuracy: 0.0021\n",
      "Epoch 68/100\n",
      "73/73 [==============================] - ETA: 0s - loss: -0.1536 - dice_coef: 0.0673 - dice_loss: 0.9327 - specificity: 0.0000e+00 - sensitivity: nan - accuracy: 0.0024 \n",
      "Epoch 68: val_loss improved from -0.20479 to -0.20479, saving model to /home/jovyan/work/saved_data/south_africa_tree_stock/saved_models/\n"
     ]
    },
    {
     "name": "stderr",
     "output_type": "stream",
     "text": [
      "WARNING:absl:Function `_wrapped_model` contains input name(s) Input with unsupported characters which will be renamed to input in the SavedModel.\n"
     ]
    },
    {
     "name": "stdout",
     "output_type": "stream",
     "text": [
      "INFO:tensorflow:Assets written to: /home/jovyan/work/saved_data/south_africa_tree_stock/saved_models/assets\n"
     ]
    },
    {
     "name": "stderr",
     "output_type": "stream",
     "text": [
      "INFO:tensorflow:Assets written to: /home/jovyan/work/saved_data/south_africa_tree_stock/saved_models/assets\n"
     ]
    },
    {
     "name": "stdout",
     "output_type": "stream",
     "text": [
      "73/73 [==============================] - 1925s 26s/step - loss: -0.1536 - dice_coef: 0.0673 - dice_loss: 0.9327 - specificity: 0.0000e+00 - sensitivity: nan - accuracy: 0.0024 - val_loss: -0.2048 - val_dice_coef: 0.0427 - val_dice_loss: 0.9573 - val_specificity: 0.0000e+00 - val_sensitivity: nan - val_accuracy: 0.0021\n",
      "Epoch 69/100\n",
      "73/73 [==============================] - ETA: 0s - loss: -0.0526 - dice_coef: 0.0582 - dice_loss: 0.9418 - specificity: 0.0000e+00 - sensitivity: nan - accuracy: 0.0026 \n",
      "Epoch 69: val_loss improved from -0.20479 to -0.20479, saving model to /home/jovyan/work/saved_data/south_africa_tree_stock/saved_models/\n"
     ]
    },
    {
     "name": "stderr",
     "output_type": "stream",
     "text": [
      "WARNING:absl:Function `_wrapped_model` contains input name(s) Input with unsupported characters which will be renamed to input in the SavedModel.\n"
     ]
    },
    {
     "name": "stdout",
     "output_type": "stream",
     "text": [
      "INFO:tensorflow:Assets written to: /home/jovyan/work/saved_data/south_africa_tree_stock/saved_models/assets\n"
     ]
    },
    {
     "name": "stderr",
     "output_type": "stream",
     "text": [
      "INFO:tensorflow:Assets written to: /home/jovyan/work/saved_data/south_africa_tree_stock/saved_models/assets\n"
     ]
    },
    {
     "name": "stdout",
     "output_type": "stream",
     "text": [
      "73/73 [==============================] - 1948s 27s/step - loss: -0.0526 - dice_coef: 0.0582 - dice_loss: 0.9418 - specificity: 0.0000e+00 - sensitivity: nan - accuracy: 0.0026 - val_loss: -0.2048 - val_dice_coef: 0.0427 - val_dice_loss: 0.9573 - val_specificity: 0.0000e+00 - val_sensitivity: nan - val_accuracy: 0.0021\n",
      "Epoch 70/100\n",
      "73/73 [==============================] - ETA: 0s - loss: -0.1125 - dice_coef: 0.0650 - dice_loss: 0.9350 - specificity: 0.0000e+00 - sensitivity: nan - accuracy: 0.0022 \n",
      "Epoch 70: val_loss improved from -0.20479 to -0.20479, saving model to /home/jovyan/work/saved_data/south_africa_tree_stock/saved_models/\n"
     ]
    },
    {
     "name": "stderr",
     "output_type": "stream",
     "text": [
      "WARNING:absl:Function `_wrapped_model` contains input name(s) Input with unsupported characters which will be renamed to input in the SavedModel.\n"
     ]
    },
    {
     "name": "stdout",
     "output_type": "stream",
     "text": [
      "INFO:tensorflow:Assets written to: /home/jovyan/work/saved_data/south_africa_tree_stock/saved_models/assets\n"
     ]
    },
    {
     "name": "stderr",
     "output_type": "stream",
     "text": [
      "INFO:tensorflow:Assets written to: /home/jovyan/work/saved_data/south_africa_tree_stock/saved_models/assets\n"
     ]
    },
    {
     "name": "stdout",
     "output_type": "stream",
     "text": [
      "73/73 [==============================] - 1930s 26s/step - loss: -0.1125 - dice_coef: 0.0650 - dice_loss: 0.9350 - specificity: 0.0000e+00 - sensitivity: nan - accuracy: 0.0022 - val_loss: -0.2048 - val_dice_coef: 0.0427 - val_dice_loss: 0.9573 - val_specificity: 0.0000e+00 - val_sensitivity: nan - val_accuracy: 0.0021\n",
      "Epoch 71/100\n",
      "73/73 [==============================] - ETA: 0s - loss: -0.1697 - dice_coef: 0.0605 - dice_loss: 0.9395 - specificity: 0.0000e+00 - sensitivity: nan - accuracy: 0.0022 \n",
      "Epoch 71: val_loss improved from -0.20479 to -0.20479, saving model to /home/jovyan/work/saved_data/south_africa_tree_stock/saved_models/\n"
     ]
    },
    {
     "name": "stderr",
     "output_type": "stream",
     "text": [
      "WARNING:absl:Function `_wrapped_model` contains input name(s) Input with unsupported characters which will be renamed to input in the SavedModel.\n"
     ]
    },
    {
     "name": "stdout",
     "output_type": "stream",
     "text": [
      "INFO:tensorflow:Assets written to: /home/jovyan/work/saved_data/south_africa_tree_stock/saved_models/assets\n"
     ]
    },
    {
     "name": "stderr",
     "output_type": "stream",
     "text": [
      "INFO:tensorflow:Assets written to: /home/jovyan/work/saved_data/south_africa_tree_stock/saved_models/assets\n"
     ]
    },
    {
     "name": "stdout",
     "output_type": "stream",
     "text": [
      "73/73 [==============================] - 1941s 27s/step - loss: -0.1697 - dice_coef: 0.0605 - dice_loss: 0.9395 - specificity: 0.0000e+00 - sensitivity: nan - accuracy: 0.0022 - val_loss: -0.2048 - val_dice_coef: 0.0427 - val_dice_loss: 0.9573 - val_specificity: 0.0000e+00 - val_sensitivity: nan - val_accuracy: 0.0021\n",
      "Epoch 72/100\n",
      "73/73 [==============================] - ETA: 0s - loss: -0.0561 - dice_coef: 0.0635 - dice_loss: 0.9365 - specificity: 0.0000e+00 - sensitivity: nan - accuracy: 0.0023 \n",
      "Epoch 72: val_loss improved from -0.20479 to -0.20480, saving model to /home/jovyan/work/saved_data/south_africa_tree_stock/saved_models/\n"
     ]
    },
    {
     "name": "stderr",
     "output_type": "stream",
     "text": [
      "WARNING:absl:Function `_wrapped_model` contains input name(s) Input with unsupported characters which will be renamed to input in the SavedModel.\n"
     ]
    },
    {
     "name": "stdout",
     "output_type": "stream",
     "text": [
      "INFO:tensorflow:Assets written to: /home/jovyan/work/saved_data/south_africa_tree_stock/saved_models/assets\n"
     ]
    },
    {
     "name": "stderr",
     "output_type": "stream",
     "text": [
      "INFO:tensorflow:Assets written to: /home/jovyan/work/saved_data/south_africa_tree_stock/saved_models/assets\n"
     ]
    },
    {
     "name": "stdout",
     "output_type": "stream",
     "text": [
      "73/73 [==============================] - 1932s 26s/step - loss: -0.0561 - dice_coef: 0.0635 - dice_loss: 0.9365 - specificity: 0.0000e+00 - sensitivity: nan - accuracy: 0.0023 - val_loss: -0.2048 - val_dice_coef: 0.0427 - val_dice_loss: 0.9573 - val_specificity: 0.0000e+00 - val_sensitivity: nan - val_accuracy: 0.0021\n",
      "Epoch 73/100\n",
      "73/73 [==============================] - ETA: 0s - loss: -0.0328 - dice_coef: 0.0599 - dice_loss: 0.9401 - specificity: 0.0000e+00 - sensitivity: nan - accuracy: 0.0025 \n",
      "Epoch 73: val_loss improved from -0.20480 to -0.20480, saving model to /home/jovyan/work/saved_data/south_africa_tree_stock/saved_models/\n"
     ]
    },
    {
     "name": "stderr",
     "output_type": "stream",
     "text": [
      "WARNING:absl:Function `_wrapped_model` contains input name(s) Input with unsupported characters which will be renamed to input in the SavedModel.\n"
     ]
    },
    {
     "name": "stdout",
     "output_type": "stream",
     "text": [
      "INFO:tensorflow:Assets written to: /home/jovyan/work/saved_data/south_africa_tree_stock/saved_models/assets\n"
     ]
    },
    {
     "name": "stderr",
     "output_type": "stream",
     "text": [
      "INFO:tensorflow:Assets written to: /home/jovyan/work/saved_data/south_africa_tree_stock/saved_models/assets\n"
     ]
    },
    {
     "name": "stdout",
     "output_type": "stream",
     "text": [
      "73/73 [==============================] - 1937s 27s/step - loss: -0.0328 - dice_coef: 0.0599 - dice_loss: 0.9401 - specificity: 0.0000e+00 - sensitivity: nan - accuracy: 0.0025 - val_loss: -0.2048 - val_dice_coef: 0.0427 - val_dice_loss: 0.9573 - val_specificity: 0.0000e+00 - val_sensitivity: nan - val_accuracy: 0.0021\n",
      "Epoch 74/100\n",
      "73/73 [==============================] - ETA: 0s - loss: -0.0468 - dice_coef: 0.0625 - dice_loss: 0.9375 - specificity: 0.0000e+00 - sensitivity: nan - accuracy: 0.0023 \n",
      "Epoch 74: val_loss improved from -0.20480 to -0.20480, saving model to /home/jovyan/work/saved_data/south_africa_tree_stock/saved_models/\n"
     ]
    },
    {
     "name": "stderr",
     "output_type": "stream",
     "text": [
      "WARNING:absl:Function `_wrapped_model` contains input name(s) Input with unsupported characters which will be renamed to input in the SavedModel.\n"
     ]
    },
    {
     "name": "stdout",
     "output_type": "stream",
     "text": [
      "INFO:tensorflow:Assets written to: /home/jovyan/work/saved_data/south_africa_tree_stock/saved_models/assets\n"
     ]
    },
    {
     "name": "stderr",
     "output_type": "stream",
     "text": [
      "INFO:tensorflow:Assets written to: /home/jovyan/work/saved_data/south_africa_tree_stock/saved_models/assets\n"
     ]
    },
    {
     "name": "stdout",
     "output_type": "stream",
     "text": [
      "73/73 [==============================] - 1934s 27s/step - loss: -0.0468 - dice_coef: 0.0625 - dice_loss: 0.9375 - specificity: 0.0000e+00 - sensitivity: nan - accuracy: 0.0023 - val_loss: -0.2048 - val_dice_coef: 0.0427 - val_dice_loss: 0.9573 - val_specificity: 0.0000e+00 - val_sensitivity: nan - val_accuracy: 0.0021\n",
      "Epoch 75/100\n",
      "73/73 [==============================] - ETA: 0s - loss: -0.0050 - dice_coef: 0.0614 - dice_loss: 0.9386 - specificity: 0.0000e+00 - sensitivity: nan - accuracy: 0.0024    \n",
      "Epoch 75: val_loss improved from -0.20480 to -0.20480, saving model to /home/jovyan/work/saved_data/south_africa_tree_stock/saved_models/\n"
     ]
    },
    {
     "name": "stderr",
     "output_type": "stream",
     "text": [
      "WARNING:absl:Function `_wrapped_model` contains input name(s) Input with unsupported characters which will be renamed to input in the SavedModel.\n"
     ]
    },
    {
     "name": "stdout",
     "output_type": "stream",
     "text": [
      "INFO:tensorflow:Assets written to: /home/jovyan/work/saved_data/south_africa_tree_stock/saved_models/assets\n"
     ]
    },
    {
     "name": "stderr",
     "output_type": "stream",
     "text": [
      "INFO:tensorflow:Assets written to: /home/jovyan/work/saved_data/south_africa_tree_stock/saved_models/assets\n"
     ]
    },
    {
     "name": "stdout",
     "output_type": "stream",
     "text": [
      "73/73 [==============================] - 1942s 27s/step - loss: -0.0050 - dice_coef: 0.0614 - dice_loss: 0.9386 - specificity: 0.0000e+00 - sensitivity: nan - accuracy: 0.0024 - val_loss: -0.2048 - val_dice_coef: 0.0427 - val_dice_loss: 0.9573 - val_specificity: 0.0000e+00 - val_sensitivity: nan - val_accuracy: 0.0021\n",
      "Epoch 76/100\n",
      "73/73 [==============================] - ETA: 0s - loss: -0.1085 - dice_coef: 0.0617 - dice_loss: 0.9383 - specificity: 0.0000e+00 - sensitivity: nan - accuracy: 0.0024 \n",
      "Epoch 76: val_loss improved from -0.20480 to -0.20480, saving model to /home/jovyan/work/saved_data/south_africa_tree_stock/saved_models/\n"
     ]
    },
    {
     "name": "stderr",
     "output_type": "stream",
     "text": [
      "WARNING:absl:Function `_wrapped_model` contains input name(s) Input with unsupported characters which will be renamed to input in the SavedModel.\n"
     ]
    },
    {
     "name": "stdout",
     "output_type": "stream",
     "text": [
      "INFO:tensorflow:Assets written to: /home/jovyan/work/saved_data/south_africa_tree_stock/saved_models/assets\n"
     ]
    },
    {
     "name": "stderr",
     "output_type": "stream",
     "text": [
      "INFO:tensorflow:Assets written to: /home/jovyan/work/saved_data/south_africa_tree_stock/saved_models/assets\n"
     ]
    },
    {
     "name": "stdout",
     "output_type": "stream",
     "text": [
      "73/73 [==============================] - 1929s 27s/step - loss: -0.1085 - dice_coef: 0.0617 - dice_loss: 0.9383 - specificity: 0.0000e+00 - sensitivity: nan - accuracy: 0.0024 - val_loss: -0.2048 - val_dice_coef: 0.0427 - val_dice_loss: 0.9573 - val_specificity: 0.0000e+00 - val_sensitivity: nan - val_accuracy: 0.0021\n",
      "Epoch 77/100\n",
      "73/73 [==============================] - ETA: 0s - loss: -0.1525 - dice_coef: 0.0636 - dice_loss: 0.9364 - specificity: 0.0000e+00 - sensitivity: nan - accuracy: 0.0024 \n",
      "Epoch 77: val_loss improved from -0.20480 to -0.20480, saving model to /home/jovyan/work/saved_data/south_africa_tree_stock/saved_models/\n"
     ]
    },
    {
     "name": "stderr",
     "output_type": "stream",
     "text": [
      "WARNING:absl:Function `_wrapped_model` contains input name(s) Input with unsupported characters which will be renamed to input in the SavedModel.\n"
     ]
    },
    {
     "name": "stdout",
     "output_type": "stream",
     "text": [
      "INFO:tensorflow:Assets written to: /home/jovyan/work/saved_data/south_africa_tree_stock/saved_models/assets\n"
     ]
    },
    {
     "name": "stderr",
     "output_type": "stream",
     "text": [
      "INFO:tensorflow:Assets written to: /home/jovyan/work/saved_data/south_africa_tree_stock/saved_models/assets\n"
     ]
    },
    {
     "name": "stdout",
     "output_type": "stream",
     "text": [
      "73/73 [==============================] - 1937s 27s/step - loss: -0.1525 - dice_coef: 0.0636 - dice_loss: 0.9364 - specificity: 0.0000e+00 - sensitivity: nan - accuracy: 0.0024 - val_loss: -0.2048 - val_dice_coef: 0.0427 - val_dice_loss: 0.9573 - val_specificity: 0.0000e+00 - val_sensitivity: nan - val_accuracy: 0.0021\n",
      "Epoch 78/100\n",
      "72/73 [============================>.] - ETA: 25s - loss: -0.0023 - dice_coef: 0.0617 - dice_loss: 0.9383 - specificity: 0.0000e+00 - sensitivity: nan - accuracy: 0.0021 INFO:tensorflow:Assets written to: /home/jovyan/work/saved_data/south_africa_tree_stock/saved_models/assets\n"
     ]
    },
    {
     "name": "stderr",
     "output_type": "stream",
     "text": [
      "INFO:tensorflow:Assets written to: /home/jovyan/work/saved_data/south_africa_tree_stock/saved_models/assets\n"
     ]
    },
    {
     "name": "stdout",
     "output_type": "stream",
     "text": [
      "73/73 [==============================] - 1933s 26s/step - loss: -0.0064 - dice_coef: 0.0615 - dice_loss: 0.9385 - specificity: 0.0000e+00 - sensitivity: nan - accuracy: 0.0021 - val_loss: -0.2048 - val_dice_coef: 0.0427 - val_dice_loss: 0.9573 - val_specificity: 0.0000e+00 - val_sensitivity: nan - val_accuracy: 0.0021\n",
      "Epoch 79/100\n",
      "73/73 [==============================] - ETA: 0s - loss: -0.0245 - dice_coef: 0.0594 - dice_loss: 0.9406 - specificity: 0.0000e+00 - sensitivity: nan - accuracy: 0.0024 \n",
      "Epoch 79: val_loss improved from -0.20480 to -0.20480, saving model to /home/jovyan/work/saved_data/south_africa_tree_stock/saved_models/\n"
     ]
    },
    {
     "name": "stderr",
     "output_type": "stream",
     "text": [
      "WARNING:absl:Function `_wrapped_model` contains input name(s) Input with unsupported characters which will be renamed to input in the SavedModel.\n"
     ]
    },
    {
     "name": "stdout",
     "output_type": "stream",
     "text": [
      "INFO:tensorflow:Assets written to: /home/jovyan/work/saved_data/south_africa_tree_stock/saved_models/assets\n"
     ]
    },
    {
     "name": "stderr",
     "output_type": "stream",
     "text": [
      "INFO:tensorflow:Assets written to: /home/jovyan/work/saved_data/south_africa_tree_stock/saved_models/assets\n"
     ]
    },
    {
     "name": "stdout",
     "output_type": "stream",
     "text": [
      "73/73 [==============================] - 1946s 27s/step - loss: -0.0245 - dice_coef: 0.0594 - dice_loss: 0.9406 - specificity: 0.0000e+00 - sensitivity: nan - accuracy: 0.0024 - val_loss: -0.2048 - val_dice_coef: 0.0427 - val_dice_loss: 0.9573 - val_specificity: 0.0000e+00 - val_sensitivity: nan - val_accuracy: 0.0021\n",
      "Epoch 80/100\n",
      "73/73 [==============================] - ETA: 0s - loss: -0.2160 - dice_coef: 0.0609 - dice_loss: 0.9391 - specificity: 0.0000e+00 - sensitivity: nan - accuracy: 0.0023 \n",
      "Epoch 80: val_loss improved from -0.20480 to -0.20480, saving model to /home/jovyan/work/saved_data/south_africa_tree_stock/saved_models/\n"
     ]
    },
    {
     "name": "stderr",
     "output_type": "stream",
     "text": [
      "WARNING:absl:Function `_wrapped_model` contains input name(s) Input with unsupported characters which will be renamed to input in the SavedModel.\n"
     ]
    },
    {
     "name": "stdout",
     "output_type": "stream",
     "text": [
      "INFO:tensorflow:Assets written to: /home/jovyan/work/saved_data/south_africa_tree_stock/saved_models/assets\n"
     ]
    },
    {
     "name": "stderr",
     "output_type": "stream",
     "text": [
      "INFO:tensorflow:Assets written to: /home/jovyan/work/saved_data/south_africa_tree_stock/saved_models/assets\n"
     ]
    },
    {
     "name": "stdout",
     "output_type": "stream",
     "text": [
      "73/73 [==============================] - 1934s 27s/step - loss: -0.2160 - dice_coef: 0.0609 - dice_loss: 0.9391 - specificity: 0.0000e+00 - sensitivity: nan - accuracy: 0.0023 - val_loss: -0.2048 - val_dice_coef: 0.0427 - val_dice_loss: 0.9573 - val_specificity: 0.0000e+00 - val_sensitivity: nan - val_accuracy: 0.0021\n",
      "Epoch 81/100\n",
      "73/73 [==============================] - ETA: 0s - loss: -0.0739 - dice_coef: 0.0618 - dice_loss: 0.9382 - specificity: 0.0000e+00 - sensitivity: nan - accuracy: 0.0022 \n",
      "Epoch 81: val_loss improved from -0.20480 to -0.20480, saving model to /home/jovyan/work/saved_data/south_africa_tree_stock/saved_models/\n"
     ]
    },
    {
     "name": "stderr",
     "output_type": "stream",
     "text": [
      "WARNING:absl:Function `_wrapped_model` contains input name(s) Input with unsupported characters which will be renamed to input in the SavedModel.\n"
     ]
    },
    {
     "name": "stdout",
     "output_type": "stream",
     "text": [
      "INFO:tensorflow:Assets written to: /home/jovyan/work/saved_data/south_africa_tree_stock/saved_models/assets\n"
     ]
    },
    {
     "name": "stderr",
     "output_type": "stream",
     "text": [
      "INFO:tensorflow:Assets written to: /home/jovyan/work/saved_data/south_africa_tree_stock/saved_models/assets\n"
     ]
    },
    {
     "name": "stdout",
     "output_type": "stream",
     "text": [
      "73/73 [==============================] - 1913s 26s/step - loss: -0.0739 - dice_coef: 0.0618 - dice_loss: 0.9382 - specificity: 0.0000e+00 - sensitivity: nan - accuracy: 0.0022 - val_loss: -0.2048 - val_dice_coef: 0.0427 - val_dice_loss: 0.9573 - val_specificity: 0.0000e+00 - val_sensitivity: nan - val_accuracy: 0.0021\n",
      "Epoch 82/100\n",
      "73/73 [==============================] - ETA: 0s - loss: -0.2211 - dice_coef: 0.0673 - dice_loss: 0.9327 - specificity: 0.0000e+00 - sensitivity: nan - accuracy: 0.0028 \n",
      "Epoch 82: val_loss improved from -0.20480 to -0.20480, saving model to /home/jovyan/work/saved_data/south_africa_tree_stock/saved_models/\n"
     ]
    },
    {
     "name": "stderr",
     "output_type": "stream",
     "text": [
      "WARNING:absl:Function `_wrapped_model` contains input name(s) Input with unsupported characters which will be renamed to input in the SavedModel.\n"
     ]
    },
    {
     "name": "stdout",
     "output_type": "stream",
     "text": [
      "INFO:tensorflow:Assets written to: /home/jovyan/work/saved_data/south_africa_tree_stock/saved_models/assets\n"
     ]
    },
    {
     "name": "stderr",
     "output_type": "stream",
     "text": [
      "INFO:tensorflow:Assets written to: /home/jovyan/work/saved_data/south_africa_tree_stock/saved_models/assets\n"
     ]
    },
    {
     "name": "stdout",
     "output_type": "stream",
     "text": [
      "73/73 [==============================] - 1886s 26s/step - loss: -0.2211 - dice_coef: 0.0673 - dice_loss: 0.9327 - specificity: 0.0000e+00 - sensitivity: nan - accuracy: 0.0028 - val_loss: -0.2048 - val_dice_coef: 0.0427 - val_dice_loss: 0.9573 - val_specificity: 0.0000e+00 - val_sensitivity: nan - val_accuracy: 0.0021\n",
      "Epoch 83/100\n",
      "73/73 [==============================] - ETA: 0s - loss: -0.1211 - dice_coef: 0.0601 - dice_loss: 0.9399 - specificity: 0.0000e+00 - sensitivity: nan - accuracy: 0.0021 \n",
      "Epoch 83: val_loss improved from -0.20480 to -0.20480, saving model to /home/jovyan/work/saved_data/south_africa_tree_stock/saved_models/\n"
     ]
    },
    {
     "name": "stderr",
     "output_type": "stream",
     "text": [
      "WARNING:absl:Function `_wrapped_model` contains input name(s) Input with unsupported characters which will be renamed to input in the SavedModel.\n"
     ]
    },
    {
     "name": "stdout",
     "output_type": "stream",
     "text": [
      "INFO:tensorflow:Assets written to: /home/jovyan/work/saved_data/south_africa_tree_stock/saved_models/assets\n"
     ]
    },
    {
     "name": "stderr",
     "output_type": "stream",
     "text": [
      "INFO:tensorflow:Assets written to: /home/jovyan/work/saved_data/south_africa_tree_stock/saved_models/assets\n"
     ]
    },
    {
     "name": "stdout",
     "output_type": "stream",
     "text": [
      "73/73 [==============================] - 1906s 26s/step - loss: -0.1211 - dice_coef: 0.0601 - dice_loss: 0.9399 - specificity: 0.0000e+00 - sensitivity: nan - accuracy: 0.0021 - val_loss: -0.2048 - val_dice_coef: 0.0427 - val_dice_loss: 0.9573 - val_specificity: 0.0000e+00 - val_sensitivity: nan - val_accuracy: 0.0021\n",
      "Epoch 84/100\n",
      "73/73 [==============================] - ETA: 0s - loss: -0.1135 - dice_coef: 0.0620 - dice_loss: 0.9380 - specificity: 0.0000e+00 - sensitivity: nan - accuracy: 0.0025 \n",
      "Epoch 84: val_loss improved from -0.20480 to -0.20480, saving model to /home/jovyan/work/saved_data/south_africa_tree_stock/saved_models/\n"
     ]
    },
    {
     "name": "stderr",
     "output_type": "stream",
     "text": [
      "WARNING:absl:Function `_wrapped_model` contains input name(s) Input with unsupported characters which will be renamed to input in the SavedModel.\n"
     ]
    },
    {
     "name": "stdout",
     "output_type": "stream",
     "text": [
      "INFO:tensorflow:Assets written to: /home/jovyan/work/saved_data/south_africa_tree_stock/saved_models/assets\n"
     ]
    },
    {
     "name": "stderr",
     "output_type": "stream",
     "text": [
      "INFO:tensorflow:Assets written to: /home/jovyan/work/saved_data/south_africa_tree_stock/saved_models/assets\n"
     ]
    },
    {
     "name": "stdout",
     "output_type": "stream",
     "text": [
      "73/73 [==============================] - 1880s 26s/step - loss: -0.1135 - dice_coef: 0.0620 - dice_loss: 0.9380 - specificity: 0.0000e+00 - sensitivity: nan - accuracy: 0.0025 - val_loss: -0.2048 - val_dice_coef: 0.0427 - val_dice_loss: 0.9573 - val_specificity: 0.0000e+00 - val_sensitivity: nan - val_accuracy: 0.0021\n",
      "Epoch 85/100\n",
      "73/73 [==============================] - ETA: 0s - loss: -0.1225 - dice_coef: 0.0617 - dice_loss: 0.9383 - specificity: 0.0000e+00 - sensitivity: nan - accuracy: 0.0022 \n",
      "Epoch 85: val_loss improved from -0.20480 to -0.20480, saving model to /home/jovyan/work/saved_data/south_africa_tree_stock/saved_models/\n"
     ]
    },
    {
     "name": "stderr",
     "output_type": "stream",
     "text": [
      "WARNING:absl:Function `_wrapped_model` contains input name(s) Input with unsupported characters which will be renamed to input in the SavedModel.\n"
     ]
    },
    {
     "name": "stdout",
     "output_type": "stream",
     "text": [
      "INFO:tensorflow:Assets written to: /home/jovyan/work/saved_data/south_africa_tree_stock/saved_models/assets\n"
     ]
    },
    {
     "name": "stderr",
     "output_type": "stream",
     "text": [
      "INFO:tensorflow:Assets written to: /home/jovyan/work/saved_data/south_africa_tree_stock/saved_models/assets\n"
     ]
    },
    {
     "name": "stdout",
     "output_type": "stream",
     "text": [
      "73/73 [==============================] - 1894s 26s/step - loss: -0.1225 - dice_coef: 0.0617 - dice_loss: 0.9383 - specificity: 0.0000e+00 - sensitivity: nan - accuracy: 0.0022 - val_loss: -0.2048 - val_dice_coef: 0.0427 - val_dice_loss: 0.9573 - val_specificity: 0.0000e+00 - val_sensitivity: nan - val_accuracy: 0.0021\n",
      "Epoch 86/100\n",
      "73/73 [==============================] - ETA: 0s - loss: -0.2222 - dice_coef: 0.0631 - dice_loss: 0.9369 - specificity: 0.0000e+00 - sensitivity: nan - accuracy: 0.0025 \n",
      "Epoch 86: val_loss improved from -0.20480 to -0.20480, saving model to /home/jovyan/work/saved_data/south_africa_tree_stock/saved_models/\n"
     ]
    },
    {
     "name": "stderr",
     "output_type": "stream",
     "text": [
      "WARNING:absl:Function `_wrapped_model` contains input name(s) Input with unsupported characters which will be renamed to input in the SavedModel.\n"
     ]
    },
    {
     "name": "stdout",
     "output_type": "stream",
     "text": [
      "INFO:tensorflow:Assets written to: /home/jovyan/work/saved_data/south_africa_tree_stock/saved_models/assets\n"
     ]
    },
    {
     "name": "stderr",
     "output_type": "stream",
     "text": [
      "INFO:tensorflow:Assets written to: /home/jovyan/work/saved_data/south_africa_tree_stock/saved_models/assets\n"
     ]
    },
    {
     "name": "stdout",
     "output_type": "stream",
     "text": [
      "73/73 [==============================] - 1882s 26s/step - loss: -0.2222 - dice_coef: 0.0631 - dice_loss: 0.9369 - specificity: 0.0000e+00 - sensitivity: nan - accuracy: 0.0025 - val_loss: -0.2048 - val_dice_coef: 0.0427 - val_dice_loss: 0.9573 - val_specificity: 0.0000e+00 - val_sensitivity: nan - val_accuracy: 0.0021\n",
      "Epoch 87/100\n",
      "73/73 [==============================] - ETA: 0s - loss: -0.0395 - dice_coef: 0.0622 - dice_loss: 0.9378 - specificity: 0.0000e+00 - sensitivity: nan - accuracy: 0.0022 \n",
      "Epoch 87: val_loss improved from -0.20480 to -0.20481, saving model to /home/jovyan/work/saved_data/south_africa_tree_stock/saved_models/\n"
     ]
    },
    {
     "name": "stderr",
     "output_type": "stream",
     "text": [
      "WARNING:absl:Function `_wrapped_model` contains input name(s) Input with unsupported characters which will be renamed to input in the SavedModel.\n"
     ]
    },
    {
     "name": "stdout",
     "output_type": "stream",
     "text": [
      "INFO:tensorflow:Assets written to: /home/jovyan/work/saved_data/south_africa_tree_stock/saved_models/assets\n"
     ]
    },
    {
     "name": "stderr",
     "output_type": "stream",
     "text": [
      "INFO:tensorflow:Assets written to: /home/jovyan/work/saved_data/south_africa_tree_stock/saved_models/assets\n"
     ]
    },
    {
     "name": "stdout",
     "output_type": "stream",
     "text": [
      "73/73 [==============================] - 1888s 26s/step - loss: -0.0395 - dice_coef: 0.0622 - dice_loss: 0.9378 - specificity: 0.0000e+00 - sensitivity: nan - accuracy: 0.0022 - val_loss: -0.2048 - val_dice_coef: 0.0427 - val_dice_loss: 0.9573 - val_specificity: 0.0000e+00 - val_sensitivity: nan - val_accuracy: 0.0021\n",
      "Epoch 88/100\n",
      "73/73 [==============================] - ETA: 0s - loss: -0.1326 - dice_coef: 0.0602 - dice_loss: 0.9398 - specificity: 0.0000e+00 - sensitivity: nan - accuracy: 0.0027 \n",
      "Epoch 88: val_loss improved from -0.20481 to -0.20481, saving model to /home/jovyan/work/saved_data/south_africa_tree_stock/saved_models/\n"
     ]
    },
    {
     "name": "stderr",
     "output_type": "stream",
     "text": [
      "WARNING:absl:Function `_wrapped_model` contains input name(s) Input with unsupported characters which will be renamed to input in the SavedModel.\n"
     ]
    },
    {
     "name": "stdout",
     "output_type": "stream",
     "text": [
      "INFO:tensorflow:Assets written to: /home/jovyan/work/saved_data/south_africa_tree_stock/saved_models/assets\n"
     ]
    },
    {
     "name": "stderr",
     "output_type": "stream",
     "text": [
      "INFO:tensorflow:Assets written to: /home/jovyan/work/saved_data/south_africa_tree_stock/saved_models/assets\n"
     ]
    },
    {
     "name": "stdout",
     "output_type": "stream",
     "text": [
      "73/73 [==============================] - 1927s 27s/step - loss: -0.1326 - dice_coef: 0.0602 - dice_loss: 0.9398 - specificity: 0.0000e+00 - sensitivity: nan - accuracy: 0.0027 - val_loss: -0.2048 - val_dice_coef: 0.0427 - val_dice_loss: 0.9573 - val_specificity: 0.0000e+00 - val_sensitivity: nan - val_accuracy: 0.0021\n",
      "Epoch 89/100\n",
      "42/73 [================>.............] - ETA: 12:41 - loss: -0.0613 - dice_coef: 0.0489 - dice_loss: 0.9511 - specificity: 0.0000e+00 - sensitivity: nan - accuracy: 0.0015"
     ]
    }
   ],
   "source": [
    "%%time\n",
    "loss_history = model.fit(\n",
    "        x=X_train,\n",
    "        y=y_train,\n",
    "        epochs=config.NB_EPOCHS,\n",
    "        steps_per_epoch=len(X_train) // config.BATCH_SIZE,\n",
    "        validation_data=(X_val, y_val),\n",
    "        shuffle=True,\n",
    "        validation_steps=len(X_val) // config.BATCH_SIZE,\n",
    "        batch_size=config.BATCH_SIZE,\n",
    "        callbacks=callbacks_list\n",
    "        # use_multiprocessing=True\n",
    ")\n",
    "print(\"Training completed.\")"
   ]
  },
  {
   "cell_type": "code",
   "execution_count": null,
   "metadata": {},
   "outputs": [],
   "source": [
    "if not os.path.exists(config.model_path):\n",
    "    os.makedirs(config.model_path)\n",
    "\n",
    "acc     = round(100*loss_history.history['accuracy'][-1], 4)\n",
    "val_acc = round(100*loss_history.history['val_accuracy'][-1], 4)\n",
    "timestr = time.strftime(\"%Y%m%d-%H%M\")\n",
    "model_path = os.path.join(f'{config.model_path}{timestr.replace(\"-\",\"_\")}_{OPTIMIZER_NAME}_{LOSS_NAME}_{config.input_shape[0]}.h5')\n",
    "print(model_path)\n",
    "model.save(model_path)\n",
    "\n",
    "# The weights without the model architecture can also be saved. Just saving the weights is more efficent.\n",
    "# weight_path=\"./saved_weights/UNet/{}/\".format(timestr)\n",
    "# if not os.path.exists(weight_path):\n",
    "#     os.makedirs(weight_path)\n",
    "# weight_path=weight_path + \"{}_weights.best.hdf5\".format('UNet_model')\n",
    "# print(weight_path)"
   ]
  },
  {
   "cell_type": "code",
   "execution_count": null,
   "metadata": {},
   "outputs": [],
   "source": []
  }
 ],
 "metadata": {
  "interpreter": {
   "hash": "aee8b7b246df8f9039afb4144a1f6fd8d2ca17a180786b69acc140d282b71a49"
  },
  "kernelspec": {
   "display_name": "Python 3",
   "language": "python",
   "name": "python3"
  },
  "language_info": {
   "codemirror_mode": {
    "name": "ipython",
    "version": 3
   },
   "file_extension": ".py",
   "mimetype": "text/x-python",
   "name": "python",
   "nbconvert_exporter": "python",
   "pygments_lexer": "ipython3",
   "version": "3.8.5"
  }
 },
 "nbformat": 4,
 "nbformat_minor": 4
}
