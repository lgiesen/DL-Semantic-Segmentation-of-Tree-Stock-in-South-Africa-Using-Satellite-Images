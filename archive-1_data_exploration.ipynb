{
 "cells": [
  {
   "cell_type": "markdown",
   "metadata": {},
   "source": [
    "# Data Access & Exploration"
   ]
  },
  {
   "cell_type": "markdown",
   "metadata": {
    "tags": []
   },
   "source": [
    "## 0. Imports"
   ]
  },
  {
   "cell_type": "code",
   "execution_count": 1,
   "metadata": {},
   "outputs": [],
   "source": [
    "import os.path\n",
    "from os.path import isfile, join\n",
    "import os\n",
    "from os import listdir\n",
    "from osgeo import gdal\n",
    "import errno\n",
    "import numpy as np\n",
    "import matplotlib.pyplot as plt\n",
    "import rasterio\n",
    "from rasterio.plot import show\n",
    "from rasterio.windows import from_bounds #Window\n",
    "from rasterio.enums import Resampling\n",
    "from sys import platform"
   ]
  },
  {
   "cell_type": "code",
   "execution_count": 21,
   "metadata": {},
   "outputs": [],
   "source": [
    "# Load config\n",
    "from config import UNetTraining, colors\n",
    "config = UNetTraining.Configuration()\n",
    "colors = colors.bcolors()"
   ]
  },
  {
   "cell_type": "code",
   "execution_count": 4,
   "metadata": {},
   "outputs": [],
   "source": [
    "if platform == \"linux\" or platform == \"linux2\":\n",
    "    path_satellite = \"/home/jovyan/work/satellite_data/\"\n",
    "    path_labels = os.getcwd() + \"/1_labeled_data/tif/\"\n",
    "    cutouts_path = os.getcwd() + \"/2_cutouts/\"\n",
    "elif platform == \"darwin\":\n",
    "    path_data = \"/Users/leori/Desktop/BA/1_Data/\"\n",
    "    path_satellite = path_data + \"2_satellite/\"\n",
    "    path_labels = path_data + \"1_labeled_data/tif/\"\n",
    "    cutouts_path = None\n",
    "elif platform == \"win32\":\n",
    "    print(\"Something went wrong\")"
   ]
  },
  {
   "cell_type": "markdown",
   "metadata": {},
   "source": [
    "# 1. Data Inspection"
   ]
  },
  {
   "cell_type": "markdown",
   "metadata": {},
   "source": [
    "### 1.1 Functions"
   ]
  },
  {
   "cell_type": "code",
   "execution_count": 5,
   "metadata": {},
   "outputs": [],
   "source": [
    "def inspect_tif_resolution(filepath):\n",
    "    img = rasterio.open(filepath)\n",
    "    xRes, yRes = img.res\n",
    "    print(\"Resolution: {} x {}\".format(xRes, yRes))"
   ]
  },
  {
   "cell_type": "code",
   "execution_count": 6,
   "metadata": {},
   "outputs": [],
   "source": [
    "def bounds(filepath):\n",
    "    src_img = rasterio.open(filepath)\n",
    "    print(src_img.bounds)\n",
    "    left, bottom, right, top = src_img.bounds[0],src_img.bounds[1], src_img.bounds[2], src_img.bounds[3]\n"
   ]
  },
  {
   "cell_type": "code",
   "execution_count": 32,
   "metadata": {},
   "outputs": [],
   "source": [
    "def inspect_tif(dataset):\n",
    "    print(\"Metadata:\", dataset.GetMetadata())\n",
    "    print(\"Projection: \", dataset.GetProjection())\n",
    "    print(\"Size is {} x {} x {}\".format(dataset.RasterXSize,\n",
    "                                        dataset.RasterYSize,\n",
    "                                        dataset.RasterCount))\n",
    "    geotransform = dataset.GetGeoTransform()\n",
    "    if geotransform:\n",
    "        print(\"Origin = ({}, {})\".format(geotransform[0], geotransform[3]))\n",
    "        print(\"Pixel Size = ({}, {})\".format(geotransform[1], geotransform[5]))\n",
    "\n",
    "    # Get First Raster Band\n",
    "    band = dataset.GetRasterBand(1)\n",
    "    min = band.GetMinimum()\n",
    "    max = band.GetMaximum()\n",
    "    if not min or not max:\n",
    "        (min,max) = band.ComputeRasterMinMax(True)\n",
    "    print(\"Min={:.3f}, Max={:.3f}\".format(int(min),int(max)))\n",
    "        \n",
    "    size_x_px = dataset.RasterXSize\n",
    "    size_y_px = dataset.RasterYSize\n",
    "    pixel_size = (dataset.GetGeoTransform()[1], dataset.GetGeoTransform()[5])\n",
    "    size_x = size_x_px * pixel_size[0]\n",
    "    size_y = size_y_px * pixel_size[1]\n",
    "    print(\"# Pixels in Image = ({}, {}) with a Raster Count of {}\".format(size_x_px, size_y_px, dataset.RasterCount))\n",
    "    mult_to_m = 100000\n",
    "    mult_to_km = mult_to_m / 1000\n",
    "    print(\"Size of one Pixel in m = {}\".format(tuple([mult_to_m*x for x in pixel_size])))\n",
    "    print(\"Size Covered by Image / Image Size = ({}km, {}km)\".format(round(mult_to_km*size_x, 2), abs(round(mult_to_km*size_y, 2))))"
   ]
  },
  {
   "cell_type": "code",
   "execution_count": 34,
   "metadata": {},
   "outputs": [],
   "source": [
    "filepath_satellite_server = config.path_data + \"2_satellite/2629BD_2018.tif\""
   ]
  },
  {
   "cell_type": "code",
   "execution_count": 35,
   "metadata": {},
   "outputs": [
    {
     "ename": "AttributeError",
     "evalue": "'str' object has no attribute 'RasterXSize'",
     "output_type": "error",
     "traceback": [
      "\u001b[0;31m---------------------------------------------------------------------------\u001b[0m",
      "\u001b[0;31mAttributeError\u001b[0m                            Traceback (most recent call last)",
      "\u001b[0;32m<ipython-input-35-639c6e6b9274>\u001b[0m in \u001b[0;36m<module>\u001b[0;34m\u001b[0m\n\u001b[0;32m----> 1\u001b[0;31m \u001b[0minspect_tif\u001b[0m\u001b[0;34m(\u001b[0m\u001b[0mfilepath_satellite_server\u001b[0m\u001b[0;34m)\u001b[0m\u001b[0;34m\u001b[0m\u001b[0;34m\u001b[0m\u001b[0m\n\u001b[0m",
      "\u001b[0;32m<ipython-input-32-7ffbf8624b01>\u001b[0m in \u001b[0;36minspect_tif\u001b[0;34m(dataset)\u001b[0m\n\u001b[1;32m      2\u001b[0m     \u001b[0;31m# print(\"Metadata:\", dataset.GetMetadata())\u001b[0m\u001b[0;34m\u001b[0m\u001b[0;34m\u001b[0m\u001b[0;34m\u001b[0m\u001b[0m\n\u001b[1;32m      3\u001b[0m     \u001b[0;31m# print(\"Projection: \", dataset.GetProjection())\u001b[0m\u001b[0;34m\u001b[0m\u001b[0;34m\u001b[0m\u001b[0;34m\u001b[0m\u001b[0m\n\u001b[0;32m----> 4\u001b[0;31m     print(\"Size is {} x {} x {}\".format(dataset.RasterXSize,\n\u001b[0m\u001b[1;32m      5\u001b[0m                                         \u001b[0mdataset\u001b[0m\u001b[0;34m.\u001b[0m\u001b[0mRasterYSize\u001b[0m\u001b[0;34m,\u001b[0m\u001b[0;34m\u001b[0m\u001b[0;34m\u001b[0m\u001b[0m\n\u001b[1;32m      6\u001b[0m                                         dataset.RasterCount))\n",
      "\u001b[0;31mAttributeError\u001b[0m: 'str' object has no attribute 'RasterXSize'"
     ]
    }
   ],
   "source": [
    "inspect_tif(filepath_satellite_server)"
   ]
  },
  {
   "cell_type": "code",
   "execution_count": 39,
   "metadata": {},
   "outputs": [],
   "source": [
    "def isfile(filepath: str = None):\n",
    "    # if filepath does not exists, an error is thrown\n",
    "    if not os.path.isfile(filepath): raise FileNotFoundError(errno.ENOENT, os.strerror(errno.ENOENT), filepath) #print(\"File does not exist.\")"
   ]
  },
  {
   "cell_type": "code",
   "execution_count": 38,
   "metadata": {},
   "outputs": [],
   "source": [
    "def check_filesize(filepath, size_in_mb: int = 500):\n",
    "    filesize_in_mb = os.path.getsize(filepath) / 1000000\n",
    "    if filesize_in_mb > size_in_mb: \n",
    "        raise Exception(\"File is too large: {}MB\".format(int(filesize_in_mb)))"
   ]
  },
  {
   "cell_type": "code",
   "execution_count": 37,
   "metadata": {},
   "outputs": [],
   "source": [
    "def preview_tif(tif_filepath: str = None):\n",
    "    isfile(tif_filepath)\n",
    "    check_filesize(tif_filepath, 500)\n",
    "    img = rasterio.open(tif_filepath)\n",
    "    if img: show(img)\n",
    "    else: print(\"img unable to be loaded at this moment\")"
   ]
  },
  {
   "cell_type": "markdown",
   "metadata": {},
   "source": [
    "### 1.2 Data Inspection"
   ]
  },
  {
   "cell_type": "markdown",
   "metadata": {},
   "source": [
    "ToDos Data Preparation\n",
    "- Data Cleaning (visualize data first): rm redundant information & set no data values to something - some metadata?\n",
    "- Custom Transformers\n",
    "- Feature Scaling\n",
    "\n",
    "\n",
    "⇒ Pipeline (cf. first example in `4_pipeline.ipynb`)"
   ]
  },
  {
   "cell_type": "code",
   "execution_count": 16,
   "metadata": {},
   "outputs": [],
   "source": [
    "filepath_label = config.filepath_label\n",
    "filepath_satellite = config.filepath_satellite"
   ]
  },
  {
   "cell_type": "code",
   "execution_count": null,
   "metadata": {},
   "outputs": [],
   "source": [
    "satel 29.746877767434313, -26.247113163017453\n",
    "label 29.746877767,       -26.247113163"
   ]
  },
  {
   "cell_type": "code",
   "execution_count": 38,
   "metadata": {},
   "outputs": [
    {
     "name": "stdout",
     "output_type": "stream",
     "text": [
      "Satellite\n",
      "Metadata: {'ALL_COMMENTS': 'Created by OpenJPEG version 2.4.0', 'AREA_OR_POINT': 'Area', 'COLORSPACE': 'RGB', 'COMPRESSION_RATE_TARGET': '1', 'TIFFTAG_MAXSAMPLEVALUE': '0', 'TIFFTAG_MINSAMPLEVALUE': '0', 'TIFFTAG_RESOLUTIONUNIT': '1 (unitless)', 'TIFFTAG_XRESOLUTION': '0', 'TIFFTAG_YRESOLUTION': '0'}\n",
      "Projection:  GEOGCS[\"WGS 84\",DATUM[\"WGS_1984\",SPHEROID[\"WGS 84\",6378137,298.257223563,AUTHORITY[\"EPSG\",\"7030\"]],AUTHORITY[\"EPSG\",\"6326\"]],PRIMEM[\"Greenwich\",0],UNIT[\"degree\",0.0174532925199433,AUTHORITY[\"EPSG\",\"9122\"]],AXIS[\"Latitude\",NORTH],AXIS[\"Longitude\",EAST],AUTHORITY[\"EPSG\",\"4326\"]]\n",
      "Size is 108224 x 107798 x 3\n",
      "Origin = (29.746877767434313, -26.247113163017453)\n",
      "Pixel Size = (2.3728143101288307e-06, -2.3728143101288515e-06)\n",
      "Min=0.000, Max=255.000\n",
      "# Pixels in Image = (108224, 107798) with a Raster Count of 3\n",
      "Size of one Pixel in m = (0.23728143101288307, -0.23728143101288515)\n",
      "Size Covered by Image / Image Size = (25.68km, 25.58km)\n",
      "BoundingBox(left=29.746877767434313, bottom=-26.502897800020722, right=30.003673223333696, top=-26.247113163017453)\n",
      "\n",
      "Label\n",
      "Metadata: {'AREA_OR_POINT': 'Area'}\n",
      "Projection:  GEOGCS[\"WGS 84\",DATUM[\"WGS_1984\",SPHEROID[\"WGS 84\",6378137,298.257223563,AUTHORITY[\"EPSG\",\"7030\"]],AUTHORITY[\"EPSG\",\"6326\"]],PRIMEM[\"Greenwich\",0],UNIT[\"degree\",0.0174532925199433,AUTHORITY[\"EPSG\",\"9122\"]],AXIS[\"Latitude\",NORTH],AXIS[\"Longitude\",EAST],AUTHORITY[\"EPSG\",\"4326\"]]\n",
      "Size is 108224 x 107798 x 1\n",
      "Origin = (29.746877767, -26.247113163)\n",
      "Pixel Size = (2.372814311058536e-06, -2.372814310098498e-06)\n",
      "Min=123.000, Max=1663.000\n",
      "# Pixels in Image = (108224, 107798) with a Raster Count of 1\n",
      "Size of one Pixel in m = (0.2372814311058536, -0.2372814310098498)\n",
      "Size Covered by Image / Image Size = (25.68km, 25.58km)\n",
      "BoundingBox(left=29.746877767, bottom=-26.5028978, right=30.003673223, top=-26.247113163)\n"
     ]
    }
   ],
   "source": [
    "print(\"Satellite\")\n",
    "inspect_tif(gdal.Open(filepath_satellite))\n",
    "bounds(filepath_satellite)\n",
    "\n",
    "print(\"\\nLabel\")\n",
    "inspect_tif(gdal.Open(filepath_label))\n",
    "bounds(filepath_label)"
   ]
  },
  {
   "cell_type": "code",
   "execution_count": null,
   "metadata": {},
   "outputs": [],
   "source": [
    "2.3728143101288307e-06, -2.3728143101288515e-06\n",
    "2.372814311058536e-06,  -2.372814310098498e-06"
   ]
  },
  {
   "cell_type": "markdown",
   "metadata": {},
   "source": [
    "- Size of one Pixel in cm = (0.23728143101288307, -0.23728143101288515)\n",
    "- Size of one Pixel in cm = (0.23728143099711865, -0.23728143123798187)\n",
    "\n",
    "- Size Covered by Image / Image Size = (256.8m, 255.78m)\n",
    "- Size Covered by Image / Image Size = (252.93m, 251.7m)\n",
    "\n",
    "- BoundingBox(left=29.746877767434313, bottom=-26.502897800020722, right=30.003673223333696, top=-26.247113163017453)\n",
    "- BoundingBox(left=29.748224553,       bottom=-26.50038228,        right=30.00115944,        top=-26.248683629)\n",
    "\n",
    "- Size is 108224 x 107798 x 3\n",
    "- Size is 106597 x 106076 x 1"
   ]
  },
  {
   "cell_type": "code",
   "execution_count": 44,
   "metadata": {},
   "outputs": [
    {
     "data": {
      "image/png": "[encoded data removed]",
      "text/plain": [
       "<Figure size 432x288 with 1 Axes>"
      ]
     },
     "metadata": {
      "needs_background": "light"
     },
     "output_type": "display_data"
    }
   ],
   "source": [
    "preview_tif(config.filepath_label_nw)"
   ]
  },
  {
   "cell_type": "code",
   "execution_count": null,
   "metadata": {},
   "outputs": [],
   "source": [
    "cutout_window = (29.748021463931796, -26.24839922837354, 29.74923634485858, -26.249614109300325)"
   ]
  },
  {
   "cell_type": "code",
   "execution_count": 46,
   "metadata": {},
   "outputs": [
    {
     "ename": "Exception",
     "evalue": "File is too large: 46667MB",
     "output_type": "error",
     "traceback": [
      "\u001b[0;31m---------------------------------------------------------------------------\u001b[0m",
      "\u001b[0;31mException\u001b[0m                                 Traceback (most recent call last)",
      "\u001b[0;32m<ipython-input-46-54084a2c3dca>\u001b[0m in \u001b[0;36m<module>\u001b[0;34m\u001b[0m\n\u001b[0;32m----> 1\u001b[0;31m \u001b[0mcheck_filesize\u001b[0m\u001b[0;34m(\u001b[0m\u001b[0mconfig\u001b[0m\u001b[0;34m.\u001b[0m\u001b[0mfilepath_label\u001b[0m\u001b[0;34m,\u001b[0m \u001b[0;36m1000\u001b[0m\u001b[0;34m)\u001b[0m\u001b[0;34m\u001b[0m\u001b[0;34m\u001b[0m\u001b[0m\n\u001b[0m\u001b[1;32m      2\u001b[0m \u001b[0msrc_label\u001b[0m \u001b[0;34m=\u001b[0m \u001b[0mrasterio\u001b[0m\u001b[0;34m.\u001b[0m\u001b[0mopen\u001b[0m\u001b[0;34m(\u001b[0m\u001b[0mfilepath_label\u001b[0m\u001b[0;34m)\u001b[0m\u001b[0;34m\u001b[0m\u001b[0;34m\u001b[0m\u001b[0m\n\u001b[1;32m      3\u001b[0m \u001b[0mprint\u001b[0m\u001b[0;34m(\u001b[0m\u001b[0;34m\"shape:\"\u001b[0m\u001b[0;34m,\u001b[0m \u001b[0msrc_label\u001b[0m\u001b[0;34m.\u001b[0m\u001b[0mread\u001b[0m\u001b[0;34m(\u001b[0m\u001b[0;34m)\u001b[0m\u001b[0;34m.\u001b[0m\u001b[0mshape\u001b[0m\u001b[0;34m)\u001b[0m\u001b[0;34m\u001b[0m\u001b[0;34m\u001b[0m\u001b[0m\n\u001b[1;32m      4\u001b[0m \u001b[0;31m# src_label.colorinterp[3] # rgba\u001b[0m\u001b[0;34m\u001b[0m\u001b[0;34m\u001b[0m\u001b[0;34m\u001b[0m\u001b[0m\n",
      "\u001b[0;32m<ipython-input-38-d054503ff35c>\u001b[0m in \u001b[0;36mcheck_filesize\u001b[0;34m(filepath, size_in_mb)\u001b[0m\n\u001b[1;32m      2\u001b[0m     \u001b[0mfilesize_in_mb\u001b[0m \u001b[0;34m=\u001b[0m \u001b[0mos\u001b[0m\u001b[0;34m.\u001b[0m\u001b[0mpath\u001b[0m\u001b[0;34m.\u001b[0m\u001b[0mgetsize\u001b[0m\u001b[0;34m(\u001b[0m\u001b[0mfilepath\u001b[0m\u001b[0;34m)\u001b[0m \u001b[0;34m/\u001b[0m \u001b[0;36m1000000\u001b[0m\u001b[0;34m\u001b[0m\u001b[0;34m\u001b[0m\u001b[0m\n\u001b[1;32m      3\u001b[0m     \u001b[0;32mif\u001b[0m \u001b[0mfilesize_in_mb\u001b[0m \u001b[0;34m>\u001b[0m \u001b[0msize_in_mb\u001b[0m\u001b[0;34m:\u001b[0m\u001b[0;34m\u001b[0m\u001b[0;34m\u001b[0m\u001b[0m\n\u001b[0;32m----> 4\u001b[0;31m         \u001b[0;32mraise\u001b[0m \u001b[0mException\u001b[0m\u001b[0;34m(\u001b[0m\u001b[0;34m\"File is too large: {}MB\"\u001b[0m\u001b[0;34m.\u001b[0m\u001b[0mformat\u001b[0m\u001b[0;34m(\u001b[0m\u001b[0mint\u001b[0m\u001b[0;34m(\u001b[0m\u001b[0mfilesize_in_mb\u001b[0m\u001b[0;34m)\u001b[0m\u001b[0;34m)\u001b[0m\u001b[0;34m)\u001b[0m\u001b[0;34m\u001b[0m\u001b[0;34m\u001b[0m\u001b[0m\n\u001b[0m",
      "\u001b[0;31mException\u001b[0m: File is too large: 46667MB"
     ]
    }
   ],
   "source": [
    "check_filesize(config.filepath_label, 1000)\n",
    "src_label = rasterio.open(filepath_label)\n",
    "print(\"shape:\", src_label.read().shape)\n",
    "# src_label.colorinterp[3] # rgba"
   ]
  },
  {
   "cell_type": "code",
   "execution_count": 47,
   "metadata": {},
   "outputs": [
    {
     "ename": "Exception",
     "evalue": "File is too large: 46666MB",
     "output_type": "error",
     "traceback": [
      "\u001b[0;31m---------------------------------------------------------------------------\u001b[0m",
      "\u001b[0;31mException\u001b[0m                                 Traceback (most recent call last)",
      "\u001b[0;32m<ipython-input-47-bb961ad4eb7d>\u001b[0m in \u001b[0;36m<module>\u001b[0;34m\u001b[0m\n\u001b[0;32m----> 1\u001b[0;31m \u001b[0mcheck_filesize\u001b[0m\u001b[0;34m(\u001b[0m\u001b[0mconfig\u001b[0m\u001b[0;34m.\u001b[0m\u001b[0mfilepath_satellite\u001b[0m\u001b[0;34m,\u001b[0m \u001b[0;36m1000\u001b[0m\u001b[0;34m)\u001b[0m\u001b[0;34m\u001b[0m\u001b[0;34m\u001b[0m\u001b[0m\n\u001b[0m\u001b[1;32m      2\u001b[0m \u001b[0msrc_satellite\u001b[0m\u001b[0;34m.\u001b[0m\u001b[0mread\u001b[0m\u001b[0;34m(\u001b[0m\u001b[0;34m)\u001b[0m\u001b[0;34m.\u001b[0m\u001b[0mshape\u001b[0m\u001b[0;34m\u001b[0m\u001b[0;34m\u001b[0m\u001b[0m\n\u001b[1;32m      3\u001b[0m \u001b[0;31m# src_satellite.read(2)[1884-1][3050-1] # blue pixel value in bottom left corner\u001b[0m\u001b[0;34m\u001b[0m\u001b[0;34m\u001b[0m\u001b[0;34m\u001b[0m\u001b[0m\n",
      "\u001b[0;32m<ipython-input-38-d054503ff35c>\u001b[0m in \u001b[0;36mcheck_filesize\u001b[0;34m(filepath, size_in_mb)\u001b[0m\n\u001b[1;32m      2\u001b[0m     \u001b[0mfilesize_in_mb\u001b[0m \u001b[0;34m=\u001b[0m \u001b[0mos\u001b[0m\u001b[0;34m.\u001b[0m\u001b[0mpath\u001b[0m\u001b[0;34m.\u001b[0m\u001b[0mgetsize\u001b[0m\u001b[0;34m(\u001b[0m\u001b[0mfilepath\u001b[0m\u001b[0;34m)\u001b[0m \u001b[0;34m/\u001b[0m \u001b[0;36m1000000\u001b[0m\u001b[0;34m\u001b[0m\u001b[0;34m\u001b[0m\u001b[0m\n\u001b[1;32m      3\u001b[0m     \u001b[0;32mif\u001b[0m \u001b[0mfilesize_in_mb\u001b[0m \u001b[0;34m>\u001b[0m \u001b[0msize_in_mb\u001b[0m\u001b[0;34m:\u001b[0m\u001b[0;34m\u001b[0m\u001b[0;34m\u001b[0m\u001b[0m\n\u001b[0;32m----> 4\u001b[0;31m         \u001b[0;32mraise\u001b[0m \u001b[0mException\u001b[0m\u001b[0;34m(\u001b[0m\u001b[0;34m\"File is too large: {}MB\"\u001b[0m\u001b[0;34m.\u001b[0m\u001b[0mformat\u001b[0m\u001b[0;34m(\u001b[0m\u001b[0mint\u001b[0m\u001b[0;34m(\u001b[0m\u001b[0mfilesize_in_mb\u001b[0m\u001b[0;34m)\u001b[0m\u001b[0;34m)\u001b[0m\u001b[0;34m)\u001b[0m\u001b[0;34m\u001b[0m\u001b[0;34m\u001b[0m\u001b[0m\n\u001b[0m",
      "\u001b[0;31mException\u001b[0m: File is too large: 46666MB"
     ]
    }
   ],
   "source": [
    "check_filesize(config.filepath_satellite, 1000)\n",
    "src_satellite.read().shape\n",
    "# src_satellite.read(2)[1884-1][3050-1] # blue pixel value in bottom left corner"
   ]
  },
  {
   "cell_type": "code",
   "execution_count": null,
   "metadata": {},
   "outputs": [
    {
     "name": "stdout",
     "output_type": "stream",
     "text": [
      "image has 4 channels\n"
     ]
    }
   ],
   "source": [
    "from PIL import Image\n",
    "import numpy as np\n",
    "\n",
    "img = Image.open(filepath_label)\n",
    "\n",
    "# convert to numpy array\n",
    "img = np.array(img)\n",
    "\n",
    "# find number of channels\n",
    "if img.ndim == 2:\n",
    "    channels = 1\n",
    "    print(\"image has 1 channel\")\n",
    "else:\n",
    "    channels = img.shape[-1]\n",
    "    print(\"image has\", channels, \"channels\")"
   ]
  },
  {
   "cell_type": "markdown",
   "metadata": {},
   "source": [
    "### 1.3 Data Visualization"
   ]
  },
  {
   "cell_type": "code",
   "execution_count": null,
   "metadata": {},
   "outputs": [
    {
     "name": "stdout",
     "output_type": "stream",
     "text": [
      "Resolution: 2.3728143101288307e-06 x 2.3728143101288515e-06\n",
      "Resolution: 2.3728143099711865e-06 x 2.3728143123798187e-06\n"
     ]
    }
   ],
   "source": [
    "inspect_tif_resolution(filepath_satellite)\n",
    "inspect_tif_resolution(filepath_label)"
   ]
  },
  {
   "cell_type": "code",
   "execution_count": null,
   "metadata": {},
   "outputs": [
    {
     "name": "stdout",
     "output_type": "stream",
     "text": [
      "Size is 30254 x 30188 x 4\n",
      "Origin = (29.748224553, -26.248679767728067)\n",
      "Pixel Size = (8.335734183909613e-06, -8.335734183909613e-06)\n",
      "Min=0.000, Max=255.000\n",
      "# Pixels in Image = (30254, 30188) with a Raster Count of 4\n",
      "Size of one Pixel in cm = (0.8335734183909613, -0.8335734183909613)\n",
      "Size Covered by Image / Image Size = (252.19m, 251.64m)\n"
     ]
    }
   ],
   "source": [
    "inspect_tif(gdal.Open(filepath_label))"
   ]
  }
 ],
 "metadata": {
  "interpreter": {
   "hash": "aee8b7b246df8f9039afb4144a1f6fd8d2ca17a180786b69acc140d282b71a49"
  },
  "kernelspec": {
   "display_name": "Python 3",
   "language": "python",
   "name": "python3"
  },
  "language_info": {
   "codemirror_mode": {
    "name": "ipython",
    "version": 3
   },
   "file_extension": ".py",
   "mimetype": "text/x-python",
   "name": "python",
   "nbconvert_exporter": "python",
   "pygments_lexer": "ipython3",
   "version": "3.9.1"
  }
 },
 "nbformat": 4,
 "nbformat_minor": 4
}
