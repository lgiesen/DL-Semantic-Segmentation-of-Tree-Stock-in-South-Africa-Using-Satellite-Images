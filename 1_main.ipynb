{
 "cells": [
  {
   "cell_type": "markdown",
   "metadata": {},
   "source": [
    "Idea Training Process:\n",
    "1. Load training set (labels with corresponding input TIFs)\n",
    "2. Create cutouts of labeled training data\n",
    "3. Train model on data\n",
    "4. Evaluate model\n",
    "\n",
    "Idea Prediction Process:\n",
    "5. Create cutouts of unlabeled data\n",
    "6. Predict cutouts\n",
    "\n",
    "Function Overview\n",
    "Training: load labels -> create_cutouts(label_file) -> fit(unlabeled_cutouts, labeled_cutouts) -> evaluate(?)\n",
    "Prediction: load dats -> create_cutouts(label_file) -> predict(unlabeled_cutouts)"
   ]
  },
  {
   "cell_type": "markdown",
   "metadata": {
    "tags": []
   },
   "source": [
    "## 0. Imports"
   ]
  },
  {
   "cell_type": "code",
   "execution_count": 1,
   "metadata": {},
   "outputs": [],
   "source": [
    "import os.path\n",
    "from os.path import isfile, join\n",
    "import os\n",
    "from os import listdir\n",
    "from osgeo import gdal\n",
    "import errno\n",
    "import numpy as np\n",
    "import matplotlib.pyplot as plt\n",
    "import rasterio\n",
    "from rasterio.plot import show\n",
    "from rasterio.windows import from_bounds #Window\n",
    "from rasterio.enums import Resampling\n",
    "from sys import platform"
   ]
  },
  {
   "cell_type": "code",
   "execution_count": 2,
   "metadata": {},
   "outputs": [],
   "source": [
    "# for coloured print statements\n",
    "class bcolors:\n",
    "    HEADER = '\\033[95m'\n",
    "    OKBLUE = '\\033[94m'\n",
    "    OKCYAN = '\\033[96m'\n",
    "    OKGREEN = '\\033[92m'\n",
    "    WARNING = '\\033[93m'\n",
    "    FAIL = '\\033[91m'\n",
    "    ENDC = '\\033[0m'\n",
    "    BOLD = '\\033[1m'\n",
    "    UNDERLINE = '\\033[4m'"
   ]
  },
  {
   "cell_type": "code",
   "execution_count": 3,
   "metadata": {},
   "outputs": [],
   "source": [
    "if platform == \"linux\" or platform == \"linux2\":\n",
    "    path_satellite = \"/home/jovyan/work/satellite_data/\"\n",
    "    path_labels = os.getcwd() + \"/1_labeled_data/tif/\"\n",
    "    cutouts_path = os.getcwd() + \"/2_cutouts/\"\n",
    "elif platform == \"darwin\":\n",
    "    path_data = \"/Users/leori/Desktop/BA/1_Data/\"\n",
    "    path_satellite = path_data + \"2_satellite/\"\n",
    "    path_labels = path_data + \"1_labeled_data/tif/\"\n",
    "    cutouts_path = None\n",
    "elif platform == \"win32\":\n",
    "    print(\"Something went wrong\")"
   ]
  },
  {
   "cell_type": "code",
   "execution_count": 4,
   "metadata": {
    "tags": []
   },
   "outputs": [],
   "source": [
    "def print_files(path = os.getcwd()):\n",
    "    onlyfiles = [f for f in listdir(path) if isfile(join(path, f))]\n",
    "    print(path, onlyfiles)"
   ]
  },
  {
   "cell_type": "markdown",
   "metadata": {},
   "source": [
    "### 0.1 Data Inspection"
   ]
  },
  {
   "cell_type": "code",
   "execution_count": 5,
   "metadata": {},
   "outputs": [],
   "source": [
    "def inspect_tif_resolution(filepath):\n",
    "    img = rasterio.open(filepath)\n",
    "    xRes, yRes = img.res\n",
    "    print(\"Resolution: {} x {}\".format(xRes, yRes))   "
   ]
  },
  {
   "cell_type": "code",
   "execution_count": 6,
   "metadata": {},
   "outputs": [],
   "source": [
    "def inspect_tif(dataset):\n",
    "    # print(\"Metadata:\", dataset.GetMetadata())\n",
    "    # print(\"Projection: \", dataset.GetProjection())\n",
    "    print(\"Size is {} x {} x {}\".format(dataset.RasterXSize,\n",
    "                                        dataset.RasterYSize,\n",
    "                                        dataset.RasterCount))\n",
    "    geotransform = dataset.GetGeoTransform()\n",
    "    if geotransform:\n",
    "        print(\"Origin = ({}, {})\".format(geotransform[0], geotransform[3]))\n",
    "        print(\"Pixel Size = ({}, {})\".format(geotransform[1], geotransform[5]))\n",
    "\n",
    "    # Raster Band\n",
    "    band = dataset.GetRasterBand(1)\n",
    "    min = band.GetMinimum()\n",
    "    max = band.GetMaximum()\n",
    "    if not min or not max:\n",
    "        (min,max) = band.ComputeRasterMinMax(True)\n",
    "    print(\"Min={:.3f}, Max={:.3f}\".format(int(min),int(max)))\n",
    "        \n",
    "    size_x_px = dataset.RasterXSize\n",
    "    size_y_px = dataset.RasterYSize\n",
    "    pixel_size = (dataset.GetGeoTransform()[1], dataset.GetGeoTransform()[5])\n",
    "    size_x = size_x_px * pixel_size[0]\n",
    "    size_y = size_y_px * pixel_size[1]\n",
    "    print(\"# Pixels in Image = ({}, {}) with a Raster Count of {}\".format(size_x_px, size_y_px, dataset.RasterCount))\n",
    "    print(\"Size of one Pixel in cm = {}\".format(tuple([100000*x for x in pixel_size])))\n",
    "    print(\"Size Covered by Image / Image Size = ({}m, {}m)\".format(round(1000*size_x, 2), abs(round(1000*size_y, 2))))"
   ]
  },
  {
   "cell_type": "code",
   "execution_count": 7,
   "metadata": {},
   "outputs": [],
   "source": [
    "def isfile(filepath: str = None):\n",
    "    # if filepath does not exists, an error is thrown\n",
    "    if not os.path.isfile(filepath): raise FileNotFoundError(errno.ENOENT, os.strerror(errno.ENOENT), filepath) #print(\"File does not exist.\")"
   ]
  },
  {
   "cell_type": "code",
   "execution_count": 8,
   "metadata": {},
   "outputs": [],
   "source": [
    "def preview_tif(tif_filepath: str = None):\n",
    "    isfile(tif_filepath)\n",
    "    img = rasterio.open(tif_filepath)\n",
    "    if img: show(img)\n",
    "    else: print(\"img unable to be loaded at this moment\")"
   ]
  },
  {
   "cell_type": "markdown",
   "metadata": {},
   "source": [
    "## 1. Development"
   ]
  },
  {
   "cell_type": "markdown",
   "metadata": {},
   "source": [
    "### 1.1 Compare Satellite Image with Label"
   ]
  },
  {
   "cell_type": "code",
   "execution_count": 9,
   "metadata": {},
   "outputs": [],
   "source": [
    "# TODO: use patchify to download patches in a certain size"
   ]
  },
  {
   "cell_type": "code",
   "execution_count": 20,
   "metadata": {},
   "outputs": [],
   "source": [
    "def compare_satellite_label(satellite, label):\n",
    "    # file =  rasterio.open(complete_filepath)\n",
    "    filepath_satellite, filepath_label = path_satellite + satellite, path_labels + label\n",
    "    # check if filepath exists\n",
    "    if not os.path.isfile(filepath_satellite) or not os.path.isfile(filepath_label):\n",
    "        print(f\"{bcolors.FAIL}1 Failure: File(s) do(es) not exist: {complete_filepath}{bcolors.ENDC}\") \n",
    "        return\n",
    "    \n",
    "    src_label = rasterio.open(filepath_label)\n",
    "    \n",
    "    src_satellite = rasterio.open(filepath_satellite)\n",
    "    left, top = src_satellite.bounds[0], src_satellite.bounds[3]\n",
    "    patch_size = 512\n",
    "    overlap = 32 # similar to previous project: 0.12 * 256 = 30.72\n",
    "    xRes, yRes = src_satellite.res # or: src.meta['transform'][0], -src.meta['transform'][4]\n",
    "    right  = left + patch_size * xRes\n",
    "    bottom = top  - patch_size * yRes\n",
    "\n",
    "    x_cutout_max, y_cutout_max = int(src_satellite.width / patch_size), int(src_satellite.height / patch_size)\n",
    "    # print(\"max cutout:\", x_cutout_max, y_cutout_max)\n",
    "\n",
    "    # tmp testing\n",
    "    x_cutout_max = 3\n",
    "    y_cutout_max = 2\n",
    "    # skip first row, because no data there\n",
    "    left, top, right, bottom = 29.748021463931796, -26.24839922837354, 29.74923634485858, -26.249614109300325\n",
    "\n",
    "    for y_cutout in range(y_cutout_max):\n",
    "        for x_cutout in range(x_cutout_max):\n",
    "            print(\"Cutout Window: ({}, {}, {}, {})\".format(left, top, right, bottom))\n",
    "            # print(\"Size of cutout window in px: {} x {}\".format((right - left) / xRes, (top - bottom) / yRes))\n",
    "            cutout_satellite = src_satellite.read(1, window = from_bounds(left, bottom, right, top, src_satellite.transform))\n",
    "            cutout_label = src_label.read(1, window = from_bounds(left, bottom, right, top, src_label.transform))\n",
    "            \n",
    "            # show(cutout_satellite)\n",
    "            # show(cutout_label)\n",
    "            \n",
    "            # adjust cutout window for next iteration (with 30 px overlap to cover trees on the edge)\n",
    "            # adjust cutout window on the x-axis => move cutout window to the right - the overlap\n",
    "            left = right - overlap * xRes # use right as a base and move left by the overlap  \n",
    "            right  = left + patch_size * xRes # move patch_size to the right from left # += patch_size * xRes\n",
    "        # reset the x-axis\n",
    "        left = src_satellite.bounds[0]\n",
    "        right  = left + patch_size * xRes\n",
    "        # adjust cutout window on the y-axis => move cutout window to the bottom\n",
    "        top = bottom - overlap * yRes\n",
    "        bottom = top - patch_size * yRes # -= patch_size * yRes\n",
    "\n",
    "    src_satellite.close()\n",
    "    src_label.close()"
   ]
  },
  {
   "cell_type": "code",
   "execution_count": 21,
   "metadata": {},
   "outputs": [
    {
     "name": "stdout",
     "output_type": "stream",
     "text": [
      "Cutout Window: (29.746877767434313, -26.247113163017453, 29.748092648361098, -26.248328043944237)\n",
      "Cutout Window: (29.748016718303173, -26.247113163017453, 29.749231599229958, -26.248328043944237)\n",
      "Cutout Window: (29.749155669172033, -26.247113163017453, 29.75037055009882, -26.248328043944237)\n",
      "Cutout Window: (29.746877767434313, -26.248403974002162, 29.748092648361098, -26.249618854928947)\n",
      "Cutout Window: (29.748016718303173, -26.248403974002162, 29.749231599229958, -26.249618854928947)\n",
      "Cutout Window: (29.749155669172033, -26.248403974002162, 29.75037055009882, -26.249618854928947)\n"
     ]
    }
   ],
   "source": [
    "compare_satellite_label(\"2629BD_2018.tif\", \"144dpi.tif\")"
   ]
  },
  {
   "cell_type": "code",
   "execution_count": 12,
   "metadata": {},
   "outputs": [],
   "source": [
    "# compare_satellite_label(\"2629BD_2018.tif\", \"whole_image.tif\")"
   ]
  },
  {
   "cell_type": "markdown",
   "metadata": {},
   "source": [
    "## 2. Cleanup"
   ]
  },
  {
   "cell_type": "code",
   "execution_count": 13,
   "metadata": {},
   "outputs": [],
   "source": [
    "def number_of_files_in_dir(dir: str = cutouts_path):\n",
    "    number_of_files_in_dir.initial_count = 0\n",
    "    for path in os.listdir(dir):\n",
    "        if os.path.isfile(os.path.join(dir, path)):\n",
    "            number_of_files_in_dir.initial_count += 1\n",
    "    return number_of_files_in_dir.initial_count"
   ]
  },
  {
   "cell_type": "code",
   "execution_count": 14,
   "metadata": {},
   "outputs": [],
   "source": [
    "def remove_cutouts():\n",
    "    if cutouts_path:\n",
    "        number_of_files_in_dir()\n",
    "        print(\"{} files are being deleted.\".format(number_of_files_in_dir.initial_count))\n",
    "        for f in os.listdir(cutouts_path):\n",
    "            if f == \".ipynb_checkpoints\": continue\n",
    "            print(os.path.join(cutouts_path, f))\n",
    "            os.remove(os.path.join(cutouts_path, f))\n",
    "remove_cutouts()"
   ]
  },
  {
   "cell_type": "markdown",
   "metadata": {},
   "source": [
    "# 3. Notes"
   ]
  },
  {
   "cell_type": "markdown",
   "metadata": {},
   "source": [
    "## Data Preparation\n",
    "- random sampling (!) for training\n",
    "- Normalization → why so weird?\n",
    "    - locally normalized the patches with a 40% probability (both the NDVI and panchromatic band) to zero mean and unit s.d. (=standard deviation)\n",
    "    - other 60% normalized with mean and s.d. of the rectangle (of bigger area from which extracted patch)\n",
    "    - “cope with varying atmospheric settings and reflectance in the satellite imagery and improved the model prediction in areas with cloud cover or burned surface.”\n",
    "- Data Augmentation: cropping and zooming; piecewise affine, perspective transformation; and linear contrast enhancement"
   ]
  },
  {
   "cell_type": "markdown",
   "metadata": {},
   "source": [
    "- disaggregation of clumped trees was achieved by giving the spaces between crowns a larger weight than other spaces during the learning process of the model"
   ]
  },
  {
   "cell_type": "markdown",
   "metadata": {},
   "source": [
    "## Prediction\n",
    "- 256 x 256 px with 12% overlap of patches (a technique sometimes referred to as test time augmentation)\n",
    "- interim insights:\n",
    "    - tree cover and density in later-dry season images (mainly March) are underestimated by up to one fourth\n",
    "    - low sun azimuth angle and large off-nadir angle, tree cover tends to be underestimated"
   ]
  },
  {
   "cell_type": "markdown",
   "metadata": {},
   "source": [
    "## Evaluation\n",
    "- test dataset\n",
    "    - randomly distributing 100 plots (a 256 × 256 pixels)\n",
    "    - created independently  & not included in model development → avoiding the bias of adaptive data analysis (?)\n",
    "    - manually labelled all tree crowns in the test plots\n",
    "- confusion matrix\n",
    "    - FN: 5% of the labelled trees were missed\n",
    "    - true-positive rate (TPR=TP/TP+FN): 75% (25% of the area covered by labelled trees was missed in the predictions)\n",
    "    - false-positive rate (FPR=FP/FP+TN): 2% (area labelled as background was classified as tree canopy)\n",
    "    - 3.8% not predicted as individual trees but categorized as clumped canopies\n",
    "- r^2 = 0.97 (slope = 1.00) for tree density, 0.95 (slope = 0.87) for canopy cover and 0.92 (slope = 0.77) for mean crown size\n",
    "    - r^2 bzw. Determinationskoeffizient: wie dicht die Daten an der angepassten Regressionslinie liegen\n",
    "        - slight underestimation of the canopy cover and mean crown size because of hyper-parameter selection and disaggregation of clumped canopies"
   ]
  },
  {
   "cell_type": "markdown",
   "metadata": {},
   "source": [
    "## Result\n",
    "- output:\n",
    "    - spatial database includes each detected tree, its crown size in m2, and mean annual rainfall, land use and soil\n",
    "        - Copernicus land-use data: ‘urban’ and ‘cropland’ classes\n",
    "        - savannah classes were grassland, shrubland, open forest and bare areas\n",
    "    - raster maps: 100 × 100-m (1-ha) grids with centroids of tree crowns ⇒ mean crown size, total canopy cover per hectare (in %), density of {crowns, shrubs, small trees, large trees, objects >200m2 (lvery large trees or unseparated clumped trees)} per hectare\n",
    "- tree density and coverage develop along the rainfall gradient (Fig. 3)\n",
    "    - very sparse in the hyper-arid Sahara Desert in the north (0.7 ± 2.6 (mean ± s.d.) trees per hectare, and 0.1 ± 4% canopy cover),\n",
    "    - through scattered trees in arid (on average 9.9 ± 13.2 trees per hectare, and 1.6 ± 2.9% cover) and\n",
    "    - semi-arid (on average 30.1 ± 29.0 trees per hectare, and 5.6 ± 5.9% cover) lands,\n",
    "    - into denser patterns in the sub-humid south (on average 47 ± 30 trees per hectare, and 13.3 ± 9.4% cover)\n",
    "- Tree Crown Size\n",
    "    - Trees with a crown size of 3–15 m2 account for the majority of the density, but contribute only a little to the overall canopy cover\n",
    "    - Small crowns dominate low-rainfall zones; beyond 150- and 300-mm-per-year rainfall, larger crown sizes appear and gradually increase in density to make up large parts of the coverage (Fig. 3a), while the smaller crown-size class (3–15 m2) decreases in density in the transition between the semi-arid and sub-humid zone.\n",
    "    - contribution of very large trees: to the canopy cover is 6% (Fig. 3a) → accounting only for large patches of vegetation in canopy-cover assessments severely underestimates the total density and canopy cover \n",
    "    [da wenig ausmacht von canopy cover, aber bei bisheriger Recherche nur diese beachtet → erhebliche Unterschätzung von gesamter Baum-Dichte und Größe canopy cover]\n",
    "    - estimate that 16–20% of the trees are in the 1–3-m2 crown-size rangen (By extrapolating the exponential model to crown size values of less than 3 m2 (which were not mapped in our study))\n",
    "    - large crown sizes are located mainly in farmlandslarge crown sizes are located mainly in farmlands\n",
    "- On average, canopy cover and tree density on sandy soils increase only weakly with rainfall, which suggests that the observed latitudinal increases (Fig. 1b) are closely related to the increasing dominance of non-sandy soils in the sub-humid zone (Fig. 3c, f, Extended Data Fig. 4b). The peak in both tree density and cover observed at around 400-mm-per-year rainfall reflects the man- aged agroforestry parklands in the semi-arid Sahel21.\n",
    "- Studies often disagree on definitions for woody plants, crown cover and forests, which leads to misinterpretations and a con- tinuing uncertainty as to the number and size of trees in savannah regions (8,19,20)\n",
    "- the results elucidate how widely used definitions of tree cover8,20 are miss- ing most of the trees and tree cover in these regions, because they are not designed to include isolated, non-forest trees"
   ]
  }
 ],
 "metadata": {
  "interpreter": {
   "hash": "aee8b7b246df8f9039afb4144a1f6fd8d2ca17a180786b69acc140d282b71a49"
  },
  "kernelspec": {
   "display_name": "Python 3",
   "language": "python",
   "name": "python3"
  },
  "language_info": {
   "codemirror_mode": {
    "name": "ipython",
    "version": 3
   },
   "file_extension": ".py",
   "mimetype": "text/x-python",
   "name": "python",
   "nbconvert_exporter": "python",
   "pygments_lexer": "ipython3",
   "version": "3.9.1"
  }
 },
 "nbformat": 4,
 "nbformat_minor": 4
}
