{
 "cells": [
  {
   "cell_type": "code",
   "execution_count": 6,
   "metadata": {},
   "outputs": [],
   "source": [
    "import os.path\n",
    "from os.path import isfile, join\n",
    "import os\n",
    "from os import listdir\n",
    "from osgeo import gdal\n",
    "import errno\n",
    "import numpy as np\n",
    "import matplotlib.pyplot as plt\n",
    "import rasterio\n",
    "from rasterio.plot import show"
   ]
  },
  {
   "cell_type": "code",
   "execution_count": 7,
   "metadata": {},
   "outputs": [],
   "source": [
    "path_labels = os.getcwd() + \"/1_labeled_data/tif/\"\n",
    "path_satellite = \"/home/jovyan/work/satellite_data/\"\n",
    "cutouts_path = os.getcwd() + \"/2_cutouts/\""
   ]
  },
  {
   "cell_type": "markdown",
   "metadata": {},
   "source": [
    "# Main Functions"
   ]
  },
  {
   "cell_type": "code",
   "execution_count": 13,
   "metadata": {},
   "outputs": [],
   "source": [
    "def load_tif(files_list: list = None, is_label: bool = False, cutout_window: tuple = None):\n",
    "    # loop through array of file names\n",
    "    for filename in files_list:\n",
    "        complete_filepath = (path_labels if is_label else path_satellite) + filename\n",
    "        # check if filepath exists\n",
    "        if not os.path.isfile(complete_filepath):\n",
    "            print(\"Filepath does not exist: {}\".format(complete_filepath)) \n",
    "            continue\n",
    "        # open file\n",
    "        label_file = gdal.Open(complete_filepath)\n",
    "        # check if gdal is able to open file\n",
    "        if label_file:\n",
    "            # print(f\"{bcolors.OKBLUE}{filename}{bcolors.ENDC}\")\n",
    "            print(f\"{bcolors.OKGREEN}0 Success:{bcolors.ENDC} {bcolors.OKBLUE}{filename}{bcolors.ENDC}\") # complete path: complete_filepath\n",
    "            inspect_tif(label_file)\n",
    "            # if is_label:\n",
    "            print(f\"{bcolors.UNDERLINE}Cutouts:{bcolors.ENDC}\")\n",
    "            # create cutouts\n",
    "            # create_cutouts(filename, label_file, cutout_window)\n",
    "            continue\n",
    "        print(f\"{bcolors.FAIL}1 Failure:{bcolors.ENDC}\" + complete_filepath) #\"File cannot be loaded.\" #\"Filepath exists: \", os.path.isfile(tif_filepath), "
   ]
  },
  {
   "cell_type": "code",
   "execution_count": 14,
   "metadata": {},
   "outputs": [],
   "source": [
    "def preview_tif(tif_filepath: str = None):\n",
    "    isfile(tif_filepath)\n",
    "    img = rasterio.open(tif_filepath)\n",
    "    if img: show(img)\n",
    "    else: print(\"img unable to be loaded at this moment\")"
   ]
  },
  {
   "cell_type": "code",
   "execution_count": 12,
   "metadata": {},
   "outputs": [],
   "source": [
    "def create_cutouts(path_label: list = None, label_file: list = None, cutout_window: tuple = None):\n",
    "    # upper/lower (u/l) left/right (l/r) coordinates \n",
    "    ulx, xres, xskew, uly, yskew, yres  = label_file.GetGeoTransform()\n",
    "    width, height = label_file.RasterXSize, label_file.RasterYSize\n",
    "    lrx = ulx + width * xres\n",
    "    lry = uly + height * yres\n",
    "    \n",
    "    # Label and satellite image do not have the same origin. So it has to be standardized/adjusted.\n",
    "    # If it is a satellite image, the cutout_window is not passed. Hence, it is set\n",
    "    # If it is a label, the cutout_window is copied from the satellite image\n",
    "    if (cutout_window == None): load_tif.cutout_window = (ulx, uly, lrx, lry)\n",
    "    else: ulx, uly, lrx, lry = cutout_window[0], cutout_window[1], cutout_window[2], cutout_window[3]\n",
    "    \n",
    "    # corner & cener coordinates can be checked in the terminal with \n",
    "    # $ gdalinfo '/home/jovyan/work/satellite_data/FILE.tif'\n",
    "    # determine cutout window of size: 512x512 px\n",
    "    cutout_size = 512 * 2\n",
    "    \n",
    "    no_of_x_cutouts = 2 #int(width / cutout_size)\n",
    "    no_of_y_cutouts = 2 #int(height / cutout_size)\n",
    "    \n",
    "    for cutout_y in range(no_of_y_cutouts):\n",
    "        for cutout_x in range(no_of_y_cutouts):\n",
    "            # ul_corner = (ulx, uly)\n",
    "            # lr_corner = (lrx, lry)\n",
    "            # base value (upper left corner of image + how far the cutout is moved in each iteration\n",
    "            crop_ulx = ulx + (cutout_x * cutout_size * xres)\n",
    "            crop_uly = uly + (cutout_y * cutout_size * yres)\n",
    "            # base value (upper left corner of defined cutout) + cutout size (converted in coordinates with resolution)\n",
    "            crop_lrx = crop_ulx + cutout_size * xres\n",
    "            crop_lry = crop_uly + cutout_size * yres\n",
    "\n",
    "            cropped_window = (crop_ulx,crop_uly,crop_lrx,crop_lry)\n",
    "            print(f\"{bcolors.OKBLUE}Cropped Window: {cropped_window}{bcolors.ENDC}\")\n",
    "            # export cropped raster\n",
    "            cutout_filename = path_label.replace(\".tif\", \"\") + \"-{}-{}.tif\".format(cutout_x, cutout_y)\n",
    "            cutout_path = cutouts_path + cutout_filename\n",
    "            # print(f\"Cutout: {bcolors.OKBLUE}{cutout_path}{bcolors.ENDC}\")\n",
    "            gdal.Translate(cutout_path, label_file, projWin = cropped_window) #label_file is the tif file\n",
    "\n",
    "            # preview tif\n",
    "            #load_tif([cutout_path])\n",
    "            cutout = gdal.Open(cutout_path)\n",
    "            # check if gdal is able to open file\n",
    "            if cutout:\n",
    "                print(f\"{bcolors.OKGREEN}0 Success: {cutout_filename}{bcolors.ENDC}\") # complete path: cutout_path\n",
    "                inspect_tif(cutout)\n",
    "            preview_tif(cutout_path)\n",
    "    # close tif\n",
    "    cutout_path = label_file = cropped_window = None"
   ]
  },
  {
   "cell_type": "markdown",
   "metadata": {
    "tags": []
   },
   "source": [
    "# Cropping Images\n",
    "## Rasterio\n",
    "### First Post"
   ]
  },
  {
   "cell_type": "code",
   "execution_count": 8,
   "metadata": {},
   "outputs": [],
   "source": [
    "# Code from https://stackoverflow.com/questions/54501232/iteratively-load-image-block-by-block-where-blocks-are-partially-overlapped/54525931#54525931\n",
    "def overlapping_blocks(src, overlap=0, band=1):\n",
    "    nols, nrows = src.meta['width'], src.meta['height']\n",
    "    big_window = windows.Window(col_off=0, row_off=0, width=nols, height=nrows)\n",
    "    for ji, window in src.block_windows(band):\n",
    "\n",
    "        if overlap == 0:\n",
    "            yield ji, window\n",
    "\n",
    "        else:\n",
    "            col_off = window.col_off - overlap\n",
    "            row_off = window.row_off - overlap\n",
    "            width = window.width + overlap * 2\n",
    "            height = window.height + overlap * 2\n",
    "            yield ji, windows.Window(col_off, row_off, width, height).intersection(big_window)"
   ]
  },
  {
   "cell_type": "code",
   "execution_count": 9,
   "metadata": {},
   "outputs": [],
   "source": [
    "def process_image(src_img, dst_img, band_id=1):\n",
    "    with rasterio.open(src_img) as src:\n",
    "        kwargs = src.meta\n",
    "        with rasterio.open(dst_img, 'w', **kwargs) as dst:\n",
    "            for idx, window in overlapping_block_windows(src, overlap=1, band=band_id):\n",
    "                print(\"Processing Block: \", idx[0]+1, \", \", idx[1]+1)\n",
    "                src_data = src.read(band_id, window=window)\n",
    "                dst_data = src_data ** 2 # Do the Processing Here\n",
    "                dst.write_band( band_id, dst_data, window=window)\n",
    "    return 0"
   ]
  },
  {
   "cell_type": "code",
   "execution_count": 10,
   "metadata": {},
   "outputs": [],
   "source": [
    "def overlapping_windows(src, overlap, width, height, boundless=False):\n",
    "    \"\"\"\"width & height not including overlap i.e requesting a 256x256 window with \n",
    "        1px overlap will return a 258x258 window (for non edge windows)\"\"\"\n",
    "    offsets = product(range(0, src.meta['width'], width), range(0, src.meta['height'], height))\n",
    "    big_window = windows.Window(col_off=0, row_off=0, width=src.meta['width'], height=src.meta['height'])\n",
    "    for col_off, row_off in offsets:\n",
    "\n",
    "        window = windows.Window(\n",
    "            col_off=col_off - overlap,\n",
    "            row_off=row_off - overlap,\n",
    "            width=width + overlap * 2,\n",
    "            height=height + overlap * 2)\n",
    "\n",
    "        if boundless:\n",
    "            yield window\n",
    "        else:\n",
    "            yield window.intersection(big_window)"
   ]
  },
  {
   "cell_type": "code",
   "execution_count": 11,
   "metadata": {},
   "outputs": [],
   "source": [
    "def overlapping_blocks(src, overlap=0, band=1, boundless=False):\n",
    "\n",
    "    big_window = windows.Window(col_off=0, row_off=0, width=src.meta['width'], height=src.meta['height'])\n",
    "    for ji, window in src.block_windows(band):\n",
    "\n",
    "        if overlap == 0:\n",
    "            yield window\n",
    "\n",
    "        else:\n",
    "            window = windows.Window(\n",
    "                col_off=window.col_off - overlap,\n",
    "                row_off=window.row_off - overlap,\n",
    "                width=window.width + overlap * 2,\n",
    "                height=window.height + overlap * 2)\n",
    "            if boundless:\n",
    "                yield window\n",
    "            else:\n",
    "                yield window.intersection(big_window)"
   ]
  },
  {
   "cell_type": "markdown",
   "metadata": {},
   "source": [
    "### Second Post"
   ]
  },
  {
   "cell_type": "code",
   "execution_count": 19,
   "metadata": {},
   "outputs": [],
   "source": [
    "# Code from https://stackoverflow.com/questions/67428869/windowed-read-and-write-of-raster-using-rasterio\n",
    "def overlapping_windows(src, overlap, width, height, boundless=False):\n",
    "    \"\"\"\"width & height not including overlap i.e requesting a 256x256 window with \n",
    "        1px overlap will return a 258x258 window (for non edge windows)\"\"\"\n",
    "    offsets = product(range(0, src.meta['width'], width), range(0, src.meta['height'], height))\n",
    "    big_window = windows.Window(col_off=0, row_off=0, width=src.meta['width'], height=src.meta['height'])\n",
    "    for col_off, row_off in offsets:\n",
    "\n",
    "        window = windows.Window(\n",
    "            col_off=col_off - overlap,\n",
    "            row_off=row_off - overlap,\n",
    "            width=width + overlap * 2,\n",
    "            height=height + overlap * 2)\n",
    "\n",
    "        if boundless:\n",
    "            yield window, transform\n",
    "        else:\n",
    "            yield window.intersection(big_window), transform\n",
    "\n",
    "def process_image(src_img, dst_img, band_id=1):\n",
    "    with rasterio.open(src_img) as src:\n",
    "        kwargs = src.meta\n",
    "        with rasterio.open(dst_img, 'w', **kwargs) as dst:\n",
    "            for window, transform in overlapping_windows(src, overlap, width, height, boundless=False):\n",
    "                \n",
    "                src_data = src.read(band_id, window=window)\n",
    "                dst_data = src_data ** 2 # Do the Processing Here\n",
    "                \n",
    "                # write raster\n",
    "\n",
    "                profile = {\n",
    "                   'driver': 'GTiff',\n",
    "                   'tiled': True,\n",
    "                   'compress': None\n",
    "                }\n",
    "                dtype = rasterio.dtypes.get_minimum_dtype(dst_data)\n",
    "                crs = CRS.from_epsg(epsg)\n",
    "                height = dst_data.shape[1]\n",
    "                width = dst_data.shape[2]\n",
    "                count = dst_data.shape[0]\n",
    "\n",
    "                with rasterio.Env():\n",
    "                      profile.update(\n",
    "                      dtype=dtype,\n",
    "                      count=count,\n",
    "                      height=height,\n",
    "                      width=width,\n",
    "                      crs=crs,\n",
    "                      transform=transform\n",
    "                ) \n",
    "                with rasterio.open(out_path, 'w', **profile) as dst:\n",
    "                    for band_idx in range(count):\n",
    "                        arr_out = dst_data[band_idx, :, :, 0].astype(rasterio.dtypes.get_minimum_dtype(dst_data))\n",
    "                        dst.write(arr_out, 1 + band_idx)\n",
    "    return 0"
   ]
  },
  {
   "cell_type": "markdown",
   "metadata": {},
   "source": [
    "# Backlog"
   ]
  },
  {
   "cell_type": "code",
   "execution_count": null,
   "metadata": {},
   "outputs": [],
   "source": [
    "#check if all (label) files in a directory are loadable\n",
    "def check_all_labels(directory = os.fsencode(path_labels)):\n",
    "    print(\"Labels\")    \n",
    "    for file in os.listdir(directory):\n",
    "        filename = os.fsdecode(file)\n",
    "        if filename.endswith(\".tif\") or filename.endswith(\".TIF\") or filename.endswith(\".tiff\"): \n",
    "            print(filename)\n",
    "            load_tif(path_labels + filenyame)\n",
    "            print(\"\")\n",
    "            continue\n",
    "        else:\n",
    "            continue\n",
    "#check_all_labels(os.fsencode(path_labels))"
   ]
  },
  {
   "cell_type": "code",
   "execution_count": null,
   "metadata": {},
   "outputs": [],
   "source": [
    "# No. of Bands, Image resolution (X, Y), CRS (Coordinate Reference System)\n",
    "# print(label.count, label.height, label.width, label.crs)"
   ]
  },
  {
   "cell_type": "code",
   "execution_count": null,
   "metadata": {},
   "outputs": [],
   "source": [
    "# if else shorthand\n",
    "print(\"if True\") if False else print(\"if False\")"
   ]
  }
 ],
 "metadata": {
  "interpreter": {
   "hash": "aee8b7b246df8f9039afb4144a1f6fd8d2ca17a180786b69acc140d282b71a49"
  },
  "kernelspec": {
   "display_name": "Python 3",
   "language": "python",
   "name": "python3"
  },
  "language_info": {
   "codemirror_mode": {
    "name": "ipython",
    "version": 3
   },
   "file_extension": ".py",
   "mimetype": "text/x-python",
   "name": "python",
   "nbconvert_exporter": "python",
   "pygments_lexer": "ipython3",
   "version": "3.8.5"
  }
 },
 "nbformat": 4,
 "nbformat_minor": 4
}
