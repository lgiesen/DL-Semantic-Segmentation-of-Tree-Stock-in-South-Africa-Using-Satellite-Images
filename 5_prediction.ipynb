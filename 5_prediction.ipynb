{
 "cells": [
  {
   "cell_type": "markdown",
   "metadata": {},
   "source": [
    "# Prediction"
   ]
  },
  {
   "cell_type": "code",
   "execution_count": 1,
   "metadata": {},
   "outputs": [],
   "source": [
    "from config import config\n",
    "config = config.Configuration()"
   ]
  },
  {
   "cell_type": "code",
   "execution_count": 2,
   "metadata": {},
   "outputs": [],
   "source": [
    "from core.losses import tversky, accuracy, dice_coef, dice_loss, specificity, sensitivity\n",
    "from core.optimizers import adaDelta\n",
    "OPTIMIZER = adaDelta\n",
    "LOSS = tversky"
   ]
  },
  {
   "cell_type": "code",
   "execution_count": 3,
   "metadata": {},
   "outputs": [],
   "source": [
    "import keras\n",
    "from keras.models import load_model\n",
    "# check if model_path is already defined. This is the case when you run the pipeline and not this notebook alone\n",
    "if not \"model_path\" in locals(): model_path = config.filepath_model\n",
    "model = load_model(model_path, custom_objects={'tversky': LOSS, \n",
    "                                               'dice_coef': dice_coef, \n",
    "                                               'dice_loss':dice_loss, \n",
    "                                               'accuracy':accuracy , \n",
    "                                               'specificity': specificity, \n",
    "                                               'sensitivity':sensitivity}, \n",
    "                                               compile=False)"
   ]
  },
  {
   "cell_type": "code",
   "execution_count": 5,
   "metadata": {},
   "outputs": [
    {
     "name": "stdout",
     "output_type": "stream",
     "text": [
      "RMSE on test data:  0.28648752\n"
     ]
    }
   ],
   "source": [
    "import numpy as np\n",
    "from sklearn.metrics import mean_squared_error\n",
    "# predict the target on test data \n",
    "predict_test = model.predict(X_test_np)\n",
    "# Root Mean Squared Error on train and test date\n",
    "flattened_test = np.reshape(y_test_np,    np.prod(y_test_np.shape))\n",
    "flattened_pred = np.reshape(predict_test, np.prod(predict_test.shape))\n",
    "print('RMSE on test data: ', mean_squared_error(flattened_test, flattened_pred))"
   ]
  }
 ],
 "metadata": {
  "kernelspec": {
   "display_name": "Python 3",
   "language": "python",
   "name": "python3"
  },
  "language_info": {
   "codemirror_mode": {
    "name": "ipython",
    "version": 3
   },
   "file_extension": ".py",
   "mimetype": "text/x-python",
   "name": "python",
   "nbconvert_exporter": "python",
   "pygments_lexer": "ipython3",
   "version": "3.8.5"
  }
 },
 "nbformat": 4,
 "nbformat_minor": 4
}
