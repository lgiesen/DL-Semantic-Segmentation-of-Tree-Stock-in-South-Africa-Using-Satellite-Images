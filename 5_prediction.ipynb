{
 "cells": [
  {
   "cell_type": "markdown",
   "metadata": {},
   "source": [
    "# Prediction"
   ]
  },
  {
   "cell_type": "code",
   "execution_count": 1,
   "metadata": {},
   "outputs": [],
   "source": [
    "from config import config\n",
    "config = config.Configuration()"
   ]
  },
  {
   "cell_type": "markdown",
   "metadata": {},
   "source": [
    "### Model"
   ]
  },
  {
   "cell_type": "code",
   "execution_count": 2,
   "metadata": {},
   "outputs": [
    {
     "name": "stderr",
     "output_type": "stream",
     "text": [
      "2022-04-14 00:30:20.922567: W tensorflow/stream_executor/platform/default/dso_loader.cc:64] Could not load dynamic library 'libcudnn.so.8'; dlerror: libcudnn.so.8: cannot open shared object file: No such file or directory; LD_LIBRARY_PATH: /usr/local/nvidia/lib:/usr/local/nvidia/lib64\n",
      "2022-04-14 00:30:20.922602: W tensorflow/core/common_runtime/gpu/gpu_device.cc:1850] Cannot dlopen some GPU libraries. Please make sure the missing libraries mentioned above are installed properly if you would like to use GPU. Follow the guide at https://www.tensorflow.org/install/gpu for how to download and setup the required libraries for your platform.\n",
      "Skipping registering GPU devices...\n",
      "2022-04-14 00:30:20.923270: I tensorflow/core/platform/cpu_feature_guard.cc:151] This TensorFlow binary is optimized with oneAPI Deep Neural Network Library (oneDNN) to use the following CPU instructions in performance-critical operations:  AVX2 FMA\n",
      "To enable them in other operations, rebuild TensorFlow with the appropriate compiler flags.\n"
     ]
    }
   ],
   "source": [
    "from core.losses import tversky, accuracy, dice_coef, dice_loss, specificity, sensitivity\n",
    "from core.optimizers import adaDelta\n",
    "import keras\n",
    "from keras.models import load_model\n",
    "\n",
    "OPTIMIZER = adaDelta\n",
    "LOSS = tversky\n",
    "# check if model_path is already defined. This is the case when you run the pipeline and not this notebook alone\n",
    "if not \"model_path\" in locals(): model_path = config.filepath_model\n",
    "model = load_model(model_path, custom_objects={'tversky': LOSS, \n",
    "                                               'dice_coef': dice_coef, \n",
    "                                               'dice_loss': dice_loss, \n",
    "                                               'accuracy': accuracy , \n",
    "                                               'specificity': specificity, \n",
    "                                               'sensitivity': sensitivity}, \n",
    "                                               compile=False)"
   ]
  },
  {
   "cell_type": "code",
   "execution_count": 3,
   "metadata": {},
   "outputs": [],
   "source": [
    "def scale_up_color_val(array):\n",
    "    return [(num*255).astype(np.uint8) for num in array]\n",
    "\n",
    "def scale_down_color_val(array):\n",
    "    return [(num/255) for num in array]\n",
    "\n",
    "def visualize_res(x):\n",
    "    plt.imshow(scale_up_color_val(X_pred[x]))\n",
    "    plt.show()\n",
    "    plt.imshow(scale_up_color_val(y_pred[x]))\n",
    "    plt.show()"
   ]
  },
  {
   "cell_type": "code",
   "execution_count": null,
   "metadata": {
    "tags": []
   },
   "outputs": [],
   "source": [
    "%%time\n",
    "import os.path\n",
    "import numpy as np\n",
    "filepath_pred_patches = f\"{config.path_pred}patches_{config.pred_imgs[0][:-4]}.npy\"\n",
    "# check if satellite image exists and the patches have not been generated previously\n",
    "if os.path.isfile(config.path_satellite + config.pred_imgs[0]) and not os.path.isfile(filepath_pred_patches):\n",
    "    %run \"patch_creation_pred.py\"\n",
    "    print(\"Patches Created\")\n",
    "elif os.path.isfile(filepath_pred_patches):\n",
    "    X_pred = np.load(filepath_pred_patches)\n",
    "\n",
    "y_pred = model.predict(scale_down_color_val(X_pred))\n",
    "filepath_pred_y = f\"{config.path_patches}y_pred_patches_{filename[:-4]}.npy\"\n",
    "np.save(filepath_pred_y, y_pred)"
   ]
  },
  {
   "cell_type": "code",
   "execution_count": null,
   "metadata": {},
   "outputs": [],
   "source": [
    "visualize_res(10)"
   ]
  },
  {
   "cell_type": "code",
   "execution_count": null,
   "metadata": {},
   "outputs": [],
   "source": []
  }
 ],
 "metadata": {
  "kernelspec": {
   "display_name": "Python 3 (ipykernel)",
   "language": "python",
   "name": "python3"
  },
  "language_info": {
   "codemirror_mode": {
    "name": "ipython",
    "version": 3
   },
   "file_extension": ".py",
   "mimetype": "text/x-python",
   "name": "python",
   "nbconvert_exporter": "python",
   "pygments_lexer": "ipython3",
   "version": "3.8.10"
  }
 },
 "nbformat": 4,
 "nbformat_minor": 4
}
