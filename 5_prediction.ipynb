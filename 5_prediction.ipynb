{
 "cells": [
  {
   "cell_type": "markdown",
   "metadata": {},
   "source": [
    "# Prediction"
   ]
  },
  {
   "cell_type": "code",
   "execution_count": null,
   "metadata": {},
   "outputs": [],
   "source": [
    "from config import config\n",
    "config = config.Configuration()"
   ]
  },
  {
   "cell_type": "code",
   "execution_count": 2,
   "metadata": {
    "tags": []
   },
   "outputs": [],
   "source": [
    "# run previous notebooks if necessary\n",
    "if not \"run_prev_notebooks\" in locals(): # use case: this notebook\n",
    "    run_prev_notebooks = False\n",
    "    %run \"1_data_preparation.ipynb\""
   ]
  },
  {
   "cell_type": "markdown",
   "metadata": {},
   "source": [
    "### Model"
   ]
  },
  {
   "cell_type": "code",
   "execution_count": 3,
   "metadata": {},
   "outputs": [],
   "source": [
    "from core.losses import tversky, accuracy, dice_coef, dice_loss, specificity, sensitivity\n",
    "from core.optimizers import adaDelta\n",
    "OPTIMIZER = adaDelta\n",
    "LOSS = tversky"
   ]
  },
  {
   "cell_type": "code",
   "execution_count": 4,
   "metadata": {},
   "outputs": [],
   "source": [
    "import keras\n",
    "from keras.models import load_model\n",
    "# check if model_path is already defined. This is the case when you run the pipeline and not this notebook alone\n",
    "if not \"model_path\" in locals(): model_path = config.filepath_model\n",
    "model = load_model(model_path, custom_objects={'tversky': LOSS, \n",
    "                                               'dice_coef': dice_coef, \n",
    "                                               'dice_loss': dice_loss, \n",
    "                                               'accuracy': accuracy , \n",
    "                                               'specificity': specificity, \n",
    "                                               'sensitivity': sensitivity}, \n",
    "                                               compile=False)"
   ]
  },
  {
   "cell_type": "code",
   "execution_count": 15,
   "metadata": {},
   "outputs": [],
   "source": [
    "def inspect_arr(arr):\n",
    "    print(\"-\")\n",
    "    print(f\"Mean: {np.mean(arr)}\")\n",
    "    print(f\"Avg: {np.average(arr)}\")\n",
    "    print(f\"Min: {np.min(arr)}\")\n",
    "    print(f\"Max: {np.max(arr)}\")"
   ]
  },
  {
   "cell_type": "markdown",
   "metadata": {},
   "source": [
    "### Test Prediction"
   ]
  },
  {
   "cell_type": "code",
   "execution_count": 5,
   "metadata": {},
   "outputs": [
    {
     "name": "stdout",
     "output_type": "stream",
     "text": [
      "Test prediction completed\n",
      "CPU times: user 42min 10s, sys: 3min 38s, total: 45min 49s\n",
      "Wall time: 8min 45s\n"
     ]
    }
   ],
   "source": [
    "%%time\n",
    "import numpy as np\n",
    "from sklearn.metrics import mean_squared_error\n",
    "# predict the target on test data \n",
    "pred_test_p = model.predict(X_test) # confidence for class 0\n",
    "print(\"Test prediction completed\")"
   ]
  },
  {
   "cell_type": "code",
   "execution_count": 6,
   "metadata": {},
   "outputs": [
    {
     "name": "stdout",
     "output_type": "stream",
     "text": [
      "RMSE on test data:  0.046950677446455216\n"
     ]
    }
   ],
   "source": [
    "pred_test = (pred_test_p <= 0.97) * pred_test_p\n",
    "# Root Mean Squared Error on train and test date\n",
    "flattened_test = np.reshape(y_test,    np.prod(y_test.shape))\n",
    "flattened_pred = np.reshape(pred_test, np.prod(pred_test.shape))\n",
    "print('RMSE on test data: ', mean_squared_error(flattened_test, flattened_pred))\n",
    "\n",
    "# np.average(pred_test_p): 0.14"
   ]
  },
  {
   "cell_type": "code",
   "execution_count": 10,
   "metadata": {},
   "outputs": [
    {
     "data": {
      "image/png": "[encoded data removed]",
      "text/plain": [
       "<Figure size 432x288 with 1 Axes>"
      ]
     },
     "metadata": {
      "needs_background": "light"
     },
     "output_type": "display_data"
    }
   ],
   "source": [
    "plt.imshow(scale_up_color_val(pred_test_p[33]))\n",
    "plt.show()"
   ]
  },
  {
   "cell_type": "markdown",
   "metadata": {},
   "source": [
    "### Functions"
   ]
  },
  {
   "cell_type": "code",
   "execution_count": 7,
   "metadata": {},
   "outputs": [],
   "source": [
    "def scale_up_color_val(array):\n",
    "    return [(num*255).astype(np.uint8) for num in array]"
   ]
  },
  {
   "cell_type": "code",
   "execution_count": 8,
   "metadata": {},
   "outputs": [],
   "source": [
    "from numpy import ndarray\n",
    "def show_rounded(idx):\n",
    "    rounded = [ndarray.round(num, 0) for num in pred_test]\n",
    "    show_rasterio(pred_test[idx])"
   ]
  },
  {
   "cell_type": "code",
   "execution_count": 9,
   "metadata": {},
   "outputs": [],
   "source": [
    "from rasterio.plot import show as show_rasterio\n",
    "from patch_creation import show\n",
    "def show_img(idx):\n",
    "    print(idx)\n",
    "    print(\"Original\")\n",
    "    show(scale_up_color_val(X_test)[idx], scale_up_color_val(y_test)[idx])\n",
    "    print(\"Prediction\")\n",
    "    # print(\"Rasterio\")\n",
    "    # show_rasterio(pred_test[idx])\n",
    "    # print(\"Matplotlib\")\n",
    "    plt.imshow(scale_up_color_val(pred_test[idx]))\n",
    "    plt.show()\n",
    "    plt.imshow(scale_up_color_val(pred_test_p[idx]))\n",
    "    plt.show()"
   ]
  },
  {
   "cell_type": "code",
   "execution_count": null,
   "metadata": {},
   "outputs": [],
   "source": [
    "from patch_creation import show\n",
    "def scale_up_color_val(array):\n",
    "    return [(num*255).astype(np.uint8) for num in array]\n",
    "\n",
    "def show_pred(X, y, idx):\n",
    "    print(idx)\n",
    "    show(scale_up_color_val(X)[idx], scale_up_color_val(y)[idx])"
   ]
  },
  {
   "cell_type": "code",
   "execution_count": 12,
   "metadata": {},
   "outputs": [
    {
     "name": "stdout",
     "output_type": "stream",
     "text": [
      "-\n",
      "Mean: 0.9968584775924683\n",
      "Avg: 0.9968584775924683\n",
      "Min: 0.8394709825515747\n",
      "Max: 1.0\n",
      "-\n",
      "Mean: 0.033482979983091354\n",
      "Avg: 0.033482979983091354\n",
      "Min: 0.0\n",
      "Max: 0.9700000286102295\n"
     ]
    }
   ],
   "source": [
    "inspect_arr(pred_test_p)\n",
    "inspect_arr(pred_test)"
   ]
  },
  {
   "cell_type": "code",
   "execution_count": 13,
   "metadata": {},
   "outputs": [
    {
     "name": "stdout",
     "output_type": "stream",
     "text": [
      "/Users/leori/Desktop/BA/1_Data/2_satellite/2629BD_2018.tif True\n"
     ]
    }
   ],
   "source": [
    "import os.path\n",
    "for filename in config.pred_imgs:\n",
    "    filepath = config.path_satellite + filename\n",
    "    print(filepath, os.path.isfile(filepath))"
   ]
  },
  {
   "cell_type": "markdown",
   "metadata": {},
   "source": [
    "### Create Prediction Patches"
   ]
  },
  {
   "cell_type": "code",
   "execution_count": 21,
   "metadata": {},
   "outputs": [
    {
     "name": "stdout",
     "output_type": "stream",
     "text": [
      "Patches Created\n",
      "CPU times: user 3.36 s, sys: 6.23 s, total: 9.59 s\n",
      "Wall time: 10.6 s\n"
     ]
    }
   ],
   "source": [
    "%%time\n",
    "import os.path\n",
    "filepath_pred_patches = f\"{config.path_patches}pred_patches_{config.pred_imgs[0][:-4]}.npy\"\n",
    "# check if satellite image exists and the patches have not been generated previously\n",
    "if os.path.isfile(config.path_satellite + config.pred_imgs[0]) and not os.path.isfile(filepath_pred_patches):\n",
    "    %run \"patch_creation_pred.py\"\n",
    "    print(\"Patches Created\")"
   ]
  },
  {
   "cell_type": "code",
   "execution_count": 22,
   "metadata": {},
   "outputs": [
    {
     "name": "stdout",
     "output_type": "stream",
     "text": [
      "(1089, 256, 256, 3)\n"
     ]
    }
   ],
   "source": [
    "import numpy as np\n",
    "filename = config.pred_imgs[0]\n",
    "X_pred = np.load(filepath_pred_patches)\n",
    "print(X_pred.shape)\n",
    "#pred_sat = model.predict(X_pred) # confidence for class 0?"
   ]
  },
  {
   "cell_type": "code",
   "execution_count": 23,
   "metadata": {},
   "outputs": [
    {
     "name": "stdout",
     "output_type": "stream",
     "text": [
      "-\n",
      "Mean: 0.41817765729832335\n",
      "Avg: 0.41817765729832335\n",
      "Min: 0.0\n",
      "Max: 0.9058823529411765\n"
     ]
    }
   ],
   "source": [
    "inspect_arr(X_pred)"
   ]
  },
  {
   "cell_type": "code",
   "execution_count": 24,
   "metadata": {},
   "outputs": [
    {
     "name": "stdout",
     "output_type": "stream",
     "text": [
      "CPU times: user 213 µs, sys: 37 µs, total: 250 µs\n",
      "Wall time: 255 µs\n"
     ]
    }
   ],
   "source": [
    "%%time\n",
    "X_pred_l = list(X_pred)"
   ]
  },
  {
   "cell_type": "code",
   "execution_count": 25,
   "metadata": {},
   "outputs": [
    {
     "data": {
      "image/png": "[encoded data removed]",
      "text/plain": [
       "<Figure size 432x288 with 1 Axes>"
      ]
     },
     "metadata": {
      "needs_background": "light"
     },
     "output_type": "display_data"
    },
    {
     "data": {
      "image/png": "[encoded data removed]",
      "text/plain": [
       "<Figure size 432x288 with 1 Axes>"
      ]
     },
     "metadata": {
      "needs_background": "light"
     },
     "output_type": "display_data"
    }
   ],
   "source": [
    "for x in [620, 621]:\n",
    "    plt.imshow(X_pred[x])\n",
    "    plt.show()"
   ]
  },
  {
   "cell_type": "code",
   "execution_count": 11,
   "metadata": {},
   "outputs": [
    {
     "ename": "NameError",
     "evalue": "name 'model' is not defined",
     "output_type": "error",
     "traceback": [
      "\u001b[0;31m---------------------------------------------------------------------------\u001b[0m",
      "\u001b[0;31mNameError\u001b[0m                                 Traceback (most recent call last)",
      "\u001b[0;32m<ipython-input-11-f27c9208b352>\u001b[0m in \u001b[0;36m<module>\u001b[0;34m\u001b[0m\n\u001b[0;32m----> 1\u001b[0;31m \u001b[0mpred_sat\u001b[0m \u001b[0;34m=\u001b[0m \u001b[0mmodel\u001b[0m\u001b[0;34m.\u001b[0m\u001b[0mpredict\u001b[0m\u001b[0;34m(\u001b[0m\u001b[0mX_pred\u001b[0m\u001b[0;34m[\u001b[0m\u001b[0;36m550\u001b[0m\u001b[0;34m]\u001b[0m\u001b[0;34m)\u001b[0m\u001b[0;34m\u001b[0m\u001b[0;34m\u001b[0m\u001b[0m\n\u001b[0m",
      "\u001b[0;31mNameError\u001b[0m: name 'model' is not defined"
     ]
    }
   ],
   "source": [
    "pred_sat = model.predict(X_pred[550])"
   ]
  },
  {
   "cell_type": "code",
   "execution_count": null,
   "metadata": {},
   "outputs": [
    {
     "ename": "",
     "evalue": "",
     "output_type": "error",
     "traceback": [
      "\u001b[1;31mFailed to start the Kernel. \n",
      "Failed to start the Kernel 'Python 3.9.1 64-bit'. \n",
      "View Jupyter <a href='command:jupyter.viewOutput'>log</a> for further details. Interrupted system call"
     ]
    }
   ],
   "source": [
    "inspect_arr(pred_sat)"
   ]
  },
  {
   "cell_type": "code",
   "execution_count": null,
   "metadata": {},
   "outputs": [
    {
     "ename": "",
     "evalue": "",
     "output_type": "error",
     "traceback": [
      "\u001b[1;31mFailed to start the Kernel. \n",
      "Failed to start the Kernel 'Python 3.9.1 64-bit'. \n",
      "View Jupyter <a href='command:jupyter.viewOutput'>log</a> for further details. Interrupted system call"
     ]
    }
   ],
   "source": [
    "plt.imshow(scale_up_color_val(pred_sat))\n",
    "plt.show()"
   ]
  },
  {
   "cell_type": "code",
   "execution_count": null,
   "metadata": {},
   "outputs": [
    {
     "ename": "",
     "evalue": "",
     "output_type": "error",
     "traceback": [
      "\u001b[1;31mFailed to start the Kernel. \n",
      "Failed to start the Kernel 'Python 3.9.1 64-bit'. \n",
      "View Jupyter <a href='command:jupyter.viewOutput'>log</a> for further details. Interrupted system call"
     ]
    }
   ],
   "source": [
    "pred_sat = model.predict(X_pred)"
   ]
  },
  {
   "cell_type": "code",
   "execution_count": null,
   "metadata": {},
   "outputs": [
    {
     "ename": "",
     "evalue": "",
     "output_type": "error",
     "traceback": [
      "\u001b[1;31mFailed to start the Kernel. \n",
      "Failed to start the Kernel 'Python 3.9.1 64-bit'. \n",
      "View Jupyter <a href='command:jupyter.viewOutput'>log</a> for further details. Interrupted system call"
     ]
    }
   ],
   "source": [
    "inspect_arr(pred_sat)"
   ]
  },
  {
   "cell_type": "code",
   "execution_count": null,
   "metadata": {},
   "outputs": [
    {
     "ename": "",
     "evalue": "",
     "output_type": "error",
     "traceback": [
      "\u001b[1;31mFailed to start the Kernel. \n",
      "Failed to start the Kernel 'Python 3.9.1 64-bit'. \n",
      "View Jupyter <a href='command:jupyter.viewOutput'>log</a> for further details. Interrupted system call"
     ]
    }
   ],
   "source": [
    "np.save(f\"{config.path_data}4_pred/{config.pred_imgs[0][:-4]}.npy\", pred_sat)"
   ]
  },
  {
   "cell_type": "code",
   "execution_count": null,
   "metadata": {},
   "outputs": [
    {
     "ename": "",
     "evalue": "",
     "output_type": "error",
     "traceback": [
      "\u001b[1;31mFailed to start the Kernel. \n",
      "Failed to start the Kernel 'Python 3.9.1 64-bit'. \n",
      "View Jupyter <a href='command:jupyter.viewOutput'>log</a> for further details. Interrupted system call"
     ]
    }
   ],
   "source": []
  },
  {
   "cell_type": "code",
   "execution_count": null,
   "metadata": {
    "collapsed": true,
    "jupyter": {
     "outputs_hidden": true
    },
    "tags": []
   },
   "outputs": [
    {
     "ename": "",
     "evalue": "",
     "output_type": "error",
     "traceback": [
      "\u001b[1;31mFailed to start the Kernel. \n",
      "Failed to start the Kernel 'Python 3.9.1 64-bit'. \n",
      "View Jupyter <a href='command:jupyter.viewOutput'>log</a> for further details. Interrupted system call"
     ]
    }
   ],
   "source": [
    "x = 4500 #1448\n",
    "for x in range(1600, 23000, 55):#[1500, 2000, 2500, 3000, 3500]:\n",
    "    pred_test_p = model.predict(np.expand_dims(X_pred[x],0))\n",
    "\n",
    "    import matplotlib.pyplot as plt\n",
    "    plt.imshow(scale_up_color_val(X_pred[x]))\n",
    "    plt.show()\n",
    "\n",
    "    plt.imshow(scale_up_color_val(np.reshape(pred_test_p,(256, 256, 1))))\n",
    "    plt.show()"
   ]
  },
  {
   "cell_type": "code",
   "execution_count": null,
   "metadata": {
    "collapsed": true,
    "jupyter": {
     "outputs_hidden": true
    },
    "tags": []
   },
   "outputs": [
    {
     "ename": "",
     "evalue": "",
     "output_type": "error",
     "traceback": [
      "\u001b[1;31mFailed to start the Kernel. \n",
      "Failed to start the Kernel 'Python 3.9.1 64-bit'. \n",
      "View Jupyter <a href='command:jupyter.viewOutput'>log</a> for further details. Interrupted system call"
     ]
    }
   ],
   "source": [
    "import matplotlib.pyplot as plt\n",
    "plt.imshow(scale_up_color_val(X_pred[x]))\n",
    "plt.show()\n",
    "\n",
    "plt.imshow(scale_up_color_val(np.reshape(pred_test_p,(256, 256, 1))))\n",
    "plt.show()"
   ]
  },
  {
   "cell_type": "code",
   "execution_count": null,
   "metadata": {
    "collapsed": true,
    "jupyter": {
     "outputs_hidden": true
    },
    "tags": []
   },
   "outputs": [
    {
     "ename": "",
     "evalue": "",
     "output_type": "error",
     "traceback": [
      "\u001b[1;31mFailed to start the Kernel. \n",
      "Failed to start the Kernel 'Python 3.9.1 64-bit'. \n",
      "View Jupyter <a href='command:jupyter.viewOutput'>log</a> for further details. Interrupted system call"
     ]
    }
   ],
   "source": [
    "threshold = np.average(pred_test_p)\n",
    "pred_test = (pred_test_p > threshold)\n",
    "\n",
    "plt.imshow(scale_up_color_val(X_pred[x]))\n",
    "plt.show()\n",
    "\n",
    "plt.imshow(scale_up_color_val(np.reshape(pred_test_p,(256, 256, 1))))\n",
    "plt.show()"
   ]
  },
  {
   "cell_type": "code",
   "execution_count": null,
   "metadata": {
    "collapsed": true,
    "jupyter": {
     "outputs_hidden": true
    },
    "tags": []
   },
   "outputs": [
    {
     "ename": "",
     "evalue": "",
     "output_type": "error",
     "traceback": [
      "\u001b[1;31mFailed to start the Kernel. \n",
      "Failed to start the Kernel 'Python 3.9.1 64-bit'. \n",
      "View Jupyter <a href='command:jupyter.viewOutput'>log</a> for further details. Interrupted system call"
     ]
    }
   ],
   "source": [
    "threshold = 0.5\n",
    "pred_test = (pred_test_p > threshold)\n",
    "\n",
    "plt.imshow(scale_up_color_val(X_pred[x]))\n",
    "plt.show()\n",
    "\n",
    "plt.imshow(scale_up_color_val(np.reshape(pred_test_p,(256, 256, 1))))\n",
    "plt.show()"
   ]
  },
  {
   "cell_type": "code",
   "execution_count": null,
   "metadata": {},
   "outputs": [
    {
     "ename": "",
     "evalue": "",
     "output_type": "error",
     "traceback": [
      "\u001b[1;31mFailed to start the Kernel. \n",
      "Failed to start the Kernel 'Python 3.9.1 64-bit'. \n",
      "View Jupyter <a href='command:jupyter.viewOutput'>log</a> for further details. Interrupted system call"
     ]
    }
   ],
   "source": [
    "X_pred.shape, np.reshape(pred_sat, pred_sat.shape[:-1]).shape"
   ]
  },
  {
   "cell_type": "code",
   "execution_count": null,
   "metadata": {},
   "outputs": [
    {
     "ename": "",
     "evalue": "",
     "output_type": "error",
     "traceback": [
      "\u001b[1;31mFailed to start the Kernel. \n",
      "Failed to start the Kernel 'Python 3.9.1 64-bit'. \n",
      "View Jupyter <a href='command:jupyter.viewOutput'>log</a> for further details. Interrupted system call"
     ]
    }
   ],
   "source": [
    "pred_test_p = model.predict(np.expand_dims(X_pred[1000],0))"
   ]
  },
  {
   "cell_type": "code",
   "execution_count": null,
   "metadata": {
    "tags": []
   },
   "outputs": [
    {
     "ename": "",
     "evalue": "",
     "output_type": "error",
     "traceback": [
      "\u001b[1;31mFailed to start the Kernel. \n",
      "Failed to start the Kernel 'Python 3.9.1 64-bit'. \n",
      "View Jupyter <a href='command:jupyter.viewOutput'>log</a> for further details. Interrupted system call"
     ]
    }
   ],
   "source": [
    "for x in [1500, 20000, 10000, 5000, 15000]:\n",
    "    plt.imshow(scale_up_color_val(pred_sat[x]))\n",
    "    plt.show()"
   ]
  },
  {
   "cell_type": "code",
   "execution_count": null,
   "metadata": {},
   "outputs": [
    {
     "ename": "",
     "evalue": "",
     "output_type": "error",
     "traceback": [
      "\u001b[1;31mFailed to start the Kernel. \n",
      "Failed to start the Kernel 'Python 3.9.1 64-bit'. \n",
      "View Jupyter <a href='command:jupyter.viewOutput'>log</a> for further details. Interrupted system call"
     ]
    }
   ],
   "source": [
    "plt.imshow(np.reshape(pred_sat, pred_sat.shape[:-1]))\n",
    "plt.show()"
   ]
  },
  {
   "cell_type": "code",
   "execution_count": null,
   "metadata": {},
   "outputs": [
    {
     "ename": "",
     "evalue": "",
     "output_type": "error",
     "traceback": [
      "\u001b[1;31mFailed to start the Kernel. \n",
      "Failed to start the Kernel 'Python 3.9.1 64-bit'. \n",
      "View Jupyter <a href='command:jupyter.viewOutput'>log</a> for further details. Interrupted system call"
     ]
    }
   ],
   "source": [
    "show_pred(X_pred, np.reshape(pred_sat, pred_sat.shape[:-1]), 1000)"
   ]
  },
  {
   "cell_type": "code",
   "execution_count": null,
   "metadata": {},
   "outputs": [
    {
     "ename": "",
     "evalue": "",
     "output_type": "error",
     "traceback": [
      "\u001b[1;31mFailed to start the Kernel. \n",
      "Failed to start the Kernel 'Python 3.9.1 64-bit'. \n",
      "View Jupyter <a href='command:jupyter.viewOutput'>log</a> for further details. Interrupted system call"
     ]
    }
   ],
   "source": [
    "pred_test_p = model.predict(X_pred)\n",
    "np.save(f\"{config.path_data}4_pred/{config.pred_imgs[0][:-4]}.npy\", pred_test_p)"
   ]
  },
  {
   "cell_type": "code",
   "execution_count": null,
   "metadata": {},
   "outputs": [
    {
     "ename": "",
     "evalue": "",
     "output_type": "error",
     "traceback": [
      "\u001b[1;31mFailed to start the Kernel. \n",
      "Failed to start the Kernel 'Python 3.9.1 64-bit'. \n",
      "View Jupyter <a href='command:jupyter.viewOutput'>log</a> for further details. Interrupted system call"
     ]
    }
   ],
   "source": [
    "def pred_img(filename):\n",
    "    X_pred = np.load(f\"{config.path_patches}pred_patches_{filename[:-4]}.npy\")\n",
    "    print(X_pred.shape)\n",
    "    pred_sat = model.predict(X_pred) # confidence for class 0?\n",
    "    show_pred(X_pred, pred_sat, 4)"
   ]
  },
  {
   "cell_type": "code",
   "execution_count": null,
   "metadata": {},
   "outputs": [
    {
     "ename": "",
     "evalue": "",
     "output_type": "error",
     "traceback": [
      "\u001b[1;31mFailed to start the Kernel. \n",
      "Failed to start the Kernel 'Python 3.9.1 64-bit'. \n",
      "View Jupyter <a href='command:jupyter.viewOutput'>log</a> for further details. Interrupted system call"
     ]
    }
   ],
   "source": [
    "for filename in config.pred_imgs:\n",
    "    pred_img(filename)"
   ]
  },
  {
   "cell_type": "code",
   "execution_count": null,
   "metadata": {},
   "outputs": [
    {
     "ename": "",
     "evalue": "",
     "output_type": "error",
     "traceback": [
      "\u001b[1;31mFailed to start the Kernel. \n",
      "Failed to start the Kernel 'Python 3.9.1 64-bit'. \n",
      "View Jupyter <a href='command:jupyter.viewOutput'>log</a> for further details. Interrupted system call"
     ]
    }
   ],
   "source": [
    "# merge imgs\n",
    "reconstructed_image = unpatchify(X_pred, X_pred.shape) #patches, shape"
   ]
  },
  {
   "cell_type": "code",
   "execution_count": null,
   "metadata": {},
   "outputs": [
    {
     "ename": "",
     "evalue": "",
     "output_type": "error",
     "traceback": [
      "\u001b[1;31mFailed to start the Kernel. \n",
      "Failed to start the Kernel 'Python 3.9.1 64-bit'. \n",
      "View Jupyter <a href='command:jupyter.viewOutput'>log</a> for further details. Interrupted system call"
     ]
    }
   ],
   "source": [
    "plt.imshow(reconstructed_image)\n",
    "plt.show()"
   ]
  },
  {
   "cell_type": "code",
   "execution_count": null,
   "metadata": {},
   "outputs": [
    {
     "ename": "",
     "evalue": "",
     "output_type": "error",
     "traceback": [
      "\u001b[1;31mFailed to start the Kernel. \n",
      "Failed to start the Kernel 'Python 3.9.1 64-bit'. \n",
      "View Jupyter <a href='command:jupyter.viewOutput'>log</a> for further details. Interrupted system call"
     ]
    }
   ],
   "source": []
  },
  {
   "cell_type": "code",
   "execution_count": null,
   "metadata": {},
   "outputs": [
    {
     "ename": "",
     "evalue": "",
     "output_type": "error",
     "traceback": [
      "\u001b[1;31mFailed to start the Kernel. \n",
      "Failed to start the Kernel 'Python 3.9.1 64-bit'. \n",
      "View Jupyter <a href='command:jupyter.viewOutput'>log</a> for further details. Interrupted system call"
     ]
    }
   ],
   "source": [
    "import numpy as np\n",
    "from sklearn.metrics import mean_squared_error\n",
    "# predict the target on test data \n",
    "pred_test_p = model.predict(X_test) # confidence for class 0"
   ]
  },
  {
   "cell_type": "code",
   "execution_count": null,
   "metadata": {},
   "outputs": [
    {
     "ename": "",
     "evalue": "",
     "output_type": "error",
     "traceback": [
      "\u001b[1;31mFailed to start the Kernel. \n",
      "Failed to start the Kernel 'Python 3.9.1 64-bit'. \n",
      "View Jupyter <a href='command:jupyter.viewOutput'>log</a> for further details. Interrupted system call"
     ]
    }
   ],
   "source": [
    "show(X_test[33], pred_test_p[33])"
   ]
  },
  {
   "cell_type": "code",
   "execution_count": null,
   "metadata": {},
   "outputs": [
    {
     "ename": "",
     "evalue": "",
     "output_type": "error",
     "traceback": [
      "\u001b[1;31mFailed to start the Kernel. \n",
      "Failed to start the Kernel 'Python 3.9.1 64-bit'. \n",
      "View Jupyter <a href='command:jupyter.viewOutput'>log</a> for further details. Interrupted system call"
     ]
    }
   ],
   "source": [
    "idx = 33\n",
    "plt.imshow(scale_up_color_val(X_test[idx]))\n",
    "plt.show()\n",
    "plt.imshow(scale_up_color_val(pred_test_p[idx]))\n",
    "plt.show()"
   ]
  },
  {
   "cell_type": "code",
   "execution_count": null,
   "metadata": {
    "collapsed": true,
    "jupyter": {
     "outputs_hidden": true
    },
    "tags": []
   },
   "outputs": [
    {
     "ename": "",
     "evalue": "",
     "output_type": "error",
     "traceback": [
      "\u001b[1;31mFailed to start the Kernel. \n",
      "Failed to start the Kernel 'Python 3.9.1 64-bit'. \n",
      "View Jupyter <a href='command:jupyter.viewOutput'>log</a> for further details. Interrupted system call"
     ]
    }
   ],
   "source": [
    "for idx in range(900,1000,20):\n",
    "    plt.imshow(scale_up_color_val(X_pred[idx]))\n",
    "    plt.show()\n",
    "    plt.imshow(scale_up_color_val(pred_sat[idx]))\n",
    "    plt.show()"
   ]
  },
  {
   "cell_type": "code",
   "execution_count": null,
   "metadata": {},
   "outputs": [
    {
     "ename": "",
     "evalue": "",
     "output_type": "error",
     "traceback": [
      "\u001b[1;31mFailed to start the Kernel. \n",
      "Failed to start the Kernel 'Python 3.9.1 64-bit'. \n",
      "View Jupyter <a href='command:jupyter.viewOutput'>log</a> for further details. Interrupted system call"
     ]
    }
   ],
   "source": [
    "def pred_img(filename):\n",
    "    X_pred = np.load(f\"{config.path_patches}pred_patches_{filename[:-4]}.npy\")\n",
    "    print(X_pred.shape)\n",
    "    pred_sat = model.predict(X_pred) # confidence for class 0?\n",
    "    show_pred(X_pred, pred_sat, 4)"
   ]
  },
  {
   "cell_type": "code",
   "execution_count": null,
   "metadata": {},
   "outputs": [
    {
     "ename": "",
     "evalue": "",
     "output_type": "error",
     "traceback": [
      "\u001b[1;31mFailed to start the Kernel. \n",
      "Failed to start the Kernel 'Python 3.9.1 64-bit'. \n",
      "View Jupyter <a href='command:jupyter.viewOutput'>log</a> for further details. Interrupted system call"
     ]
    }
   ],
   "source": [
    "pred_sat.shape"
   ]
  },
  {
   "cell_type": "code",
   "execution_count": null,
   "metadata": {},
   "outputs": [
    {
     "ename": "",
     "evalue": "",
     "output_type": "error",
     "traceback": [
      "\u001b[1;31mFailed to start the Kernel. \n",
      "Failed to start the Kernel 'Python 3.9.1 64-bit'. \n",
      "View Jupyter <a href='command:jupyter.viewOutput'>log</a> for further details. Interrupted system call"
     ]
    }
   ],
   "source": [
    "print(np.min(pred_sat), np.max(pred_sat))"
   ]
  },
  {
   "cell_type": "code",
   "execution_count": null,
   "metadata": {},
   "outputs": [
    {
     "ename": "",
     "evalue": "",
     "output_type": "error",
     "traceback": [
      "\u001b[1;31mFailed to start the Kernel. \n",
      "Failed to start the Kernel 'Python 3.9.1 64-bit'. \n",
      "View Jupyter <a href='command:jupyter.viewOutput'>log</a> for further details. Interrupted system call"
     ]
    }
   ],
   "source": []
  }
 ],
 "metadata": {
  "kernelspec": {
   "display_name": "Python 3",
   "language": "python",
   "name": "python3"
  },
  "language_info": {
   "codemirror_mode": {
    "name": "ipython",
    "version": 3
   },
   "file_extension": ".py",
   "mimetype": "text/x-python",
   "name": "python",
   "nbconvert_exporter": "python",
   "pygments_lexer": "ipython3",
   "version": "3.9.1"
  }
 },
 "nbformat": 4,
 "nbformat_minor": 4
}
