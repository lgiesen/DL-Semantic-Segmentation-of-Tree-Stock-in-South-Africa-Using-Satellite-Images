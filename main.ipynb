{
 "cells": [
  {
   "cell_type": "markdown",
   "metadata": {},
   "source": [
    "# Data Preparation"
   ]
  },
  {
   "cell_type": "markdown",
   "metadata": {},
   "source": [
    "## Imports"
   ]
  },
  {
   "cell_type": "markdown",
   "metadata": {
    "tags": []
   },
   "source": [
    "### Identify System"
   ]
  },
  {
   "cell_type": "code",
   "execution_count": 1,
   "metadata": {
    "tags": []
   },
   "outputs": [
    {
     "name": "stdout",
     "output_type": "stream",
     "text": [
      "working_on_server:  True\n"
     ]
    }
   ],
   "source": [
    "import platform\n",
    "my_os = platform.system()\n",
    "if my_os == \"Darwin\":\n",
    "    working_on_server = False\n",
    "elif my_os == \"Linux\":\n",
    "    working_on_server = True\n",
    "else: raise Exception(\"You are neither on your Mac or on the Linux server. Something went wrong.\")\n",
    "print(\"working_on_server: \", working_on_server)"
   ]
  },
  {
   "cell_type": "code",
   "execution_count": 33,
   "metadata": {},
   "outputs": [
    {
     "name": "stdout",
     "output_type": "stream",
     "text": [
      "True True\n"
     ]
    }
   ],
   "source": [
    "import os.path\n",
    "if working_on_server:\n",
    "    path_labels = os.getcwd() + \"/1_labeled_data/\"\n",
    "    path_rdg = \"/home/jovyan/work/satellite_data/\"\n",
    "else:\n",
    "    path_labels = \"/Users/leori/Desktop/BA/1_Data/1_labeled_data/\"\n",
    "    path_rdg = \"/Users/leori/Downloads/RDG_storage/\"\n",
    "label_tif = path_labels + \"tif/144.tif\"\n",
    "print(os.path.isfile(path_rdg + \"2629BD_2018.tif\"), os.path.isfile(label_tif))\n",
    "# TODO: locally only jp2.tif files, whereas on the server only tif file?!"
   ]
  },
  {
   "cell_type": "markdown",
   "metadata": {
    "tags": []
   },
   "source": [
    "Great Packages:\n",
    "- Pandas: provide data structures and data analysis tools\n",
    "- Numpy: a fundamental package for scientific computing with Python\n",
    "- SciPy:(pronounced “Sigh Pie”) is a Python-based ecosystem of open-source software for mathematics, science, and engineering\n",
    "- RTree: a ctypes Python wrapper of libspatialindex that provides a number of advanced spatial indexing features\n",
    "- GDAL: translator library for raster and vector geospatial data formats\n",
    "- Fiona: Fiona reads and writes spatial data files\n",
    "- Shapely: Geometric objects, predicates, and operations\n",
    "- GeoPandas: extends the datatypes used by pandas to allow spatial operations on geometric types.\n",
    "- PySAL: a library of spatial analysis functions written in Python intended to support the development of high-level applications.\n",
    "- Matplotlib: Python 2D plotting library\n",
    "- Missingno: Missing data visualization module for Python"
   ]
  },
  {
   "cell_type": "markdown",
   "metadata": {},
   "source": [
    "### Import Image"
   ]
  },
  {
   "cell_type": "markdown",
   "metadata": {
    "tags": []
   },
   "source": [
    "#### Import Image with PIL"
   ]
  },
  {
   "cell_type": "code",
   "execution_count": 3,
   "metadata": {
    "tags": []
   },
   "outputs": [],
   "source": [
    "# Import was prevented because Image size (329910267 pixels) exceeds limit of 178956970 pixels, could be decompression bomb DOS attack.\n",
    "# Increase max_img_pixels: https://stackoverflow.com/questions/51152059/pillow-in-python-wont-let-me-open-image-exceeds-limit\n",
    "# import PIL\n",
    "# from PIL import Image\n",
    "# PIL.Image.MAX_IMAGE_PIXELS = 933120000\n",
    "# label = Image.open(label_tif)\n",
    "# label.show() # takes 52 seconds\n",
    "\n",
    "# or:\n",
    "# import matplotlib.pyplot as plt\n",
    "# label = plt.imread(label_tif)"
   ]
  },
  {
   "cell_type": "code",
   "execution_count": 4,
   "metadata": {
    "tags": []
   },
   "outputs": [],
   "source": [
    "from os import listdir\n",
    "from os.path import isfile, join\n",
    "def print_files(path = os.getcwd()):\n",
    "    onlyfiles = [f for f in listdir(path) if isfile(join(path, f))]\n",
    "    print(path, onlyfiles)"
   ]
  },
  {
   "cell_type": "code",
   "execution_count": 45,
   "metadata": {
    "tags": []
   },
   "outputs": [
    {
     "name": "stdout",
     "output_type": "stream",
     "text": [
      "/home/jovyan/work/saved_data/Semantic_Segmentation_of_Tree_Stock/ ['exported_tif.tif', 'main.ipynb']\n"
     ]
    }
   ],
   "source": [
    "print_files(path_labels)"
   ]
  },
  {
   "cell_type": "markdown",
   "metadata": {},
   "source": [
    "#### Import Image with GDAL"
   ]
  },
  {
   "cell_type": "code",
   "execution_count": 34,
   "metadata": {},
   "outputs": [],
   "source": [
    "from osgeo import gdal\n",
    "import numpy as np\n",
    "dataset = gdal.Open(path_rdg + \"2629BD_2018.tif\")\n",
    "# \"/home/jovyan/work/saved_data/Semantic_Segmentation_of_Tree_Stock/1_labeled_data/tif/144.tif\" (label file) results in an error -> probably wrong format?"
   ]
  },
  {
   "cell_type": "markdown",
   "metadata": {},
   "source": [
    "### 0.1 Data Inspection"
   ]
  },
  {
   "cell_type": "code",
   "execution_count": 35,
   "metadata": {},
   "outputs": [
    {
     "name": "stdout",
     "output_type": "stream",
     "text": [
      "1. General TIF Data:\n",
      "Metadata: {'ALL_COMMENTS': 'Created by OpenJPEG version 2.4.0', 'AREA_OR_POINT': 'Area', 'COLORSPACE': 'RGB', 'COMPRESSION_RATE_TARGET': '1', 'TIFFTAG_MAXSAMPLEVALUE': '0', 'TIFFTAG_MINSAMPLEVALUE': '0', 'TIFFTAG_RESOLUTIONUNIT': '1 (unitless)', 'TIFFTAG_XRESOLUTION': '0', 'TIFFTAG_YRESOLUTION': '0'}\n",
      "Type Image:  <class 'osgeo.gdal.Dataset'>\n",
      "Projection:  GEOGCS[\"WGS 84\",DATUM[\"WGS_1984\",SPHEROID[\"WGS 84\",6378137,298.257223563,AUTHORITY[\"EPSG\",\"7030\"]],AUTHORITY[\"EPSG\",\"6326\"]],PRIMEM[\"Greenwich\",0],UNIT[\"degree\",0.0174532925199433,AUTHORITY[\"EPSG\",\"9122\"]],AXIS[\"Latitude\",NORTH],AXIS[\"Longitude\",EAST],AUTHORITY[\"EPSG\",\"4326\"]]\n",
      "Size is 108224 x 107798 x 3\n",
      "Driver: GTiff/GeoTIFF\n",
      "Origin = (29.746877767434313, -26.247113163017453)\n",
      "Pixel Size = (2.3728143101288307e-06, -2.3728143101288515e-06)\n",
      "2. Raster Band:\n",
      "Band Type=Byte\n",
      "Min=0.000, Max=255.000\n",
      "Band has 8 overviews\n"
     ]
    }
   ],
   "source": [
    "# General Dataset Information\n",
    "def inspect_tif(dataset):\n",
    "    print(\"1. General TIF Data:\")\n",
    "    print(\"Metadata:\", dataset.GetMetadata())\n",
    "    print(\"Type Image: \", type(dataset))\n",
    "    print(\"Projection: \", dataset.GetProjection())\n",
    "    print(\"Size is {} x {} x {}\".format(dataset.RasterXSize,\n",
    "                                    dataset.RasterYSize,\n",
    "                                    dataset.RasterCount))\n",
    "    print(\"Driver: {}/{}\".format(dataset.GetDriver().ShortName,\n",
    "                            dataset.GetDriver().LongName))\n",
    "    geotransform = dataset.GetGeoTransform()\n",
    "    if geotransform:\n",
    "        print(\"Origin = ({}, {})\".format(geotransform[0], geotransform[3]))\n",
    "        print(\"Pixel Size = ({}, {})\".format(geotransform[1], geotransform[5]))\n",
    "\n",
    "    # Raster Band\n",
    "    band = dataset.GetRasterBand(1)\n",
    "    print(\"2. Raster Band:\")\n",
    "    print(\"Band Type={}\".format(gdal.GetDataTypeName(band.DataType)))\n",
    "\n",
    "    min = band.GetMinimum()\n",
    "    max = band.GetMaximum()\n",
    "    if not min or not max:\n",
    "        (min,max) = band.ComputeRasterMinMax(True)\n",
    "    print(\"Min={:.3f}, Max={:.3f}\".format(min,max))\n",
    "\n",
    "    if band.GetOverviewCount() > 0:\n",
    "        print(\"Band has {} overviews\".format(band.GetOverviewCount()))\n",
    "\n",
    "    if band.GetRasterColorTable():\n",
    "        print(\"Band has a color table with {} entries\".format(band.GetRasterColorTable().GetCount()))\n",
    "inspect_tif(dataset)"
   ]
  },
  {
   "cell_type": "code",
   "execution_count": 11,
   "metadata": {},
   "outputs": [],
   "source": [
    "# optional conversion to np array\n",
    "# channel = np.array(dataset.GetRasterBand(1).ReadAsArray())\n",
    "# print(channel.shape)"
   ]
  },
  {
   "cell_type": "code",
   "execution_count": 12,
   "metadata": {},
   "outputs": [
    {
     "data": {
      "text/plain": [
       "'Byte'"
      ]
     },
     "execution_count": 12,
     "metadata": {},
     "output_type": "execute_result"
    }
   ],
   "source": [
    "# Read the raster band as separate variable\n",
    "band = dataset.GetRasterBand(1)\n",
    "\n",
    "# Check type of the variable 'band'\n",
    "type(band)\n",
    "\n",
    "# Data type of the values\n",
    "gdal.GetDataTypeName(band.DataType)"
   ]
  },
  {
   "cell_type": "code",
   "execution_count": 81,
   "metadata": {},
   "outputs": [
    {
     "name": "stdout",
     "output_type": "stream",
     "text": [
      "File cannot be loaded.\n"
     ]
    }
   ],
   "source": [
    "tif_filepath = '/home/jovyan/work/saved_data/Semantic_Segmentation_of_Tree_Stock/exported.TIF' #exported_in_caps.TIF\n",
    "\n",
    "if not os.path.isfile(tif_filepath):\n",
    "    print(\"Filepath exists: \", os.path.isfile(tif_filepath)) \n",
    "    \n",
    "    #return\n",
    "else:\n",
    "    labeled_data = gdal.Open(tif_filepath)\n",
    "    if labeled_data:\n",
    "        inspect_tif(labeled_data)\n",
    "    else: print(\"File cannot be loaded.\") #\"Filepath exists: \", os.path.isfile(tif_filepath), "
   ]
  },
  {
   "cell_type": "code",
   "execution_count": 60,
   "metadata": {},
   "outputs": [
    {
     "name": "stdout",
     "output_type": "stream",
     "text": [
      "True\n"
     ]
    }
   ],
   "source": [
    "print(os.path.isfile('/home/jovyan/work/saved_data/Semantic_Segmentation_of_Tree_Stock/exported.tiff'))"
   ]
  },
  {
   "cell_type": "code",
   "execution_count": 62,
   "metadata": {},
   "outputs": [
    {
     "name": "stdout",
     "output_type": "stream",
     "text": [
      "/home/jovyan/work/saved_data/Semantic_Segmentation_of_Tree_Stock/1_labeled_data/\n",
      "/home/jovyan/work/saved_data/Semantic_Segmentation_of_Tree_Stock/ ['exported.tiff', 'exported.tif', 'exported_tif.tif', 'main.ipynb']\n"
     ]
    }
   ],
   "source": [
    "print(path_labels)\n",
    "print_files('/home/jovyan/work/saved_data/Semantic_Segmentation_of_Tree_Stock/')"
   ]
  },
  {
   "cell_type": "code",
   "execution_count": 67,
   "metadata": {},
   "outputs": [],
   "source": []
  },
  {
   "cell_type": "code",
   "execution_count": null,
   "metadata": {},
   "outputs": [],
   "source": []
  }
 ],
 "metadata": {
  "interpreter": {
   "hash": "aee8b7b246df8f9039afb4144a1f6fd8d2ca17a180786b69acc140d282b71a49"
  },
  "kernelspec": {
   "display_name": "Python 3",
   "language": "python",
   "name": "python3"
  },
  "language_info": {
   "codemirror_mode": {
    "name": "ipython",
    "version": 3
   },
   "file_extension": ".py",
   "mimetype": "text/x-python",
   "name": "python",
   "nbconvert_exporter": "python",
   "pygments_lexer": "ipython3",
   "version": "3.8.5"
  }
 },
 "nbformat": 4,
 "nbformat_minor": 4
}
