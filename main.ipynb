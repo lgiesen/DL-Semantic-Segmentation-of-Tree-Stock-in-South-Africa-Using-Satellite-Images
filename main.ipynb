{
 "cells": [
  {
   "cell_type": "markdown",
   "metadata": {},
   "source": [
    "\n",
    "# Data Preparation"
   ]
  },
  {
   "cell_type": "markdown",
   "metadata": {
    "tags": []
   },
   "source": [
    "## Imports"
   ]
  },
  {
   "cell_type": "code",
   "execution_count": 1,
   "metadata": {},
   "outputs": [],
   "source": [
    "    from os import listdir\n",
    "import os.path\n",
    "from os.path import isfile, join\n",
    "from osgeo import gdal\n",
    "import numpy as np"
   ]
  },
  {
   "cell_type": "code",
   "execution_count": 2,
   "metadata": {},
   "outputs": [
    {
     "name": "stdout",
     "output_type": "stream",
     "text": [
      "True True\n"
     ]
    }
   ],
   "source": [
    "path_labels = os.getcwd() + \"/1_labeled_data/tif/\"\n",
    "\n",
    "path_rdg = \"/home/jovyan/work/satellite_data/\"\n",
    "label_tif = path_labels + \"22-01-05.TIF\"\n",
    "\n",
    "print(os.path.isfile(path_rdg + \"2629BD_2018.tif\"), os.path.isfile(label_tif))\n",
    "# TODO: locally only jp2.tif files, whereas on the server only tif file?!"
   ]
  },
  {
   "cell_type": "code",
   "execution_count": 3,
   "metadata": {
    "tags": []
   },
   "outputs": [
    {
     "name": "stdout",
     "output_type": "stream",
     "text": [
      "/home/jovyan/work/saved_data/Semantic_Segmentation_of_Tree_Stock/1_labeled_data/tif/ ['22-01-05-uploaded.tif', '22-01-05.TIF', 'check-labels-jp2-capizalized-22-01-05.TIF', 'labels-jp2-tif-22.01-05.tif', '22-01-05-test-3-without-tif.tif', 'now.tif', '22-01-30.tif', '22-01-06-with-tif.tif']\n"
     ]
    }
   ],
   "source": [
    "def print_files(path = os.getcwd()):\n",
    "    onlyfiles = [f for f in listdir(path) if isfile(join(path, f))]\n",
    "    print(path, onlyfiles)\n",
    "print_files(path_labels)"
   ]
  },
  {
   "cell_type": "markdown",
   "metadata": {},
   "source": [
    "###### Import Image with GDAL"
   ]
  },
  {
   "cell_type": "code",
   "execution_count": 4,
   "metadata": {},
   "outputs": [],
   "source": [
    "dataset = gdal.Open(path_rdg + \"2629BD_2018.tif\")\n",
    "# \"/home/jovyan/work/saved_data/Semantic_Segmentation_of_Tree_Stock/1_labeled_data/tif/144.tif\" (label file) results in an error -> probably wrong format?"
   ]
  },
  {
   "cell_type": "markdown",
   "metadata": {},
   "source": [
    "### 0.1 Data Inspection"
   ]
  },
  {
   "cell_type": "code",
   "execution_count": 5,
   "metadata": {},
   "outputs": [
    {
     "name": "stdout",
     "output_type": "stream",
     "text": [
      "1. General TIF Data:\n",
      "Metadata: {'ALL_COMMENTS': 'Created by OpenJPEG version 2.4.0', 'AREA_OR_POINT': 'Area', 'COLORSPACE': 'RGB', 'COMPRESSION_RATE_TARGET': '1', 'TIFFTAG_MAXSAMPLEVALUE': '0', 'TIFFTAG_MINSAMPLEVALUE': '0', 'TIFFTAG_RESOLUTIONUNIT': '1 (unitless)', 'TIFFTAG_XRESOLUTION': '0', 'TIFFTAG_YRESOLUTION': '0'}\n",
      "Type Image:  <class 'osgeo.gdal.Dataset'>\n",
      "Projection:  GEOGCS[\"WGS 84\",DATUM[\"WGS_1984\",SPHEROID[\"WGS 84\",6378137,298.257223563,AUTHORITY[\"EPSG\",\"7030\"]],AUTHORITY[\"EPSG\",\"6326\"]],PRIMEM[\"Greenwich\",0],UNIT[\"degree\",0.0174532925199433,AUTHORITY[\"EPSG\",\"9122\"]],AXIS[\"Latitude\",NORTH],AXIS[\"Longitude\",EAST],AUTHORITY[\"EPSG\",\"4326\"]]\n",
      "Size is 108224 x 107798 x 3\n",
      "Driver: GTiff/GeoTIFF\n",
      "Origin = (29.746877767434313, -26.247113163017453)\n",
      "Pixel Size = (2.3728143101288307e-06, -2.3728143101288515e-06)\n",
      "2. Raster Band:\n",
      "Band Type=Byte\n",
      "Min=0.000, Max=255.000\n",
      "Band has 8 overviews\n",
      "Image Size: \n",
      "        # Pixels in Image = (108224, 107798)\n",
      "        Size of one Pixel in cm = (0.00023728143101288307, 0.00023728143101288307)\n",
      "        Size Covered by Image / Image Size = (0.2567954558993826m, 0.2557846370032677m)\n"
     ]
    }
   ],
   "source": [
    "# General Dataset Information\n",
    "def inspect_tif(dataset):\n",
    "    print(\"1. General TIF Data:\")\n",
    "    print(\"Metadata:\", dataset.GetMetadata())\n",
    "    print(\"Type Image: \", type(dataset))\n",
    "    print(\"Projection: \", dataset.GetProjection())\n",
    "    print(\"Size is {} x {} x {}\".format(dataset.RasterXSize,\n",
    "                                    dataset.RasterYSize,\n",
    "                                    dataset.RasterCount))\n",
    "    print(\"Driver: {}/{}\".format(dataset.GetDriver().ShortName,\n",
    "                            dataset.GetDriver().LongName))\n",
    "    geotransform = dataset.GetGeoTransform()\n",
    "    if geotransform:\n",
    "        print(\"Origin = ({}, {})\".format(geotransform[0], geotransform[3]))\n",
    "        print(\"Pixel Size = ({}, {})\".format(geotransform[1], geotransform[5]))\n",
    "\n",
    "    # Raster Band\n",
    "    band = dataset.GetRasterBand(1)\n",
    "    print(\"2. Raster Band:\")\n",
    "    print(\"Band Type={}\".format(gdal.GetDataTypeName(band.DataType)))\n",
    "\n",
    "    min = band.GetMinimum()\n",
    "    max = band.GetMaximum()\n",
    "    if not min or not max:\n",
    "        (min,max) = band.ComputeRasterMinMax(True)\n",
    "    print(\"Min={:.3f}, Max={:.3f}\".format(min,max))\n",
    "\n",
    "    if band.GetOverviewCount() > 0:\n",
    "        print(\"Band has {} overviews\".format(band.GetOverviewCount()))\n",
    "\n",
    "    if band.GetRasterColorTable():\n",
    "        print(\"Band has a color table with {} entries\".format(band.GetRasterColorTable().GetCount()))\n",
    "        \n",
    "    size_x_px = dataset.RasterXSize\n",
    "    size_y_px = dataset.RasterYSize\n",
    "    pixel_size = (dataset.GetGeoTransform()[1], dataset.GetGeoTransform()[1])\n",
    "    size_x = size_x_px * pixel_size[0]\n",
    "    size_y = size_y_px * pixel_size[1]\n",
    "    print(\"\"\"Image Size: \n",
    "        # Pixels in Image = ({}, {})\n",
    "        Size of one Pixel in cm = {}\n",
    "        Size Covered by Image / Image Size = ({}m, {}m)\"\"\".format(size_x_px, size_y_px, \n",
    "                                                                                    tuple([100*x for x in pixel_size]),\n",
    "                                                                                    size_x, size_y)\n",
    "    )\n",
    "inspect_tif(dataset)"
   ]
  },
  {
   "cell_type": "code",
   "execution_count": 6,
   "metadata": {},
   "outputs": [
    {
     "name": "stdout",
     "output_type": "stream",
     "text": [
      "1. General TIF Data:\n",
      "Metadata: {'ALL_COMMENTS': 'Created by OpenJPEG version 2.4.0', 'AREA_OR_POINT': 'Area', 'COLORSPACE': 'RGB', 'COMPRESSION_RATE_TARGET': '1', 'TIFFTAG_MAXSAMPLEVALUE': '0', 'TIFFTAG_MINSAMPLEVALUE': '0', 'TIFFTAG_RESOLUTIONUNIT': '1 (unitless)', 'TIFFTAG_XRESOLUTION': '0', 'TIFFTAG_YRESOLUTION': '0'}\n",
      "Type Image:  <class 'osgeo.gdal.Dataset'>\n",
      "Projection:  GEOGCS[\"WGS 84\",DATUM[\"WGS_1984\",SPHEROID[\"WGS 84\",6378137,298.257223563,AUTHORITY[\"EPSG\",\"7030\"]],AUTHORITY[\"EPSG\",\"6326\"]],PRIMEM[\"Greenwich\",0],UNIT[\"degree\",0.0174532925199433,AUTHORITY[\"EPSG\",\"9122\"]],AXIS[\"Latitude\",NORTH],AXIS[\"Longitude\",EAST],AUTHORITY[\"EPSG\",\"4326\"]]\n",
      "Size is 107608 x 107249 x 3\n",
      "Driver: GTiff/GeoTIFF\n",
      "Origin = (27.497387693796565, -26.74753635381557)\n",
      "Pixel Size = (2.3770193857792506e-06, -2.3770193857792447e-06)\n",
      "2. Raster Band:\n",
      "Band Type=Byte\n",
      "Min=0.000, Max=240.000\n",
      "Band has 8 overviews\n",
      "Image Size: \n",
      "        # Pixels in Image = (107608, 107249)\n",
      "        Size of one Pixel in cm = (0.00023770193857792506, 0.00023770193857792506)\n",
      "        Size Covered by Image / Image Size = (0.2557863020649336m, 0.25493295210543887m)\n"
     ]
    }
   ],
   "source": [
    "some_dataset = gdal.Open(path_rdg + \"2627DC_2018.tif\")\n",
    "inspect_tif(some_dataset)"
   ]
  },
  {
   "cell_type": "code",
   "execution_count": 7,
   "metadata": {},
   "outputs": [],
   "source": [
    "# optional conversion to np array\n",
    "# channel = np.array(dataset.GetRasterBand(1).ReadAsArray())\n",
    "# print(channel.shape)"
   ]
  },
  {
   "cell_type": "code",
   "execution_count": 8,
   "metadata": {},
   "outputs": [],
   "source": [
    "# Read the raster band as separate variable\n",
    "#band = dataset.GetRasterBand(1)\n",
    "\n",
    "# Check type of the variable 'band'\n",
    "#type(band)\n",
    "\n",
    "# Data type of the values\n",
    "#gdal.GetDataTypeName(band.DataType)"
   ]
  },
  {
   "cell_type": "code",
   "execution_count": 9,
   "metadata": {},
   "outputs": [
    {
     "name": "stdout",
     "output_type": "stream",
     "text": [
      "3 108224 107798\n"
     ]
    }
   ],
   "source": [
    "import matplotlib.pyplot as plt\n",
    "#print(dataset.RasterCount)\n",
    "#print(labels.RasterCount, labels.RasterXSize, labels.RasterYSize)\n",
    "print(dataset.RasterCount, dataset.RasterXSize, dataset.RasterYSize)"
   ]
  },
  {
   "cell_type": "code",
   "execution_count": 10,
   "metadata": {},
   "outputs": [],
   "source": [
    "# band1 = labels.GetRasterBand(1) # Red channel\n",
    "# band2 = labels.GetRasterBand(2) # Green channel\n",
    "# band3 = labels.GetRasterBand(3) # Blue channel"
   ]
  },
  {
   "cell_type": "code",
   "execution_count": 11,
   "metadata": {},
   "outputs": [],
   "source": [
    "#labels.GetRasterBand()"
   ]
  },
  {
   "cell_type": "markdown",
   "metadata": {},
   "source": [
    "### 0.2 Load Labels"
   ]
  },
  {
   "cell_type": "code",
   "execution_count": 12,
   "metadata": {},
   "outputs": [
    {
     "data": {
      "text/plain": [
       "'\\nIdea Training Process:\\n1. Load training set (labels with corresponding input TIFs)\\n2. Create cutouts of labeled training data\\n3. Train model on data\\n4. Evaluate model\\n\\nIdea Prediction Process:\\n5. Create cutouts of unlabeled data\\n6. Predict cutouts\\n\\nFunction Overview\\nTraining: load labels -> create_cutouts(label_file) -> fit(unlabeled_cutouts, labeled_cutouts) -> evaluate(?)\\nPrediction: load dats -> create_cutouts(label_file) -> predict(unlabeled_cutouts)\\n'"
      ]
     },
     "execution_count": 12,
     "metadata": {},
     "output_type": "execute_result"
    }
   ],
   "source": [
    "\"\"\"\n",
    "Idea Training Process:\n",
    "1. Load training set (labels with corresponding input TIFs)\n",
    "2. Create cutouts of labeled training data\n",
    "3. Train model on data\n",
    "4. Evaluate model\n",
    "\n",
    "Idea Prediction Process:\n",
    "5. Create cutouts of unlabeled data\n",
    "6. Predict cutouts\n",
    "\n",
    "Function Overview\n",
    "Training: load labels -> create_cutouts(label_file) -> fit(unlabeled_cutouts, labeled_cutouts) -> evaluate(?)\n",
    "Prediction: load dats -> create_cutouts(label_file) -> predict(unlabeled_cutouts)\n",
    "\"\"\""
   ]
  },
  {
   "cell_type": "code",
   "execution_count": 13,
   "metadata": {},
   "outputs": [],
   "source": [
    "def create_cutouts(label_file):\n",
    "    # upper/lower (u/l) left/right (l/r) coordinates \n",
    "    ulx, xres, xskew, uly, yskew, yres  = label_file.GetGeoTransform()\n",
    "    lrx = ulx + (label_file.RasterXSize * xres)\n",
    "    lry = uly + (label_file.RasterYSize * yres)\n",
    "    \n",
    "    print(\"upper left:\", ulx, xres, xskew, uly, yskew, yres, \"- bottom right:\", lrx, lry)\n",
    "    # if that does not work: https://gis.stackexchange.com/questions/57834/how-to-get-raster-corner-coordinates-using-python-gdal-bindings/#answer-57837\n",
    "    \"\"\"xmin, xpixel, _, ymax, _, ypixel = label_file.GetGeoTransform()\n",
    "    width, height = ds.RasterXSize, label_file.RasterYSize\n",
    "    xmax = xmin + width * xpixel\n",
    "    ymin = ymax + height * ypixel\n",
    "    print((xmin, ymax), (xmax, ymax), (xmax, ymin), (xmin, ymin))\n",
    "    \"\"\"\n",
    "    \n",
    "    \"\"\"\n",
    "    # determine cutout window of size: 512x512 px\n",
    "    crop_ulx = \n",
    "    crop_uly = \n",
    "    crop_lrx =\n",
    "    crop_lry = \n",
    "    cropped_window = (crop_ulx,crop_uly,crop_lrx,crop_lry)\n",
    "    #export cropped raster\n",
    "    path_cropped_raster = os.getcwd()+'/2_cutouts/' + label_file # TODO: GGF. IST DAS DER GEÖFFNETE FILE UND NICHT DER FILEPATH\n",
    "    gdal.Translate(path_cropped_raster, example_tif, projWin = cropped_window)\n",
    "    \"\"\""
   ]
  },
  {
   "cell_type": "code",
   "execution_count": 14,
   "metadata": {},
   "outputs": [],
   "source": [
    "label_files = [\"22-01-30.tif\", \"now.tif\"]"
   ]
  },
  {
   "cell_type": "code",
   "execution_count": 15,
   "metadata": {},
   "outputs": [
    {
     "name": "stdout",
     "output_type": "stream",
     "text": [
      "22-01-30.tif\n",
      "0 Success: /home/jovyan/work/saved_data/Semantic_Segmentation_of_Tree_Stock/1_labeled_data/tif/22-01-30.tif\n",
      "1. General TIF Data:\n",
      "Metadata: {'AREA_OR_POINT': 'Area', 'TIFFTAG_RESOLUTIONUNIT': '2 (pixels/inch)', 'TIFFTAG_XRESOLUTION': '72', 'TIFFTAG_YRESOLUTION': '72'}\n",
      "Type Image:  <class 'osgeo.gdal.Dataset'>\n",
      "Projection:  GEOGCS[\"WGS 84\",DATUM[\"WGS_1984\",SPHEROID[\"WGS 84\",6378137,298.257223563,AUTHORITY[\"EPSG\",\"7030\"]],AUTHORITY[\"EPSG\",\"6326\"]],PRIMEM[\"Greenwich\",0],UNIT[\"degree\",0.0174532925199433,AUTHORITY[\"EPSG\",\"9122\"]],AXIS[\"Latitude\",NORTH],AXIS[\"Longitude\",EAST],AUTHORITY[\"EPSG\",\"4326\"]]\n",
      "Size is 4112 x 11377 x 4\n",
      "Driver: GTiff/GeoTIFF\n",
      "Origin = (29.748224553, -26.248672807786964)\n",
      "Pixel Size = (1.5679484435797747e-05, -1.5679484435797747e-05)\n",
      "2. Raster Band:\n",
      "Band Type=Byte\n",
      "Min=80.000, Max=255.000\n",
      "Image Size: \n",
      "        # Pixels in Image = (4112, 11377)\n",
      "        Size of one Pixel in cm = (0.0015679484435797747, 0.0015679484435797747)\n",
      "        Size Covered by Image / Image Size = (0.06447404000000034m, 0.17838549442607096m)\n",
      "upper left: 29.748224553 1.5679484435797747e-05 0.0 -26.248672807786964 0.0 -1.5679484435797747e-05 - bottom right: 29.812698593 -26.427058302213034\n",
      "now.tif\n",
      "0 Success: /home/jovyan/work/saved_data/Semantic_Segmentation_of_Tree_Stock/1_labeled_data/tif/now.tif\n",
      "1. General TIF Data:\n",
      "Metadata: {'AREA_OR_POINT': 'Area', 'TIFFTAG_RESOLUTIONUNIT': '2 (pixels/inch)', 'TIFFTAG_XRESOLUTION': '72', 'TIFFTAG_YRESOLUTION': '72'}\n",
      "Type Image:  <class 'osgeo.gdal.Dataset'>\n",
      "Projection:  GEOGCS[\"WGS 84\",DATUM[\"WGS_1984\",SPHEROID[\"WGS 84\",6378137,298.257223563,AUTHORITY[\"EPSG\",\"7030\"]],AUTHORITY[\"EPSG\",\"6326\"]],PRIMEM[\"Greenwich\",0],UNIT[\"degree\",0.0174532925199433,AUTHORITY[\"EPSG\",\"9122\"]],AXIS[\"Latitude\",NORTH],AXIS[\"Longitude\",EAST],AUTHORITY[\"EPSG\",\"4326\"]]\n",
      "Size is 11087 x 11043 x 4\n",
      "Driver: GTiff/GeoTIFF\n",
      "Origin = (29.746873599209952, -26.247113163)\n",
      "Pixel Size = (2.3162604093090454e-05, -2.3162604093090454e-05)\n",
      "2. Raster Band:\n",
      "Band Type=Byte\n",
      "Min=100.000, Max=255.000\n",
      "Image Size: \n",
      "        # Pixels in Image = (11087, 11043)\n",
      "        Size of one Pixel in cm = (0.0023162604093090455, 0.0023162604093090455)\n",
      "        Size Covered by Image / Image Size = (0.25680379158009387m, 0.25578463699999787m)\n",
      "upper left: 29.746873599209952 2.3162604093090454e-05 0.0 -26.247113163 0.0 -2.3162604093090454e-05 - bottom right: 30.003677390790045 -26.5028978\n"
     ]
    }
   ],
   "source": [
    "# loop through array of file names\n",
    "for label_file in label_files:\n",
    "    print(label_file)\n",
    "    path_label_file = path_labels + label_file\n",
    "    # check if filepath exists\n",
    "    if not os.path.isfile(path_label_file):\n",
    "        print(\"Filepath does not exist\") \n",
    "        continue\n",
    "    # open file\n",
    "    label_file = gdal.Open(path_label_file)\n",
    "    # check if gdal is able to open file\n",
    "    if label_file:\n",
    "        print(\"0 Success:\", path_label_file)\n",
    "        inspect_tif(label_file)\n",
    "        # create cutouts\n",
    "        create_cutouts(label_file)\n",
    "        continue\n",
    "    print(\"1 Failure:\", path_label_file) #\"File cannot be loaded.\" #\"Filepath exists: \", os.path.isfile(tif_filepath), "
   ]
  },
  {
   "cell_type": "code",
   "execution_count": 16,
   "metadata": {},
   "outputs": [],
   "source": [
    "#check if all (label) files in a directory are loadable\n",
    "def check_all_labels(directory = os.fsencode(path_labels)):\n",
    "    print(\"Labels\")    \n",
    "    for file in os.listdir(directory):\n",
    "        filename = os.fsdecode(file)\n",
    "        if filename.endswith(\".tif\") or filename.endswith(\".TIF\") or filename.endswith(\".tiff\"): \n",
    "            print(filename)\n",
    "            load_tif(path_labels + filename)\n",
    "            print(\"\")\n",
    "            continue\n",
    "        else:\n",
    "            continue\n",
    "#check_all_labels(os.fsencode(path_labels))"
   ]
  },
  {
   "cell_type": "code",
   "execution_count": 17,
   "metadata": {},
   "outputs": [
    {
     "name": "stdout",
     "output_type": "stream",
     "text": [
      "0 Success /home/jovyan/work/saved_data/Semantic_Segmentation_of_Tree_Stock/1_labeled_data/tif/labels-jp2-tif-22.01-05.tif\n",
      "1. General TIF Data:\n",
      "Metadata: {'AREA_OR_POINT': 'Area', 'TIFFTAG_RESOLUTIONUNIT': '2 (pixels/inch)', 'TIFFTAG_XRESOLUTION': '72', 'TIFFTAG_YRESOLUTION': '72'}\n",
      "Type Image:  <class 'osgeo.gdal.Dataset'>\n",
      "Projection:  GEOGCS[\"WGS 84\",DATUM[\"WGS_1984\",SPHEROID[\"WGS 84\",6378137,298.257223563,AUTHORITY[\"EPSG\",\"7030\"]],AUTHORITY[\"EPSG\",\"6326\"]],PRIMEM[\"Greenwich\",0],UNIT[\"degree\",0.0174532925199433,AUTHORITY[\"EPSG\",\"9122\"]],AXIS[\"Latitude\",NORTH],AXIS[\"Longitude\",EAST],AUTHORITY[\"EPSG\",\"4326\"]]\n",
      "Size is 24119 x 24024 x 4\n",
      "Driver: GTiff/GeoTIFF\n",
      "Origin = (29.7468774418073, -26.247113163)\n",
      "Pixel Size = (1.0647046162171074e-05, -1.0647046162171074e-05)\n",
      "2. Raster Band:\n",
      "Band Type=Byte\n",
      "Min=255.000, Max=255.000\n",
      "Image Size: \n",
      "        # Pixels in Image = (24119, 24024)\n",
      "        Size of one Pixel in cm = (0.0010647046162171074, 0.0010647046162171074)\n",
      "        Size Covered by Image / Image Size = (0.2567961063854041m, 0.25578463699999787m)\n"
     ]
    }
   ],
   "source": [
    "# extract logic from load_tif function\n",
    "# load_tif(path_labels + \"labels-jp2-tif-22.01-05.tif\")\n",
    "tif_filepath = path_labels + \"labels-jp2-tif-22.01-05.tif\"\n",
    "if not os.path.isfile(tif_filepath):\n",
    "    print(\"Filepath exists:\", os.path.isfile(tif_filepath)) \n",
    "else:\n",
    "    labeled_data = gdal.Open(tif_filepath)\n",
    "    if labeled_data:\n",
    "        print(\"0 Success\", tif_filepath)\n",
    "        inspect_tif(labeled_data)\n",
    "    else: print(\"1 Failure\", tif_filepath) #\"File cannot be loaded.\" #\"Filepath exists: \", os.path.isfile(tif_filepath), "
   ]
  },
  {
   "cell_type": "code",
   "execution_count": 18,
   "metadata": {},
   "outputs": [],
   "source": [
    "# 0 Success exported.TIF                       --                                                      -- labels with hidden raster dimension\n",
    "# 0 Success exported.tiff                      -- maybe can't read .tiff                               -- labels with hidden raster dimension\n",
    "# 1 Failure exported.tif                       -- \n",
    "# 0 Success exported_in_caps.TIF               -- Something exported dirctly with TIF as fileextension -- labels with hidden raster dimension\n",
    "# 1 Failure labels-22-01-05.TIF                -- label exported and renamed into TIF fileextension\n",
    "# 0 Success exported_tif.tif                   -- only tif file exported\n",
    "# 1 Failure labels-22-01-05-only-polygon.TIF\n",
    "# os.getcwd()"
   ]
  },
  {
   "cell_type": "markdown",
   "metadata": {},
   "source": [
    "### 0.3 Preview labels (TIF)"
   ]
  },
  {
   "cell_type": "code",
   "execution_count": 19,
   "metadata": {},
   "outputs": [],
   "source": [
    "import rasterio\n",
    "from rasterio.plot import show\n",
    "# label = rasterio.open(tif_filepath)\n",
    "# show(label)"
   ]
  },
  {
   "cell_type": "code",
   "execution_count": 20,
   "metadata": {},
   "outputs": [],
   "source": [
    "# No. of Bands, Image resolution (X, Y), CRS (Coordinate Reference System)\n",
    "# print(label.count, label.height, label.width, label.crs)"
   ]
  },
  {
   "cell_type": "code",
   "execution_count": 21,
   "metadata": {},
   "outputs": [],
   "source": [
    "def preview_tif(tif_filepath):\n",
    "    if os.path.isfile(tif_filepath):\n",
    "        img = rasterio.open(tif_filepath)\n",
    "        show(img)\n",
    "    else: print(\"File does not exist.\")"
   ]
  },
  {
   "cell_type": "code",
   "execution_count": 22,
   "metadata": {},
   "outputs": [],
   "source": [
    "example_tif = path_rdg + \"2629BD_2018.tif\"\n",
    "# preview_tif(example_tif)"
   ]
  },
  {
   "cell_type": "markdown",
   "metadata": {},
   "source": [
    "### 0.4 Crop TIF"
   ]
  },
  {
   "cell_type": "code",
   "execution_count": 23,
   "metadata": {},
   "outputs": [
    {
     "ename": "NameError",
     "evalue": "name 'load_tif' is not defined",
     "output_type": "error",
     "traceback": [
      "\u001b[0;31m---------------------------------------------------------------------------\u001b[0m",
      "\u001b[0;31mNameError\u001b[0m                                 Traceback (most recent call last)",
      "\u001b[0;32m<ipython-input-23-0c8582b0fcda>\u001b[0m in \u001b[0;36m<module>\u001b[0;34m\u001b[0m\n\u001b[0;32m----> 1\u001b[0;31m \u001b[0mload_tif\u001b[0m\u001b[0;34m(\u001b[0m\u001b[0mexample_tif\u001b[0m\u001b[0;34m)\u001b[0m\u001b[0;34m\u001b[0m\u001b[0;34m\u001b[0m\u001b[0m\n\u001b[0m",
      "\u001b[0;31mNameError\u001b[0m: name 'load_tif' is not defined"
     ]
    }
   ],
   "source": [
    "load_tif(example_tif)"
   ]
  },
  {
   "cell_type": "code",
   "execution_count": null,
   "metadata": {},
   "outputs": [],
   "source": [
    "print(\"$ gdalinfo '/home/jovyan/work/satellite_data/2629BD_2018.tif'\")\n",
    "print(\"\"\"Corner Coordinates:\n",
    "Upper Left  (  29.7468778, -26.2471132) ( 29d44'48.76\"E, 26d14'49.61\"S)\n",
    "Lower Left  (  29.7468778, -26.5028978) ( 29d44'48.76\"E, 26d30'10.43\"S)\n",
    "Upper Right (  30.0036732, -26.2471132) ( 30d 0'13.22\"E, 26d14'49.61\"S)\n",
    "Lower Right (  30.0036732, -26.5028978) ( 30d 0'13.22\"E, 26d30'10.43\"S)\n",
    "Center      (  29.8752755, -26.3750055) ( 29d52'30.99\"E, 26d22'30.02\"S)\"\"\")"
   ]
  },
  {
   "cell_type": "code",
   "execution_count": null,
   "metadata": {},
   "outputs": [],
   "source": [
    "\"\"\"\"\"\"\n",
    "Example Coordinates from \n",
    "upper_left_x = 29.746877767434313\n",
    "upper_left_y = -26.247113163017453\n",
    "lower_right_x = 30.0036732\n",
    "lower_right_y = -26.5028978\n",
    "\"\"\"\n",
    "# upper/lower (u/l) left/right (l/r) coordinates \n",
    "ulx, xres, xskew, uly, yskew, yres  = src.GetGeoTransform()\n",
    "lrx = ulx + (src.RasterXSize * xres)\n",
    "lry = uly + (src.RasterYSize * yres)\n",
    "\n",
    "print(\"upper left:\", ulx, xres, xskew, uly, yskew, yres, \"- bottom right:\", lrx, lry)\n",
    "# adjust cutout -> 1/100 size in top left corner\n",
    "lower_right_x = upper_left_x + (lower_right_x - upper_left_x)/10\n",
    "lower_right_y = upper_left_y + (lower_right_y - upper_left_y)/10\n",
    "\n",
    "print(upper_left_x, upper_left_y, lower_right_x, lower_right_y)\n",
    "cropped_window = (upper_left_x,upper_left_y,lower_right_x,lower_right_y) #(upper_left_x,upper_left_y,lower_right_x,lower_right_y)\n",
    "cropped_raster = os.getcwd()+'/2_cutouts/cropped_raster.tif'\n",
    "gdal.Translate(cropped_raster, example_tif, projWin = cropped_window)\"\"\""
   ]
  },
  {
   "cell_type": "code",
   "execution_count": null,
   "metadata": {},
   "outputs": [],
   "source": [
    "\"\"\"cropped_window = (upper_left_x,upper_left_y,lower_right_x,lower_right_y) #(upper_left_x,upper_left_y,lower_right_x,lower_right_y)\n",
    "cropped_raster = os.getcwd()+'/2_cutouts/cropped_raster.tif'\n",
    "gdal.Translate(cropped_raster, example_tif, projWin = cropped_window)\"\"\""
   ]
  },
  {
   "cell_type": "code",
   "execution_count": null,
   "metadata": {},
   "outputs": [],
   "source": [
    "load_tif(cropped_raster)"
   ]
  },
  {
   "cell_type": "code",
   "execution_count": null,
   "metadata": {},
   "outputs": [],
   "source": [
    "preview_tif(cropped_raster)"
   ]
  },
  {
   "cell_type": "code",
   "execution_count": null,
   "metadata": {},
   "outputs": [],
   "source": []
  },
  {
   "cell_type": "code",
   "execution_count": null,
   "metadata": {},
   "outputs": [],
   "source": []
  },
  {
   "cell_type": "code",
   "execution_count": null,
   "metadata": {},
   "outputs": [],
   "source": [
    "path_labels"
   ]
  },
  {
   "cell_type": "code",
   "execution_count": null,
   "metadata": {},
   "outputs": [],
   "source": [
    "checkpoint_labels = path_labels + \"22-01-05-uploaded.tif\"\n",
    "load_tif(checkpoint_labels)"
   ]
  },
  {
   "cell_type": "code",
   "execution_count": null,
   "metadata": {},
   "outputs": [],
   "source": [
    "checkpoint_labels_now = path_labels + \"22-01-05-test-3-without-tif.tif\"\n",
    "load_tif(checkpoint_labels_now)"
   ]
  },
  {
   "cell_type": "code",
   "execution_count": null,
   "metadata": {},
   "outputs": [],
   "source": [
    "checkpoint_labels_now = path_labels + \"now.tif\"\n",
    "load_tif(checkpoint_labels_now)"
   ]
  },
  {
   "cell_type": "code",
   "execution_count": null,
   "metadata": {},
   "outputs": [],
   "source": [
    "preview_tif(checkpoint_labels_now)"
   ]
  },
  {
   "cell_type": "code",
   "execution_count": null,
   "metadata": {},
   "outputs": [],
   "source": [
    "# close tif\n",
    "#dataset = None"
   ]
  }
 ],
 "metadata": {
  "interpreter": {
   "hash": "aee8b7b246df8f9039afb4144a1f6fd8d2ca17a180786b69acc140d282b71a49"
  },
  "kernelspec": {
   "display_name": "Python 3",
   "language": "python",
   "name": "python3"
  },
  "language_info": {
   "codemirror_mode": {
    "name": "ipython",
    "version": 3
   },
   "file_extension": ".py",
   "mimetype": "text/x-python",
   "name": "python",
   "nbconvert_exporter": "python",
   "pygments_lexer": "ipython3",
   "version": "3.8.5"
  }
 },
 "nbformat": 4,
 "nbformat_minor": 4
}
