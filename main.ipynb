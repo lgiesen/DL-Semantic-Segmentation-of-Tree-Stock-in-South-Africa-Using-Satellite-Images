{
 "cells": [
  {
   "cell_type": "markdown",
   "metadata": {},
   "source": [
    "# Data Preparation"
   ]
  },
  {
   "cell_type": "markdown",
   "metadata": {},
   "source": [
    "## Imports"
   ]
  },
  {
   "cell_type": "markdown",
   "metadata": {
    "tags": []
   },
   "source": [
    "### Identify System"
   ]
  },
  {
   "cell_type": "code",
   "execution_count": 66,
   "metadata": {
    "jupyter": {
     "source_hidden": true
    },
    "tags": []
   },
   "outputs": [
    {
     "name": "stdout",
     "output_type": "stream",
     "text": [
      "working_on_server:  True\n"
     ]
    }
   ],
   "source": [
    "import platform\n",
    "my_os = platform.system()\n",
    "if my_os == \"Darwin\":\n",
    "    working_on_server = False\n",
    "elif my_os == \"Linux\":\n",
    "    working_on_server = True\n",
    "else: raise Exception(\"You are neither on your Mac or on the Linux server. Something went wrong.\")\n",
    "print(\"working_on_server: \", working_on_server)"
   ]
  },
  {
   "cell_type": "code",
   "execution_count": 37,
   "metadata": {},
   "outputs": [
    {
     "name": "stdout",
     "output_type": "stream",
     "text": [
      "True True\n"
     ]
    }
   ],
   "source": [
    "import os.path\n",
    "if working_on_server:\n",
    "    path_labels = os.getcwd() + \"/1_labeled_data/\"\n",
    "    path_rdg = \"/home/jovyan/work/satellite_data/\"\n",
    "else:\n",
    "    path_labels = \"/Users/leori/Desktop/BA/1_Data/1_labeled_data/\"\n",
    "    path_rdg = \"/Users/leori/Downloads/RDG_storage/\"\n",
    "label_tif = path_labels + \"tif/144.tif\"\n",
    "print(os.path.isfile(path_rdg + \"2629BD_2018.tif\"), os.path.isfile(label_tif))\n",
    "# TODO: locally only jp2.tif files, whereas on the server only tif file?!"
   ]
  },
  {
   "cell_type": "markdown",
   "metadata": {
    "jupyter": {
     "source_hidden": true
    },
    "tags": []
   },
   "source": [
    "Great Packages:\n",
    "- Pandas: provide data structures and data analysis tools\n",
    "- Numpy: a fundamental package for scientific computing with Python\n",
    "- SciPy:(pronounced “Sigh Pie”) is a Python-based ecosystem of open-source software for mathematics, science, and engineering\n",
    "- RTree: a ctypes Python wrapper of libspatialindex that provides a number of advanced spatial indexing features\n",
    "- GDAL: translator library for raster and vector geospatial data formats\n",
    "- Fiona: Fiona reads and writes spatial data files\n",
    "- Shapely: Geometric objects, predicates, and operations\n",
    "- GeoPandas: extends the datatypes used by pandas to allow spatial operations on geometric types.\n",
    "- PySAL: a library of spatial analysis functions written in Python intended to support the development of high-level applications.\n",
    "- Matplotlib: Python 2D plotting library\n",
    "- Missingno: Missing data visualization module for Python"
   ]
  },
  {
   "cell_type": "markdown",
   "metadata": {},
   "source": [
    "### Import Image"
   ]
  },
  {
   "cell_type": "markdown",
   "metadata": {
    "jupyter": {
     "source_hidden": true
    },
    "tags": []
   },
   "source": [
    "#### Import Image with PIL"
   ]
  },
  {
   "cell_type": "code",
   "execution_count": 74,
   "metadata": {
    "collapsed": true,
    "jupyter": {
     "outputs_hidden": true,
     "source_hidden": true
    },
    "tags": []
   },
   "outputs": [
    {
     "ename": "UnidentifiedImageError",
     "evalue": "cannot identify image file '/home/jovyan/work/saved_data/Semantic_Segmentation_of_Tree_Stock/1_labeled_data/tif/144.tif'",
     "output_type": "error",
     "traceback": [
      "\u001b[0;31m---------------------------------------------------------------------------\u001b[0m",
      "\u001b[0;31mUnidentifiedImageError\u001b[0m                    Traceback (most recent call last)",
      "\u001b[0;32m<ipython-input-74-6f3926639e94>\u001b[0m in \u001b[0;36m<module>\u001b[0;34m\u001b[0m\n\u001b[1;32m      4\u001b[0m \u001b[0;32mfrom\u001b[0m \u001b[0mPIL\u001b[0m \u001b[0;32mimport\u001b[0m \u001b[0mImage\u001b[0m\u001b[0;34m\u001b[0m\u001b[0;34m\u001b[0m\u001b[0m\n\u001b[1;32m      5\u001b[0m \u001b[0mPIL\u001b[0m\u001b[0;34m.\u001b[0m\u001b[0mImage\u001b[0m\u001b[0;34m.\u001b[0m\u001b[0mMAX_IMAGE_PIXELS\u001b[0m \u001b[0;34m=\u001b[0m \u001b[0;36m933120000\u001b[0m\u001b[0;34m\u001b[0m\u001b[0;34m\u001b[0m\u001b[0m\n\u001b[0;32m----> 6\u001b[0;31m \u001b[0mlabel\u001b[0m \u001b[0;34m=\u001b[0m \u001b[0mImage\u001b[0m\u001b[0;34m.\u001b[0m\u001b[0mopen\u001b[0m\u001b[0;34m(\u001b[0m\u001b[0mlabel_tif\u001b[0m\u001b[0;34m)\u001b[0m\u001b[0;34m\u001b[0m\u001b[0;34m\u001b[0m\u001b[0m\n\u001b[0m\u001b[1;32m      7\u001b[0m \u001b[0;31m# label.show() # takes 52 seconds\u001b[0m\u001b[0;34m\u001b[0m\u001b[0;34m\u001b[0m\u001b[0;34m\u001b[0m\u001b[0m\n\u001b[1;32m      8\u001b[0m \u001b[0;34m\u001b[0m\u001b[0m\n",
      "\u001b[0;32m/usr/local/lib/python3.8/dist-packages/PIL/Image.py\u001b[0m in \u001b[0;36mopen\u001b[0;34m(fp, mode, formats)\u001b[0m\n\u001b[1;32m   2965\u001b[0m     \u001b[0;32mfor\u001b[0m \u001b[0mmessage\u001b[0m \u001b[0;32min\u001b[0m \u001b[0maccept_warnings\u001b[0m\u001b[0;34m:\u001b[0m\u001b[0;34m\u001b[0m\u001b[0;34m\u001b[0m\u001b[0m\n\u001b[1;32m   2966\u001b[0m         \u001b[0mwarnings\u001b[0m\u001b[0;34m.\u001b[0m\u001b[0mwarn\u001b[0m\u001b[0;34m(\u001b[0m\u001b[0mmessage\u001b[0m\u001b[0;34m)\u001b[0m\u001b[0;34m\u001b[0m\u001b[0;34m\u001b[0m\u001b[0m\n\u001b[0;32m-> 2967\u001b[0;31m     raise UnidentifiedImageError(\n\u001b[0m\u001b[1;32m   2968\u001b[0m         \u001b[0;34m\"cannot identify image file %r\"\u001b[0m \u001b[0;34m%\u001b[0m \u001b[0;34m(\u001b[0m\u001b[0mfilename\u001b[0m \u001b[0;32mif\u001b[0m \u001b[0mfilename\u001b[0m \u001b[0;32melse\u001b[0m \u001b[0mfp\u001b[0m\u001b[0;34m)\u001b[0m\u001b[0;34m\u001b[0m\u001b[0;34m\u001b[0m\u001b[0m\n\u001b[1;32m   2969\u001b[0m     )\n",
      "\u001b[0;31mUnidentifiedImageError\u001b[0m: cannot identify image file '/home/jovyan/work/saved_data/Semantic_Segmentation_of_Tree_Stock/1_labeled_data/tif/144.tif'"
     ]
    }
   ],
   "source": [
    "# Import was prevented because Image size (329910267 pixels) exceeds limit of 178956970 pixels, could be decompression bomb DOS attack.\n",
    "# Increase max_img_pixels: https://stackoverflow.com/questions/51152059/pillow-in-python-wont-let-me-open-image-exceeds-limit\n",
    "import PIL\n",
    "from PIL import Image\n",
    "PIL.Image.MAX_IMAGE_PIXELS = 933120000\n",
    "label = Image.open(label_tif)\n",
    "# label.show() # takes 52 seconds\n",
    "\n",
    "# or:\n",
    "# import matplotlib.pyplot as plt\n",
    "# label = plt.imread(label_tif)"
   ]
  },
  {
   "cell_type": "code",
   "execution_count": 39,
   "metadata": {
    "jupyter": {
     "source_hidden": true
    },
    "tags": []
   },
   "outputs": [],
   "source": [
    "from os import listdir\n",
    "from os.path import isfile, join\n",
    "def print_files(path = os.getcwd()):\n",
    "    onlyfiles = [f for f in listdir(path) if isfile(join(path, f))]\n",
    "    print(path, onlyfiles)"
   ]
  },
  {
   "cell_type": "code",
   "execution_count": 40,
   "metadata": {
    "collapsed": true,
    "jupyter": {
     "outputs_hidden": true,
     "source_hidden": true
    },
    "tags": []
   },
   "outputs": [
    {
     "name": "stdout",
     "output_type": "stream",
     "text": [
      "/home/jovyan/work/saved_data/Semantic_Segmentation_of_Tree_Stock/1_labeled_data/ ['144.tif']\n"
     ]
    }
   ],
   "source": [
    "print_files(path_labels)"
   ]
  },
  {
   "cell_type": "markdown",
   "metadata": {},
   "source": [
    "#### Import Image with GDAL"
   ]
  },
  {
   "cell_type": "code",
   "execution_count": 130,
   "metadata": {},
   "outputs": [],
   "source": [
    "from osgeo import gdal\n",
    "import numpy as np\n",
    "dataset = gdal.Open(path_rdg + \"2629BD_2018.tif\") \n",
    "# r\"/home/jovyan/work/saved_data/Semantic_Segmentation_of_Tree_Stock/1_labeled_data/tif/144.tif\" (label file) results in an error -> probably wrong format?"
   ]
  },
  {
   "cell_type": "markdown",
   "metadata": {},
   "source": [
    "### 0.1 Data Inspection"
   ]
  },
  {
   "cell_type": "code",
   "execution_count": 131,
   "metadata": {},
   "outputs": [
    {
     "name": "stdout",
     "output_type": "stream",
     "text": [
      "Metadata: {'ALL_COMMENTS': 'Created by OpenJPEG version 2.4.0', 'AREA_OR_POINT': 'Area', 'COLORSPACE': 'RGB', 'COMPRESSION_RATE_TARGET': '1', 'TIFFTAG_MAXSAMPLEVALUE': '0', 'TIFFTAG_MINSAMPLEVALUE': '0', 'TIFFTAG_RESOLUTIONUNIT': '1 (unitless)', 'TIFFTAG_XRESOLUTION': '0', 'TIFFTAG_YRESOLUTION': '0'}\n",
      "Type Image:  <class 'osgeo.gdal.Dataset'>\n",
      "Projection:  GEOGCS[\"WGS 84\",DATUM[\"WGS_1984\",SPHEROID[\"WGS 84\",6378137,298.257223563,AUTHORITY[\"EPSG\",\"7030\"]],AUTHORITY[\"EPSG\",\"6326\"]],PRIMEM[\"Greenwich\",0],UNIT[\"degree\",0.0174532925199433,AUTHORITY[\"EPSG\",\"9122\"]],AXIS[\"Latitude\",NORTH],AXIS[\"Longitude\",EAST],AUTHORITY[\"EPSG\",\"4326\"]]\n",
      "Size is 108224 x 107798 x 3\n",
      "Driver: GTiff/GeoTIFF\n",
      "Origin = (29.746877767434313, -26.247113163017453)\n",
      "Pixel Size = (2.3728143101288307e-06, -2.3728143101288515e-06)\n"
     ]
    }
   ],
   "source": [
    "# General Dataset Information\n",
    "print(\"Metadata:\", dataset.GetMetadata())\n",
    "print(\"Type Image: \", type(dataset))\n",
    "print(\"Projection: \", dataset.GetProjection())\n",
    "print(\"Size is {} x {} x {}\".format(dataset.RasterXSize,\n",
    "                                    dataset.RasterYSize,\n",
    "                                    dataset.RasterCount))\n",
    "print(\"Driver: {}/{}\".format(dataset.GetDriver().ShortName,\n",
    "                            dataset.GetDriver().LongName))\n",
    "geotransform = dataset.GetGeoTransform()\n",
    "if geotransform:\n",
    "    print(\"Origin = ({}, {})\".format(geotransform[0], geotransform[3]))\n",
    "    print(\"Pixel Size = ({}, {})\".format(geotransform[1], geotransform[5]))"
   ]
  },
  {
   "cell_type": "code",
   "execution_count": 132,
   "metadata": {},
   "outputs": [
    {
     "name": "stdout",
     "output_type": "stream",
     "text": [
      "Band Type=Byte\n",
      "Min=0.000, Max=255.000\n",
      "Band has 8 overviews\n"
     ]
    }
   ],
   "source": [
    "# Raster Band\n",
    "band = dataset.GetRasterBand(1)\n",
    "print(\"Band Type={}\".format(gdal.GetDataTypeName(band.DataType)))\n",
    "\n",
    "min = band.GetMinimum()\n",
    "max = band.GetMaximum()\n",
    "if not min or not max:\n",
    "    (min,max) = band.ComputeRasterMinMax(True)\n",
    "print(\"Min={:.3f}, Max={:.3f}\".format(min,max))\n",
    "\n",
    "if band.GetOverviewCount() > 0:\n",
    "    print(\"Band has {} overviews\".format(band.GetOverviewCount()))\n",
    "\n",
    "if band.GetRasterColorTable():\n",
    "    print(\"Band has a color table with {} entries\".format(band.GetRasterColorTable().GetCount()))"
   ]
  },
  {
   "cell_type": "code",
   "execution_count": 138,
   "metadata": {},
   "outputs": [],
   "source": [
    "# Raster Data\n",
    "if 0:\n",
    "    scanline = band.ReadRaster(xoff=0, yoff=0,\n",
    "                            xsize=band.XSize, ysize=1,\n",
    "                            buf_xsize=band.XSize, buf_ysize=1,\n",
    "                            buf_type=gdal.GDT_Float32)\n",
    "# scanline: type string, contains xsize*4 bytes of raw binary floating point data\n",
    "# Can be converted to Python values using the struct module from the standard library:\n",
    "#import struct\n",
    "#tuple_of_floats = struct.unpack('f' * b2.XSize, scanline)"
   ]
  },
  {
   "cell_type": "code",
   "execution_count": 122,
   "metadata": {},
   "outputs": [
    {
     "name": "stdout",
     "output_type": "stream",
     "text": [
      "(107798, 108224)\n"
     ]
    }
   ],
   "source": [
    "# optional conversion to np array\n",
    "#channel = np.array(dataset.GetRasterBand(1).ReadAsArray())\n",
    "#print(channel.shape)"
   ]
  },
  {
   "cell_type": "code",
   "execution_count": 123,
   "metadata": {},
   "outputs": [
    {
     "data": {
      "text/plain": [
       "'Byte'"
      ]
     },
     "execution_count": 123,
     "metadata": {},
     "output_type": "execute_result"
    }
   ],
   "source": [
    "# Read the raster band as separate variable\n",
    "band = dataset.GetRasterBand(1)\n",
    "\n",
    "# Check type of the variable 'band'\n",
    "type(band)\n",
    "\n",
    "# Data type of the values\n",
    "gdal.GetDataTypeName(band.DataType)"
   ]
  },
  {
   "cell_type": "code",
   "execution_count": null,
   "metadata": {},
   "outputs": [],
   "source": []
  },
  {
   "cell_type": "code",
   "execution_count": 104,
   "metadata": {},
   "outputs": [
    {
     "data": {
      "text/plain": [
       "'/home/jovyan/work/saved_data/Semantic_Segmentation_of_Tree_Stock/1_labeled_data/tif/144.tif'"
      ]
     },
     "execution_count": 104,
     "metadata": {},
     "output_type": "execute_result"
    }
   ],
   "source": [
    "label_tif"
   ]
  }
 ],
 "metadata": {
  "interpreter": {
   "hash": "aee8b7b246df8f9039afb4144a1f6fd8d2ca17a180786b69acc140d282b71a49"
  },
  "kernelspec": {
   "display_name": "Python 3",
   "language": "python",
   "name": "python3"
  },
  "language_info": {
   "codemirror_mode": {
    "name": "ipython",
    "version": 3
   },
   "file_extension": ".py",
   "mimetype": "text/x-python",
   "name": "python",
   "nbconvert_exporter": "python",
   "pygments_lexer": "ipython3",
   "version": "3.9.1"
  }
 },
 "nbformat": 4,
 "nbformat_minor": 4
}
