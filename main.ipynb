{
 "cells": [
  {
   "cell_type": "markdown",
   "metadata": {},
   "source": [
    "\n",
    "# Data Preparation"
   ]
  },
  {
   "cell_type": "markdown",
   "metadata": {},
   "source": [
    "## Imports"
   ]
  },
  {
   "cell_type": "code",
   "execution_count": 1,
   "metadata": {},
   "outputs": [],
   "source": [
    "from os import listdir\n",
    "import os.path\n",
    "from os.path import isfile, join\n",
    "from osgeo import gdal\n",
    "import numpy as np"
   ]
  },
  {
   "cell_type": "code",
   "execution_count": 2,
   "metadata": {},
   "outputs": [
    {
     "name": "stdout",
     "output_type": "stream",
     "text": [
      "True True\n"
     ]
    }
   ],
   "source": [
    "path_labels = os.getcwd() + \"/1_labeled_data/tif/\"\n",
    "\n",
    "path_rdg = \"/home/jovyan/work/satellite_data/\"\n",
    "label_tif = path_labels + \"22-01-05.TIF\"\n",
    "\n",
    "print(os.path.isfile(path_rdg + \"2629BD_2018.tif\"), os.path.isfile(label_tif))\n",
    "# TODO: locally only jp2.tif files, whereas on the server only tif file?!"
   ]
  },
  {
   "cell_type": "code",
   "execution_count": 3,
   "metadata": {
    "tags": []
   },
   "outputs": [
    {
     "name": "stdout",
     "output_type": "stream",
     "text": [
      "/home/jovyan/work/saved_data/Semantic_Segmentation_of_Tree_Stock/1_labeled_data/tif/ ['22-01-05.TIF', 'check-labels-jp2-capizalized-22-01-05.TIF', 'labels-jp2-tif-22.01-05.tif']\n"
     ]
    }
   ],
   "source": [
    "def print_files(path = os.getcwd()):\n",
    "    onlyfiles = [f for f in listdir(path) if isfile(join(path, f))]\n",
    "    print(path, onlyfiles)\n",
    "print_files(path_labels)"
   ]
  },
  {
   "cell_type": "markdown",
   "metadata": {},
   "source": [
    "###### Import Image with GDAL"
   ]
  },
  {
   "cell_type": "code",
   "execution_count": 4,
   "metadata": {},
   "outputs": [],
   "source": [
    "dataset = gdal.Open(path_rdg + \"2629BD_2018.tif\")\n",
    "# \"/home/jovyan/work/saved_data/Semantic_Segmentation_of_Tree_Stock/1_labeled_data/tif/144.tif\" (label file) results in an error -> probably wrong format?"
   ]
  },
  {
   "cell_type": "markdown",
   "metadata": {},
   "source": [
    "### 0.1 Data Inspection"
   ]
  },
  {
   "cell_type": "code",
   "execution_count": 5,
   "metadata": {},
   "outputs": [
    {
     "name": "stdout",
     "output_type": "stream",
     "text": [
      "1. General TIF Data:\n",
      "Metadata: {'ALL_COMMENTS': 'Created by OpenJPEG version 2.4.0', 'AREA_OR_POINT': 'Area', 'COLORSPACE': 'RGB', 'COMPRESSION_RATE_TARGET': '1', 'TIFFTAG_MAXSAMPLEVALUE': '0', 'TIFFTAG_MINSAMPLEVALUE': '0', 'TIFFTAG_RESOLUTIONUNIT': '1 (unitless)', 'TIFFTAG_XRESOLUTION': '0', 'TIFFTAG_YRESOLUTION': '0'}\n",
      "Type Image:  <class 'osgeo.gdal.Dataset'>\n",
      "Projection:  GEOGCS[\"WGS 84\",DATUM[\"WGS_1984\",SPHEROID[\"WGS 84\",6378137,298.257223563,AUTHORITY[\"EPSG\",\"7030\"]],AUTHORITY[\"EPSG\",\"6326\"]],PRIMEM[\"Greenwich\",0],UNIT[\"degree\",0.0174532925199433,AUTHORITY[\"EPSG\",\"9122\"]],AXIS[\"Latitude\",NORTH],AXIS[\"Longitude\",EAST],AUTHORITY[\"EPSG\",\"4326\"]]\n",
      "Size is 108224 x 107798 x 3\n",
      "Driver: GTiff/GeoTIFF\n",
      "Origin = (29.746877767434313, -26.247113163017453)\n",
      "Pixel Size = (2.3728143101288307e-06, -2.3728143101288515e-06)\n",
      "2. Raster Band:\n",
      "Band Type=Byte\n",
      "Min=0.000, Max=255.000\n",
      "Band has 8 overviews\n"
     ]
    }
   ],
   "source": [
    "# General Dataset Information\n",
    "def inspect_tif(dataset):\n",
    "    print(\"1. General TIF Data:\")\n",
    "    print(\"Metadata:\", dataset.GetMetadata())\n",
    "    print(\"Type Image: \", type(dataset))\n",
    "    print(\"Projection: \", dataset.GetProjection())\n",
    "    print(\"Size is {} x {} x {}\".format(dataset.RasterXSize,\n",
    "                                    dataset.RasterYSize,\n",
    "                                    dataset.RasterCount))\n",
    "    print(\"Driver: {}/{}\".format(dataset.GetDriver().ShortName,\n",
    "                            dataset.GetDriver().LongName))\n",
    "    geotransform = dataset.GetGeoTransform()\n",
    "    if geotransform:\n",
    "        print(\"Origin = ({}, {})\".format(geotransform[0], geotransform[3]))\n",
    "        print(\"Pixel Size = ({}, {})\".format(geotransform[1], geotransform[5]))\n",
    "\n",
    "    # Raster Band\n",
    "    band = dataset.GetRasterBand(1)\n",
    "    print(\"2. Raster Band:\")\n",
    "    print(\"Band Type={}\".format(gdal.GetDataTypeName(band.DataType)))\n",
    "\n",
    "    min = band.GetMinimum()\n",
    "    max = band.GetMaximum()\n",
    "    if not min or not max:\n",
    "        (min,max) = band.ComputeRasterMinMax(True)\n",
    "    print(\"Min={:.3f}, Max={:.3f}\".format(min,max))\n",
    "\n",
    "    if band.GetOverviewCount() > 0:\n",
    "        print(\"Band has {} overviews\".format(band.GetOverviewCount()))\n",
    "\n",
    "    if band.GetRasterColorTable():\n",
    "        print(\"Band has a color table with {} entries\".format(band.GetRasterColorTable().GetCount()))\n",
    "inspect_tif(dataset)"
   ]
  },
  {
   "cell_type": "code",
   "execution_count": 6,
   "metadata": {},
   "outputs": [],
   "source": [
    "# optional conversion to np array\n",
    "# channel = np.array(dataset.GetRasterBand(1).ReadAsArray())\n",
    "# print(channel.shape)"
   ]
  },
  {
   "cell_type": "code",
   "execution_count": 7,
   "metadata": {},
   "outputs": [],
   "source": [
    "# Read the raster band as separate variable\n",
    "#band = dataset.GetRasterBand(1)\n",
    "\n",
    "# Check type of the variable 'band'\n",
    "#type(band)\n",
    "\n",
    "# Data type of the values\n",
    "#gdal.GetDataTypeName(band.DataType)"
   ]
  },
  {
   "cell_type": "code",
   "execution_count": 8,
   "metadata": {},
   "outputs": [
    {
     "name": "stdout",
     "output_type": "stream",
     "text": [
      "3 108224 107798\n"
     ]
    }
   ],
   "source": [
    "import matplotlib.pyplot as plt\n",
    "#print(dataset.RasterCount)\n",
    "#print(labels.RasterCount, labels.RasterXSize, labels.RasterYSize)\n",
    "print(dataset.RasterCount, dataset.RasterXSize, dataset.RasterYSize)"
   ]
  },
  {
   "cell_type": "code",
   "execution_count": 9,
   "metadata": {},
   "outputs": [],
   "source": [
    "# band1 = labels.GetRasterBand(1) # Red channel\n",
    "# band2 = labels.GetRasterBand(2) # Green channel\n",
    "# band3 = labels.GetRasterBand(3) # Blue channel"
   ]
  },
  {
   "cell_type": "code",
   "execution_count": 10,
   "metadata": {},
   "outputs": [],
   "source": [
    "#labels.GetRasterBand()"
   ]
  },
  {
   "cell_type": "markdown",
   "metadata": {},
   "source": [
    "### 0.2 Load Labels"
   ]
  },
  {
   "cell_type": "code",
   "execution_count": 11,
   "metadata": {},
   "outputs": [],
   "source": [
    "def load_tif(tif_filepath):\n",
    "    if not os.path.isfile(tif_filepath):\n",
    "        print(\"Filepath exists:\", os.path.isfile(tif_filepath)) \n",
    "    else:\n",
    "        labeled_data = gdal.Open(tif_filepath)\n",
    "        if labeled_data:\n",
    "            print(\"0 Success\", tif_filepath)\n",
    "            inspect_tif(labeled_data)\n",
    "        else: print(\"1 Failure\", tif_filepath) #\"File cannot be loaded.\" #\"Filepath exists: \", os.path.isfile(tif_filepath), "
   ]
  },
  {
   "cell_type": "code",
   "execution_count": 12,
   "metadata": {},
   "outputs": [],
   "source": [
    "labels = path_labels + \"22-01-05.TIF\""
   ]
  },
  {
   "cell_type": "code",
   "execution_count": 13,
   "metadata": {},
   "outputs": [
    {
     "name": "stdout",
     "output_type": "stream",
     "text": [
      "0 Success /home/jovyan/work/saved_data/Semantic_Segmentation_of_Tree_Stock/1_labeled_data/tif/22-01-05.TIF\n",
      "1. General TIF Data:\n",
      "Metadata: {'TIFFTAG_RESOLUTIONUNIT': '2 (pixels/inch)', 'TIFFTAG_XRESOLUTION': '72', 'TIFFTAG_YRESOLUTION': '72'}\n",
      "Type Image:  <class 'osgeo.gdal.Dataset'>\n",
      "Projection:  \n",
      "Size is 20335 x 20255 x 4\n",
      "Driver: GTiff/GeoTIFF\n",
      "Origin = (0.0, 0.0)\n",
      "Pixel Size = (1.0, 1.0)\n",
      "2. Raster Band:\n",
      "Band Type=Byte\n",
      "Min=255.000, Max=255.000\n"
     ]
    }
   ],
   "source": [
    "load_tif(labels)"
   ]
  },
  {
   "cell_type": "code",
   "execution_count": 14,
   "metadata": {},
   "outputs": [
    {
     "name": "stdout",
     "output_type": "stream",
     "text": [
      "Labels\n",
      "22-01-05.TIF\n",
      "0 Success /home/jovyan/work/saved_data/Semantic_Segmentation_of_Tree_Stock/1_labeled_data/tif/22-01-05.TIF\n",
      "1. General TIF Data:\n",
      "Metadata: {'TIFFTAG_RESOLUTIONUNIT': '2 (pixels/inch)', 'TIFFTAG_XRESOLUTION': '72', 'TIFFTAG_YRESOLUTION': '72'}\n",
      "Type Image:  <class 'osgeo.gdal.Dataset'>\n",
      "Projection:  \n",
      "Size is 20335 x 20255 x 4\n",
      "Driver: GTiff/GeoTIFF\n",
      "Origin = (0.0, 0.0)\n",
      "Pixel Size = (1.0, 1.0)\n",
      "2. Raster Band:\n",
      "Band Type=Byte\n",
      "Min=255.000, Max=255.000\n",
      "\n",
      "check-labels-jp2-capizalized-22-01-05.TIF\n",
      "0 Success /home/jovyan/work/saved_data/Semantic_Segmentation_of_Tree_Stock/1_labeled_data/tif/check-labels-jp2-capizalized-22-01-05.TIF\n",
      "1. General TIF Data:\n",
      "Metadata: {'TIFFTAG_RESOLUTIONUNIT': '2 (pixels/inch)', 'TIFFTAG_XRESOLUTION': '72', 'TIFFTAG_YRESOLUTION': '72'}\n",
      "Type Image:  <class 'osgeo.gdal.Dataset'>\n",
      "Projection:  \n",
      "Size is 20335 x 20255 x 4\n",
      "Driver: GTiff/GeoTIFF\n",
      "Origin = (0.0, 0.0)\n",
      "Pixel Size = (1.0, 1.0)\n",
      "2. Raster Band:\n",
      "Band Type=Byte\n",
      "Min=255.000, Max=255.000\n",
      "\n",
      "labels-jp2-tif-22.01-05.tif\n",
      "0 Success /home/jovyan/work/saved_data/Semantic_Segmentation_of_Tree_Stock/1_labeled_data/tif/labels-jp2-tif-22.01-05.tif\n",
      "1. General TIF Data:\n",
      "Metadata: {'AREA_OR_POINT': 'Area', 'TIFFTAG_RESOLUTIONUNIT': '2 (pixels/inch)', 'TIFFTAG_XRESOLUTION': '72', 'TIFFTAG_YRESOLUTION': '72'}\n",
      "Type Image:  <class 'osgeo.gdal.Dataset'>\n",
      "Projection:  GEOGCS[\"WGS 84\",DATUM[\"WGS_1984\",SPHEROID[\"WGS 84\",6378137,298.257223563,AUTHORITY[\"EPSG\",\"7030\"]],AUTHORITY[\"EPSG\",\"6326\"]],PRIMEM[\"Greenwich\",0],UNIT[\"degree\",0.0174532925199433,AUTHORITY[\"EPSG\",\"9122\"]],AXIS[\"Latitude\",NORTH],AXIS[\"Longitude\",EAST],AUTHORITY[\"EPSG\",\"4326\"]]\n",
      "Size is 24119 x 24024 x 4\n",
      "Driver: GTiff/GeoTIFF\n",
      "Origin = (29.7468774418073, -26.247113163)\n",
      "Pixel Size = (1.0647046162171074e-05, -1.0647046162171074e-05)\n",
      "2. Raster Band:\n",
      "Band Type=Byte\n",
      "Min=255.000, Max=255.000\n",
      "\n"
     ]
    }
   ],
   "source": [
    "def check_all_labels(directory = os.fsencode(path_labels)):\n",
    "    print(\"Labels\")    \n",
    "    for file in os.listdir(directory):\n",
    "        filename = os.fsdecode(file)\n",
    "        if filename.endswith(\".tif\") or filename.endswith(\".TIF\") or filename.endswith(\".tiff\"): \n",
    "            print(filename)\n",
    "            load_tif(path_labels + filename)\n",
    "            print(\"\")\n",
    "            continue\n",
    "        else:\n",
    "            continue\n",
    "check_all_labels(os.fsencode(path_labels))"
   ]
  },
  {
   "cell_type": "code",
   "execution_count": 15,
   "metadata": {},
   "outputs": [
    {
     "name": "stdout",
     "output_type": "stream",
     "text": [
      "0 Success /home/jovyan/work/saved_data/Semantic_Segmentation_of_Tree_Stock/1_labeled_data/tif/labels-jp2-tif-22.01-05.tif\n",
      "1. General TIF Data:\n",
      "Metadata: {'AREA_OR_POINT': 'Area', 'TIFFTAG_RESOLUTIONUNIT': '2 (pixels/inch)', 'TIFFTAG_XRESOLUTION': '72', 'TIFFTAG_YRESOLUTION': '72'}\n",
      "Type Image:  <class 'osgeo.gdal.Dataset'>\n",
      "Projection:  GEOGCS[\"WGS 84\",DATUM[\"WGS_1984\",SPHEROID[\"WGS 84\",6378137,298.257223563,AUTHORITY[\"EPSG\",\"7030\"]],AUTHORITY[\"EPSG\",\"6326\"]],PRIMEM[\"Greenwich\",0],UNIT[\"degree\",0.0174532925199433,AUTHORITY[\"EPSG\",\"9122\"]],AXIS[\"Latitude\",NORTH],AXIS[\"Longitude\",EAST],AUTHORITY[\"EPSG\",\"4326\"]]\n",
      "Size is 24119 x 24024 x 4\n",
      "Driver: GTiff/GeoTIFF\n",
      "Origin = (29.7468774418073, -26.247113163)\n",
      "Pixel Size = (1.0647046162171074e-05, -1.0647046162171074e-05)\n",
      "2. Raster Band:\n",
      "Band Type=Byte\n",
      "Min=255.000, Max=255.000\n"
     ]
    }
   ],
   "source": [
    "# extract logic from load_tif function\n",
    "# load_tif(path_labels + \"labels-jp2-tif-22.01-05.tif\")\n",
    "tif_filepath = path_labels + \"labels-jp2-tif-22.01-05.tif\"\n",
    "if not os.path.isfile(tif_filepath):\n",
    "        print(\"Filepath exists:\", os.path.isfile(tif_filepath)) \n",
    "else:\n",
    "    labeled_data = gdal.Open(tif_filepath)\n",
    "    if labeled_data:\n",
    "        print(\"0 Success\", tif_filepath)\n",
    "        inspect_tif(labeled_data)\n",
    "    else: print(\"1 Failure\", tif_filepath) #\"File cannot be loaded.\" #\"Filepath exists: \", os.path.isfile(tif_filepath), "
   ]
  },
  {
   "cell_type": "code",
   "execution_count": 16,
   "metadata": {},
   "outputs": [],
   "source": [
    "# 0 Success exported.TIF                       --                                                      -- labels with hidden raster dimension\n",
    "# 0 Success exported.tiff                      -- maybe can't read .tiff                               -- labels with hidden raster dimension\n",
    "# 1 Failure exported.tif                       -- \n",
    "# 0 Success exported_in_caps.TIF               -- Something exported dirctly with TIF as fileextension -- labels with hidden raster dimension\n",
    "# 1 Failure labels-22-01-05.TIF                -- label exported and renamed into TIF fileextension\n",
    "# 0 Success exported_tif.tif                   -- only tif file exported\n",
    "# 1 Failure labels-22-01-05-only-polygon.TIF\n",
    "# os.getcwd()"
   ]
  },
  {
   "cell_type": "markdown",
   "metadata": {},
   "source": [
    "### 0.3 Preview labels (TIF)"
   ]
  },
  {
   "cell_type": "code",
   "execution_count": 17,
   "metadata": {},
   "outputs": [],
   "source": [
    "import rasterio\n",
    "from rasterio.plot import show\n",
    "#label = rasterio.open(tif_filepath)\n",
    "#show(label)"
   ]
  },
  {
   "cell_type": "code",
   "execution_count": 18,
   "metadata": {},
   "outputs": [],
   "source": [
    "# No. of Bands, Image resolution (X, Y), CRS (Coordinate Reference System)\n",
    "#print(label.count, label.height, label.width, label.crs)"
   ]
  },
  {
   "cell_type": "code",
   "execution_count": 19,
   "metadata": {},
   "outputs": [],
   "source": [
    "def preview_tif(tif_filepath):\n",
    "    if os.path.isfile(tif_filepath):\n",
    "        img = rasterio.open(tif_filepath)\n",
    "        show(img)\n",
    "    else: print(\"File does not exist.\")"
   ]
  },
  {
   "cell_type": "code",
   "execution_count": 20,
   "metadata": {},
   "outputs": [],
   "source": [
    "example_tif = path_rdg + \"2629BD_2018.tif\"\n",
    "# preview_tif(example_tif)"
   ]
  },
  {
   "cell_type": "markdown",
   "metadata": {},
   "source": [
    "### Crop TIF"
   ]
  },
  {
   "cell_type": "code",
   "execution_count": 29,
   "metadata": {},
   "outputs": [
    {
     "name": "stdout",
     "output_type": "stream",
     "text": [
      "0 Success /home/jovyan/work/satellite_data/2629BD_2018.tif\n",
      "1. General TIF Data:\n",
      "Metadata: {'ALL_COMMENTS': 'Created by OpenJPEG version 2.4.0', 'AREA_OR_POINT': 'Area', 'COLORSPACE': 'RGB', 'COMPRESSION_RATE_TARGET': '1', 'TIFFTAG_MAXSAMPLEVALUE': '0', 'TIFFTAG_MINSAMPLEVALUE': '0', 'TIFFTAG_RESOLUTIONUNIT': '1 (unitless)', 'TIFFTAG_XRESOLUTION': '0', 'TIFFTAG_YRESOLUTION': '0'}\n",
      "Type Image:  <class 'osgeo.gdal.Dataset'>\n",
      "Projection:  GEOGCS[\"WGS 84\",DATUM[\"WGS_1984\",SPHEROID[\"WGS 84\",6378137,298.257223563,AUTHORITY[\"EPSG\",\"7030\"]],AUTHORITY[\"EPSG\",\"6326\"]],PRIMEM[\"Greenwich\",0],UNIT[\"degree\",0.0174532925199433,AUTHORITY[\"EPSG\",\"9122\"]],AXIS[\"Latitude\",NORTH],AXIS[\"Longitude\",EAST],AUTHORITY[\"EPSG\",\"4326\"]]\n",
      "Size is 108224 x 107798 x 3\n",
      "Driver: GTiff/GeoTIFF\n",
      "Origin = (29.746877767434313, -26.247113163017453)\n",
      "Pixel Size = (2.3728143101288307e-06, -2.3728143101288515e-06)\n",
      "2. Raster Band:\n",
      "Band Type=Byte\n",
      "Min=0.000, Max=255.000\n",
      "Band has 8 overviews\n"
     ]
    }
   ],
   "source": [
    "load_tif(example_tif)"
   ]
  },
  {
   "cell_type": "code",
   "execution_count": 27,
   "metadata": {},
   "outputs": [
    {
     "name": "stdout",
     "output_type": "stream",
     "text": [
      "$ gdalinfo '/home/jovyan/work/satellite_data/2629BD_2018.tif'\n",
      "Corner Coordinates:\n",
      "Upper Left  (  29.7468778, -26.2471132) ( 29d44'48.76\"E, 26d14'49.61\"S)\n",
      "Lower Left  (  29.7468778, -26.5028978) ( 29d44'48.76\"E, 26d30'10.43\"S)\n",
      "Upper Right (  30.0036732, -26.2471132) ( 30d 0'13.22\"E, 26d14'49.61\"S)\n",
      "Lower Right (  30.0036732, -26.5028978) ( 30d 0'13.22\"E, 26d30'10.43\"S)\n",
      "Center      (  29.8752755, -26.3750055) ( 29d52'30.99\"E, 26d22'30.02\"S)\n"
     ]
    }
   ],
   "source": [
    "print(\"$ gdalinfo '/home/jovyan/work/satellite_data/2629BD_2018.tif'\")\n",
    "print(\"\"\"Corner Coordinates:\n",
    "Upper Left  (  29.7468778, -26.2471132) ( 29d44'48.76\"E, 26d14'49.61\"S)\n",
    "Lower Left  (  29.7468778, -26.5028978) ( 29d44'48.76\"E, 26d30'10.43\"S)\n",
    "Upper Right (  30.0036732, -26.2471132) ( 30d 0'13.22\"E, 26d14'49.61\"S)\n",
    "Lower Right (  30.0036732, -26.5028978) ( 30d 0'13.22\"E, 26d30'10.43\"S)\n",
    "Center      (  29.8752755, -26.3750055) ( 29d52'30.99\"E, 26d22'30.02\"S)\"\"\")"
   ]
  },
  {
   "cell_type": "code",
   "execution_count": 37,
   "metadata": {},
   "outputs": [
    {
     "name": "stdout",
     "output_type": "stream",
     "text": [
      "29.746877767434313 -26.247113163017453 29.772557310690882 -26.27269162671571\n"
     ]
    }
   ],
   "source": [
    "upper_left_x = 29.746877767434313\n",
    "upper_left_y = -26.247113163017453\n",
    "lower_right_x = 30.0036732\n",
    "lower_right_y = -26.5028978\n",
    "\n",
    "# adjust cutout -> 1/100 size in top left corner\n",
    "lower_right_x = upper_left_x + (lower_right_x - upper_left_x)/10\n",
    "lower_right_y = upper_left_y + (lower_right_y - upper_left_y)/10\n",
    "\n",
    "print(upper_left_x, upper_left_y, lower_right_x, lower_right_y)"
   ]
  },
  {
   "cell_type": "code",
   "execution_count": 38,
   "metadata": {},
   "outputs": [
    {
     "data": {
      "text/plain": [
       "<osgeo.gdal.Dataset; proxy of <Swig Object of type 'GDALDatasetShadow *' at 0x7ff7de4d7840> >"
      ]
     },
     "execution_count": 38,
     "metadata": {},
     "output_type": "execute_result"
    }
   ],
   "source": [
    "bbox = (upper_left_x,upper_left_y,lower_right_x,lower_right_y) #(upper_left_x,upper_left_y,lower_right_x,lower_right_y)\n",
    "cropped_raster = os.getcwd()+'/2_cutouts/cropped_raster.tif'\n",
    "gdal.Translate(cropped_raster, example_tif, projWin = bbox)"
   ]
  },
  {
   "cell_type": "code",
   "execution_count": 39,
   "metadata": {},
   "outputs": [
    {
     "name": "stdout",
     "output_type": "stream",
     "text": [
      "0 Success /home/jovyan/work/saved_data/Semantic_Segmentation_of_Tree_Stock/cropped_raster.tif\n",
      "1. General TIF Data:\n",
      "Metadata: {'ALL_COMMENTS': 'Created by OpenJPEG version 2.4.0', 'AREA_OR_POINT': 'Area', 'COLORSPACE': 'RGB', 'COMPRESSION_RATE_TARGET': '1', 'TIFFTAG_MAXSAMPLEVALUE': '0', 'TIFFTAG_MINSAMPLEVALUE': '0', 'TIFFTAG_RESOLUTIONUNIT': '1 (unitless)', 'TIFFTAG_XRESOLUTION': '0', 'TIFFTAG_YRESOLUTION': '0'}\n",
      "Type Image:  <class 'osgeo.gdal.Dataset'>\n",
      "Projection:  GEOGCS[\"WGS 84\",DATUM[\"WGS_1984\",SPHEROID[\"WGS 84\",6378137,298.257223563,AUTHORITY[\"EPSG\",\"7030\"]],AUTHORITY[\"EPSG\",\"6326\"]],PRIMEM[\"Greenwich\",0],UNIT[\"degree\",0.0174532925199433,AUTHORITY[\"EPSG\",\"9122\"]],AXIS[\"Latitude\",NORTH],AXIS[\"Longitude\",EAST],AUTHORITY[\"EPSG\",\"4326\"]]\n",
      "Size is 10822 x 10780 x 3\n",
      "Driver: GTiff/GeoTIFF\n",
      "Origin = (29.746877767434313, -26.247113163017453)\n",
      "Pixel Size = (2.3728143101288307e-06, -2.3728143101288515e-06)\n",
      "2. Raster Band:\n",
      "Band Type=Byte\n",
      "Min=0.000, Max=224.000\n",
      "Corner Coordinates:\n",
      "Upper Left  (  29.7468778, -26.2471132) ( 29d44'48.76\"E, 26d14'49.61\"S)\n",
      "Lower Left  (  29.7468778, -26.2496711) ( 29d44'48.76\"E, 26d14'58.82\"S)\n",
      "Upper Right (  29.7494452, -26.2471132) ( 29d44'58.00\"E, 26d14'49.61\"S)\n",
      "Lower Right (  29.7494452, -26.2496711) ( 29d44'58.00\"E, 26d14'58.82\"S)\n",
      "Center      (  29.7481615, -26.2483921) ( 29d44'53.38\"E, 26d14'54.21\"S)\n"
     ]
    }
   ],
   "source": [
    "load_tif(cropped_raster)"
   ]
  },
  {
   "cell_type": "code",
   "execution_count": 40,
   "metadata": {},
   "outputs": [
    {
     "data": {
      "image/png": "[encoded data removed]",
      "text/plain": [
       "<Figure size 432x288 with 1 Axes>"
      ]
     },
     "metadata": {},
     "output_type": "display_data"
    }
   ],
   "source": [
    "preview_tif(cropped_raster)"
   ]
  },
  {
   "cell_type": "code",
   "execution_count": 21,
   "metadata": {},
   "outputs": [
    {
     "ename": "KeyError",
     "evalue": "\"Key '/home/jovyan/work/saved_data/Semantic_Segmentation_of_Tree_Stock/1_labeled_data/tif/' not found in earthpy.io.DATA_URLS. Choose one of: 'california-rim-fire', 'co-flood-extras', 'cold-springs-fire', 'cold-springs-landsat-scenes', 'cold-springs-modis-h4', 'colorado-flood', 'cs-test-landsat', 'cs-test-naip', 'naip-fire-crop', 'ndvi-automation', 'spatial-vector-lidar', 'twitter-flood', 'vignette-elevation', 'vignette-landsat'\"",
     "output_type": "error",
     "traceback": [
      "\u001b[0;31m---------------------------------------------------------------------------\u001b[0m",
      "\u001b[0;31mKeyError\u001b[0m                                  Traceback (most recent call last)",
      "\u001b[0;32m<ipython-input-21-1c881d905374>\u001b[0m in \u001b[0;36m<module>\u001b[0;34m\u001b[0m\n\u001b[1;32m     13\u001b[0m \u001b[0;34m\u001b[0m\u001b[0m\n\u001b[1;32m     14\u001b[0m \u001b[0;31m# Get data and set working directory\u001b[0m\u001b[0;34m\u001b[0m\u001b[0;34m\u001b[0m\u001b[0;34m\u001b[0m\u001b[0m\n\u001b[0;32m---> 15\u001b[0;31m \u001b[0met\u001b[0m\u001b[0;34m.\u001b[0m\u001b[0mdata\u001b[0m\u001b[0;34m.\u001b[0m\u001b[0mget_data\u001b[0m\u001b[0;34m(\u001b[0m\u001b[0mpath_labels\u001b[0m\u001b[0;34m)\u001b[0m\u001b[0;34m\u001b[0m\u001b[0;34m\u001b[0m\u001b[0m\n\u001b[0m\u001b[1;32m     16\u001b[0m \u001b[0;31m#os.chdir(os.path.join(et.io.HOME, 'earth-analytics','data'))\u001b[0m\u001b[0;34m\u001b[0m\u001b[0;34m\u001b[0m\u001b[0;34m\u001b[0m\u001b[0m\n\u001b[1;32m     17\u001b[0m \u001b[0;34m\u001b[0m\u001b[0m\n",
      "\u001b[0;32m~/.local/lib/python3.8/site-packages/earthpy/io.py\u001b[0m in \u001b[0;36mget_data\u001b[0;34m(self, key, url, replace, verbose)\u001b[0m\n\u001b[1;32m    202\u001b[0m             \u001b[0;32mif\u001b[0m \u001b[0mkey\u001b[0m \u001b[0;32mnot\u001b[0m \u001b[0;32min\u001b[0m \u001b[0mDATA_URLS\u001b[0m\u001b[0;34m:\u001b[0m\u001b[0;34m\u001b[0m\u001b[0;34m\u001b[0m\u001b[0m\n\u001b[1;32m    203\u001b[0m                 \u001b[0mpretty_keys\u001b[0m \u001b[0;34m=\u001b[0m \u001b[0;34m\", \"\u001b[0m\u001b[0;34m.\u001b[0m\u001b[0mjoin\u001b[0m\u001b[0;34m(\u001b[0m\u001b[0mrepr\u001b[0m\u001b[0;34m(\u001b[0m\u001b[0mk\u001b[0m\u001b[0;34m)\u001b[0m \u001b[0;32mfor\u001b[0m \u001b[0mk\u001b[0m \u001b[0;32min\u001b[0m \u001b[0mself\u001b[0m\u001b[0;34m.\u001b[0m\u001b[0mdata_keys\u001b[0m\u001b[0;34m)\u001b[0m\u001b[0;34m\u001b[0m\u001b[0;34m\u001b[0m\u001b[0m\n\u001b[0;32m--> 204\u001b[0;31m                 raise KeyError(\n\u001b[0m\u001b[1;32m    205\u001b[0m                     \u001b[0;34m\"Key '\"\u001b[0m \u001b[0;34m+\u001b[0m \u001b[0mkey\u001b[0m \u001b[0;34m+\u001b[0m \u001b[0;34m\"' not found in earthpy.io.DATA_URLS. \"\u001b[0m\u001b[0;34m\u001b[0m\u001b[0;34m\u001b[0m\u001b[0m\n\u001b[1;32m    206\u001b[0m                     \u001b[0;34m\"Choose one of: {}\"\u001b[0m\u001b[0;34m.\u001b[0m\u001b[0mformat\u001b[0m\u001b[0;34m(\u001b[0m\u001b[0mpretty_keys\u001b[0m\u001b[0;34m)\u001b[0m\u001b[0;34m\u001b[0m\u001b[0;34m\u001b[0m\u001b[0m\n",
      "\u001b[0;31mKeyError\u001b[0m: \"Key '/home/jovyan/work/saved_data/Semantic_Segmentation_of_Tree_Stock/1_labeled_data/tif/' not found in earthpy.io.DATA_URLS. Choose one of: 'california-rim-fire', 'co-flood-extras', 'cold-springs-fire', 'cold-springs-landsat-scenes', 'cold-springs-modis-h4', 'colorado-flood', 'cs-test-landsat', 'cs-test-naip', 'naip-fire-crop', 'ndvi-automation', 'spatial-vector-lidar', 'twitter-flood', 'vignette-elevation', 'vignette-landsat'\""
     ]
    }
   ],
   "source": [
    "import seaborn as sns\n",
    "import numpy as np\n",
    "from shapely.geometry import mapping\n",
    "import rioxarray as rxr\n",
    "import xarray as xr\n",
    "import geopandas as gpd\n",
    "\n",
    "import earthpy as et\n",
    "import earthpy.plot as ep\n",
    "\n",
    "# Prettier plotting with seaborn\n",
    "sns.set(font_scale=1.5)\n",
    "\n",
    "# Get data and set working directory\n",
    "et.data.get_data(path_labels)\n",
    "#os.chdir(os.path.join(et.io.HOME, 'earth-analytics','data'))\n",
    "\n",
    "# 2. Open Raster and Vector Layers\n",
    "lidar_chm_path = example_tif\n",
    "\n",
    "lidar_chm_im = rxr.open_rasterio(example_tif,\n",
    "                                 masked=True).squeeze()\n",
    "\n",
    "f, ax = plt.subplots(figsize=(10, 5))\n",
    "lidar_chm_im.plot.imshow()\n",
    "ax.set(title=\"Example TIF\")\n",
    "\n",
    "ax.set_axis_off()\n",
    "plt.show()"
   ]
  },
  {
   "cell_type": "code",
   "execution_count": null,
   "metadata": {},
   "outputs": [],
   "source": [
    "path_labels"
   ]
  },
  {
   "cell_type": "code",
   "execution_count": null,
   "metadata": {},
   "outputs": [],
   "source": [
    "#inspect_tif(example_tif)"
   ]
  },
  {
   "cell_type": "code",
   "execution_count": null,
   "metadata": {},
   "outputs": [],
   "source": [
    "lidar_chm_path = os.path.join(\"colorado-flood\", \n",
    "                              \"spatial\"\n",
    "                              \"boulder-leehill-rd\",\n",
    "                              \"outputs\",\n",
    "                              \"lidar_chm.tif\")\n",
    "\n",
    "lidar_chm_im = rxr.open_rasterio(example_tif,\n",
    "                                 masked=True).squeeze()\n",
    "\n",
    "f, ax = plt.subplots(figsize=(10, 5))\n",
    "lidar_chm_im.plot.imshow()\n",
    "ax.set(title=\"Lidar Canopy Height Model (CHM)\")\n",
    "\n",
    "ax.set_axis_off()\n",
    "plt.show()"
   ]
  },
  {
   "cell_type": "code",
   "execution_count": null,
   "metadata": {},
   "outputs": [],
   "source": [
    "# Open crop extent (your study area extent boundary)\n",
    "crop_extent = gpd.read_file(example_tif)\n",
    "\n",
    "print('crop extent crs: ', crop_extent.crs)\n",
    "print('lidar crs: ', lidar_chm_im.rio.crs)"
   ]
  },
  {
   "cell_type": "code",
   "execution_count": null,
   "metadata": {},
   "outputs": [],
   "source": [
    "# Plot the crop boundary layer\n",
    "# Note this is just an example so you can see what it looks like\n",
    "# You don't need to plot this layer in your homework!\n",
    "fig, ax = plt.subplots(figsize=(6, 6))\n",
    "\n",
    "crop_extent.plot(ax=ax)\n",
    "\n",
    "ax.set_title(\"Shapefile Crop Extent\",\n",
    "             fontsize=16)\n",
    "plt.show()"
   ]
  },
  {
   "cell_type": "code",
   "execution_count": null,
   "metadata": {},
   "outputs": [],
   "source": [
    "f, ax = plt.subplots(figsize=(10, 5))\n",
    "lidar_chm_im.plot.imshow(ax=ax)\n",
    "\n",
    "crop_extent.plot(ax=ax,\n",
    "                 alpha=.8)\n",
    "ax.set(title=\"Raster Layer with Shapefile Overlayed\")\n",
    "\n",
    "ax.set_axis_off()\n",
    "plt.show()"
   ]
  },
  {
   "cell_type": "code",
   "execution_count": null,
   "metadata": {},
   "outputs": [],
   "source": []
  },
  {
   "cell_type": "code",
   "execution_count": null,
   "metadata": {},
   "outputs": [],
   "source": []
  },
  {
   "cell_type": "code",
   "execution_count": null,
   "metadata": {},
   "outputs": [],
   "source": []
  },
  {
   "cell_type": "code",
   "execution_count": null,
   "metadata": {},
   "outputs": [],
   "source": []
  },
  {
   "cell_type": "code",
   "execution_count": null,
   "metadata": {},
   "outputs": [],
   "source": []
  }
 ],
 "metadata": {
  "interpreter": {
   "hash": "aee8b7b246df8f9039afb4144a1f6fd8d2ca17a180786b69acc140d282b71a49"
  },
  "kernelspec": {
   "display_name": "Python 3",
   "language": "python",
   "name": "python3"
  },
  "language_info": {
   "codemirror_mode": {
    "name": "ipython",
    "version": 3
   },
   "file_extension": ".py",
   "mimetype": "text/x-python",
   "name": "python",
   "nbconvert_exporter": "python",
   "pygments_lexer": "ipython3",
   "version": "3.8.5"
  }
 },
 "nbformat": 4,
 "nbformat_minor": 4
}
