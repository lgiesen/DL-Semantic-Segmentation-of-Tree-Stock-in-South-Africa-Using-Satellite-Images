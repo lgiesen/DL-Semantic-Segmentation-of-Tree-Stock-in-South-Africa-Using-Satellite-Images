{
 "cells": [
  {
   "cell_type": "markdown",
   "metadata": {},
   "source": [
    "\n",
    "# Data Preparation"
   ]
  },
  {
   "cell_type": "markdown",
   "metadata": {
    "tags": []
   },
   "source": [
    "## Imports"
   ]
  },
  {
   "cell_type": "code",
   "execution_count": 1,
   "metadata": {},
   "outputs": [],
   "source": [
    "from os import listdir\n",
    "import os.path\n",
    "from os.path import isfile, join\n",
    "from osgeo import gdal\n",
    "import numpy as np"
   ]
  },
  {
   "cell_type": "code",
   "execution_count": 2,
   "metadata": {},
   "outputs": [],
   "source": [
    "# for coloured print statements\n",
    "class bcolors:\n",
    "    HEADER = '\\033[95m'\n",
    "    OKBLUE = '\\033[94m'\n",
    "    OKCYAN = '\\033[96m'\n",
    "    OKGREEN = '\\033[92m'\n",
    "    WARNING = '\\033[93m'\n",
    "    FAIL = '\\033[91m'\n",
    "    ENDC = '\\033[0m'\n",
    "    BOLD = '\\033[1m'\n",
    "    UNDERLINE = '\\033[4m'"
   ]
  },
  {
   "cell_type": "code",
   "execution_count": 3,
   "metadata": {},
   "outputs": [],
   "source": [
    "path_labels = os.getcwd() + \"/1_labeled_data/tif/\"\n",
    "path_rdg = \"/home/jovyan/work/satellite_data/\"\n",
    "label_tif = path_labels + \"22-01-05.TIF\""
   ]
  },
  {
   "cell_type": "code",
   "execution_count": 4,
   "metadata": {
    "tags": []
   },
   "outputs": [
    {
     "name": "stdout",
     "output_type": "stream",
     "text": [
      "/home/jovyan/work/saved_data/Semantic_Segmentation_of_Tree_Stock/1_labeled_data/tif/ ['22-01-05-uploaded.tif', '22-01-05.TIF', 'check-labels-jp2-capizalized-22-01-05.TIF', 'labels-jp2-tif-22.01-05.tif', '22-01-05-test-3-without-tif.tif', 'now.tif', '22-01-30.tif', '22-01-06-with-tif.tif']\n"
     ]
    }
   ],
   "source": [
    "def print_files(path = os.getcwd()):\n",
    "    onlyfiles = [f for f in listdir(path) if isfile(join(path, f))]\n",
    "    print(path, onlyfiles)\n",
    "print_files(path_labels)"
   ]
  },
  {
   "cell_type": "markdown",
   "metadata": {},
   "source": [
    "### 0.1 Data Inspection"
   ]
  },
  {
   "cell_type": "code",
   "execution_count": 5,
   "metadata": {},
   "outputs": [],
   "source": [
    "# Import Image with GDAL\n",
    "dataset = gdal.Open(path_rdg + \"2629BD_2018.tif\")"
   ]
  },
  {
   "cell_type": "code",
   "execution_count": 6,
   "metadata": {},
   "outputs": [
    {
     "name": "stdout",
     "output_type": "stream",
     "text": [
      "1. General TIF Data:\n",
      "Projection:  GEOGCS[\"WGS 84\",DATUM[\"WGS_1984\",SPHEROID[\"WGS 84\",6378137,298.257223563,AUTHORITY[\"EPSG\",\"7030\"]],AUTHORITY[\"EPSG\",\"6326\"]],PRIMEM[\"Greenwich\",0],UNIT[\"degree\",0.0174532925199433,AUTHORITY[\"EPSG\",\"9122\"]],AXIS[\"Latitude\",NORTH],AXIS[\"Longitude\",EAST],AUTHORITY[\"EPSG\",\"4326\"]]\n",
      "Size is 108224 x 107798 x 3\n",
      "2. Raster Band:\n",
      "Min=0.000, Max=255.000\n",
      "Band has 8 overviews\n",
      "Image Size: \n",
      "        # Pixels in Image = (108224, 107798)\n",
      "        Size of one Pixel in cm = (0.00023728143101288307, 0.00023728143101288307)\n",
      "        Size Covered by Image / Image Size = (0.2567954558993826m, 0.2557846370032677m)\n"
     ]
    }
   ],
   "source": [
    "# General Dataset Information\n",
    "def inspect_tif(dataset):\n",
    "    print(\"1. General TIF Data:\")\n",
    "    # print(\"Metadata:\",7 dataset.GetMetadata())\n",
    "    # print(\"Type Image: \", type(dataset))\n",
    "    print(\"Projection: \", dataset.GetProjection())\n",
    "    print(\"Size is {} x {} x {}\".format(dataset.RasterXSize,\n",
    "                                    dataset.RasterYSize,\n",
    "                                    dataset.RasterCount))\n",
    "    # print(\"Driver: {}/{}\".format(dataset.GetDriver().ShortName,\n",
    "    #                         dataset.GetDriver().LongName))\n",
    "    # geotransform = dataset.GetGeoTransform()\n",
    "    # if geotransform:\n",
    "    #     print(\"Origin = ({}, {})\".format(geotransform[0], geotransform[3]))\n",
    "    #     print(\"Pixel Size = ({}, {})\".format(geotransform[1], geotransform[5]))\n",
    "\n",
    "    # Raster Band\n",
    "    band = dataset.GetRasterBand(1)\n",
    "    print(\"2. Raster Band:\")\n",
    "    # print(\"Band Type={}\".format(gdal.GetDataTypeName(band.DataType)))\n",
    "\n",
    "    min = band.GetMinimum()\n",
    "    max = band.GetMaximum()\n",
    "    if not min or not max:\n",
    "        (min,max) = band.ComputeRasterMinMax(True)\n",
    "    print(\"Min={:.3f}, Max={:.3f}\".format(min,max))\n",
    "\n",
    "    if band.GetOverviewCount() > 0:\n",
    "        print(\"Band has {} overviews\".format(band.GetOverviewCount()))\n",
    "\n",
    "    # if band.GetRasterColorTable():\n",
    "    #     print(\"Band has a color table with {} entries\".format(band.GetRasterColorTable().GetCount()))\n",
    "        \n",
    "    size_x_px = dataset.RasterXSize\n",
    "    size_y_px = dataset.RasterYSize\n",
    "    pixel_size = (dataset.GetGeoTransform()[1], dataset.GetGeoTransform()[1])\n",
    "    size_x = size_x_px * pixel_size[0]\n",
    "    size_y = size_y_px * pixel_size[1]\n",
    "    print(\"\"\"Image Size: \n",
    "        # Pixels in Image = ({}, {})\n",
    "        Size of one Pixel in cm = {}\n",
    "        Size Covered by Image / Image Size = ({}m, {}m)\"\"\".format(size_x_px, size_y_px, \n",
    "                                                                                    tuple([100*x for x in pixel_size]),\n",
    "                                                                                    size_x, size_y)\n",
    "    )\n",
    "inspect_tif(dataset)"
   ]
  },
  {
   "cell_type": "code",
   "execution_count": 7,
   "metadata": {},
   "outputs": [
    {
     "name": "stdout",
     "output_type": "stream",
     "text": [
      "1. General TIF Data:\n",
      "Projection:  GEOGCS[\"WGS 84\",DATUM[\"WGS_1984\",SPHEROID[\"WGS 84\",6378137,298.257223563,AUTHORITY[\"EPSG\",\"7030\"]],AUTHORITY[\"EPSG\",\"6326\"]],PRIMEM[\"Greenwich\",0],UNIT[\"degree\",0.0174532925199433,AUTHORITY[\"EPSG\",\"9122\"]],AXIS[\"Latitude\",NORTH],AXIS[\"Longitude\",EAST],AUTHORITY[\"EPSG\",\"4326\"]]\n",
      "Size is 107608 x 107249 x 3\n",
      "2. Raster Band:\n",
      "Min=0.000, Max=240.000\n",
      "Band has 8 overviews\n",
      "Image Size: \n",
      "        # Pixels in Image = (107608, 107249)\n",
      "        Size of one Pixel in cm = (0.00023770193857792506, 0.00023770193857792506)\n",
      "        Size Covered by Image / Image Size = (0.2557863020649336m, 0.25493295210543887m)\n"
     ]
    }
   ],
   "source": [
    "some_dataset = gdal.Open(path_rdg + \"2627DC_2018.tif\")\n",
    "inspect_tif(some_dataset)"
   ]
  },
  {
   "cell_type": "code",
   "execution_count": 8,
   "metadata": {},
   "outputs": [],
   "source": [
    "# optional conversion to np array\n",
    "# channel = np.array(dataset.GetRasterBand(1).ReadAsArray())\n",
    "# print(channel.shape)"
   ]
  },
  {
   "cell_type": "code",
   "execution_count": 9,
   "metadata": {},
   "outputs": [],
   "source": [
    "# Read the raster band as separate variable\n",
    "#band = dataset.GetRasterBand(1)\n",
    "\n",
    "# Check type of the variable 'band'\n",
    "#type(band)\n",
    "\n",
    "# Data type of the values\n",
    "#gdal.GetDataTypeName(band.DataType)"
   ]
  },
  {
   "cell_type": "code",
   "execution_count": 10,
   "metadata": {},
   "outputs": [
    {
     "name": "stdout",
     "output_type": "stream",
     "text": [
      "3 108224 107798\n"
     ]
    }
   ],
   "source": [
    "import matplotlib.pyplot as plt\n",
    "#print(dataset.RasterCount)\n",
    "#print(labels.RasterCount, labels.RasterXSize, labels.RasterYSize)\n",
    "print(dataset.RasterCount, dataset.RasterXSize, dataset.RasterYSize)"
   ]
  },
  {
   "cell_type": "code",
   "execution_count": 11,
   "metadata": {},
   "outputs": [],
   "source": [
    "# band1 = labels.GetRasterBand(1) # Red channel\n",
    "# band2 = labels.GetRasterBand(2) # Green channel\n",
    "# band3 = labels.GetRasterBand(3) # Blue channel"
   ]
  },
  {
   "cell_type": "code",
   "execution_count": 12,
   "metadata": {},
   "outputs": [],
   "source": [
    "#labels.GetRasterBand()"
   ]
  },
  {
   "cell_type": "markdown",
   "metadata": {},
   "source": [
    "### 0.2 Load Labels"
   ]
  },
  {
   "cell_type": "code",
   "execution_count": 13,
   "metadata": {},
   "outputs": [
    {
     "data": {
      "text/plain": [
       "'\\nIdea Training Process:\\n1. Load training set (labels with corresponding input TIFs)\\n2. Create cutouts of labeled training data\\n3. Train model on data\\n4. Evaluate model\\n\\nIdea Prediction Process:\\n5. Create cutouts of unlabeled data\\n6. Predict cutouts\\n\\nFunction Overview\\nTraining: load labels -> create_cutouts(label_file) -> fit(unlabeled_cutouts, labeled_cutouts) -> evaluate(?)\\nPrediction: load dats -> create_cutouts(label_file) -> predict(unlabeled_cutouts)\\n'"
      ]
     },
     "execution_count": 13,
     "metadata": {},
     "output_type": "execute_result"
    }
   ],
   "source": [
    "\"\"\"\n",
    "Idea Training Process:\n",
    "1. Load training set (labels with corresponding input TIFs)\n",
    "2. Create cutouts of labeled training data\n",
    "3. Train model on data\n",
    "4. Evaluate model\n",
    "\n",
    "Idea Prediction Process:\n",
    "5. Create cutouts of unlabeled data\n",
    "6. Predict cutouts\n",
    "\n",
    "Function Overview\n",
    "Training: load labels -> create_cutouts(label_file) -> fit(unlabeled_cutouts, labeled_cutouts) -> evaluate(?)\n",
    "Prediction: load dats -> create_cutouts(label_file) -> predict(unlabeled_cutouts)\n",
    "\"\"\""
   ]
  },
  {
   "cell_type": "code",
   "execution_count": 14,
   "metadata": {},
   "outputs": [],
   "source": [
    "def create_cutouts(path_label, label_file):\n",
    "    # upper/lower (u/l) left/right (l/r) coordinates \n",
    "    ulx, xres, xskew, uly, yskew, yres  = label_file.GetGeoTransform()\n",
    "    width, height = label_file.RasterXSize, label_file.RasterYSize\n",
    "    lrx = ulx + width * xres\n",
    "    lry = uly + height * yres\n",
    "    # corner & cener coordinates can be checked in the terminal with gdalinfo '/home/jovyan/work/satellite_data/FILE.tif'\n",
    "    # determine cutout window of size: 512x512 px\n",
    "    cutout_size = 512\n",
    "    crop_ulx = ulx\n",
    "    crop_uly = uly\n",
    "    crop_lrx = ulx + cutout_size * xres\n",
    "    crop_lry = uly + cutout_size * yres\n",
    "    cropped_window = (crop_ulx,crop_uly,crop_lrx,crop_lry)\n",
    "    print(\"cropped window:\", cropped_window)\n",
    "    #export cropped raster\n",
    "    print(\"label_file:\", path_label)\n",
    "    cutout_path = os.getcwd() + \"/2_cutouts/\" + path_label\n",
    "    gdal.Translate(cutout_path, label_file, projWin = cropped_window) #example_tif is the tif file"
   ]
  },
  {
   "cell_type": "code",
   "execution_count": 16,
   "metadata": {},
   "outputs": [
    {
     "name": "stdout",
     "output_type": "stream",
     "text": [
      "\u001b[94m22-01-30.tif\u001b[0m\n",
      "\u001b[92m0 Success:\u001b[0m/home/jovyan/work/saved_data/Semantic_Segmentation_of_Tree_Stock/1_labeled_data/tif/22-01-30.tif\n",
      "1. General TIF Data:\n",
      "Projection:  GEOGCS[\"WGS 84\",DATUM[\"WGS_1984\",SPHEROID[\"WGS 84\",6378137,298.257223563,AUTHORITY[\"EPSG\",\"7030\"]],AUTHORITY[\"EPSG\",\"6326\"]],PRIMEM[\"Greenwich\",0],UNIT[\"degree\",0.0174532925199433,AUTHORITY[\"EPSG\",\"9122\"]],AXIS[\"Latitude\",NORTH],AXIS[\"Longitude\",EAST],AUTHORITY[\"EPSG\",\"4326\"]]\n",
      "Size is 4112 x 11377 x 4\n",
      "2. Raster Band:\n",
      "Min=80.000, Max=255.000\n",
      "Image Size: \n",
      "        # Pixels in Image = (4112, 11377)\n",
      "        Size of one Pixel in cm = (0.0015679484435797747, 0.0015679484435797747)\n",
      "        Size Covered by Image / Image Size = (0.06447404000000034m, 0.17838549442607096m)\n",
      "cropped window: (29.748224553, -26.248672807786964, 29.756252449031127, -26.25670070381809)\n",
      "label_file: 22-01-30.tif\n"
     ]
    }
   ],
   "source": [
    "def load_tif(label_files):\n",
    "    # loop through array of file names\n",
    "    for path_label in label_files:\n",
    "        print(f\"{bcolors.OKBLUE}{path_label}{bcolors.ENDC}\")\n",
    "        path_label_file = path_labels + path_label\n",
    "        # check if filepath exists\n",
    "        if not os.path.isfile(path_label_file):\n",
    "            print(\"Filepath does not exist\") \n",
    "            continue\n",
    "        # open file\n",
    "        label_file = gdal.Open(path_label_file)\n",
    "        # check if gdal is able to open file\n",
    "        if label_file:\n",
    "            print(f\"{bcolors.OKGREEN}0 Success:{bcolors.ENDC}\" + path_label_file)\n",
    "            inspect_tif(label_file)\n",
    "            # create cutouts\n",
    "            create_cutouts(path_label, label_file)\n",
    "            continue\n",
    "        print(f\"{bcolors.FAIL}1 Failure:{bcolors.ENDC}\" + path_label_file) #\"File cannot be loaded.\" #\"Filepath exists: \", os.path.isfile(tif_filepath), "
   ]
  },
  {
   "cell_type": "code",
   "execution_count": null,
   "metadata": {},
   "outputs": [],
   "source": [
    "label_files = [\"22-01-30.tif\"] #, \"now.tif\"\n",
    "load_tiif(label_files)"
   ]
  },
  {
   "cell_type": "markdown",
   "metadata": {},
   "source": [
    "# Backlog"
   ]
  },
  {
   "cell_type": "code",
   "execution_count": 17,
   "metadata": {},
   "outputs": [],
   "source": [
    "#check if all (label) files in a directory are loadable\n",
    "def check_all_labels(directory = os.fsencode(path_labels)):\n",
    "    print(\"Labels\")    \n",
    "    for file in os.listdir(directory):\n",
    "        filename = os.fsdecode(file)\n",
    "        if filename.endswith(\".tif\") or filename.endswith(\".TIF\") or filename.endswith(\".tiff\"): \n",
    "            print(filename)\n",
    "            load_tif(path_labels + filenyame)\n",
    "            print(\"\")\n",
    "            continue\n",
    "        else:\n",
    "            continue\n",
    "#check_all_labels(os.fsencode(path_labels))"
   ]
  },
  {
   "cell_type": "markdown",
   "metadata": {},
   "source": [
    "### 0.3 Preview labels (TIF)"
   ]
  },
  {
   "cell_type": "code",
   "execution_count": 20,
   "metadata": {},
   "outputs": [],
   "source": [
    "import rasterio\n",
    "from rasterio.plot import show\n",
    "# label = rasterio.open(tif_filepath)\n",
    "# show(label)"
   ]
  },
  {
   "cell_type": "code",
   "execution_count": 21,
   "metadata": {},
   "outputs": [],
   "source": [
    "# No. of Bands, Image resolution (X, Y), CRS (Coordinate Reference System)\n",
    "# print(label.count, label.height, label.width, label.crs)"
   ]
  },
  {
   "cell_type": "code",
   "execution_count": 22,
   "metadata": {},
   "outputs": [],
   "source": [
    "def preview_tif(tif_filepath):\n",
    "    if os.path.isfile(tif_filepath):\n",
    "        img = rasterio.open(tif_filepath)\n",
    "        show(img)\n",
    "    else: print(\"File does not exist.\")"
   ]
  },
  {
   "cell_type": "code",
   "execution_count": 23,
   "metadata": {},
   "outputs": [],
   "source": [
    "example_tif = path_rdg + \"2629BD_2018.tif\"\n",
    "# preview_tif(example_tif)"
   ]
  },
  {
   "cell_type": "markdown",
   "metadata": {},
   "source": [
    "### 0.4 Crop TIF"
   ]
  },
  {
   "cell_type": "code",
   "execution_count": null,
   "metadata": {},
   "outputs": [],
   "source": [
    "load_tif(cropped_raster)"
   ]
  },
  {
   "cell_type": "code",
   "execution_count": null,
   "metadata": {},
   "outputs": [],
   "source": [
    "preview_tif(cropped_raster)"
   ]
  },
  {
   "cell_type": "code",
   "execution_count": null,
   "metadata": {},
   "outputs": [],
   "source": [
    "# close tif\n",
    "#dataset = None"
   ]
  }
 ],
 "metadata": {
  "interpreter": {
   "hash": "aee8b7b246df8f9039afb4144a1f6fd8d2ca17a180786b69acc140d282b71a49"
  },
  "kernelspec": {
   "display_name": "Python 3",
   "language": "python",
   "name": "python3"
  },
  "language_info": {
   "codemirror_mode": {
    "name": "ipython",
    "version": 3
   },
   "file_extension": ".py",
   "mimetype": "text/x-python",
   "name": "python",
   "nbconvert_exporter": "python",
   "pygments_lexer": "ipython3",
   "version": "3.8.5"
  }
 },
 "nbformat": 4,
 "nbformat_minor": 4
}
