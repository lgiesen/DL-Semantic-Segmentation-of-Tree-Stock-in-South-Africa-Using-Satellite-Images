{
 "cells": [
  {
   "cell_type": "code",
   "execution_count": 84,
   "metadata": {},
   "outputs": [
    {
     "data": {
      "text/plain": [
       "'Explanation:\\n \\\\[    => match \" [\" - brackets have to be excaped\\n[^\\\\]]*  => match any number of characters that are not \\']\\'\\n]      => match closing square bracket\\n- or use this for search and replace:  \\\\[(.+?)\\\\].\\n'"
      ]
     },
     "execution_count": 84,
     "metadata": {},
     "output_type": "execute_result"
    }
   ],
   "source": [
    "import re\n",
    "import pyperclip\n",
    "def removeCitation(citation: str, is_paper: bool = False):\n",
    "    if is_paper:    raw_text = re.sub(pattern = r' \\[[^\\]]*]', repl='', string=citation)\n",
    "    else:           raw_text = re.sub(pattern = r'\\\\[^\\}]*\\}', repl='', string=citation.replace(\"extbf\",\"\\cite\").replace(\"~\\ref\", \" \\-\")).replace(\"\\t\", \"\")\n",
    "                    #re.sub(pattern = r' \\\\cite[^\\]]*}', repl='', string=citation)\n",
    "    # rm text wrap to new line\n",
    "    raw_text = raw_text.replace(\"- \", \"\")\n",
    "    print(raw_text)\n",
    "    #copy to clipboard\n",
    "    pyperclip.copy(raw_text)\n",
    "\"\"\"Explanation:\n",
    " \\[    => match \" [\" - brackets have to be excaped\n",
    "[^\\]]*  => match any number of characters that are not ']'\n",
    "]      => match closing square bracket\n",
    "- or use this for search and replace:  \\[(.+?)\\].\n",
    "\"\"\""
   ]
  },
  {
   "cell_type": "code",
   "execution_count": 92,
   "metadata": {},
   "outputs": [
    {
     "name": "stdout",
     "output_type": "stream",
     "text": [
      "\n",
      " discovered a relatively high density of isolated trees in the Sahel, which challenges the desertification of central Africa. Because of a lack of public research concerning isolated tree coverage, this thesis aims to check if ’s insights and approach are transferable to South Africa with an implementation using the state-of-the-art technology U-Net .\n",
      "    The transferability of the approach can be subdivided into three sub-goals to measure the overall progress. The first objective is to investigate to what extent the deep learning U-Net architecture is a suitable approach for segmenting trees with the given data (see Chapter ). This is first performed with a theoretical feasibility analysis (see Chapter ) and then confirmed practically with a U-Net implementation trained on the labeled South African trees (see Chapter ).\n",
      "    \n"
     ]
    }
   ],
   "source": [
    "citation = \"\"\"\n",
    "\\citet{Brandt2020} discovered a relatively high density of isolated trees in the Sahel, which challenges the desertification of central Africa. Because of a lack of public research concerning isolated tree coverage, this thesis aims to check if \\citeauthor{Brandt2020}’s insights and approach are transferable to South Africa with an implementation using the state-of-the-art technology U-Net \\cite{Schnell2015}.\n",
    "    The transferability of the approach can be subdivided into three sub-goals to measure the overall progress. The first objective is to investigate to what extent the deep learning U-Net architecture is a suitable approach for segmenting trees with the given data (see Chapter~\\ref{ch04:feasibility-unetForSegmentation}). This is first performed with a theoretical feasibility analysis (see Chapter~\\ref{ch04:feasibility-transferability}) and then confirmed practically with a U-Net implementation trained on the labeled South African trees (see Chapter~\\ref{ch06:insights-training}).\n",
    "    \"\"\"\n",
    "removeCitation(citation)"
   ]
  },
  {
   "cell_type": "code",
   "execution_count": null,
   "metadata": {},
   "outputs": [],
   "source": []
  }
 ],
 "metadata": {
  "interpreter": {
   "hash": "767d51c1340bd893661ea55ea3124f6de3c7a262a8b4abca0554b478b1e2ff90"
  },
  "kernelspec": {
   "display_name": "Python 2.7.18 64-bit",
   "language": "python",
   "name": "python3"
  },
  "language_info": {
   "codemirror_mode": {
    "name": "ipython",
    "version": 3
   },
   "file_extension": ".py",
   "mimetype": "text/x-python",
   "name": "python",
   "nbconvert_exporter": "python",
   "pygments_lexer": "ipython3",
   "version": "3.9.1"
  },
  "orig_nbformat": 4
 },
 "nbformat": 4,
 "nbformat_minor": 2
}
