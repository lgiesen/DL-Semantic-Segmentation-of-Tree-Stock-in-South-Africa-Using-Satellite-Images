{
 "cells": [
  {
   "cell_type": "code",
   "execution_count": 2,
   "metadata": {},
   "outputs": [
    {
     "data": {
      "text/plain": [
       "'Explanation:\\n \\\\[    => match \" [\" - brackets have to be excaped\\n[^\\\\]]*  => match any number of characters that are not \\']\\'\\n]      => match closing square bracket\\n- or use this for search and replace:  \\\\[(.+?)\\\\].\\n'"
      ]
     },
     "execution_count": 2,
     "metadata": {},
     "output_type": "execute_result"
    }
   ],
   "source": [
    "import re\n",
    "import pyperclip\n",
    "def removeCitation(citation: str, is_paper: bool = False):\n",
    "    if is_paper:    raw_text = re.sub(pattern = r' \\[[^\\]]*]', repl='', string=citation)\n",
    "    else:           raw_text = re.sub(pattern = r'\\\\[^\\}]*\\}', repl='', string=citation.replace(\"extbf\",\"\\cite\").replace(\"~\\ref\", \" \\-\")).replace(\"\\t\", \"\")\n",
    "                    #re.sub(pattern = r' \\\\cite[^\\]]*}', repl='', string=citation)\n",
    "    # rm text wrap to new line\n",
    "    raw_text = raw_text.replace(\"- \", \"\")\n",
    "    print(raw_text)\n",
    "    #copy to clipboard\n",
    "    pyperclip.copy(raw_text)\n",
    "\"\"\"Explanation:\n",
    " \\[    => match \" [\" - brackets have to be excaped\n",
    "[^\\]]*  => match any number of characters that are not ']'\n",
    "]      => match closing square bracket\n",
    "- or use this for search and replace:  \\[(.+?)\\].\n",
    "\"\"\""
   ]
  },
  {
   "cell_type": "code",
   "execution_count": 3,
   "metadata": {},
   "outputs": [
    {
     "name": "stdout",
     "output_type": "stream",
     "text": [
      "\n",
      "One variation of a FCN is the U-Net, which was originally built to find brain or lung tumours . Since its publication it has been a state-of-the-art approach to solve semantic segmentation problems exceeding the medical context .    \n"
     ]
    }
   ],
   "source": [
    "citation = \"\"\"\n",
    "One variation of a FCN is the U-Net, which was originally built to find brain or lung tumours \\cite{Matcha2021, Ronneberger2015, Nbro2020}. Since its publication it has been a state-of-the-art approach to solve semantic segmentation problems exceeding the medical context \\cite{Matcha2021, Ronneberger2015}.    \"\"\"\n",
    "removeCitation(citation)"
   ]
  },
  {
   "cell_type": "code",
   "execution_count": null,
   "metadata": {},
   "outputs": [],
   "source": []
  }
 ],
 "metadata": {
  "interpreter": {
   "hash": "767d51c1340bd893661ea55ea3124f6de3c7a262a8b4abca0554b478b1e2ff90"
  },
  "kernelspec": {
   "display_name": "Python 2.7.18 64-bit",
   "language": "python",
   "name": "python3"
  },
  "language_info": {
   "codemirror_mode": {
    "name": "ipython",
    "version": 3
   },
   "file_extension": ".py",
   "mimetype": "text/x-python",
   "name": "python",
   "nbconvert_exporter": "python",
   "pygments_lexer": "ipython3",
   "version": "3.9.1"
  },
  "orig_nbformat": 4
 },
 "nbformat": 4,
 "nbformat_minor": 2
}
