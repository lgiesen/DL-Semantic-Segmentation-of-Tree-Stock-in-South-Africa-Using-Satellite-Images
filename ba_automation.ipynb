{
 "cells": [
  {
   "cell_type": "code",
   "execution_count": 20,
   "metadata": {},
   "outputs": [
    {
     "data": {
      "text/plain": [
       "'Explanation:\\n \\\\[    => match \" [\" - brackets have to be excaped\\n[^\\\\]]*  => match any number of characters that are not \\']\\'\\n]      => match closing square bracket\\n- or use this for search and replace:  \\\\[(.+?)\\\\].\\n'"
      ]
     },
     "execution_count": 20,
     "metadata": {},
     "output_type": "execute_result"
    }
   ],
   "source": [
    "import re\n",
    "import pyperclip\n",
    "def removeCitation(citation: str, is_paper: bool = False):\n",
    "    if is_paper:    raw_text = re.sub(pattern = r' \\[[^\\]]*]', repl='', string=citation)\n",
    "    else:           raw_text = re.sub(pattern = r'\\\\[^\\}]*\\}', repl='', string=citation.replace(\"extbf\",\"\\cite\").replace(\"~\\ref\", \" \\-\")).replace(\"\\t\", \"\")\n",
    "                    #re.sub(pattern = r' \\\\cite[^\\]]*}', repl='', string=citation)\n",
    "    # rm text wrap to new line\n",
    "    raw_text = raw_text.replace(\"- \", \"\").replace(\" .\", \".\").replace(\"        \",\"\")\n",
    "    # print(raw_text)\n",
    "    #copy to clipboard\n",
    "    pyperclip.copy(raw_text)\n",
    "\"\"\"Explanation:\n",
    " \\[    => match \" [\" - brackets have to be excaped\n",
    "[^\\]]*  => match any number of characters that are not ']'\n",
    "]      => match closing square bracket\n",
    "- or use this for search and replace:  \\[(.+?)\\].\n",
    "\"\"\"\n"
   ]
  },
  {
   "cell_type": "code",
   "execution_count": 38,
   "metadata": {},
   "outputs": [],
   "source": [
    "citation = \"\"\"\n",
    "The patch creation posed a challenge as the creation of the correct image and mask patches were visualized differently by two libraries. Namely in Rasterio, the patches were visualized correctly, while Matplotlib exhibited a unnatural behavior displaying the image multiple times (see Figure~\\ref{fig:duplicated_data}).\n",
    "    \n",
    "    This phenomenon happened with the first and easiest method to create patches, which is patchify. It is a library, which is able to put the created patches back together so that the original image size is preserved (see patchify documentation \\cite{Patchify2022}).\n",
    "    For future projects, it is still advisable to try out patchify due to its simplicity. \n",
    "    Nevertheless, in this project the exact source of the problem is unknown, hence, more control over the patch creation was necessary. Thus, the patch creation was implemented manually to make sure that the data is correct.\n",
    "\"\"\"\n",
    "removeCitation(citation)"
   ]
  },
  {
   "cell_type": "code",
   "execution_count": null,
   "metadata": {},
   "outputs": [],
   "source": []
  }
 ],
 "metadata": {
  "interpreter": {
   "hash": "aee8b7b246df8f9039afb4144a1f6fd8d2ca17a180786b69acc140d282b71a49"
  },
  "kernelspec": {
   "display_name": "Python 3.9.1 64-bit",
   "language": "python",
   "name": "python3"
  },
  "language_info": {
   "codemirror_mode": {
    "name": "ipython",
    "version": 3
   },
   "file_extension": ".py",
   "mimetype": "text/x-python",
   "name": "python",
   "nbconvert_exporter": "python",
   "pygments_lexer": "ipython3",
   "version": "3.9.1"
  },
  "orig_nbformat": 4
 },
 "nbformat": 4,
 "nbformat_minor": 2
}
