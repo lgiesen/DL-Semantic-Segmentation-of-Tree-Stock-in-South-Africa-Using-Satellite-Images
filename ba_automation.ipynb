{
 "cells": [
  {
   "cell_type": "code",
   "execution_count": 2,
   "metadata": {},
   "outputs": [
    {
     "data": {
      "text/plain": [
       "'Explanation:\\n \\\\[    => match \" [\" - brackets have to be excaped\\n[^\\\\]]*  => match any number of characters that are not \\']\\'\\n]      => match closing square bracket\\n- or use this for search and replace:  \\\\[(.+?)\\\\].\\n'"
      ]
     },
     "execution_count": 2,
     "metadata": {},
     "output_type": "execute_result"
    }
   ],
   "source": [
    "import re\n",
    "import pyperclip\n",
    "def removeCitation(citation: str, is_paper: bool = False):\n",
    "    if is_paper:    raw_text = re.sub(pattern = r' \\[[^\\]]*]', repl='', string=citation)\n",
    "    else:           raw_text = re.sub(pattern = r'\\\\[^\\}]*\\}', repl='', string=citation.replace(\"extbf\",\"\\cite\").replace(\"~\\ref\", \" \\-\")).replace(\"\\t\", \"\")\n",
    "                    #re.sub(pattern = r' \\\\cite[^\\]]*}', repl='', string=citation)\n",
    "    # rm text wrap to new line\n",
    "    raw_text = raw_text.replace(\"- \", \"\")\n",
    "    print(raw_text)\n",
    "    #copy to clipboard\n",
    "    pyperclip.copy(raw_text)\n",
    "\"\"\"Explanation:\n",
    " \\[    => match \" [\" - brackets have to be excaped\n",
    "[^\\]]*  => match any number of characters that are not ']'\n",
    "]      => match closing square bracket\n",
    "- or use this for search and replace:  \\[(.+?)\\].\n",
    "\"\"\"\n"
   ]
  },
  {
   "cell_type": "code",
   "execution_count": 24,
   "metadata": {},
   "outputs": [
    {
     "name": "stdout",
     "output_type": "stream",
     "text": [
      "\n",
      "\n",
      "\n",
      "\n",
      "This output can be analyzed regarding various helpful and vital figures, which provide insights into the vegetational situation. For example, the tree count, canopy coverage, or average tree diameter can be extracted from the model's prediction. \n",
      "\n",
      "        These key figures can be used to determine the Above Ground Biomass (AGB), which is meaningful because “accurate biomass measurements and analyses are critical components in quantifying carbon stocks and sequestration rates, assessing potential impacts due to climate change, locating bio-energy processing plants, and mapping and planning fuel treatments. To this end, biomass equations will remain a key component of future carbon measurements and estimation” . \n",
      "        \n",
      "        The AGB can be determined by either direct or indirect estimation methods. The former is performed by collecting a biomass sample, so trees are extracted and weighed. The weight is then extrapolated to larger areas. The direct method is not chosen in this project because of its high destruction and effort.\n",
      "        \n",
      "        Therefore, the insights from this project may be used to indirectly estimate the AGB by using a formula, which is relatively accurate (see Formula ) . It is worth noting that these formulas may be more or less accurate in some areas than others because some tree species' wood varies in weight.\n",
      "        \n",
      "        The output of the project model favors a tree-level-based formula because trees are captured. extcite{MaiaAraujo1999} and extcite[p.~8]{Lin2018} both utilize the same formula with slightly different regression coefficients (see Formula ). \n",
      "        They are initialized differently because different types of trees were inspected meaning that in the case of , the diameter at breast height has a more significant impact on the overall biomass than in the other project. This might be the case because the inspected trees from  are wider than the ones from .\n",
      "\n",
      "\n"
     ]
    }
   ],
   "source": [
    "citation = \"\"\"\n",
    "\n",
    "\n",
    "\n",
    "This output can be analyzed regarding various helpful and vital figures, which provide insights into the vegetational situation. For example, the tree count, canopy coverage, or average tree diameter can be extracted from the model's prediction. \n",
    "\n",
    "        These key figures can be used to determine the Above Ground Biomass (AGB), which is meaningful because “accurate biomass measurements and analyses are critical components in quantifying carbon stocks and sequestration rates, assessing potential impacts due to climate change, locating bio-energy processing plants, and mapping and planning fuel treatments. To this end, biomass equations will remain a key component of future carbon measurements and estimation” \\citep{Temesgen2015}. \n",
    "        \n",
    "        The AGB can be determined by either direct or indirect estimation methods. The former is performed by collecting a biomass sample, so trees are extracted and weighed. The weight is then extrapolated to larger areas. The direct method is not chosen in this project because of its high destruction and effort.\n",
    "        \n",
    "        Therefore, the insights from this project may be used to indirectly estimate the AGB by using a formula, which is relatively accurate (see Formula~\\ref{for:agb}) \\cite{MaiaAraujo1999}. It is worth noting that these formulas may be more or less accurate in some areas than others because some tree species' wood varies in weight.\n",
    "        \n",
    "        The output of the project model favors a tree-level-based formula because trees are captured. \\textcite{MaiaAraujo1999} and \\textcite[p.~8]{Lin2018} both utilize the same formula with slightly different regression coefficients (see Formula~\\ref{for:agb}). \n",
    "        They are initialized differently because different types of trees were inspected meaning that in the case of \\citeauthor{Lin2018}, the diameter at breast height has a more significant impact on the overall biomass than in the other project. This might be the case because the inspected trees from \\citeauthor{Lin2018} are wider than the ones from \\citeauthor{MaiaAraujo1999}.\n",
    "\n",
    "\"\"\"\n",
    "removeCitation(citation)"
   ]
  },
  {
   "cell_type": "code",
   "execution_count": 11,
   "metadata": {},
   "outputs": [
    {
     "name": "stdout",
     "output_type": "stream",
     "text": [
      "\n",
      "\n",
      "\n",
      "\n",
      "\n"
     ]
    }
   ],
   "source": [
    "citation = \"\"\"\n",
    "\n",
    "\n",
    "\n",
    "\"\"\"\n",
    "removeCitation(citation, True)"
   ]
  },
  {
   "cell_type": "code",
   "execution_count": null,
   "metadata": {},
   "outputs": [],
   "source": []
  }
 ],
 "metadata": {
  "interpreter": {
   "hash": "aee8b7b246df8f9039afb4144a1f6fd8d2ca17a180786b69acc140d282b71a49"
  },
  "kernelspec": {
   "display_name": "Python 3.9.1 64-bit",
   "language": "python",
   "name": "python3"
  },
  "language_info": {
   "codemirror_mode": {
    "name": "ipython",
    "version": 3
   },
   "file_extension": ".py",
   "mimetype": "text/x-python",
   "name": "python",
   "nbconvert_exporter": "python",
   "pygments_lexer": "ipython3",
   "version": "3.9.1"
  },
  "orig_nbformat": 4
 },
 "nbformat": 4,
 "nbformat_minor": 2
}
