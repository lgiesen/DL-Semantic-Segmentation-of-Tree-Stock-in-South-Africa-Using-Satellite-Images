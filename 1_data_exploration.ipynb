{
 "cells": [
  {
   "cell_type": "markdown",
   "metadata": {},
   "source": [
    "# Data Access & Exploration"
   ]
  },
  {
   "cell_type": "markdown",
   "metadata": {
    "tags": []
   },
   "source": [
    "## 0. Imports"
   ]
  },
  {
   "cell_type": "code",
   "execution_count": 2,
   "metadata": {},
   "outputs": [],
   "source": [
    "import os.path\n",
    "from os.path import isfile, join\n",
    "import os\n",
    "from os import listdir\n",
    "from osgeo import gdal\n",
    "import errno\n",
    "import numpy as np\n",
    "import matplotlib.pyplot as plt\n",
    "import rasterio\n",
    "from rasterio.plot import show\n",
    "from rasterio.windows import from_bounds #Window\n",
    "from rasterio.enums import Resampling\n",
    "from sys import platform"
   ]
  },
  {
   "cell_type": "code",
   "execution_count": 3,
   "metadata": {},
   "outputs": [],
   "source": [
    "# for coloured print statements\n",
    "class bcolors:\n",
    "    HEADER = '\\033[95m'\n",
    "    OKBLUE = '\\033[94m'\n",
    "    OKCYAN = '\\033[96m'\n",
    "    OKGREEN = '\\033[92m'\n",
    "    WARNING = '\\033[93m'\n",
    "    FAIL = '\\033[91m'\n",
    "    ENDC = '\\033[0m'\n",
    "    BOLD = '\\033[1m'\n",
    "    UNDERLINE = '\\033[4m'"
   ]
  },
  {
   "cell_type": "code",
   "execution_count": 4,
   "metadata": {},
   "outputs": [],
   "source": [
    "if platform == \"linux\" or platform == \"linux2\":\n",
    "    path_satellite = \"/home/jovyan/work/satellite_data/\"\n",
    "    path_labels = os.getcwd() + \"/1_labeled_data/tif/\"\n",
    "    cutouts_path = os.getcwd() + \"/2_cutouts/\"\n",
    "elif platform == \"darwin\":\n",
    "    path_data = \"/Users/leori/Desktop/BA/1_Data/\"\n",
    "    path_satellite = path_data + \"2_satellite/\"\n",
    "    path_labels = path_data + \"1_labeled_data/tif/\"\n",
    "    cutouts_path = None\n",
    "elif platform == \"win32\":\n",
    "    print(\"Something went wrong\")"
   ]
  },
  {
   "cell_type": "markdown",
   "metadata": {},
   "source": [
    "# 1. Data Inspection"
   ]
  },
  {
   "cell_type": "markdown",
   "metadata": {},
   "source": [
    "### 1.1 Functions"
   ]
  },
  {
   "cell_type": "code",
   "execution_count": 5,
   "metadata": {},
   "outputs": [],
   "source": [
    "def inspect_tif_resolution(filepath):\n",
    "    img = rasterio.open(filepath)\n",
    "    xRes, yRes = img.res\n",
    "    print(\"Resolution: {} x {}\".format(xRes, yRes))   "
   ]
  },
  {
   "cell_type": "code",
   "execution_count": 74,
   "metadata": {},
   "outputs": [],
   "source": [
    "def bounds(filepath):\n",
    "    src_img = rasterio.open(filepath)\n",
    "    print(src_img.bounds)\n",
    "    left, bottom, right, top = src_img.bounds[0],src_img.bounds[1], src_img.bounds[2], src_img.bounds[3]\n"
   ]
  },
  {
   "cell_type": "code",
   "execution_count": 6,
   "metadata": {},
   "outputs": [],
   "source": [
    "def inspect_tif(dataset):\n",
    "    print(\"Metadata:\", dataset.GetMetadata())\n",
    "    print(\"Projection: \", dataset.GetProjection())\n",
    "    print(\"Size is {} x {} x {}\".format(dataset.RasterXSize,\n",
    "                                        dataset.RasterYSize,\n",
    "                                        dataset.RasterCount))\n",
    "    geotransform = dataset.GetGeoTransform()\n",
    "    if geotransform:\n",
    "        print(\"Origin = ({}, {})\".format(geotransform[0], geotransform[3]))\n",
    "        print(\"Pixel Size = ({}, {})\".format(geotransform[1], geotransform[5]))\n",
    "\n",
    "    # Raster Band\n",
    "    band = dataset.GetRasterBand(1)\n",
    "    min = band.GetMinimum()\n",
    "    max = band.GetMaximum()\n",
    "    if not min or not max:\n",
    "        (min,max) = band.ComputeRasterMinMax(True)\n",
    "    print(\"Min={:.3f}, Max={:.3f}\".format(int(min),int(max)))\n",
    "        \n",
    "    size_x_px = dataset.RasterXSize\n",
    "    size_y_px = dataset.RasterYSize\n",
    "    pixel_size = (dataset.GetGeoTransform()[1], dataset.GetGeoTransform()[5])\n",
    "    size_x = size_x_px * pixel_size[0]\n",
    "    size_y = size_y_px * pixel_size[1]\n",
    "    print(\"# Pixels in Image = ({}, {}) with a Raster Count of {}\".format(size_x_px, size_y_px, dataset.RasterCount))\n",
    "    print(\"Size of one Pixel in cm = {}\".format(tuple([100000*x for x in pixel_size])))\n",
    "    print(\"Size Covered by Image / Image Size = ({}m, {}m)\".format(round(1000*size_x, 2), abs(round(1000*size_y, 2))))"
   ]
  },
  {
   "cell_type": "code",
   "execution_count": 7,
   "metadata": {},
   "outputs": [],
   "source": [
    "def isfile(filepath: str = None):\n",
    "    # if filepath does not exists, an error is thrown\n",
    "    if not os.path.isfile(filepath): raise FileNotFoundError(errno.ENOENT, os.strerror(errno.ENOENT), filepath) #print(\"File does not exist.\")"
   ]
  },
  {
   "cell_type": "code",
   "execution_count": 63,
   "metadata": {},
   "outputs": [],
   "source": [
    "def preview_tif(tif_filepath: str = None):\n",
    "    isfile(tif_filepath)\n",
    "    filesize_in_mb = os.path.getsize(tif_filepath) / 1000000\n",
    "    if filesize_in_mb > 500: \n",
    "        print(\"File is too large: {}MB\".format(int(filesize_in_mb)))\n",
    "        return\n",
    "    img = rasterio.open(tif_filepath)\n",
    "    if img: show(img)\n",
    "    else: print(\"img unable to be loaded at this moment\")"
   ]
  },
  {
   "cell_type": "markdown",
   "metadata": {},
   "source": [
    "### 1.2 Data Inspection"
   ]
  },
  {
   "cell_type": "markdown",
   "metadata": {},
   "source": [
    "ToDos Data Preparation\n",
    "- Data Cleaning (visualize data first): rm redundant information & set no data values to something - some metadata?\n",
    "- Custom Transformers\n",
    "- Feature Scaling\n",
    "\n",
    "\n",
    "⇒ Pipeline (cf. first example in `4_pipeline.ipynb`)"
   ]
  },
  {
   "cell_type": "code",
   "execution_count": 76,
   "metadata": {},
   "outputs": [],
   "source": [
    "filepath_label = path_labels + \"raster_exported.tif\"\n",
    "filepath_satellite = path_satellite + \"2629BD_2018.tif\""
   ]
  },
  {
   "cell_type": "code",
   "execution_count": 77,
   "metadata": {},
   "outputs": [
    {
     "name": "stdout",
     "output_type": "stream",
     "text": [
      "Satellite\n",
      "Size is 108224 x 107798 x 3\n",
      "Origin = (29.746877767434313, -26.247113163017453)\n",
      "Pixel Size = (2.3728143101288307e-06, -2.3728143101288515e-06)\n",
      "Min=0.000, Max=255.000\n",
      "# Pixels in Image = (108224, 107798) with a Raster Count of 3\n",
      "Size of one Pixel in cm = (0.23728143101288307, -0.23728143101288515)\n",
      "Size Covered by Image / Image Size = (256.8m, 255.78m)\n",
      "BoundingBox(left=29.746877767434313, bottom=-26.502897800020722, right=30.003673223333696, top=-26.247113163017453)\n",
      "\n",
      "Label\n",
      "Size is 106283 x 106048 x 1\n",
      "Origin = (29.748224553, -26.248683629)\n",
      "Pixel Size = (2.3728094050789067e-06, -2.3728068516143877e-06)\n",
      "Min=0.000, Max=0.000\n",
      "# Pixels in Image = (106283, 106048) with a Raster Count of 1\n",
      "Size of one Pixel in cm = (0.23728094050789067, -0.23728068516143877)\n",
      "Size Covered by Image / Image Size = (252.19m, 251.63m)\n",
      "BoundingBox(left=29.748224553, bottom=-26.50031505, right=30.000413855, top=-26.248683629)\n"
     ]
    }
   ],
   "source": [
    "print(\"Satellite\")\n",
    "inspect_tif(gdal.Open(filepath_satellite))\n",
    "bounds(filepath_satellite)\n",
    "\n",
    "print(\"\\nLabel\")\n",
    "inspect_tif(gdal.Open(filepath_label))\n",
    "bounds(filepath_label)"
   ]
  },
  {
   "cell_type": "code",
   "execution_count": 78,
   "metadata": {},
   "outputs": [
    {
     "name": "stdout",
     "output_type": "stream",
     "text": [
      "File is too large: 45086MB\n",
      "File is too large: 2062MB\n"
     ]
    }
   ],
   "source": [
    "preview_tif(filepath_label)\n",
    "preview_tif(filepath_satellite)"
   ]
  },
  {
   "cell_type": "code",
   "execution_count": 79,
   "metadata": {},
   "outputs": [],
   "source": [
    "cutout_window = (29.748021463931796, -26.24839922837354, 29.74923634485858, -26.249614109300325)"
   ]
  },
  {
   "cell_type": "code",
   "execution_count": 81,
   "metadata": {},
   "outputs": [
    {
     "name": "stdout",
     "output_type": "stream",
     "text": [
      "shape: (1, 106048, 106283)\n"
     ]
    }
   ],
   "source": [
    "src_label = rasterio.open(filepath_label)\n",
    "print(\"shape:\", src_label.read().shape)\n",
    "# src_label.colorinterp[3] # rgba"
   ]
  },
  {
   "cell_type": "code",
   "execution_count": 47,
   "metadata": {},
   "outputs": [
    {
     "name": "stdout",
     "output_type": "stream",
     "text": [
      "shape: (4, 1884, 3050)\n"
     ]
    }
   ],
   "source": [
    "src_label_sm = rasterio.open(filepath_label_sm)\n",
    "print(\"shape:\", src_label_sm.read().shape)\n",
    "# src_label_sm.colorinterp[3] # rgba"
   ]
  },
  {
   "cell_type": "code",
   "execution_count": 48,
   "metadata": {},
   "outputs": [
    {
     "name": "stdout",
     "output_type": "stream",
     "text": [
      "False\n"
     ]
    }
   ],
   "source": [
    "# channels are unequal\n",
    "comparison = src_label_sm.read(2) == src_label_sm.read(3)\n",
    "equal_arrays = comparison.all()\n",
    "print(equal_arrays)"
   ]
  },
  {
   "cell_type": "code",
   "execution_count": 56,
   "metadata": {},
   "outputs": [
    {
     "data": {
      "text/plain": [
       "255"
      ]
     },
     "execution_count": 56,
     "metadata": {},
     "output_type": "execute_result"
    }
   ],
   "source": [
    "src_label_sm.read(2)[1884-1][3050-1] # blue pixel value in bottom left corner"
   ]
  },
  {
   "cell_type": "code",
   "execution_count": 12,
   "metadata": {},
   "outputs": [
    {
     "name": "stdout",
     "output_type": "stream",
     "text": [
      "image has 4 channels\n"
     ]
    }
   ],
   "source": [
    "from PIL import Image\n",
    "import numpy as np\n",
    "\n",
    "img = Image.open(filepath_label_sm)\n",
    "\n",
    "# convert to numpy array\n",
    "img = np.array(img)\n",
    "\n",
    "# find number of channels\n",
    "if img.ndim == 2:\n",
    "    channels = 1\n",
    "    print(\"image has 1 channel\")\n",
    "else:\n",
    "    channels = img.shape[-1]\n",
    "    print(\"image has\", channels, \"channels\")"
   ]
  },
  {
   "cell_type": "markdown",
   "metadata": {},
   "source": [
    "### 1.3 Data Visualization"
   ]
  },
  {
   "cell_type": "code",
   "execution_count": 13,
   "metadata": {},
   "outputs": [
    {
     "name": "stdout",
     "output_type": "stream",
     "text": [
      "Resolution: 8.335734183909613e-06 x 8.335734183909613e-06\n"
     ]
    }
   ],
   "source": [
    "inspect_tif_resolution(filepath_label)"
   ]
  },
  {
   "cell_type": "code",
   "execution_count": null,
   "metadata": {},
   "outputs": [
    {
     "name": "stdout",
     "output_type": "stream",
     "text": [
      "Size is 30254 x 30188 x 4\n",
      "Origin = (29.748224553, -26.248679767728067)\n",
      "Pixel Size = (8.335734183909613e-06, -8.335734183909613e-06)\n",
      "Min=0.000, Max=255.000\n",
      "# Pixels in Image = (30254, 30188) with a Raster Count of 4\n",
      "Size of one Pixel in cm = (0.8335734183909613, -0.8335734183909613)\n",
      "Size Covered by Image / Image Size = (252.19m, 251.64m)\n"
     ]
    }
   ],
   "source": [
    "inspect_tif(gdal.Open(filepath_label))"
   ]
  }
 ],
 "metadata": {
  "interpreter": {
   "hash": "aee8b7b246df8f9039afb4144a1f6fd8d2ca17a180786b69acc140d282b71a49"
  },
  "kernelspec": {
   "display_name": "Python 3",
   "language": "python",
   "name": "python3"
  },
  "language_info": {
   "codemirror_mode": {
    "name": "ipython",
    "version": 3
   },
   "file_extension": ".py",
   "mimetype": "text/x-python",
   "name": "python",
   "nbconvert_exporter": "python",
   "pygments_lexer": "ipython3",
   "version": "3.9.1"
  }
 },
 "nbformat": 4,
 "nbformat_minor": 4
}
