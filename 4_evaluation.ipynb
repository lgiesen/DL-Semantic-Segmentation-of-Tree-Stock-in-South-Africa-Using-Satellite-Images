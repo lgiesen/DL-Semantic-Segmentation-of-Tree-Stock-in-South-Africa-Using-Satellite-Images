{
 "cells": [
  {
   "cell_type": "markdown",
   "metadata": {},
   "source": [
    "# Evaluation"
   ]
  },
  {
   "cell_type": "code",
   "execution_count": null,
   "metadata": {},
   "outputs": [
    {
     "name": "stdout",
     "output_type": "stream",
     "text": [
      "6/6 [==============================] - 133s 21s/step - loss: 0.5346 - dice_coef: 0.0226 - dice_loss: 0.9774 - specificity: 3.3091e-04 - sensitivity: nan - accuracy: 0.0117\n"
     ]
    },
    {
     "data": {
      "text/plain": [
       "[0.534647524356842,\n",
       " 0.02258480340242386,\n",
       " 0.977415144443512,\n",
       " 0.0003309091553092003,\n",
       " nan,\n",
       " 0.011714189313352108]"
      ]
     },
     "metadata": {},
     "output_type": "display_data"
    }
   ],
   "source": [
    "model.evaluate(X_test_reshaped, y_test)"
   ]
  },
  {
   "cell_type": "code",
   "execution_count": null,
   "metadata": {},
   "outputs": [],
   "source": [
    "#%%script false\n",
    "#Plot accuracy and loss of train and val set\n",
    "plt.rcParams.update({'font.family':'serif'})\n",
    "\n",
    "plt.figure(figsize=(11,4))\n",
    "plt.subplot(121)\n",
    "plt.plot(loss_history.history['accuracy'], color=\"green\")\n",
    "plt.plot(loss_history.history['val_accuracy'], color=\"blue\")\n",
    "plt.title(\"Accuracy\", fontsize=16)\n",
    "plt.xlabel('epoch')\n",
    "plt.ylabel('accuracy')\n",
    "plt.legend(['train', 'val'], loc='lower right')\n",
    "plt.subplot(122)\n",
    "plt.plot(loss_history.history['loss'], color=\"red\",)\n",
    "plt.plot(loss_history.history['val_loss'], color=\"orange\")\n",
    "plt.title(\"Loss\", fontsize=16)\n",
    "plt.xlabel('epoch')\n",
    "plt.ylabel('loss')\n",
    "plt.legend(['train', 'val'], loc='upper right')\n",
    "plt.show()"
   ]
  },
  {
   "cell_type": "code",
   "execution_count": null,
   "metadata": {},
   "outputs": [],
   "source": [
    "print(\"accuracy: \" + str(loss_history.history['accuracy'][-1]))\n",
    "print(\"loss:     \" + str(loss_history.history['loss'][-1]))\n",
    "\n",
    "print(\"Validation\")\n",
    "print(\"accuracy: \" + str(loss_history.history['val_accuracy'][-1]))\n",
    "print(\"loss:     \" + str(loss_history.history['val_loss'][-1]))"
   ]
  }
 ],
 "metadata": {
  "language_info": {
   "name": "python"
  },
  "orig_nbformat": 4
 },
 "nbformat": 4,
 "nbformat_minor": 2
}
