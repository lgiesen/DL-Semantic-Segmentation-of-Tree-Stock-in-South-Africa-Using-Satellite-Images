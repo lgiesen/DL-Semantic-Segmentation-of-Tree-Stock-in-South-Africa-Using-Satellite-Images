{
 "cells": [
  {
   "cell_type": "code",
   "execution_count": null,
   "metadata": {},
   "outputs": [],
   "source": [
    "# if not X_train.is_cuda:\n",
    "# move tensor to cuda device\n",
    "# X_train_tensor = X_train_tensor.to(device=device, dtype=torch.float64)\n",
    "# y_train_tensor = y_train_tensor.to(device=device, dtype=torch.float64)"
   ]
  },
  {
   "cell_type": "code",
   "execution_count": null,
   "metadata": {},
   "outputs": [],
   "source": [
    "# for elem in [X_train_tensor, y_train_tensor, shape_input]:\n",
    "#     elem = tf.cast(elem, tf.float32)"
   ]
  },
  {
   "cell_type": "code",
   "execution_count": null,
   "metadata": {},
   "outputs": [],
   "source": [
    "with tf.device(\"gpu:0\"): # cuda:1\n",
    "    print(\"tf.keras code in this scope will run on GPU\")\n",
    "    data_preparation()\n",
    "    \n",
    "    shape_input = tf.convert_to_tensor(np.array([config.BATCH_SIZE, *config.input_shape]))\n",
    "    import tensorflow as tf\n",
    "    X_train_tensor = tf.convert_to_tensor(X_train_reshaped, dtype=tf.float64)\n",
    "    y_train_tensor = tf.convert_to_tensor(y_train, dtype=tf.float64)\n",
    "    X_test_tensor = tf.convert_to_tensor(X_test_reshaped, dtype=tf.float64)\n",
    "    y_test_tensor = tf.convert_to_tensor(y_test, dtype=tf.float64)#\n",
    "    \n",
    "    define_model()\n",
    "    training()"
   ]
  },
  {
   "cell_type": "code",
   "execution_count": null,
   "metadata": {},
   "outputs": [],
   "source": [
    "if 0:\n",
    "    X_train_tensor_on_gpu = X_train_tensor.cuda()\n",
    "    X_train_tensor_on_gpu.is_cuda\n",
    "elif 0:\n",
    "    X_train_torch_on_gpu = X_train_torch.cuda()\n",
    "    X_train_torch_on_gpu.is_cuda"
   ]
  },
  {
   "cell_type": "code",
   "execution_count": null,
   "metadata": {},
   "outputs": [],
   "source": [
    "X_train_tensor.device\n",
    "# X_train_tensor_gpu = tf.convert_to_tensor(X_train_tensor)\n",
    "X_train_tensor_on_gpu = X_train_tensor.to(device)\n",
    "X_train_tensor_on_gpu.device\n",
    "X_train_tensor_on_gpu.is_cuda\n",
    "\n",
    "# move y_train to gpu\n",
    "y_train_tensor.device\n",
    "y_train_tensor_on_gpu = y_train_tensor.to(device)\n",
    "y_train_tensor_on_gpu.device"
   ]
  },
  {
   "cell_type": "code",
   "execution_count": null,
   "metadata": {},
   "outputs": [],
   "source": [
    "getType([X_train_tensor_on_gpu, y_train_tensor_on_gpu, shape_input])"
   ]
  },
  {
   "cell_type": "code",
   "execution_count": null,
   "metadata": {},
   "outputs": [],
   "source": [
    "X_train_tensor = torch.from_numpy(X_train_reshaped)\n",
    "y_train_tensor = torch.from_numpy(y_train)\n",
    "#X_train_tensor, y_train_tensor = tf.cast(X_train_tensor, tf.float32), tf.cast(y_train_tensor, tf.float32)"
   ]
  },
  {
   "cell_type": "code",
   "execution_count": null,
   "metadata": {},
   "outputs": [],
   "source": [
    "train_ds = tf.data.Dataset.from_tensor_slices((X_train_reshaped, y_train))\n",
    "val_ds = tf.data.Dataset.from_tensor_slices((X_val, y_val))\n",
    "test_ds = tf.data.Dataset.from_tensor_slices((X_test_reshaped, y_test))\n",
    "\n",
    "print(tf.data.experimental.cardinality(train_ds))\n",
    "print(tf.data.experimental.cardinality(val_ds))\n",
    "print(tf.data.experimental.cardinality(test_ds))"
   ]
  },
  {
   "cell_type": "code",
   "execution_count": null,
   "metadata": {},
   "outputs": [],
   "source": [
    "import tensorflow as tf\n",
    "X_train_tensor = tf.convert_to_tensor(X_train_reshaped, dtype=tf.float64)\n",
    "y_train_tensor = tf.convert_to_tensor(y_train, dtype=tf.float64)\n",
    "X_test_tensor = tf.convert_to_tensor(X_test_reshaped, dtype=tf.float64)\n",
    "y_test_tensor = tf.convert_to_tensor(y_test, dtype=tf.float64)\n",
    "# => EagerTensor"
   ]
  }
 ],
 "metadata": {
  "language_info": {
   "name": "python"
  },
  "orig_nbformat": 4
 },
 "nbformat": 4,
 "nbformat_minor": 2
}
