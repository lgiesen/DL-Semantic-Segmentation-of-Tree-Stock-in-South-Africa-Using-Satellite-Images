{
 "cells": [
  {
   "cell_type": "markdown",
   "metadata": {},
   "source": [
    "# Imports"
   ]
  },
  {
   "cell_type": "code",
   "execution_count": 1,
   "metadata": {},
   "outputs": [],
   "source": [
    "import os.path\n",
    "from os.path import isfile, join\n",
    "import os\n",
    "from os import listdir\n",
    "from osgeo import gdal\n",
    "import errno\n",
    "import numpy as np\n",
    "import matplotlib.pyplot as plt\n",
    "import rasterio\n",
    "from rasterio.plot import show\n",
    "from rasterio.windows import from_bounds #Window\n",
    "from rasterio.enums import Resampling\n",
    "from sys import platform"
   ]
  },
  {
   "cell_type": "code",
   "execution_count": 4,
   "metadata": {},
   "outputs": [],
   "source": [
    "if platform == \"linux\" or platform == \"linux2\":\n",
    "    path_satellite = \"/home/jovyan/work/satellite_data/\"\n",
    "    path_labels = os.getcwd() + \"/1_labeled_data/tif/\"\n",
    "    cutouts_path = os.getcwd() + \"/2_cutouts/\"\n",
    "elif platform == \"darwin\":\n",
    "    path_data = \"/Users/leori/Desktop/BA/1_Data/\"\n",
    "    path_satellite = path_data + \"2_satellite/\"\n",
    "    path_labels = path_data + \"1_labeled_data/tif/\"\n",
    "    cutouts_path = None\n",
    "elif platform == \"win32\":\n",
    "    print(\"Something went wrong\")"
   ]
  },
  {
   "cell_type": "markdown",
   "metadata": {},
   "source": [
    "# Data Inspection"
   ]
  },
  {
   "cell_type": "code",
   "execution_count": null,
   "metadata": {},
   "outputs": [],
   "source": [
    "# inspect_tif from 15.02.2022\n",
    "# General Dataset Information\n",
    "def inspect_tif(dataset):\n",
    "    # print(\"1. General TIF Data:\")\n",
    "    # print(\"Metadata:\", dataset.GetMetadata())\n",
    "    # print(\"Type Image: \", type(dataset))\n",
    "    # print(\"Projection: \", dataset.GetProjection())\n",
    "    print(\"Size is {} x {} x {}\".format(dataset.RasterXSize,\n",
    "                                    dataset.RasterYSize,\n",
    "                                    dataset.RasterCount))\n",
    "    # print(\"Driver: {}/{}\".format(dataset.GetDriver().ShortName,\n",
    "    #                         dataset.GetDriver().LongName))\n",
    "    geotransform = dataset.GetGeoTransform()\n",
    "    if geotransform:\n",
    "        print(\"Origin = ({}, {})\".format(geotransform[0], geotransform[3]))\n",
    "        print(\"Pixel Size = ({}, {})\".format(geotransform[1], geotransform[5]))\n",
    "\n",
    "    # Raster Band\n",
    "    band = dataset.GetRasterBand(1)\n",
    "    # print(\"2. Raster Band:\")\n",
    "    # print(\"Band Type={}\".format(gdal.GetDataTypeName(band.DataType)))\n",
    "\n",
    "    min = band.GetMinimum()\n",
    "    max = band.GetMaximum()\n",
    "    if not min or not max:\n",
    "        (min,max) = band.ComputeRasterMinMax(True)\n",
    "    print(\"Min={:.3f}, Max={:.3f}\".format(int(min),int(max)))\n",
    "\n",
    "    # if band.GetOverviewCount() > 0:\n",
    "    #     print(\"Band has {} overviews\".format(band.GetOverviewCount()))\n",
    "\n",
    "    # if band.GetRasterColorTable():\n",
    "    #     print(\"Band has a color table with {} entries\".format(band.GetRasterColorTable().GetCount()))\n",
    "        \n",
    "    size_x_px = dataset.RasterXSize\n",
    "    size_y_px = dataset.RasterYSize\n",
    "    pixel_size = (dataset.GetGeoTransform()[1], dataset.GetGeoTransform()[5])\n",
    "    size_x = size_x_px * pixel_size[0]\n",
    "    size_y = size_y_px * pixel_size[1]\n",
    "    print(\"# Pixels in Image = ({}, {}) with a Raster Count of {}\".format(size_x_px, size_y_px, dataset.RasterCount))\n",
    "    print(\"Size of one Pixel in cm = {}\".format(tuple([100000*x for x in pixel_size])))\n",
    "    print(\"Size Covered by Image / Image Size = ({}m, {}m)\".format(round(1000*size_x, 2), abs(round(1000*size_y, 2))))\n",
    "\n",
    "    # band1 = labels.GetRasterBand(1) # Red channel\n",
    "    # band2 = labels.GetRasterBand(2) # Green channel\n",
    "    # band3 = labels.GetRasterBand(3) # Blue channel\n",
    "    #labels.GetRasterBand()\n",
    "\n",
    "# inspect_tif(dataset)"
   ]
  },
  {
   "cell_type": "markdown",
   "metadata": {},
   "source": [
    "# Cutouts"
   ]
  },
  {
   "cell_type": "code",
   "execution_count": 2,
   "metadata": {},
   "outputs": [],
   "source": [
    "def load_tif(files_list: list = None, is_label: bool = False, cutout_window: tuple = None):\n",
    "    if cutout_window: load_tif.cutout_window = cutout_window\n",
    "    # loop through array of file names\n",
    "    for filename in files_list:\n",
    "        complete_filepath = (path_labels if is_label else path_satellite) + filename\n",
    "        # check if filepath exists\n",
    "        if not os.path.isfile(complete_filepath):\n",
    "            print(\"Filepath does not exist: {}\".format(complete_filepath)) \n",
    "            continue\n",
    "        # open file\n",
    "        label_file = gdal.Open(complete_filepath)\n",
    "        # check if gdal is able to open file\n",
    "        if label_file:\n",
    "            # print(f\"{bcolors.OKBLUE}{filename}{bcolors.ENDC}\")\n",
    "            print(f\"{bcolors.OKGREEN}0 Success: {bcolors.ENDC}{bcolors.OKBLUE}{filename}{bcolors.ENDC}\") \n",
    "            inspect_tif(label_file)\n",
    "            # if is_label:\n",
    "            print(f\"{bcolors.UNDERLINE}Cutouts:{bcolors.ENDC}\")\n",
    "            # create cutouts\n",
    "            create_cutouts(filename, label_file, cutout_window)\n",
    "            continue\n",
    "        print(f\"{bcolors.FAIL}1 Failure:{bcolors.ENDC}\" + complete_filepath) #\"File cannot be loaded.\" #\"Filepath exists: \", os.path.isfile(tif_filepath), "
   ]
  },
  {
   "cell_type": "code",
   "execution_count": 3,
   "metadata": {},
   "outputs": [],
   "source": [
    "def create_cutouts(path_label: list = None, label_file: list = None, cutout_window: tuple = None):\n",
    "    #print(\"load_tif.cutout_window:\", load_tif.cutout_window)\n",
    "    # upper/lower (u/l) left/right (l/r) coordinates \n",
    "    ulx, xres, xskew, uly, yskew, yres  = label_file.GetGeoTransform()\n",
    "    width, height = label_file.RasterXSize, label_file.RasterYSize\n",
    "    lrx = ulx + width * xres\n",
    "    lry = uly + height * yres # Vorzeichen von Koordinaten wichtig (!)\n",
    "    \n",
    "    # Label and satellite image do not have the same origin. So it has to be standardized/adjusted.\n",
    "    # If it is a satellite image, the cutout_window is not passed. Hence, it is set\n",
    "    # If it is a label, the cutout_window is copied from the satellite image\n",
    "    if (cutout_window == None): load_tif.cutout_window = (ulx, uly, lrx, lry)\n",
    "    # TODO BEI LABELS WIRD DAS AUCH AUSGEFÜHRT, WEIL CUTOUT-WINDOW NICHT EXISTIERT\n",
    "    else: ulx, uly, lrx, lry = cutout_window[0], cutout_window[1], cutout_window[2], cutout_window[3]\n",
    "    print(\"Übergebenes cutout_window:\", cutout_window)\n",
    "    #print(\"load_tif.cutout_window:\", load_tif.cutout_window)\n",
    "    # corner & cener coordinates can be checked in the terminal with \n",
    "    # $ gdalinfo '/home/jovyan/work/satellite_data/FILE.tif'\n",
    "    # determine cutout window of size: 512x512 px\n",
    "    cutout_size = 512 * 2 # patch_size in paper = 256 (with 0,5m res/pixel) || 512 geht auch fit\n",
    "    \n",
    "    no_of_x_cutouts = 2 #int(width / cutout_size)\n",
    "    no_of_y_cutouts = 2 #int(height / cutout_size)\n",
    "    \n",
    "    for cutout_y in range(no_of_y_cutouts):\n",
    "        for cutout_x in range(no_of_y_cutouts):\n",
    "            if cutout_window == None:\n",
    "                # ul_corner = (ulx, uly)\n",
    "                # lr_corner = (lrx, lry)\n",
    "                # base value (upper left corner of image + how far the cutout is moved in each iteration\n",
    "                crop_ulx = ulx + (cutout_x * cutout_size * xres)\n",
    "                crop_uly = uly + (cutout_y * cutout_size * yres)\n",
    "                # base value (upper left corner of defined cutout) + cutout size (converted in coordinates with resolution)\n",
    "                crop_lrx = crop_ulx + cutout_size * xres\n",
    "                crop_lry = crop_uly + cutout_size * yres\n",
    "                \n",
    "                cropped_window = (crop_ulx,crop_uly,crop_lrx,crop_lry)\n",
    "            else: cropped_window = cutout_window\n",
    "                \n",
    "            print(f\"{bcolors.OKBLUE}Cropped Window: {cropped_window}{bcolors.ENDC}\")\n",
    "            # export cropped raster\n",
    "            cutout_filename = path_label.replace(\".tif\", \"\") + \"-{}-{}.tif\".format(cutout_x, cutout_y)\n",
    "            cutout_path = cutouts_path + cutout_filename\n",
    "            # print(f\"Cutout: {bcolors.OKBLUE}{cutout_path}{bcolors.ENDC}\")\n",
    "            gdal.Translate(cutout_path, label_file, projWin = cropped_window) #label_file is the tif file\n",
    "\n",
    "            # set the cutout window for the next iteration and for the labels\n",
    "            load_tif.cutout_window = cropped_window\n",
    "            \n",
    "            # preview tif\n",
    "            #load_tif([cutout_path])\n",
    "            cutout = gdal.Open(cutout_path)\n",
    "            # check if gdal is able to open file\n",
    "            if cutout:\n",
    "                print(f\"{bcolors.OKGREEN}0 Success: {cutout_filename}{bcolors.ENDC}\") # complete path: cutout_path\n",
    "                inspect_tif(cutout)\n",
    "            preview_tif(cutout_path)\n",
    "    # close tif\n",
    "    cutout_path = label_file = cropped_window = None"
   ]
  },
  {
   "cell_type": "code",
   "execution_count": null,
   "metadata": {},
   "outputs": [],
   "source": [
    "def compare_satellite_label(satellite, label):\n",
    "    # file =  rasterio.open(complete_filepath)\n",
    "    filepath_satellite, filepath_label = path_satellite + satellite, path_labels + label\n",
    "    # check if filepath exists\n",
    "    if not os.path.isfile(filepath_satellite) or not os.path.isfile(filepath_label):\n",
    "        print(f\"{bcolors.FAIL}1 Failure: File(s) do(es) not exist: {complete_filepath}{bcolors.ENDC}\") \n",
    "        return\n",
    "    \n",
    "    src_label = rasterio.open(filepath_label)\n",
    "    \n",
    "    src_satellite = rasterio.open(filepath_satellite)\n",
    "    left, top = src_satellite.bounds[0], src_satellite.bounds[3]\n",
    "    # get edge coordinates of tif\n",
    "    # left, bottom, right, top = src_satellite.bounds[0], src_satellite.bounds[1], src_satellite.bounds[2], src_satellite.bounds[3]\n",
    "    # print(\"coord:\",left, bottom, right, top)\n",
    "    # print(\"type\",type(src.read(1))) # <class 'numpy.ndarray'>\n",
    "    # print(src.meta)\n",
    "    # print(\"Shape:\", file.shape)\n",
    "    # print(\"Width: {}, Height: {}\".format(src.width, src.height))\n",
    "    patch_size = 512\n",
    "    overlap = 32 # similar to previous project: 0.12 * 256 = 30.72\n",
    "    xRes, yRes = src_satellite.res # or: src.meta['transform'][0], -src.meta['transform'][4]\n",
    "    right  = left + patch_size * xRes\n",
    "    bottom = top  - patch_size * yRes\n",
    "    # print(\"coord:\",left, bottom, right, top)\n",
    "    # print(\"Resolution: {} x {}\".format(xRes, yRes))\n",
    "    # print(\"#Attributs:\", src_satellite.count)\n",
    "    # print(\"Georeferecing:\", src_satellite.bounds)\n",
    "    # print(\"transform:\", src_satellite.transform)\n",
    "\n",
    "    x_cutout_max, y_cutout_max = int(src_satellite.width / patch_size), int(src_satellite.height / patch_size)\n",
    "    # print(\"max cutout:\", x_cutout_max, y_cutout_max)\n",
    "\n",
    "    x_cutout_max, y_cutout_max = 2, 3 #tmp(!)\n",
    "\n",
    "    for y_cutout in range(y_cutout_max):\n",
    "        for x_cutout in range(x_cutout_max):\n",
    "            print(\"Cutout Window: ({}, {}, {}, {})\".format(left, top, right, bottom))\n",
    "            # print(\"Size of cutout window in px: {} x {}\".format((right - left) / xRes, (top - bottom) / yRes))\n",
    "            cutout_satellite = src_satellite.read(1, window = from_bounds(left, bottom, right, top, src_satellite.transform))\n",
    "            cutout_label = src_label.read(1, window = from_bounds(left, bottom, right, top, src_label.transform))\n",
    "            \n",
    "            # show(cutout_satellite)\n",
    "            # show(cutout_label)\n",
    "            \n",
    "            # adjust cutout window for next iteration (with 30 px overlap to cover trees on the edge)\n",
    "            # adjust cutout window on the x-axis => move cutout window to the right - the overlap\n",
    "            left = right - overlap * xRes # use right as a base and move left by the overlap  \n",
    "            right  = left + patch_size * xRes # move patch_size to the right from left # += patch_size * xRes\n",
    "        # reset the x-axis\n",
    "        left = src_satellite.bounds[0]\n",
    "        right  = left + patch_size * xRes\n",
    "        # adjust cutout window on the y-axis => move cutout window to the bottom\n",
    "        top = bottom - overlap * yRes\n",
    "        bottom = top - patch_size * yRes # -= patch_size * yRes\n",
    "\n",
    "    src_satellite.close()\n",
    "    src_label.close()"
   ]
  },
  {
   "cell_type": "markdown",
   "metadata": {},
   "source": [
    "## Cutouts With Coordinates"
   ]
  },
  {
   "cell_type": "code",
   "execution_count": null,
   "metadata": {},
   "outputs": [],
   "source": [
    "window = (29.746877767434313, -26.247113163017453, 29.76293355949657, -26.26316895507971)"
   ]
  },
  {
   "cell_type": "markdown",
   "metadata": {},
   "source": [
    "# Model"
   ]
  },
  {
   "cell_type": "markdown",
   "metadata": {},
   "source": [
    "## Extra Layers for Model for 512 px"
   ]
  },
  {
   "cell_type": "code",
   "execution_count": null,
   "metadata": {},
   "outputs": [],
   "source": [
    "\"\"\"# change so that it uses 512 px img instead of 256\n",
    "from tensorflow.keras import models, layers\n",
    "from tensorflow.keras import regularizers\n",
    "\n",
    "def UNet(input_shape, input_label_channel, layer_count=64, regularizers = regularizers.l2(0.0001), gaussian_noise=0.1, weight_file = None):\n",
    "        \"\"\" Method to declare the UNet model.\n",
    "\n",
    "        Args:\n",
    "            input_shape: tuple(int, int, int, int)\n",
    "                Shape of the input in the format (batch, height, width, channels).\n",
    "            input_label_channel: list([int])\n",
    "                list of index of label channels, used for calculating the number of channels in model output.\n",
    "            layer_count: (int, optional)\n",
    "                Count of kernels in first layer. Number of kernels in other layers grows with a fixed factor.\n",
    "            regularizers: keras.regularizers\n",
    "                regularizers to use in each layer.\n",
    "            weight_file: str\n",
    "                path to the weight file.\n",
    "        \"\"\"\n",
    "\n",
    "        input_img = layers.Input(input_shape[1:], name='Input')\n",
    "        pp_in_layer  = input_img\n",
    "#        pp_in_layer = layers.GaussianNoise(gaussian_noise)(input_img)\n",
    "#        pp_in_layer = layers.BatchNormalization()(pp_in_layer)\n",
    "\n",
    "\n",
    "        c1 = layers.Conv2D(1*layer_count, (3, 3), activation='relu', padding='same')(pp_in_layer)\n",
    "        c1 = layers.Conv2D(1*layer_count, (3, 3), activation='relu', padding='same')(c1)\n",
    "        n1 = layers.BatchNormalization()(c1)\n",
    "        p1 = layers.MaxPooling2D((2, 2))(n1)\n",
    "\n",
    "        c2 = layers.Conv2D(2*layer_count, (3, 3), activation='relu', padding='same')(p1)\n",
    "        c2 = layers.Conv2D(2*layer_count, (3, 3), activation='relu', padding='same')(c2)\n",
    "        n2 = layers.BatchNormalization()(c2)\n",
    "        p2 = layers.MaxPooling2D((2, 2))(n2)\n",
    "\n",
    "        c3 = layers.Conv2D(4*layer_count, (3, 3), activation='relu', padding='same')(p2)\n",
    "        c3 = layers.Conv2D(4*layer_count, (3, 3), activation='relu', padding='same')(c3)\n",
    "        n3 = layers.BatchNormalization()(c3)\n",
    "        p3 = layers.MaxPooling2D((2, 2))(n3)\n",
    "\n",
    "        c4 = layers.Conv2D(8*layer_count, (3, 3), activation='relu', padding='same')(p3)\n",
    "        c4 = layers.Conv2D(8*layer_count, (3, 3), activation='relu', padding='same')(c4)\n",
    "        n4 = layers.BatchNormalization()(c4)\n",
    "        p4 = layers.MaxPooling2D(pool_size=(2, 2))(n4)\n",
    "        \n",
    "        # Added start 1/2\n",
    "        c5 = layers.Conv2D(16*layer_count, (3, 3), activation='relu', padding='same')(p4)\n",
    "        c5 = layers.Conv2D(16*layer_count, (3, 3), activation='relu', padding='same')(c5)\n",
    "        n5 = layers.BatchNormalization()(c5)\n",
    "        p5 = layers.MaxPooling2D(pool_size=(2, 2))(n5)\n",
    "        # Added end 1/2\n",
    "\n",
    "        c6 = layers.Conv2D(32*layer_count, (3, 3), activation='relu', padding='same')(p5)\n",
    "        c6 = layers.Conv2D(32*layer_count, (3, 3), activation='relu', padding='same')(c6)\n",
    "        \n",
    "        u6 = layers.UpSampling2D((2, 2))(c5) # upsampling layers not renamed. Id could be increased by 1\n",
    "        n6 = layers.BatchNormalization()(u6)\n",
    "        u6 = layers.concatenate([n6, n5])\n",
    "        c7 = layers.Conv2D(16*layer_count, (3, 3), activation='relu', padding='same')(u6)\n",
    "        c7 = layers.Conv2D(16*layer_count, (3, 3), activation='relu', padding='same')(c7)\n",
    "\n",
    "        u7 = layers.UpSampling2D((2, 2))(c7)\n",
    "        n7 = layers.BatchNormalization()(u7)\n",
    "        u7 = layers.concatenate([n7, n4])\n",
    "        c8 = layers.Conv2D(8*layer_count, (3, 3), activation='relu', padding='same')(u7)\n",
    "        c8 = layers.Conv2D(8*layer_count, (3, 3), activation='relu', padding='same')(c7)\n",
    "\n",
    "        u8 = layers.UpSampling2D((2, 2))(c8)\n",
    "        n8 = layers.BatchNormalization()(u8)\n",
    "        u8 = layers.concatenate([n8, n3])\n",
    "        c9 = layers.Conv2D(4*layer_count, (3, 3), activation='relu', padding='same')(u8)\n",
    "        c9 = layers.Conv2D(4*layer_count, (3, 3), activation='relu', padding='same')(c9)\n",
    "\n",
    "        u9 = layers.UpSampling2D((2, 2))(c8)\n",
    "        n9 = layers.BatchNormalization()(u9)\n",
    "        u9 = layers.concatenate([n9, n2], axis=3)\n",
    "        c10 = layers.Conv2D(2*layer_count, (3, 3), activation='relu', padding='same')(u9)\n",
    "        c10 = layers.Conv2D(2*layer_count, (3, 3), activation='relu', padding='same')(c10)\n",
    "\n",
    "        # Added start 2/2\n",
    "        u10 = layers.UpSampling2D((2, 2))(c9)\n",
    "        n10 = layers.BatchNormalization()(u10)\n",
    "        u10 = layers.concatenate([n10, n1], axis=3)\n",
    "        c11 = layers.Conv2D(1*layer_count, (3, 3), activation='relu', padding='same')(u10)\n",
    "        c11 = layers.Conv2D(1*layer_count, (3, 3), activation='relu', padding='same')(c11)\n",
    "        # Added end 2/2\n",
    "        d = layers.Conv2D(len(input_label_channel), (1, 1), activation='sigmoid', kernel_regularizer= regularizers)(c10)\n",
    "\n",
    "        seg_model = models.Model(inputs=[input_img], outputs=[d])\n",
    "        if weight_file:\n",
    "            seg_model.load_weights(weight_file)\n",
    "        seg_model.summary()\n",
    "        return seg_model\"\"\""
   ]
  },
  {
   "cell_type": "code",
   "execution_count": null,
   "metadata": {},
   "outputs": [],
   "source": [
    "def calc_coord_lr(filepath, coord_w, coord_n):\n",
    "    src_img = rasterio.open(filepath)\n",
    "    xRes, yRes = src_img.res\n",
    "    # print(xRes, yRes)\n",
    "    coord_s = coord_n  - config.patch_size[0] * yRes\n",
    "    coord_e  = coord_w + config.patch_size[1] * xRes \n",
    "\n",
    "    cut_win = (coord_w, coord_s, coord_e, coord_n)\n",
    "    return cut_win"
   ]
  },
  {
   "cell_type": "code",
   "execution_count": null,
   "metadata": {},
   "outputs": [],
   "source": [
    "x = 512\n",
    "# coordinates: left, bottom, right, top\n",
    "# c_w, c_s, c_e, c_n = 29.748021463931796, -26.249614109300325, 29.74923634485858, -26.24839922837354\n",
    "# c_w, c_s, c_e, c_n = 29.747940788245252, -26.249690039358253, 29.748548228708646, -26.24908259889486\n",
    "# c_w, c_s, c_e, c_n = 29.748021463931796, -26.249006668836934, 29.74862890439519, -26.24839922837354"
   ]
  },
  {
   "cell_type": "code",
   "execution_count": null,
   "metadata": {},
   "outputs": [],
   "source": [
    "def check_bounds(opened_raster, checked_c_w, checked_c_s, checked_c_e, checked_c_n, ):\n",
    "    c_w, c_e = opened_raster.bounds[0], opened_raster.bounds[2]\n",
    "    c_n, c_s = opened_raster.bounds[1], opened_raster.bounds[3]\n",
    "    print(\"Bounds:\", c_w, c_s, c_e, c_n)\n",
    "    if checked_c_w < c_w: print(f\"{colors.FAIL}The coordinates are too far west ({checked_c_w}). Increase it between {c_w} and {c_e}{colors.ENDC}\")\n",
    "    if checked_c_e > c_e: print(f\"{colors.FAIL}The coordinates are too far east ({checked_c_e}). Decrease it between {c_w} and {c_e}{colors.ENDC}\")\n",
    "    if checked_c_n < c_n: print(f\"{colors.FAIL}The coordinates are too far north ({checked_c_n}). Decrease it between {c_s} and {c_n}{colors.ENDC}\")\n",
    "    if checked_c_s > c_s: print(f\"{colors.FAIL}The coordinates are too far south ({checked_c_s}). Increase it between {c_s} and {c_n}{colors.ENDC}\")"
   ]
  },
  {
   "cell_type": "code",
   "execution_count": null,
   "metadata": {},
   "outputs": [],
   "source": [
    "# reset to bounds\n",
    "c_w, c_n = 29.7481, -26.25"
   ]
  },
  {
   "cell_type": "code",
   "execution_count": null,
   "metadata": {},
   "outputs": [
    {
     "name": "stdout",
     "output_type": "stream",
     "text": [
      "Bounds: 29.746877767434313 -26.247113163017453 30.003673223333696 -26.502897800020722\n",
      "29.7481 -26.250607440463394 29.748707440463395 -26.25\n",
      "Shape: (3, 256, 256)\n"
     ]
    },
    {
     "data": {
      "image/png": "[encoded data removed]",
      "text/plain": [
       "<Figure size 432x288 with 1 Axes>"
      ]
     },
     "metadata": {},
     "output_type": "display_data"
    },
    {
     "data": {
      "text/plain": [
       "<AxesSubplot:>"
      ]
     },
     "metadata": {},
     "output_type": "display_data"
    }
   ],
   "source": [
    "sat_lr = calc_coord_lr(config.filepath_satellite, c_w, c_n)\n",
    "src_satellite = rasterio.open(config.filepath_satellite)\n",
    "check_bounds(src_satellite, sat_lr[0], sat_lr[1], sat_lr[2], sat_lr[3])\n",
    "cutout_satellite = src_satellite.read(None, \n",
    "    window = from_bounds(c_w, sat_lr[1], sat_lr[2], c_n, src_satellite.transform))\n",
    "    # window = from_bounds(29.747940788245252, -26.247720603480847, 29.748548228708646, -26.247113163017453, src_satellite.transform))\n",
    "print(c_w, sat_lr[1], sat_lr[2], c_n)\n",
    "print(\"Shape:\", cutout_satellite.shape)\n",
    "show(cutout_satellite)"
   ]
  },
  {
   "cell_type": "code",
   "execution_count": null,
   "metadata": {},
   "outputs": [
    {
     "name": "stdout",
     "output_type": "stream",
     "text": [
      "29.7481 -26.250607440463384 29.748707440463633 -26.25\n",
      "Shape: (256, 256)\n"
     ]
    },
    {
     "data": {
      "image/png": "[encoded data removed]",
      "text/plain": [
       "<Figure size 432x288 with 1 Axes>"
      ]
     },
     "metadata": {},
     "output_type": "display_data"
    },
    {
     "data": {
      "text/plain": [
       "<AxesSubplot:>"
      ]
     },
     "metadata": {},
     "output_type": "display_data"
    }
   ],
   "source": [
    "src_label = rasterio.open(config.filepath_label)\n",
    "lab_lr = calc_coord_lr(config.filepath_label, c_w, c_n)\n",
    "cutout_label = src_label.read(1, \n",
    "    window = from_bounds(c_w, lab_lr[1] - 0.0000001, lab_lr[2], c_n, src_label.transform)) \n",
    "    # TODO: Had to adjust bottom coordinate, beccause it always rounded the coordinates in a way that the shape was (255,256)\n",
    "    # window = from_bounds(29.747940788245252, lab_lr[1], lab_lr[2], -26.247113163017453, src_label.transform))\n",
    "print(c_w, lab_lr[1], lab_lr[2], c_n)\n",
    "print(\"Shape:\", cutout_label.shape)\n",
    "show(cutout_label)"
   ]
  },
  {
   "cell_type": "code",
   "execution_count": null,
   "metadata": {},
   "outputs": [
    {
     "data": {
      "text/plain": [
       "(3, 255, 256)"
      ]
     },
     "metadata": {},
     "output_type": "display_data"
    },
    {
     "data": {
      "text/plain": [
       "(256, 256)"
      ]
     },
     "metadata": {},
     "output_type": "display_data"
    }
   ],
   "source": [
    "cutout_satellite.shape\n",
    "cutout_label.shape"
   ]
  }
 ],
 "metadata": {
  "interpreter": {
   "hash": "459c5ec7810af0287ed7bd253383dda1698af604fdbafb40a0ee657d9ea270f9"
  },
  "kernelspec": {
   "display_name": "Python 3.8.5 ('base')",
   "language": "python",
   "name": "python3"
  },
  "language_info": {
   "codemirror_mode": {
    "name": "ipython",
    "version": 3
   },
   "file_extension": ".py",
   "mimetype": "text/x-python",
   "name": "python",
   "nbconvert_exporter": "python",
   "pygments_lexer": "ipython3",
   "version": "3.9.1"
  },
  "orig_nbformat": 4
 },
 "nbformat": 4,
 "nbformat_minor": 2
}
